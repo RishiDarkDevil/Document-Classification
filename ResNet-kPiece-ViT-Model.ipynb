{
 "cells": [
  {
   "cell_type": "markdown",
   "id": "fd1efdf1",
   "metadata": {},
   "source": [
    "### Importing Necessary Libraries"
   ]
  },
  {
   "cell_type": "code",
   "execution_count": 1,
   "id": "0938de48",
   "metadata": {},
   "outputs": [],
   "source": [
    "import os\n",
    "import pickle\n",
    "from tqdm import tqdm\n",
    "\n",
    "import matplotlib.pyplot as plt\n",
    "import numpy as np\n",
    "import pandas as pd\n",
    "\n",
    "import tensorflow as tf\n",
    "from tensorflow.keras.preprocessing.image import load_img, img_to_array\n",
    "\n",
    "from tensorflow import keras\n",
    "from tensorflow.keras.layers import Input, Flatten, Dense, Dropout, GlobalAvgPool2D, GlobalAvgPool1D, BatchNormalization, MultiHeadAttention, Layer, LayerNormalization, Concatenate, MaxPool1D\n",
    "from tensorflow.keras.regularizers import l2\n",
    "\n",
    "from tensorflow.keras.optimizers import Adam\n",
    "\n",
    "from sklearn.metrics import precision_recall_fscore_support as score"
   ]
  },
  {
   "cell_type": "markdown",
   "id": "c954b162",
   "metadata": {},
   "source": [
    "## Data"
   ]
  },
  {
   "cell_type": "markdown",
   "id": "68302673",
   "metadata": {},
   "source": [
    "A detailed discussion and visualization of the data can be seen in [here](Data-Overview.ipynb)."
   ]
  },
  {
   "cell_type": "code",
   "execution_count": 2,
   "id": "75b06a70",
   "metadata": {},
   "outputs": [],
   "source": [
    "labels = pd.read_csv(\"./Data/train_labels.csv\")\n",
    "images = ['./Data/train/train/'+str(name)+'.tif' for name in labels['id']]\n",
    "labels['images'] = images\n",
    "labels = labels[['id', 'images', 'label']]"
   ]
  },
  {
   "cell_type": "code",
   "execution_count": 3,
   "id": "29190fd4",
   "metadata": {},
   "outputs": [],
   "source": [
    "class_labels = list(set(labels['label']))\n",
    "class_names = [\n",
    "    'letter', 'form', 'email', 'handwritten', 'advertisement', 'scientific report', 'scientific publication',\n",
    "    'specification', 'file folder', 'news article', 'budget', 'invoice', 'presentation', 'questionnaire', 'resume',\n",
    "    'memo'\n",
    "]\n",
    "label_names = pd.DataFrame({\n",
    "    'labels': class_labels,\n",
    "    'names': class_names\n",
    "})"
   ]
  },
  {
   "cell_type": "code",
   "execution_count": 4,
   "id": "b49810a9",
   "metadata": {},
   "outputs": [],
   "source": [
    "train_labels = pd.read_csv('./Data/train_labels_1.csv')\n",
    "test_labels = pd.read_csv('./Data/test_labels_1.csv')"
   ]
  },
  {
   "cell_type": "code",
   "execution_count": 5,
   "id": "ca081f2e",
   "metadata": {},
   "outputs": [],
   "source": [
    "roi_info = np.load('./Data/ROI-Extractions/train/train_roi_viz.npy')"
   ]
  },
  {
   "cell_type": "code",
   "execution_count": 6,
   "id": "a77be477",
   "metadata": {},
   "outputs": [
    {
     "data": {
      "text/plain": [
       "(16000, 100, 6)"
      ]
     },
     "execution_count": 6,
     "metadata": {},
     "output_type": "execute_result"
    }
   ],
   "source": [
    "roi_info.shape"
   ]
  },
  {
   "cell_type": "markdown",
   "id": "c2e251c1",
   "metadata": {},
   "source": [
    "## Data Preparation"
   ]
  },
  {
   "cell_type": "code",
   "execution_count": 7,
   "id": "bb31ae4b",
   "metadata": {},
   "outputs": [],
   "source": [
    "BATCH_SIZE = 50\n",
    "checkpnt_each = 100\n",
    "assert checkpnt_each % BATCH_SIZE == 0\n",
    "checkpnt_i = checkpnt_each // BATCH_SIZE\n",
    "FEATURE_DIM = 2048\n",
    "NUM_ROIS = 100\n",
    "POS_ENC_ANGLE_DENO = 10000"
   ]
  },
  {
   "cell_type": "code",
   "execution_count": 8,
   "id": "9fb8348d",
   "metadata": {},
   "outputs": [],
   "source": [
    "roi_count = [np.sum([roi[-1]==1 for roi in doc]) for doc in roi_info] # RoIs per document Image"
   ]
  },
  {
   "cell_type": "code",
   "execution_count": 9,
   "id": "fbc5e332",
   "metadata": {},
   "outputs": [],
   "source": [
    "# fine_tune_data = list()\n",
    "# for i in range(16000 // (BATCH_SIZE*checkpnt_i)):\n",
    "#     k = 0\n",
    "#     batch_data = np.load(f'./Data/ResNet-kP-train-precompute/train_data_precomp-{i+1}.npy')\n",
    "#     batch_roi = roi_count[(i*(BATCH_SIZE*checkpnt_i)):((i+1)*(BATCH_SIZE*checkpnt_i))]\n",
    "#     for j in range(BATCH_SIZE*checkpnt_i):\n",
    "#         fine_tune_data.append(np.concatenate([batch_data[k:(k+batch_roi[j])], np.zeros((100-batch_roi[j], FEATURE_DIM))])[np.newaxis,:])\n",
    "#         k += batch_roi[j]\n",
    "# fine_tune_data = np.concatenate(fine_tune_data)\n",
    "# fine_tune_data.shape"
   ]
  },
  {
   "cell_type": "code",
   "execution_count": 10,
   "id": "9589ddb3",
   "metadata": {},
   "outputs": [],
   "source": [
    "# np.save(f'./Data/ResNet-kP-train-precompute/whole_train_data_precomp.npy', fine_tune_data)"
   ]
  },
  {
   "cell_type": "code",
   "execution_count": 11,
   "id": "2f0d6808",
   "metadata": {},
   "outputs": [
    {
     "data": {
      "text/plain": [
       "(16000, 100, 2048)"
      ]
     },
     "execution_count": 11,
     "metadata": {},
     "output_type": "execute_result"
    }
   ],
   "source": [
    "fine_tune_data = np.load(f'./Data/ResNet-kP-train-precompute/whole_train_data_precomp.npy')\n",
    "fine_tune_data.shape"
   ]
  },
  {
   "cell_type": "code",
   "execution_count": 12,
   "id": "c0cd1c88",
   "metadata": {},
   "outputs": [],
   "source": [
    "mask = np.zeros((*fine_tune_data.shape[:2], fine_tune_data.shape[1]))\n",
    "k = 0\n",
    "for num_roi in roi_count:\n",
    "    mask[k,:num_roi,:num_roi] = 1\n",
    "    k += 1"
   ]
  },
  {
   "cell_type": "code",
   "execution_count": 13,
   "id": "63c7ecb1",
   "metadata": {},
   "outputs": [],
   "source": [
    "# fine_tune_data = np.squeeze(np.mean(fine_tune_data, axis=1, keepdims=True))\n",
    "# fine_tune_data.shape"
   ]
  },
  {
   "cell_type": "code",
   "execution_count": 14,
   "id": "12bdde76",
   "metadata": {},
   "outputs": [
    {
     "data": {
      "text/plain": [
       "(16000, 10240)"
      ]
     },
     "execution_count": 14,
     "metadata": {},
     "output_type": "execute_result"
    }
   ],
   "source": [
    "fine_tune_data_4P = np.load('./Data/ResNet-4P-train-precompute/whole_train_data_precomp.npy')\n",
    "fine_tune_data_4P = np.reshape(fine_tune_data_4P, (16000, -1))\n",
    "fine_tune_data_4P.shape"
   ]
  },
  {
   "cell_type": "code",
   "execution_count": 15,
   "id": "6f8bfc7f",
   "metadata": {},
   "outputs": [],
   "source": [
    "# fine_tune_data = np.concatenate([fine_tune_data, fine_tune_data_4P], axis=-1)\n",
    "# fine_tune_data.shape"
   ]
  },
  {
   "cell_type": "code",
   "execution_count": 16,
   "id": "58c0f4b2",
   "metadata": {},
   "outputs": [],
   "source": [
    "# np.save(f'./Data/ResNet-kP-train-precompute/whole_train_data_precomp_roi_n_4p.npy', fine_tune_data)"
   ]
  },
  {
   "cell_type": "code",
   "execution_count": 17,
   "id": "e1b35850",
   "metadata": {},
   "outputs": [],
   "source": [
    "# fine_tune_data = np.load(f'./Data/ResNet-kP-train-precompute/whole_train_data_precomp_roi_n_4p.npy')"
   ]
  },
  {
   "cell_type": "code",
   "execution_count": 18,
   "id": "945aad41",
   "metadata": {},
   "outputs": [],
   "source": [
    "# fine_tune_data.shape"
   ]
  },
  {
   "cell_type": "code",
   "execution_count": 19,
   "id": "568ffcb1",
   "metadata": {},
   "outputs": [
    {
     "data": {
      "text/plain": [
       "(16000,)"
      ]
     },
     "execution_count": 19,
     "metadata": {},
     "output_type": "execute_result"
    }
   ],
   "source": [
    "fine_tune_labels = labels['label'].to_numpy()\n",
    "fine_tune_labels.shape"
   ]
  },
  {
   "cell_type": "code",
   "execution_count": 20,
   "id": "6e228ab3",
   "metadata": {},
   "outputs": [
    {
     "data": {
      "text/plain": [
       "(15200, 100, 2048)"
      ]
     },
     "execution_count": 20,
     "metadata": {},
     "output_type": "execute_result"
    }
   ],
   "source": [
    "fine_tune_data_train = fine_tune_data[list(train_labels['id'])]\n",
    "fine_tune_data_train.shape"
   ]
  },
  {
   "cell_type": "code",
   "execution_count": 21,
   "id": "25175484",
   "metadata": {},
   "outputs": [
    {
     "data": {
      "text/plain": [
       "(15200, 10240)"
      ]
     },
     "execution_count": 21,
     "metadata": {},
     "output_type": "execute_result"
    }
   ],
   "source": [
    "fine_tune_data_4P_train = fine_tune_data_4P[list(train_labels['id'])]\n",
    "fine_tune_data_4P_train.shape"
   ]
  },
  {
   "cell_type": "code",
   "execution_count": 22,
   "id": "d42f751e",
   "metadata": {},
   "outputs": [
    {
     "data": {
      "text/plain": [
       "(15200, 100, 100)"
      ]
     },
     "execution_count": 22,
     "metadata": {},
     "output_type": "execute_result"
    }
   ],
   "source": [
    "fine_tune_mask_train = mask[list(train_labels['id'])]\n",
    "fine_tune_mask_train.shape"
   ]
  },
  {
   "cell_type": "code",
   "execution_count": 23,
   "id": "bcfdf149",
   "metadata": {},
   "outputs": [
    {
     "data": {
      "text/plain": [
       "(15200,)"
      ]
     },
     "execution_count": 23,
     "metadata": {},
     "output_type": "execute_result"
    }
   ],
   "source": [
    "fine_tune_labels_train = train_labels['label'].to_numpy()\n",
    "fine_tune_labels_train.shape"
   ]
  },
  {
   "cell_type": "code",
   "execution_count": 24,
   "id": "ccfac9c8",
   "metadata": {},
   "outputs": [
    {
     "data": {
      "text/plain": [
       "(800, 100, 2048)"
      ]
     },
     "execution_count": 24,
     "metadata": {},
     "output_type": "execute_result"
    }
   ],
   "source": [
    "fine_tune_data_test = fine_tune_data[list(test_labels['id'])]\n",
    "fine_tune_data_test.shape"
   ]
  },
  {
   "cell_type": "code",
   "execution_count": 25,
   "id": "1db3dc1d",
   "metadata": {},
   "outputs": [
    {
     "data": {
      "text/plain": [
       "(800, 10240)"
      ]
     },
     "execution_count": 25,
     "metadata": {},
     "output_type": "execute_result"
    }
   ],
   "source": [
    "fine_tune_data_4P_test = fine_tune_data_4P[list(test_labels['id'])]\n",
    "fine_tune_data_4P_test.shape"
   ]
  },
  {
   "cell_type": "code",
   "execution_count": 26,
   "id": "7815962e",
   "metadata": {},
   "outputs": [
    {
     "data": {
      "text/plain": [
       "(800, 100, 100)"
      ]
     },
     "execution_count": 26,
     "metadata": {},
     "output_type": "execute_result"
    }
   ],
   "source": [
    "fine_tune_mask_test = mask[list(test_labels['id'])]\n",
    "fine_tune_mask_test.shape"
   ]
  },
  {
   "cell_type": "code",
   "execution_count": 27,
   "id": "132bb5a2",
   "metadata": {},
   "outputs": [
    {
     "data": {
      "text/plain": [
       "(800,)"
      ]
     },
     "execution_count": 27,
     "metadata": {},
     "output_type": "execute_result"
    }
   ],
   "source": [
    "fine_tune_labels_test = test_labels['label'].to_numpy()\n",
    "fine_tune_labels_test.shape"
   ]
  },
  {
   "cell_type": "markdown",
   "id": "48661622",
   "metadata": {},
   "source": [
    "### Validation Data"
   ]
  },
  {
   "cell_type": "code",
   "execution_count": 28,
   "id": "bc88528c",
   "metadata": {},
   "outputs": [
    {
     "data": {
      "text/html": [
       "<div>\n",
       "<style scoped>\n",
       "    .dataframe tbody tr th:only-of-type {\n",
       "        vertical-align: middle;\n",
       "    }\n",
       "\n",
       "    .dataframe tbody tr th {\n",
       "        vertical-align: top;\n",
       "    }\n",
       "\n",
       "    .dataframe thead th {\n",
       "        text-align: right;\n",
       "    }\n",
       "</style>\n",
       "<table border=\"1\" class=\"dataframe\">\n",
       "  <thead>\n",
       "    <tr style=\"text-align: right;\">\n",
       "      <th></th>\n",
       "      <th>images</th>\n",
       "      <th>id</th>\n",
       "      <th>label</th>\n",
       "    </tr>\n",
       "  </thead>\n",
       "  <tbody>\n",
       "    <tr>\n",
       "      <th>850</th>\n",
       "      <td>./Data/validation/validation/17801.tif</td>\n",
       "      <td>17801</td>\n",
       "      <td>-1</td>\n",
       "    </tr>\n",
       "    <tr>\n",
       "      <th>898</th>\n",
       "      <td>./Data/validation/validation/17802.tif</td>\n",
       "      <td>17802</td>\n",
       "      <td>-1</td>\n",
       "    </tr>\n",
       "    <tr>\n",
       "      <th>852</th>\n",
       "      <td>./Data/validation/validation/17803.tif</td>\n",
       "      <td>17803</td>\n",
       "      <td>-1</td>\n",
       "    </tr>\n",
       "    <tr>\n",
       "      <th>798</th>\n",
       "      <td>./Data/validation/validation/17804.tif</td>\n",
       "      <td>17804</td>\n",
       "      <td>-1</td>\n",
       "    </tr>\n",
       "    <tr>\n",
       "      <th>750</th>\n",
       "      <td>./Data/validation/validation/17805.tif</td>\n",
       "      <td>17805</td>\n",
       "      <td>-1</td>\n",
       "    </tr>\n",
       "    <tr>\n",
       "      <th>...</th>\n",
       "      <td>...</td>\n",
       "      <td>...</td>\n",
       "      <td>...</td>\n",
       "    </tr>\n",
       "    <tr>\n",
       "      <th>246</th>\n",
       "      <td>./Data/validation/validation/18696.tif</td>\n",
       "      <td>18696</td>\n",
       "      <td>-1</td>\n",
       "    </tr>\n",
       "    <tr>\n",
       "      <th>211</th>\n",
       "      <td>./Data/validation/validation/18697.tif</td>\n",
       "      <td>18697</td>\n",
       "      <td>-1</td>\n",
       "    </tr>\n",
       "    <tr>\n",
       "      <th>760</th>\n",
       "      <td>./Data/validation/validation/18698.tif</td>\n",
       "      <td>18698</td>\n",
       "      <td>-1</td>\n",
       "    </tr>\n",
       "    <tr>\n",
       "      <th>787</th>\n",
       "      <td>./Data/validation/validation/18699.tif</td>\n",
       "      <td>18699</td>\n",
       "      <td>-1</td>\n",
       "    </tr>\n",
       "    <tr>\n",
       "      <th>891</th>\n",
       "      <td>./Data/validation/validation/18700.tif</td>\n",
       "      <td>18700</td>\n",
       "      <td>-1</td>\n",
       "    </tr>\n",
       "  </tbody>\n",
       "</table>\n",
       "<p>900 rows × 3 columns</p>\n",
       "</div>"
      ],
      "text/plain": [
       "                                     images     id  label\n",
       "850  ./Data/validation/validation/17801.tif  17801     -1\n",
       "898  ./Data/validation/validation/17802.tif  17802     -1\n",
       "852  ./Data/validation/validation/17803.tif  17803     -1\n",
       "798  ./Data/validation/validation/17804.tif  17804     -1\n",
       "750  ./Data/validation/validation/17805.tif  17805     -1\n",
       "..                                      ...    ...    ...\n",
       "246  ./Data/validation/validation/18696.tif  18696     -1\n",
       "211  ./Data/validation/validation/18697.tif  18697     -1\n",
       "760  ./Data/validation/validation/18698.tif  18698     -1\n",
       "787  ./Data/validation/validation/18699.tif  18699     -1\n",
       "891  ./Data/validation/validation/18700.tif  18700     -1\n",
       "\n",
       "[900 rows x 3 columns]"
      ]
     },
     "execution_count": 28,
     "metadata": {},
     "output_type": "execute_result"
    }
   ],
   "source": [
    "validation_data = pd.DataFrame({'images':['./Data/validation/validation/'+name for name in os.listdir('./Data/validation/validation/')]})\n",
    "validation_data['id'] = [name.split('.')[0] for name in os.listdir('./Data/validation/validation/')]\n",
    "validation_data['label'] = -1 # Simply added to prevent re-writing code\n",
    "validation_data.sort_values(by=['id'], inplace=True)\n",
    "validation_data"
   ]
  },
  {
   "cell_type": "code",
   "execution_count": 29,
   "id": "bf4cf1be",
   "metadata": {},
   "outputs": [
    {
     "data": {
      "text/plain": [
       "(900, 100, 6)"
      ]
     },
     "execution_count": 29,
     "metadata": {},
     "output_type": "execute_result"
    }
   ],
   "source": [
    "roi_info_validation = np.load('./Data/ROI-Extractions/validation/validation_roi_viz.npy')\n",
    "roi_info_validation.shape"
   ]
  },
  {
   "cell_type": "code",
   "execution_count": 30,
   "id": "91896253",
   "metadata": {},
   "outputs": [],
   "source": [
    "roi_count_validation = [np.sum([roi[-1]==1 for roi in doc]) for doc in roi_info_validation] # RoIs per document Image"
   ]
  },
  {
   "cell_type": "code",
   "execution_count": 31,
   "id": "cf514e19",
   "metadata": {},
   "outputs": [],
   "source": [
    "# fine_tune_data_validation = list()\n",
    "# for i in range(900 // (BATCH_SIZE*checkpnt_i)):\n",
    "#     k = 0\n",
    "#     batch_data = np.load(f'./Data/ResNet-kP-validation-precompute/validation_data_precomp-{i+1}.npy')\n",
    "#     batch_roi = roi_count_validation[(i*(BATCH_SIZE*checkpnt_i)):((i+1)*(BATCH_SIZE*checkpnt_i))]\n",
    "#     for j in range(BATCH_SIZE*checkpnt_i):\n",
    "#         fine_tune_data_validation.append(np.concatenate([batch_data[k:(k+batch_roi[j])], np.zeros((100-batch_roi[j], 2048))])[np.newaxis,:])\n",
    "#         k += batch_roi[j]\n",
    "# fine_tune_data_validation = np.concatenate(fine_tune_data_validation)\n",
    "# fine_tune_data_validation.shape"
   ]
  },
  {
   "cell_type": "code",
   "execution_count": 32,
   "id": "f5be8342",
   "metadata": {},
   "outputs": [],
   "source": [
    "# np.save(f'./Data/ResNet-kP-validation-precompute/whole_validation_data_precomp.npy', fine_tune_data_validation)"
   ]
  },
  {
   "cell_type": "code",
   "execution_count": 33,
   "id": "38cb6238",
   "metadata": {},
   "outputs": [
    {
     "data": {
      "text/plain": [
       "(900, 100, 2048)"
      ]
     },
     "execution_count": 33,
     "metadata": {},
     "output_type": "execute_result"
    }
   ],
   "source": [
    "fine_tune_data_validation = np.load(f'./Data/ResNet-kP-validation-precompute/whole_validation_data_precomp.npy')\n",
    "fine_tune_data_validation.shape"
   ]
  },
  {
   "cell_type": "code",
   "execution_count": 34,
   "id": "4f36a021",
   "metadata": {},
   "outputs": [],
   "source": [
    "mask_validation = np.zeros((*fine_tune_data_validation.shape[:2], fine_tune_data_validation.shape[1]))\n",
    "k = 0\n",
    "for num_roi in roi_count_validation:\n",
    "    mask_validation[k,:num_roi,:num_roi] = 1\n",
    "    k += 1"
   ]
  },
  {
   "cell_type": "code",
   "execution_count": 35,
   "id": "ec86395a",
   "metadata": {},
   "outputs": [
    {
     "data": {
      "text/plain": [
       "(900, 100, 100)"
      ]
     },
     "execution_count": 35,
     "metadata": {},
     "output_type": "execute_result"
    }
   ],
   "source": [
    "mask_validation.shape"
   ]
  },
  {
   "cell_type": "code",
   "execution_count": 36,
   "id": "5ef3e336",
   "metadata": {},
   "outputs": [],
   "source": [
    "# fine_tune_data_validation = np.squeeze(np.mean(fine_tune_data_validation, axis=1, keepdims=True))\n",
    "# fine_tune_data_validation.shape"
   ]
  },
  {
   "cell_type": "code",
   "execution_count": 37,
   "id": "e6d23ba7",
   "metadata": {},
   "outputs": [
    {
     "data": {
      "text/plain": [
       "(900, 10240)"
      ]
     },
     "execution_count": 37,
     "metadata": {},
     "output_type": "execute_result"
    }
   ],
   "source": [
    "fine_tune_data_4P_validation = np.load('./Data/ResNet-4P-validation-precompute/whole_validation_data_precomp.npy')\n",
    "fine_tune_data_4P_validation = np.reshape(fine_tune_data_4P_validation, (900, -1))\n",
    "fine_tune_data_4P_validation.shape"
   ]
  },
  {
   "cell_type": "code",
   "execution_count": 38,
   "id": "d4b9fc5a",
   "metadata": {},
   "outputs": [],
   "source": [
    "# fine_tune_data_validation = np.concatenate([fine_tune_data_validation, fine_tune_data_4P_validation], axis=-1)\n",
    "# fine_tune_data_validation.shape"
   ]
  },
  {
   "cell_type": "code",
   "execution_count": 39,
   "id": "0fd55b80",
   "metadata": {},
   "outputs": [],
   "source": [
    "# np.save(f'./Data/ResNet-kP-validation-precompute/whole_validation_data_precomp_roi_n_4p.npy', fine_tune_data_validation)"
   ]
  },
  {
   "cell_type": "code",
   "execution_count": 40,
   "id": "23851219",
   "metadata": {},
   "outputs": [],
   "source": [
    "# fine_tune_data_validation = np.load(f'./Data/ResNet-kP-validation-precompute/whole_validation_data_precomp_roi_n_4p.npy')"
   ]
  },
  {
   "cell_type": "code",
   "execution_count": 41,
   "id": "53ed0146",
   "metadata": {},
   "outputs": [],
   "source": [
    "# fine_tune_data_validation.shape"
   ]
  },
  {
   "cell_type": "markdown",
   "id": "dff1f776",
   "metadata": {},
   "source": [
    "## Fine-Tuning Models"
   ]
  },
  {
   "cell_type": "markdown",
   "id": "7380947f",
   "metadata": {},
   "source": [
    "The fine-tuning part of our model."
   ]
  },
  {
   "cell_type": "code",
   "execution_count": 42,
   "id": "da5b9fd3",
   "metadata": {},
   "outputs": [],
   "source": [
    "def pos_enc(max_len=NUM_ROIS, d_model=FEATURE_DIM):\n",
    "    # returns the positional encoding matrix which needs to be added to the embedding matrix\n",
    "    angles = np.arange(max_len)[:, np.newaxis] / np.power(POS_ENC_ANGLE_DENO, 2*(np.arange(d_model)[np.newaxis, :]//2/np.float32(d_model)))\n",
    "    pos_encode = np.zeros((max_len, d_model))\n",
    "    pos_encode[:, 0::2] = np.sin(angles[:, 0::2])\n",
    "    pos_encode[:, 1::2] = np.cos(angles[:, 1::2])\n",
    "    return tf.cast(pos_encode[np.newaxis, :], dtype=tf.float32)"
   ]
  },
  {
   "cell_type": "code",
   "execution_count": 43,
   "id": "e6e60894",
   "metadata": {},
   "outputs": [
    {
     "name": "stdout",
     "output_type": "stream",
     "text": [
      "Metal device set to: Apple M1 Max\n"
     ]
    },
    {
     "name": "stderr",
     "output_type": "stream",
     "text": [
      "2022-10-09 03:01:34.463502: I tensorflow/core/common_runtime/pluggable_device/pluggable_device_factory.cc:305] Could not identify NUMA node of platform GPU ID 0, defaulting to 0. Your kernel may not have been built with NUMA support.\n",
      "2022-10-09 03:01:34.463703: I tensorflow/core/common_runtime/pluggable_device/pluggable_device_factory.cc:271] Created TensorFlow device (/job:localhost/replica:0/task:0/device:GPU:0 with 0 MB memory) -> physical PluggableDevice (device: 0, name: METAL, pci bus id: <undefined>)\n"
     ]
    },
    {
     "data": {
      "text/plain": [
       "TensorShape([1, 100, 2048])"
      ]
     },
     "execution_count": 43,
     "metadata": {},
     "output_type": "execute_result"
    }
   ],
   "source": [
    "pos_enc().shape"
   ]
  },
  {
   "cell_type": "code",
   "execution_count": 44,
   "id": "d7eb5baf",
   "metadata": {},
   "outputs": [],
   "source": [
    "class TransformerBlock(Layer):\n",
    "    # Embed Dimension is FEATURE_DIM\n",
    "    def __init__(self, embed_dim, num_heads, ff_dim, rate=0.1):\n",
    "        super().__init__()\n",
    "        self.att = MultiHeadAttention(num_heads=num_heads, key_dim=embed_dim, kernel_regularizer=l2(5e-5))\n",
    "        self.ffn = keras.Sequential(\n",
    "            [Dense(ff_dim, activation=\"relu\"), Dense(embed_dim)]\n",
    "        )\n",
    "        self.layernorm1 = LayerNormalization(epsilon=1e-6)\n",
    "        self.layernorm2 = LayerNormalization(epsilon=1e-6)\n",
    "        self.dropout1 = Dropout(rate)\n",
    "        self.dropout2 = Dropout(rate)\n",
    "\n",
    "    def call(self, inputs, mask, training):\n",
    "        attn_output = self.att(inputs, inputs, inputs, mask)\n",
    "        attn_output = self.dropout1(attn_output, training=training)\n",
    "        out1 = self.layernorm1(inputs + attn_output)\n",
    "        ffn_output = self.ffn(out1)\n",
    "        ffn_output = self.dropout2(ffn_output, training=training)\n",
    "        return self.layernorm2(out1 + ffn_output)"
   ]
  },
  {
   "cell_type": "code",
   "execution_count": 45,
   "id": "96a2bdfe",
   "metadata": {},
   "outputs": [],
   "source": [
    "NUM_HEADS = 8\n",
    "FF_DIM = FEATURE_DIM // 8\n",
    "def ftmodel():\n",
    "    inputs = Input(shape=(5*FEATURE_DIM))\n",
    "    x = Flatten()(inputs)\n",
    "    x = BatchNormalization()(x)\n",
    "    \n",
    "    inputs_roi = Input(shape=(100, FEATURE_DIM))\n",
    "    inputs_roi_mask = Input(shape=(100, 100))\n",
    "    y = inputs_roi + pos_enc()\n",
    "    y = MaxPool1D(strides=4, data_format='channels_first')(inputs_roi)\n",
    "    y = TransformerBlock(y.shape[-1], NUM_HEADS, FF_DIM)(y, inputs_roi_mask)\n",
    "    y = GlobalAvgPool1D()(y)\n",
    "    \n",
    "    x = Concatenate()([x, y])\n",
    "    \n",
    "    top_dropout_rate = 0.3\n",
    "    # x = Dropout(top_dropout_rate, name='top_dropout_1')(x)\n",
    "    # x = Dense(1024, name='top_dense_1', kernel_initializer=\"he_normal\", kernel_regularizer=l2(5e-5), activation='relu')(x)\n",
    "    # x = BatchNormalization()(x)\n",
    "    x = Dropout(top_dropout_rate, name='top_dropout_2')(x)\n",
    "    x = Dense(512, name='top_dense_2', kernel_initializer=\"he_normal\", kernel_regularizer=l2(5e-5), activation='relu')(x)\n",
    "    x = BatchNormalization()(x)\n",
    "    outputs = Dense(16, activation='softmax', name='pred', kernel_regularizer=l2(5e-5))(x)\n",
    "\n",
    "    model1 = tf.keras.Model([inputs, inputs_roi, inputs_roi_mask], outputs, name='ResNet-FineTune')\n",
    "    return model1"
   ]
  },
  {
   "cell_type": "code",
   "execution_count": 46,
   "id": "c6574006",
   "metadata": {},
   "outputs": [
    {
     "name": "stdout",
     "output_type": "stream",
     "text": [
      "Model: \"ResNet-FineTune\"\n",
      "__________________________________________________________________________________________________\n",
      " Layer (type)                   Output Shape         Param #     Connected to                     \n",
      "==================================================================================================\n",
      " input_2 (InputLayer)           [(None, 100, 2048)]  0           []                               \n",
      "                                                                                                  \n",
      " input_1 (InputLayer)           [(None, 10240)]      0           []                               \n",
      "                                                                                                  \n",
      " max_pooling1d (MaxPooling1D)   (None, 100, 512)     0           ['input_2[0][0]']                \n",
      "                                                                                                  \n",
      " input_3 (InputLayer)           [(None, 100, 100)]   0           []                               \n",
      "                                                                                                  \n",
      " flatten (Flatten)              (None, 10240)        0           ['input_1[0][0]']                \n",
      "                                                                                                  \n",
      " transformer_block (Transformer  (None, 100, 512)    8666368     ['max_pooling1d[0][0]',          \n",
      " Block)                                                           'input_3[0][0]']                \n",
      "                                                                                                  \n",
      " batch_normalization (BatchNorm  (None, 10240)       40960       ['flatten[0][0]']                \n",
      " alization)                                                                                       \n",
      "                                                                                                  \n",
      " global_average_pooling1d (Glob  (None, 512)         0           ['transformer_block[0][0]']      \n",
      " alAveragePooling1D)                                                                              \n",
      "                                                                                                  \n",
      " concatenate (Concatenate)      (None, 10752)        0           ['batch_normalization[0][0]',    \n",
      "                                                                  'global_average_pooling1d[0][0]'\n",
      "                                                                 ]                                \n",
      "                                                                                                  \n",
      " top_dropout_2 (Dropout)        (None, 10752)        0           ['concatenate[0][0]']            \n",
      "                                                                                                  \n",
      " top_dense_2 (Dense)            (None, 512)          5505536     ['top_dropout_2[0][0]']          \n",
      "                                                                                                  \n",
      " batch_normalization_1 (BatchNo  (None, 512)         2048        ['top_dense_2[0][0]']            \n",
      " rmalization)                                                                                     \n",
      "                                                                                                  \n",
      " pred (Dense)                   (None, 16)           8208        ['batch_normalization_1[0][0]']  \n",
      "                                                                                                  \n",
      "==================================================================================================\n",
      "Total params: 14,223,120\n",
      "Trainable params: 14,201,616\n",
      "Non-trainable params: 21,504\n",
      "__________________________________________________________________________________________________\n"
     ]
    }
   ],
   "source": [
    "model1 = ftmodel()\n",
    "model1.summary()"
   ]
  },
  {
   "cell_type": "markdown",
   "id": "e56505e2",
   "metadata": {},
   "source": [
    "### Model Training"
   ]
  },
  {
   "cell_type": "markdown",
   "id": "70b7e206",
   "metadata": {},
   "source": [
    "The fine-tuning will be done on the ResNet's $2048D$ representation vectors for $5$ pieces of the image and the averaged ROI representation vectors."
   ]
  },
  {
   "cell_type": "code",
   "execution_count": 47,
   "id": "96524578",
   "metadata": {},
   "outputs": [],
   "source": [
    "model1.compile(loss = 'sparse_categorical_crossentropy', metrics = ['accuracy'], optimizer = Adam(learning_rate = 0.0003))"
   ]
  },
  {
   "cell_type": "code",
   "execution_count": 48,
   "id": "20df8897",
   "metadata": {},
   "outputs": [],
   "source": [
    "EPOCHS = 20\n",
    "checkpoint_filepaths = ['./Models/ResNet-kP-ViT/auto-ResNet-FT-model-weight']\n",
    "model_checkpoint_callback = [tf.keras.callbacks.ModelCheckpoint(\n",
    "    filepath=checkpoint_filepath,\n",
    "    save_weights_only=True,\n",
    "    monitor = \"loss\",\n",
    "    mode='min',\n",
    "    save_best_only=True) for checkpoint_filepath in checkpoint_filepaths]"
   ]
  },
  {
   "cell_type": "code",
   "execution_count": 49,
   "id": "03354278",
   "metadata": {},
   "outputs": [
    {
     "name": "stdout",
     "output_type": "stream",
     "text": [
      "Epoch 1/20\n"
     ]
    },
    {
     "name": "stderr",
     "output_type": "stream",
     "text": [
      "2022-10-09 03:01:50.131138: W tensorflow/core/platform/profile_utils/cpu_utils.cc:128] Failed to get CPU frequency: 0 Hz\n",
      "2022-10-09 03:01:50.774764: I tensorflow/core/grappler/optimizers/custom_graph_optimizer_registry.cc:113] Plugin optimizer for device_type GPU is enabled.\n"
     ]
    },
    {
     "name": "stdout",
     "output_type": "stream",
     "text": [
      "19/19 [==============================] - ETA: 0s - loss: 1.8380 - accuracy: 0.5124 "
     ]
    },
    {
     "name": "stderr",
     "output_type": "stream",
     "text": [
      "2022-10-09 03:05:34.608255: I tensorflow/core/grappler/optimizers/custom_graph_optimizer_registry.cc:113] Plugin optimizer for device_type GPU is enabled.\n"
     ]
    },
    {
     "name": "stdout",
     "output_type": "stream",
     "text": [
      "19/19 [==============================] - 230s 12s/step - loss: 1.8380 - accuracy: 0.5124 - val_loss: 2.1738 - val_accuracy: 0.3750\n",
      "Epoch 2/20\n",
      "19/19 [==============================] - 227s 12s/step - loss: 1.0862 - accuracy: 0.7010 - val_loss: 1.9928 - val_accuracy: 0.4075\n",
      "Epoch 3/20\n",
      "19/19 [==============================] - 232s 12s/step - loss: 0.8415 - accuracy: 0.7720 - val_loss: 1.8364 - val_accuracy: 0.4887\n",
      "Epoch 4/20\n",
      "19/19 [==============================] - 230s 12s/step - loss: 0.6833 - accuracy: 0.8207 - val_loss: 1.7835 - val_accuracy: 0.5238\n",
      "Epoch 5/20\n",
      "19/19 [==============================] - 231s 12s/step - loss: 0.5664 - accuracy: 0.8602 - val_loss: 1.7858 - val_accuracy: 0.5525\n",
      "Epoch 6/20\n",
      "19/19 [==============================] - 230s 12s/step - loss: 0.4749 - accuracy: 0.8895 - val_loss: 1.7985 - val_accuracy: 0.5400\n",
      "Epoch 7/20\n",
      "19/19 [==============================] - 230s 12s/step - loss: 0.3989 - accuracy: 0.9105 - val_loss: 1.8214 - val_accuracy: 0.5587\n",
      "Epoch 8/20\n",
      "19/19 [==============================] - 234s 12s/step - loss: 0.3380 - accuracy: 0.9331 - val_loss: 1.7835 - val_accuracy: 0.5813\n",
      "Epoch 9/20\n",
      "19/19 [==============================] - 234s 12s/step - loss: 0.2904 - accuracy: 0.9451 - val_loss: 1.7836 - val_accuracy: 0.5838\n",
      "Epoch 10/20\n",
      "19/19 [==============================] - 231s 12s/step - loss: 0.2548 - accuracy: 0.9565 - val_loss: 1.7320 - val_accuracy: 0.5962\n",
      "Epoch 11/20\n",
      "19/19 [==============================] - 230s 12s/step - loss: 0.2220 - accuracy: 0.9672 - val_loss: 1.7115 - val_accuracy: 0.5888\n",
      "Epoch 12/20\n",
      "19/19 [==============================] - 232s 12s/step - loss: 0.1974 - accuracy: 0.9743 - val_loss: 1.6284 - val_accuracy: 0.6050\n",
      "Epoch 13/20\n",
      "19/19 [==============================] - 233s 12s/step - loss: 0.1777 - accuracy: 0.9772 - val_loss: 1.5129 - val_accuracy: 0.6450\n",
      "Epoch 14/20\n",
      "19/19 [==============================] - 232s 12s/step - loss: 0.1616 - accuracy: 0.9841 - val_loss: 1.4418 - val_accuracy: 0.6438\n",
      "Epoch 15/20\n",
      "19/19 [==============================] - 232s 12s/step - loss: 0.1478 - accuracy: 0.9860 - val_loss: 1.3768 - val_accuracy: 0.6538\n",
      "Epoch 16/20\n",
      "19/19 [==============================] - 232s 12s/step - loss: 0.1367 - accuracy: 0.9886 - val_loss: 1.3047 - val_accuracy: 0.6500\n",
      "Epoch 17/20\n",
      "19/19 [==============================] - 234s 12s/step - loss: 0.1263 - accuracy: 0.9907 - val_loss: 1.2174 - val_accuracy: 0.6750\n",
      "Epoch 18/20\n",
      "19/19 [==============================] - 233s 12s/step - loss: 0.1169 - accuracy: 0.9929 - val_loss: 1.1212 - val_accuracy: 0.7000\n",
      "Epoch 19/20\n",
      "19/19 [==============================] - 234s 12s/step - loss: 0.1093 - accuracy: 0.9938 - val_loss: 1.0827 - val_accuracy: 0.6925\n",
      "Epoch 20/20\n",
      "19/19 [==============================] - 234s 12s/step - loss: 0.1054 - accuracy: 0.9938 - val_loss: 1.0309 - val_accuracy: 0.7050\n"
     ]
    },
    {
     "data": {
      "text/plain": [
       "<tensorflow.python.training.tracking.util.CheckpointLoadStatus at 0xfb3fb0d90>"
      ]
     },
     "execution_count": 49,
     "metadata": {},
     "output_type": "execute_result"
    }
   ],
   "source": [
    "history = model1.fit([fine_tune_data_4P_train, fine_tune_data_train, fine_tune_mask_train], fine_tune_labels_train, epochs=EPOCHS, batch_size=800, validation_data=([fine_tune_data_4P_test, fine_tune_data_test, fine_tune_mask_test], fine_tune_labels_test), validation_batch_size=800, callbacks=[model_checkpoint_callback])\n",
    "# history = model1.fit(fine_tune_data, fine_tune_labels, epochs=EPOCHS, batch_size=1600, callbacks=[model_checkpoint_callback])\n",
    "model1.save_weights(\"./Models/ResNet-kP-ViT/resnet-kp-model-weights\")\n",
    "model1.load_weights('./Models/ResNet-kP-ViT/resnet-kp-model-weights')"
   ]
  },
  {
   "cell_type": "code",
   "execution_count": 50,
   "id": "9116a6a6",
   "metadata": {},
   "outputs": [],
   "source": [
    "def plot_train_loss(history, model_name):  \n",
    "    plt.figure(figsize=(8,6))\n",
    "    plt.plot(history.history['loss'])\n",
    "    plt.plot(history.history['accuracy'])\n",
    "    plt.plot(history.history['val_loss'])\n",
    "    plt.plot(history.history['val_accuracy'])\n",
    "    plt.title(model_name+' loss')\n",
    "    plt.ylabel('loss')\n",
    "    plt.xlabel('epochs')\n",
    "    plt.legend(['train loss', 'train accuracy', 'val loss', 'val accuracy'], loc='upper left')"
   ]
  },
  {
   "cell_type": "code",
   "execution_count": 51,
   "id": "c55b5870",
   "metadata": {},
   "outputs": [
    {
     "data": {
      "image/png": "[encoded data removed]",
      "text/plain": [
       "<Figure size 800x600 with 1 Axes>"
      ]
     },
     "metadata": {},
     "output_type": "display_data"
    }
   ],
   "source": [
    "plot_train_loss(history, 'Fine-Tuned ResNet-kPiece Model')"
   ]
  },
  {
   "cell_type": "markdown",
   "id": "03390fa6",
   "metadata": {},
   "source": [
    "### Model Evaluation"
   ]
  },
  {
   "cell_type": "markdown",
   "id": "48701107",
   "metadata": {},
   "source": [
    "#### On Train Data"
   ]
  },
  {
   "cell_type": "markdown",
   "id": "b0594069",
   "metadata": {},
   "source": [
    "Now, after the model is being trained, we will look at the performance of the model on the training set."
   ]
  },
  {
   "cell_type": "code",
   "execution_count": 63,
   "id": "cf7ded38",
   "metadata": {},
   "outputs": [
    {
     "name": "stdout",
     "output_type": "stream",
     "text": [
      " 56/475 [==>...........................] - ETA: 1s"
     ]
    },
    {
     "name": "stderr",
     "output_type": "stream",
     "text": [
      "2022-10-08 15:57:13.418176: I tensorflow/core/grappler/optimizers/custom_graph_optimizer_registry.cc:113] Plugin optimizer for device_type GPU is enabled.\n"
     ]
    },
    {
     "name": "stdout",
     "output_type": "stream",
     "text": [
      "475/475 [==============================] - 2s 4ms/step\n"
     ]
    }
   ],
   "source": [
    "train_preds = model1.predict(fine_tune_data_train)"
   ]
  },
  {
   "cell_type": "code",
   "execution_count": 64,
   "id": "f2a28269",
   "metadata": {},
   "outputs": [],
   "source": [
    "train_pred_labels = np.argmax(train_preds, axis=-1)"
   ]
  },
  {
   "cell_type": "code",
   "execution_count": 65,
   "id": "768775b2",
   "metadata": {},
   "outputs": [
    {
     "data": {
      "text/plain": [
       "array([ 1, 13, 13, ...,  3,  9,  9])"
      ]
     },
     "execution_count": 65,
     "metadata": {},
     "output_type": "execute_result"
    }
   ],
   "source": [
    "train_pred_labels"
   ]
  },
  {
   "cell_type": "code",
   "execution_count": 66,
   "id": "eff52a3d",
   "metadata": {},
   "outputs": [
    {
     "data": {
      "text/plain": [
       "15193"
      ]
     },
     "execution_count": 66,
     "metadata": {},
     "output_type": "execute_result"
    }
   ],
   "source": [
    "np.sum(train_pred_labels == train_labels['label'])"
   ]
  },
  {
   "cell_type": "markdown",
   "id": "3fd403fa",
   "metadata": {},
   "source": [
    "Looking at the misclassified images to get a better idea about what features the model is unable to capture."
   ]
  },
  {
   "cell_type": "code",
   "execution_count": 67,
   "id": "8f594a33",
   "metadata": {},
   "outputs": [
    {
     "data": {
      "text/html": [
       "<div>\n",
       "<style scoped>\n",
       "    .dataframe tbody tr th:only-of-type {\n",
       "        vertical-align: middle;\n",
       "    }\n",
       "\n",
       "    .dataframe tbody tr th {\n",
       "        vertical-align: top;\n",
       "    }\n",
       "\n",
       "    .dataframe thead th {\n",
       "        text-align: right;\n",
       "    }\n",
       "</style>\n",
       "<table border=\"1\" class=\"dataframe\">\n",
       "  <thead>\n",
       "    <tr style=\"text-align: right;\">\n",
       "      <th></th>\n",
       "      <th>id</th>\n",
       "      <th>images</th>\n",
       "      <th>label</th>\n",
       "    </tr>\n",
       "  </thead>\n",
       "  <tbody>\n",
       "    <tr>\n",
       "      <th>3597</th>\n",
       "      <td>3781</td>\n",
       "      <td>./Data/train/train/3781.tif</td>\n",
       "      <td>0</td>\n",
       "    </tr>\n",
       "    <tr>\n",
       "      <th>4633</th>\n",
       "      <td>4876</td>\n",
       "      <td>./Data/train/train/4876.tif</td>\n",
       "      <td>12</td>\n",
       "    </tr>\n",
       "    <tr>\n",
       "      <th>5298</th>\n",
       "      <td>5578</td>\n",
       "      <td>./Data/train/train/5578.tif</td>\n",
       "      <td>11</td>\n",
       "    </tr>\n",
       "    <tr>\n",
       "      <th>7417</th>\n",
       "      <td>7807</td>\n",
       "      <td>./Data/train/train/7807.tif</td>\n",
       "      <td>11</td>\n",
       "    </tr>\n",
       "    <tr>\n",
       "      <th>12255</th>\n",
       "      <td>12896</td>\n",
       "      <td>./Data/train/train/12896.tif</td>\n",
       "      <td>9</td>\n",
       "    </tr>\n",
       "    <tr>\n",
       "      <th>12916</th>\n",
       "      <td>13599</td>\n",
       "      <td>./Data/train/train/13599.tif</td>\n",
       "      <td>5</td>\n",
       "    </tr>\n",
       "    <tr>\n",
       "      <th>14569</th>\n",
       "      <td>15333</td>\n",
       "      <td>./Data/train/train/15333.tif</td>\n",
       "      <td>7</td>\n",
       "    </tr>\n",
       "  </tbody>\n",
       "</table>\n",
       "</div>"
      ],
      "text/plain": [
       "          id                        images  label\n",
       "3597    3781   ./Data/train/train/3781.tif      0\n",
       "4633    4876   ./Data/train/train/4876.tif     12\n",
       "5298    5578   ./Data/train/train/5578.tif     11\n",
       "7417    7807   ./Data/train/train/7807.tif     11\n",
       "12255  12896  ./Data/train/train/12896.tif      9\n",
       "12916  13599  ./Data/train/train/13599.tif      5\n",
       "14569  15333  ./Data/train/train/15333.tif      7"
      ]
     },
     "execution_count": 67,
     "metadata": {},
     "output_type": "execute_result"
    }
   ],
   "source": [
    "mis_train_data = train_labels[train_pred_labels != train_labels['label']]\n",
    "mis_train_data"
   ]
  },
  {
   "cell_type": "code",
   "execution_count": 68,
   "id": "2ea8f949",
   "metadata": {},
   "outputs": [
    {
     "data": {
      "text/html": [
       "<div>\n",
       "<style scoped>\n",
       "    .dataframe tbody tr th:only-of-type {\n",
       "        vertical-align: middle;\n",
       "    }\n",
       "\n",
       "    .dataframe tbody tr th {\n",
       "        vertical-align: top;\n",
       "    }\n",
       "\n",
       "    .dataframe thead th {\n",
       "        text-align: right;\n",
       "    }\n",
       "</style>\n",
       "<table border=\"1\" class=\"dataframe\">\n",
       "  <thead>\n",
       "    <tr style=\"text-align: right;\">\n",
       "      <th></th>\n",
       "      <th>precision</th>\n",
       "      <th>recall</th>\n",
       "      <th>fscore</th>\n",
       "      <th>support</th>\n",
       "    </tr>\n",
       "  </thead>\n",
       "  <tbody>\n",
       "    <tr>\n",
       "      <th>0</th>\n",
       "      <td>1.000000</td>\n",
       "      <td>0.998978</td>\n",
       "      <td>0.999488</td>\n",
       "      <td>978</td>\n",
       "    </tr>\n",
       "    <tr>\n",
       "      <th>1</th>\n",
       "      <td>0.995694</td>\n",
       "      <td>1.000000</td>\n",
       "      <td>0.997843</td>\n",
       "      <td>925</td>\n",
       "    </tr>\n",
       "    <tr>\n",
       "      <th>2</th>\n",
       "      <td>1.000000</td>\n",
       "      <td>1.000000</td>\n",
       "      <td>1.000000</td>\n",
       "      <td>925</td>\n",
       "    </tr>\n",
       "    <tr>\n",
       "      <th>3</th>\n",
       "      <td>1.000000</td>\n",
       "      <td>1.000000</td>\n",
       "      <td>1.000000</td>\n",
       "      <td>947</td>\n",
       "    </tr>\n",
       "    <tr>\n",
       "      <th>4</th>\n",
       "      <td>0.998926</td>\n",
       "      <td>1.000000</td>\n",
       "      <td>0.999463</td>\n",
       "      <td>930</td>\n",
       "    </tr>\n",
       "    <tr>\n",
       "      <th>5</th>\n",
       "      <td>1.000000</td>\n",
       "      <td>0.998960</td>\n",
       "      <td>0.999480</td>\n",
       "      <td>962</td>\n",
       "    </tr>\n",
       "    <tr>\n",
       "      <th>6</th>\n",
       "      <td>1.000000</td>\n",
       "      <td>1.000000</td>\n",
       "      <td>1.000000</td>\n",
       "      <td>998</td>\n",
       "    </tr>\n",
       "    <tr>\n",
       "      <th>7</th>\n",
       "      <td>1.000000</td>\n",
       "      <td>0.998905</td>\n",
       "      <td>0.999452</td>\n",
       "      <td>913</td>\n",
       "    </tr>\n",
       "    <tr>\n",
       "      <th>8</th>\n",
       "      <td>1.000000</td>\n",
       "      <td>1.000000</td>\n",
       "      <td>1.000000</td>\n",
       "      <td>1005</td>\n",
       "    </tr>\n",
       "    <tr>\n",
       "      <th>9</th>\n",
       "      <td>1.000000</td>\n",
       "      <td>0.998951</td>\n",
       "      <td>0.999475</td>\n",
       "      <td>953</td>\n",
       "    </tr>\n",
       "    <tr>\n",
       "      <th>10</th>\n",
       "      <td>1.000000</td>\n",
       "      <td>1.000000</td>\n",
       "      <td>1.000000</td>\n",
       "      <td>916</td>\n",
       "    </tr>\n",
       "    <tr>\n",
       "      <th>11</th>\n",
       "      <td>1.000000</td>\n",
       "      <td>0.997906</td>\n",
       "      <td>0.998952</td>\n",
       "      <td>955</td>\n",
       "    </tr>\n",
       "    <tr>\n",
       "      <th>12</th>\n",
       "      <td>0.997955</td>\n",
       "      <td>0.998976</td>\n",
       "      <td>0.998465</td>\n",
       "      <td>977</td>\n",
       "    </tr>\n",
       "    <tr>\n",
       "      <th>13</th>\n",
       "      <td>1.000000</td>\n",
       "      <td>1.000000</td>\n",
       "      <td>1.000000</td>\n",
       "      <td>943</td>\n",
       "    </tr>\n",
       "    <tr>\n",
       "      <th>14</th>\n",
       "      <td>1.000000</td>\n",
       "      <td>1.000000</td>\n",
       "      <td>1.000000</td>\n",
       "      <td>928</td>\n",
       "    </tr>\n",
       "    <tr>\n",
       "      <th>15</th>\n",
       "      <td>1.000000</td>\n",
       "      <td>1.000000</td>\n",
       "      <td>1.000000</td>\n",
       "      <td>945</td>\n",
       "    </tr>\n",
       "  </tbody>\n",
       "</table>\n",
       "</div>"
      ],
      "text/plain": [
       "    precision    recall    fscore  support\n",
       "0    1.000000  0.998978  0.999488      978\n",
       "1    0.995694  1.000000  0.997843      925\n",
       "2    1.000000  1.000000  1.000000      925\n",
       "3    1.000000  1.000000  1.000000      947\n",
       "4    0.998926  1.000000  0.999463      930\n",
       "5    1.000000  0.998960  0.999480      962\n",
       "6    1.000000  1.000000  1.000000      998\n",
       "7    1.000000  0.998905  0.999452      913\n",
       "8    1.000000  1.000000  1.000000     1005\n",
       "9    1.000000  0.998951  0.999475      953\n",
       "10   1.000000  1.000000  1.000000      916\n",
       "11   1.000000  0.997906  0.998952      955\n",
       "12   0.997955  0.998976  0.998465      977\n",
       "13   1.000000  1.000000  1.000000      943\n",
       "14   1.000000  1.000000  1.000000      928\n",
       "15   1.000000  1.000000  1.000000      945"
      ]
     },
     "execution_count": 68,
     "metadata": {},
     "output_type": "execute_result"
    }
   ],
   "source": [
    "precision, recall, fscore, support = score(train_labels['label'], train_pred_labels)\n",
    "pd.DataFrame({\n",
    "    'precision': precision,\n",
    "    'recall': recall,\n",
    "    'fscore': fscore,\n",
    "    'support': support\n",
    "})"
   ]
  },
  {
   "cell_type": "markdown",
   "id": "b6e51475",
   "metadata": {},
   "source": [
    "#### On Train-Test Data"
   ]
  },
  {
   "cell_type": "code",
   "execution_count": 69,
   "id": "14a7854d",
   "metadata": {},
   "outputs": [
    {
     "name": "stdout",
     "output_type": "stream",
     "text": [
      "25/25 [==============================] - 0s 3ms/step\n"
     ]
    }
   ],
   "source": [
    "test_preds = model1.predict(fine_tune_data_test)"
   ]
  },
  {
   "cell_type": "code",
   "execution_count": 70,
   "id": "d585fa70",
   "metadata": {},
   "outputs": [],
   "source": [
    "test_pred_labels = np.argmax(test_preds, axis=-1)"
   ]
  },
  {
   "cell_type": "code",
   "execution_count": 71,
   "id": "9a77dc3c",
   "metadata": {},
   "outputs": [
    {
     "data": {
      "text/plain": [
       "array([11,  8,  6, 11, 14,  9, 13,  4, 14,  1,  6, 15, 10, 14,  1, 11,  0,\n",
       "        9,  6,  1,  8, 14,  3, 12,  6,  0,  3,  3,  3,  3, 11,  1,  6,  2,\n",
       "        1,  8,  4,  5,  1,  9,  6, 12, 14,  2,  5, 14,  3,  0, 13,  4,  0,\n",
       "       10, 12,  0, 11, 14, 15,  6,  9,  2, 15, 13,  2, 11,  7, 12,  8,  0,\n",
       "        6,  3,  4,  4, 12,  0,  8,  6,  7,  0, 12, 11, 11,  0, 12, 12,  9,\n",
       "        8,  1, 13,  0, 13, 10, 11,  4, 10,  1,  7, 11,  8, 13, 10,  3, 11,\n",
       "        5,  9,  7, 14,  8,  2,  1,  8,  7,  5,  9,  4, 12, 14, 12, 10, 11,\n",
       "        6, 13,  1,  0, 12, 13,  5, 10,  8,  0, 11,  3, 11,  6,  1,  6,  9,\n",
       "       14, 10,  7, 14, 10,  8,  4, 12,  8,  5,  8,  9,  2, 13, 15,  5,  4,\n",
       "       14,  4,  9,  4, 14,  7,  7,  8,  4,  4, 12, 13,  8, 15,  3,  8,  8,\n",
       "       13,  6,  3, 11,  7, 12, 10, 14, 14,  8,  6, 11, 13, 11,  6, 13,  4,\n",
       "       14, 11,  7, 15,  0,  3,  0, 10, 13,  5, 10, 11, 11, 15,  1,  9,  1,\n",
       "        9,  5, 13, 12, 12,  1,  4,  8, 11,  6, 13,  5,  4, 12,  8,  0,  9,\n",
       "       13, 15,  0,  7, 10,  2,  2,  6, 11,  7,  0,  3, 12,  3,  0,  2,  5,\n",
       "        4,  7, 12, 15, 12,  8, 13, 10,  0,  0, 11,  0, 11, 13, 15, 15,  8,\n",
       "        1,  5, 13,  5, 11,  9, 14,  6, 13, 12, 13,  1, 15, 11, 11, 14,  3,\n",
       "        0, 11,  4,  3,  1,  4,  6,  2, 13,  8, 10, 10,  8,  5,  7,  8, 13,\n",
       "        6,  8, 15,  0,  2,  3,  4, 10,  0,  8, 13,  0,  7, 15, 10, 10,  5,\n",
       "        3, 13,  1, 10,  9,  2, 13,  3, 15,  6, 14,  9, 14,  7, 13,  2, 15,\n",
       "        9, 15, 15,  7,  0, 15,  3, 11, 13, 15, 15,  1, 10,  1, 13,  0,  4,\n",
       "       13,  0,  3,  3,  2,  8,  9,  1, 11,  3,  3,  2,  5, 14,  4,  0,  3,\n",
       "        8,  5,  1,  3,  0,  5,  1,  3,  7, 15,  5,  3, 15, 12, 15,  3,  6,\n",
       "       15, 14, 14,  0,  5,  8, 14,  6, 12, 13,  6,  9,  8,  7, 10,  1,  2,\n",
       "       11, 14,  2, 14, 15, 11,  0,  1,  2, 12,  1,  0, 14,  6,  9,  0,  2,\n",
       "        7,  3, 14,  7, 13,  1,  4, 13, 13,  1,  4,  7, 13, 14,  5,  1,  8,\n",
       "       11,  1, 11,  0,  3,  1,  7,  2,  5,  6, 15,  2, 11,  1,  3, 11,  8,\n",
       "       12,  0,  3,  5,  5,  6,  6, 14,  7,  8,  3,  2, 13, 12, 11, 13, 11,\n",
       "        9,  8, 10, 15, 12,  0,  6,  1,  9,  9, 14, 12,  7, 14,  9,  6,  7,\n",
       "        6, 10,  4,  8,  9,  3,  7,  8,  6, 10,  1, 10,  7,  5, 11, 13, 10,\n",
       "        0,  3,  1, 10,  9,  7,  8, 11,  9,  0,  6,  7, 15,  0,  8,  7,  0,\n",
       "       12,  1,  0, 12, 11,  1,  1,  7,  9,  1, 14,  3,  1, 14,  6, 14,  7,\n",
       "        1, 14,  6, 14,  9,  7,  1, 14,  1, 11,  2,  3,  7,  2,  0,  8,  8,\n",
       "        0,  8,  6,  5, 14,  3,  6, 11,  8, 14,  6,  9, 11,  9, 11,  9,  0,\n",
       "        3,  2, 11, 10, 15,  2,  7, 15, 14,  9,  3,  1,  9, 13,  1, 11,  5,\n",
       "        9, 11,  6, 10,  9,  8,  5, 14, 14,  9, 15, 15,  8,  1,  8, 15,  5,\n",
       "       12,  5,  0, 15, 14,  1,  3,  2, 12,  1, 15, 11, 10,  4, 13,  1,  5,\n",
       "        1, 13, 15,  4,  4, 10, 11, 15, 14, 13,  9,  8,  5,  9, 13,  4,  4,\n",
       "       15,  0,  1,  5, 13,  7,  6, 12,  8,  7,  5, 15,  5,  9,  4,  1, 14,\n",
       "        1, 13,  6,  6,  3,  7,  7,  5,  5, 12,  6,  8,  0,  4,  7,  7,  0,\n",
       "       12, 14, 12,  0,  3, 11,  2,  3,  5,  4, 13,  1,  0, 10, 14, 15,  8,\n",
       "        1,  5,  1,  7,  2, 12,  8,  8, 11,  6,  4,  2, 10, 13,  7,  6,  3,\n",
       "       13,  3,  2, 14,  0,  8, 12, 12,  8, 13, 13, 14,  4, 10,  2,  5, 14,\n",
       "       12, 13, 13,  4, 12, 15, 10,  0,  8, 10,  7,  8,  4,  9,  2,  8,  0,\n",
       "        1,  2, 15, 15,  0,  8,  9, 11, 14,  8,  9,  7,  4, 11, 13, 11,  3,\n",
       "        7, 15,  3,  8,  5,  2, 14, 13,  7, 10, 13,  4, 12,  6, 14,  0,  7,\n",
       "        1,  3, 12, 13, 14,  7,  2,  8, 10, 13,  2,  9,  8, 14, 12,  5, 12,\n",
       "        0,  5,  8, 15,  4, 11, 14,  0,  9,  9,  5, 13, 10,  2,  2, 11, 15,\n",
       "        6])"
      ]
     },
     "execution_count": 71,
     "metadata": {},
     "output_type": "execute_result"
    }
   ],
   "source": [
    "test_pred_labels"
   ]
  },
  {
   "cell_type": "code",
   "execution_count": 72,
   "id": "8bce361f",
   "metadata": {},
   "outputs": [
    {
     "data": {
      "text/plain": [
       "629"
      ]
     },
     "execution_count": 72,
     "metadata": {},
     "output_type": "execute_result"
    }
   ],
   "source": [
    "np.sum(test_pred_labels == test_labels['label'])"
   ]
  },
  {
   "cell_type": "code",
   "execution_count": 73,
   "id": "e07d40ba",
   "metadata": {},
   "outputs": [
    {
     "data": {
      "text/html": [
       "<div>\n",
       "<style scoped>\n",
       "    .dataframe tbody tr th:only-of-type {\n",
       "        vertical-align: middle;\n",
       "    }\n",
       "\n",
       "    .dataframe tbody tr th {\n",
       "        vertical-align: top;\n",
       "    }\n",
       "\n",
       "    .dataframe thead th {\n",
       "        text-align: right;\n",
       "    }\n",
       "</style>\n",
       "<table border=\"1\" class=\"dataframe\">\n",
       "  <thead>\n",
       "    <tr style=\"text-align: right;\">\n",
       "      <th></th>\n",
       "      <th>id</th>\n",
       "      <th>images</th>\n",
       "      <th>label</th>\n",
       "    </tr>\n",
       "  </thead>\n",
       "  <tbody>\n",
       "    <tr>\n",
       "      <th>3</th>\n",
       "      <td>41</td>\n",
       "      <td>./Data/train/train/41.tif</td>\n",
       "      <td>1</td>\n",
       "    </tr>\n",
       "    <tr>\n",
       "      <th>7</th>\n",
       "      <td>100</td>\n",
       "      <td>./Data/train/train/100.tif</td>\n",
       "      <td>10</td>\n",
       "    </tr>\n",
       "    <tr>\n",
       "      <th>12</th>\n",
       "      <td>179</td>\n",
       "      <td>./Data/train/train/179.tif</td>\n",
       "      <td>7</td>\n",
       "    </tr>\n",
       "    <tr>\n",
       "      <th>19</th>\n",
       "      <td>372</td>\n",
       "      <td>./Data/train/train/372.tif</td>\n",
       "      <td>13</td>\n",
       "    </tr>\n",
       "    <tr>\n",
       "      <th>20</th>\n",
       "      <td>378</td>\n",
       "      <td>./Data/train/train/378.tif</td>\n",
       "      <td>12</td>\n",
       "    </tr>\n",
       "    <tr>\n",
       "      <th>...</th>\n",
       "      <td>...</td>\n",
       "      <td>...</td>\n",
       "      <td>...</td>\n",
       "    </tr>\n",
       "    <tr>\n",
       "      <th>776</th>\n",
       "      <td>15528</td>\n",
       "      <td>./Data/train/train/15528.tif</td>\n",
       "      <td>5</td>\n",
       "    </tr>\n",
       "    <tr>\n",
       "      <th>779</th>\n",
       "      <td>15568</td>\n",
       "      <td>./Data/train/train/15568.tif</td>\n",
       "      <td>9</td>\n",
       "    </tr>\n",
       "    <tr>\n",
       "      <th>780</th>\n",
       "      <td>15571</td>\n",
       "      <td>./Data/train/train/15571.tif</td>\n",
       "      <td>14</td>\n",
       "    </tr>\n",
       "    <tr>\n",
       "      <th>782</th>\n",
       "      <td>15582</td>\n",
       "      <td>./Data/train/train/15582.tif</td>\n",
       "      <td>3</td>\n",
       "    </tr>\n",
       "    <tr>\n",
       "      <th>788</th>\n",
       "      <td>15687</td>\n",
       "      <td>./Data/train/train/15687.tif</td>\n",
       "      <td>12</td>\n",
       "    </tr>\n",
       "  </tbody>\n",
       "</table>\n",
       "<p>171 rows × 3 columns</p>\n",
       "</div>"
      ],
      "text/plain": [
       "        id                        images  label\n",
       "3       41     ./Data/train/train/41.tif      1\n",
       "7      100    ./Data/train/train/100.tif     10\n",
       "12     179    ./Data/train/train/179.tif      7\n",
       "19     372    ./Data/train/train/372.tif     13\n",
       "20     378    ./Data/train/train/378.tif     12\n",
       "..     ...                           ...    ...\n",
       "776  15528  ./Data/train/train/15528.tif      5\n",
       "779  15568  ./Data/train/train/15568.tif      9\n",
       "780  15571  ./Data/train/train/15571.tif     14\n",
       "782  15582  ./Data/train/train/15582.tif      3\n",
       "788  15687  ./Data/train/train/15687.tif     12\n",
       "\n",
       "[171 rows x 3 columns]"
      ]
     },
     "execution_count": 73,
     "metadata": {},
     "output_type": "execute_result"
    }
   ],
   "source": [
    "mis_train_data = test_labels[test_pred_labels != test_labels['label']]\n",
    "mis_train_data"
   ]
  },
  {
   "cell_type": "code",
   "execution_count": 74,
   "id": "0f0b85fa",
   "metadata": {},
   "outputs": [
    {
     "data": {
      "text/html": [
       "<div>\n",
       "<style scoped>\n",
       "    .dataframe tbody tr th:only-of-type {\n",
       "        vertical-align: middle;\n",
       "    }\n",
       "\n",
       "    .dataframe tbody tr th {\n",
       "        vertical-align: top;\n",
       "    }\n",
       "\n",
       "    .dataframe thead th {\n",
       "        text-align: right;\n",
       "    }\n",
       "</style>\n",
       "<table border=\"1\" class=\"dataframe\">\n",
       "  <thead>\n",
       "    <tr style=\"text-align: right;\">\n",
       "      <th></th>\n",
       "      <th>precision</th>\n",
       "      <th>recall</th>\n",
       "      <th>fscore</th>\n",
       "      <th>support</th>\n",
       "    </tr>\n",
       "  </thead>\n",
       "  <tbody>\n",
       "    <tr>\n",
       "      <th>0</th>\n",
       "      <td>0.741379</td>\n",
       "      <td>0.796296</td>\n",
       "      <td>0.767857</td>\n",
       "      <td>54</td>\n",
       "    </tr>\n",
       "    <tr>\n",
       "      <th>1</th>\n",
       "      <td>0.551724</td>\n",
       "      <td>0.727273</td>\n",
       "      <td>0.627451</td>\n",
       "      <td>44</td>\n",
       "    </tr>\n",
       "    <tr>\n",
       "      <th>2</th>\n",
       "      <td>0.897436</td>\n",
       "      <td>0.813953</td>\n",
       "      <td>0.853659</td>\n",
       "      <td>43</td>\n",
       "    </tr>\n",
       "    <tr>\n",
       "      <th>3</th>\n",
       "      <td>0.840000</td>\n",
       "      <td>0.913043</td>\n",
       "      <td>0.875000</td>\n",
       "      <td>46</td>\n",
       "    </tr>\n",
       "    <tr>\n",
       "      <th>4</th>\n",
       "      <td>0.850000</td>\n",
       "      <td>0.944444</td>\n",
       "      <td>0.894737</td>\n",
       "      <td>36</td>\n",
       "    </tr>\n",
       "    <tr>\n",
       "      <th>5</th>\n",
       "      <td>0.704545</td>\n",
       "      <td>0.620000</td>\n",
       "      <td>0.659574</td>\n",
       "      <td>50</td>\n",
       "    </tr>\n",
       "    <tr>\n",
       "      <th>6</th>\n",
       "      <td>0.851064</td>\n",
       "      <td>0.869565</td>\n",
       "      <td>0.860215</td>\n",
       "      <td>46</td>\n",
       "    </tr>\n",
       "    <tr>\n",
       "      <th>7</th>\n",
       "      <td>0.800000</td>\n",
       "      <td>0.769231</td>\n",
       "      <td>0.784314</td>\n",
       "      <td>52</td>\n",
       "    </tr>\n",
       "    <tr>\n",
       "      <th>8</th>\n",
       "      <td>0.841270</td>\n",
       "      <td>0.981481</td>\n",
       "      <td>0.905983</td>\n",
       "      <td>54</td>\n",
       "    </tr>\n",
       "    <tr>\n",
       "      <th>9</th>\n",
       "      <td>0.869565</td>\n",
       "      <td>0.851064</td>\n",
       "      <td>0.860215</td>\n",
       "      <td>47</td>\n",
       "    </tr>\n",
       "    <tr>\n",
       "      <th>10</th>\n",
       "      <td>0.775000</td>\n",
       "      <td>0.534483</td>\n",
       "      <td>0.632653</td>\n",
       "      <td>58</td>\n",
       "    </tr>\n",
       "    <tr>\n",
       "      <th>11</th>\n",
       "      <td>0.719298</td>\n",
       "      <td>0.732143</td>\n",
       "      <td>0.725664</td>\n",
       "      <td>56</td>\n",
       "    </tr>\n",
       "    <tr>\n",
       "      <th>12</th>\n",
       "      <td>0.755556</td>\n",
       "      <td>0.790698</td>\n",
       "      <td>0.772727</td>\n",
       "      <td>43</td>\n",
       "    </tr>\n",
       "    <tr>\n",
       "      <th>13</th>\n",
       "      <td>0.813559</td>\n",
       "      <td>0.750000</td>\n",
       "      <td>0.780488</td>\n",
       "      <td>64</td>\n",
       "    </tr>\n",
       "    <tr>\n",
       "      <th>14</th>\n",
       "      <td>0.912281</td>\n",
       "      <td>0.812500</td>\n",
       "      <td>0.859504</td>\n",
       "      <td>64</td>\n",
       "    </tr>\n",
       "    <tr>\n",
       "      <th>15</th>\n",
       "      <td>0.702128</td>\n",
       "      <td>0.767442</td>\n",
       "      <td>0.733333</td>\n",
       "      <td>43</td>\n",
       "    </tr>\n",
       "  </tbody>\n",
       "</table>\n",
       "</div>"
      ],
      "text/plain": [
       "    precision    recall    fscore  support\n",
       "0    0.741379  0.796296  0.767857       54\n",
       "1    0.551724  0.727273  0.627451       44\n",
       "2    0.897436  0.813953  0.853659       43\n",
       "3    0.840000  0.913043  0.875000       46\n",
       "4    0.850000  0.944444  0.894737       36\n",
       "5    0.704545  0.620000  0.659574       50\n",
       "6    0.851064  0.869565  0.860215       46\n",
       "7    0.800000  0.769231  0.784314       52\n",
       "8    0.841270  0.981481  0.905983       54\n",
       "9    0.869565  0.851064  0.860215       47\n",
       "10   0.775000  0.534483  0.632653       58\n",
       "11   0.719298  0.732143  0.725664       56\n",
       "12   0.755556  0.790698  0.772727       43\n",
       "13   0.813559  0.750000  0.780488       64\n",
       "14   0.912281  0.812500  0.859504       64\n",
       "15   0.702128  0.767442  0.733333       43"
      ]
     },
     "execution_count": 74,
     "metadata": {},
     "output_type": "execute_result"
    }
   ],
   "source": [
    "precision, recall, fscore, support = score(test_labels['label'], test_pred_labels)\n",
    "pd.DataFrame({\n",
    "    'precision': precision,\n",
    "    'recall': recall,\n",
    "    'fscore': fscore,\n",
    "    'support': support\n",
    "})"
   ]
  },
  {
   "cell_type": "code",
   "execution_count": 75,
   "id": "ffd70520",
   "metadata": {},
   "outputs": [
    {
     "data": {
      "text/plain": [
       "0.787085876889608"
      ]
     },
     "execution_count": 75,
     "metadata": {},
     "output_type": "execute_result"
    }
   ],
   "source": [
    "np.mean(fscore)"
   ]
  },
  {
   "cell_type": "markdown",
   "id": "067c5096",
   "metadata": {},
   "source": [
    "#### On Validation Data"
   ]
  },
  {
   "cell_type": "markdown",
   "id": "3e665591",
   "metadata": {},
   "source": [
    "Generating Predictions for the Validation Set"
   ]
  },
  {
   "cell_type": "code",
   "execution_count": 76,
   "id": "20d57a31",
   "metadata": {},
   "outputs": [
    {
     "name": "stdout",
     "output_type": "stream",
     "text": [
      "29/29 [==============================] - 0s 4ms/step\n"
     ]
    },
    {
     "name": "stderr",
     "output_type": "stream",
     "text": [
      "2022-10-08 15:57:39.999356: I tensorflow/core/grappler/optimizers/custom_graph_optimizer_registry.cc:113] Plugin optimizer for device_type GPU is enabled.\n"
     ]
    }
   ],
   "source": [
    "valid_preds = model1.predict(fine_tune_data_validation)"
   ]
  },
  {
   "cell_type": "code",
   "execution_count": 77,
   "id": "db7d1256",
   "metadata": {},
   "outputs": [],
   "source": [
    "valid_pred_labels = np.argmax(valid_preds, axis=-1)"
   ]
  },
  {
   "cell_type": "code",
   "execution_count": 78,
   "id": "315c93f9",
   "metadata": {},
   "outputs": [
    {
     "data": {
      "text/plain": [
       "array([ 4,  6,  4,  8,  3,  8, 11, 11,  2,  4,  0, 15, 14, 12, 13,  4, 11,\n",
       "        1,  0,  5, 14,  9, 13,  6,  1,  2,  7,  3,  8,  1, 15, 14,  8, 10,\n",
       "       14,  6, 11,  8,  6, 10,  4,  7, 12,  3,  2, 10,  3,  2,  6,  2, 10,\n",
       "        0, 10,  7, 13,  9,  2,  3,  1, 10,  2, 13,  4,  5, 12,  8,  9,  7,\n",
       "        8,  4,  5,  5,  4,  8,  4,  6,  4, 15, 11,  0,  9, 15, 13,  8,  7,\n",
       "       12, 11, 10, 12, 10, 12,  0,  1, 12,  3,  4, 10, 10,  7,  4,  6, 11,\n",
       "        1, 12,  7, 13, 15,  9, 10,  1,  7,  7, 11, 14,  2,  4,  1, 14,  1,\n",
       "       11, 12,  5,  3,  6,  1,  1,  0,  9,  4, 12,  8,  1,  0,  9, 10,  3,\n",
       "        0, 11, 13,  5,  6,  7,  2,  3,  0,  9,  9, 15,  1, 14, 10,  1, 13,\n",
       "        8, 12, 10,  0,  7,  5, 14,  3,  1,  2, 10,  7,  5,  4,  4,  7,  9,\n",
       "       12, 11,  4,  7,  4,  0, 11, 12,  0,  8,  9, 11,  3,  2,  3,  3,  7,\n",
       "        8, 11,  2,  9, 12,  6,  2,  4,  9,  2,  9,  8,  7,  1,  3,  1,  0,\n",
       "       15,  1,  4,  3,  4,  4, 11,  6,  6,  7,  4,  4, 13,  3, 10, 14,  1,\n",
       "        6,  0,  8, 12,  2, 12,  4,  8, 13, 14, 13,  8, 11,  2,  6,  7,  5,\n",
       "       13, 12,  9,  3, 14, 13,  7, 10, 13,  0,  4,  4,  9,  8,  4, 11,  7,\n",
       "        8,  9, 15,  6,  0,  5,  5,  0,  6,  9,  7, 12,  5, 15,  4,  3,  2,\n",
       "        1,  5,  8, 11,  6,  2, 10, 14,  8, 13,  3,  3, 13, 10,  2, 11, 10,\n",
       "        9, 11,  3,  6, 11, 15,  8, 15, 11,  4,  5,  7,  2, 15, 12, 14,  8,\n",
       "       12,  2, 10,  6,  8, 14, 10,  1, 10,  7,  6,  8,  5,  4, 13,  6,  6,\n",
       "        4,  0,  5,  1, 11, 13,  5,  5, 10, 11, 13, 13,  2, 14, 12,  5,  4,\n",
       "       15, 10,  4,  9, 10,  4, 11, 10, 13,  0,  3, 12,  5, 14,  4,  5,  5,\n",
       "       15, 10,  8,  5,  0,  8,  0,  3, 10,  7, 10,  3, 10, 12,  6, 10,  2,\n",
       "        5, 11,  9, 10,  7,  7,  8, 10,  6,  3,  4, 11,  2,  8, 12,  1,  0,\n",
       "       10,  5,  4,  0,  8,  5,  1,  7,  4, 13,  2, 12,  5,  5, 10,  0,  1,\n",
       "        3, 14, 10,  6, 13,  1,  2,  1, 14,  4,  3,  3,  2,  0, 11, 14,  4,\n",
       "       11, 12,  9,  2,  6,  3,  2, 12,  9,  0,  2,  8,  6, 10, 12,  6,  7,\n",
       "       13, 12, 15,  7,  3,  7, 15, 15, 10, 11,  6,  7, 13, 15,  4, 11,  2,\n",
       "        5,  4,  3, 10,  0,  8, 10,  4,  4, 11,  4,  4,  7, 12,  6,  4,  4,\n",
       "        6,  1,  3, 11,  2, 13,  8,  4,  9, 12, 12, 14,  6, 15, 12,  9,  9,\n",
       "        5, 13, 13,  2,  3, 11, 10,  7,  9, 15,  8,  2, 12,  8, 10, 15, 13,\n",
       "       14, 12,  8,  5,  8,  0,  2, 10, 12,  3,  8,  4,  9,  4,  0, 13, 15,\n",
       "        5, 15,  3, 12, 10,  6, 13,  3,  5, 14, 12, 13, 10,  9,  8,  9, 11,\n",
       "        4,  6,  8,  7,  6,  9,  0,  8,  8,  3,  4,  8,  1,  2,  3,  7,  0,\n",
       "        7,  0, 11,  3, 11, 14, 15,  6,  5,  4,  4,  7,  0,  3,  5,  0,  4,\n",
       "        5, 14,  8, 13, 11,  4,  8,  2, 10,  9,  7,  7,  5,  2, 13,  9, 12,\n",
       "        6,  6,  1,  0,  4,  8, 11, 11, 13,  2,  2,  4, 14,  8, 10,  3, 14,\n",
       "        4, 13, 11, 14,  6,  3, 11, 10,  8, 12,  4, 14, 15, 14,  0, 12,  3,\n",
       "       14,  6,  1,  7, 14,  7,  1,  2, 10,  4,  2, 12,  3,  4,  5, 14,  9,\n",
       "        9,  4, 12,  2,  5,  2, 15,  0, 11,  6,  3,  8,  6,  5,  3,  7,  3,\n",
       "        2, 13, 13, 12,  0, 15,  2, 11,  4, 15, 12, 11, 11, 13, 13,  6, 14,\n",
       "        1,  9,  0,  1, 10, 15,  8, 11,  4, 15,  6, 11, 10,  3, 13, 13,  1,\n",
       "       12,  1,  4, 10,  8,  2, 14,  4,  5, 11,  3, 12,  6,  7,  9,  4,  8,\n",
       "        3,  3,  7, 10,  1,  7,  6, 13, 14,  9, 14,  3,  5, 11,  0, 13, 11,\n",
       "        5,  7,  4,  9,  4,  3, 12, 14,  5,  8, 10, 15, 13, 15,  5,  2,  0,\n",
       "        0,  6,  0,  9,  4,  7,  6,  1,  6,  8,  5,  2,  2,  4,  0,  0,  5,\n",
       "        6,  0,  7,  5,  4, 13,  1, 10, 11,  0, 11,  2,  7, 12,  0, 11,  1,\n",
       "        0,  3,  4, 12, 14,  9, 14,  2, 12,  2,  1,  0, 14, 11,  2, 11,  2,\n",
       "       10,  6,  4, 15, 10,  7,  2,  2,  8,  6,  9, 10,  7,  1, 15,  3,  2,\n",
       "       13,  9,  9,  6,  9, 12,  5, 14,  5,  9,  2,  4, 15, 14,  5, 13,  1,\n",
       "        6,  1,  8,  0,  0, 15,  4,  8,  9,  3,  4,  8, 14, 13,  5, 13, 11,\n",
       "        2,  5,  5, 12, 12,  1,  6,  0,  5,  9, 10,  0,  5,  6, 14,  1,  0,\n",
       "        8, 11,  8,  8,  5,  9,  0, 11,  3,  3,  3, 15,  2, 10, 11,  6, 15,\n",
       "       13, 12,  1,  2, 11,  4,  0,  7,  6, 15,  8, 13, 12,  8,  5,  4])"
      ]
     },
     "execution_count": 78,
     "metadata": {},
     "output_type": "execute_result"
    }
   ],
   "source": [
    "valid_pred_labels"
   ]
  },
  {
   "cell_type": "markdown",
   "id": "2bece594",
   "metadata": {},
   "source": [
    "### Submission"
   ]
  },
  {
   "cell_type": "markdown",
   "id": "304c47de",
   "metadata": {},
   "source": [
    "For Kaggle Submission"
   ]
  },
  {
   "cell_type": "code",
   "execution_count": 79,
   "id": "e7ca9d19",
   "metadata": {},
   "outputs": [
    {
     "data": {
      "text/html": [
       "<div>\n",
       "<style scoped>\n",
       "    .dataframe tbody tr th:only-of-type {\n",
       "        vertical-align: middle;\n",
       "    }\n",
       "\n",
       "    .dataframe tbody tr th {\n",
       "        vertical-align: top;\n",
       "    }\n",
       "\n",
       "    .dataframe thead th {\n",
       "        text-align: right;\n",
       "    }\n",
       "</style>\n",
       "<table border=\"1\" class=\"dataframe\">\n",
       "  <thead>\n",
       "    <tr style=\"text-align: right;\">\n",
       "      <th></th>\n",
       "      <th>id</th>\n",
       "      <th>label</th>\n",
       "    </tr>\n",
       "  </thead>\n",
       "  <tbody>\n",
       "    <tr>\n",
       "      <th>0</th>\n",
       "      <td>17801</td>\n",
       "      <td>4</td>\n",
       "    </tr>\n",
       "    <tr>\n",
       "      <th>1</th>\n",
       "      <td>17802</td>\n",
       "      <td>6</td>\n",
       "    </tr>\n",
       "    <tr>\n",
       "      <th>2</th>\n",
       "      <td>17803</td>\n",
       "      <td>4</td>\n",
       "    </tr>\n",
       "    <tr>\n",
       "      <th>3</th>\n",
       "      <td>17804</td>\n",
       "      <td>8</td>\n",
       "    </tr>\n",
       "    <tr>\n",
       "      <th>4</th>\n",
       "      <td>17805</td>\n",
       "      <td>3</td>\n",
       "    </tr>\n",
       "    <tr>\n",
       "      <th>...</th>\n",
       "      <td>...</td>\n",
       "      <td>...</td>\n",
       "    </tr>\n",
       "    <tr>\n",
       "      <th>895</th>\n",
       "      <td>18696</td>\n",
       "      <td>13</td>\n",
       "    </tr>\n",
       "    <tr>\n",
       "      <th>896</th>\n",
       "      <td>18697</td>\n",
       "      <td>12</td>\n",
       "    </tr>\n",
       "    <tr>\n",
       "      <th>897</th>\n",
       "      <td>18698</td>\n",
       "      <td>8</td>\n",
       "    </tr>\n",
       "    <tr>\n",
       "      <th>898</th>\n",
       "      <td>18699</td>\n",
       "      <td>5</td>\n",
       "    </tr>\n",
       "    <tr>\n",
       "      <th>899</th>\n",
       "      <td>18700</td>\n",
       "      <td>4</td>\n",
       "    </tr>\n",
       "  </tbody>\n",
       "</table>\n",
       "<p>900 rows × 2 columns</p>\n",
       "</div>"
      ],
      "text/plain": [
       "        id  label\n",
       "0    17801      4\n",
       "1    17802      6\n",
       "2    17803      4\n",
       "3    17804      8\n",
       "4    17805      3\n",
       "..     ...    ...\n",
       "895  18696     13\n",
       "896  18697     12\n",
       "897  18698      8\n",
       "898  18699      5\n",
       "899  18700      4\n",
       "\n",
       "[900 rows x 2 columns]"
      ]
     },
     "execution_count": 79,
     "metadata": {},
     "output_type": "execute_result"
    }
   ],
   "source": [
    "submission_data = pd.DataFrame({'id':list(range(17801, 18701))})\n",
    "submission_data['label'] = valid_pred_labels\n",
    "submission_data"
   ]
  },
  {
   "cell_type": "code",
   "execution_count": 80,
   "id": "6eea7d9c",
   "metadata": {},
   "outputs": [],
   "source": [
    "submission_data.to_csv('./Submissions/submission-resnet-kPiece.csv', index=False)"
   ]
  }
 ],
 "metadata": {
  "kernelspec": {
   "display_name": "Python 3 (ipykernel)",
   "language": "python",
   "name": "python3"
  },
  "language_info": {
   "codemirror_mode": {
    "name": "ipython",
    "version": 3
   },
   "file_extension": ".py",
   "mimetype": "text/x-python",
   "name": "python",
   "nbconvert_exporter": "python",
   "pygments_lexer": "ipython3",
   "version": "3.8.13"
  }
 },
 "nbformat": 4,
 "nbformat_minor": 5
}
