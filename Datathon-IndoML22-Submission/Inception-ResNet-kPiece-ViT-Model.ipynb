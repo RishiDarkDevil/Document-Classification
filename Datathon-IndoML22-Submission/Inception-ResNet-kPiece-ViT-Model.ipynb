{
 "cells": [
  {
   "cell_type": "markdown",
   "id": "fd1efdf1",
   "metadata": {},
   "source": [
    "### Importing Necessary Libraries"
   ]
  },
  {
   "cell_type": "code",
   "execution_count": 1,
   "id": "0938de48",
   "metadata": {},
   "outputs": [],
   "source": [
    "import os\n",
    "import pickle\n",
    "from tqdm import tqdm\n",
    "\n",
    "import matplotlib.pyplot as plt\n",
    "import numpy as np\n",
    "import pandas as pd\n",
    "\n",
    "import tensorflow as tf\n",
    "from tensorflow.keras.preprocessing.image import load_img, img_to_array\n",
    "\n",
    "from tensorflow import keras\n",
    "from tensorflow.keras.layers import Input, Flatten, Dense, Dropout, GlobalAvgPool2D, GlobalAvgPool1D, BatchNormalization, MultiHeadAttention, Layer, LayerNormalization, Concatenate, MaxPool1D\n",
    "from tensorflow.keras.regularizers import l2\n",
    "\n",
    "from tensorflow.keras.optimizers import Adam\n",
    "\n",
    "from sklearn.metrics import precision_recall_fscore_support as score"
   ]
  },
  {
   "cell_type": "markdown",
   "id": "c954b162",
   "metadata": {},
   "source": [
    "## Data"
   ]
  },
  {
   "cell_type": "markdown",
   "id": "68302673",
   "metadata": {},
   "source": [
    "A detailed discussion and visualization of the data can be seen in [here](Data-Overview.ipynb)."
   ]
  },
  {
   "cell_type": "code",
   "execution_count": 2,
   "id": "75b06a70",
   "metadata": {},
   "outputs": [],
   "source": [
    "labels = pd.read_csv(\"./Data/train_labels.csv\")\n",
    "images = ['./Data/train/train/'+str(name)+'.tif' for name in labels['id']]\n",
    "labels['images'] = images\n",
    "labels = labels[['id', 'images', 'label']]"
   ]
  },
  {
   "cell_type": "code",
   "execution_count": 3,
   "id": "29190fd4",
   "metadata": {},
   "outputs": [],
   "source": [
    "class_labels = list(set(labels['label']))\n",
    "class_names = [\n",
    "    'letter', 'form', 'email', 'handwritten', 'advertisement', 'scientific report', 'scientific publication',\n",
    "    'specification', 'file folder', 'news article', 'budget', 'invoice', 'presentation', 'questionnaire', 'resume',\n",
    "    'memo'\n",
    "]\n",
    "label_names = pd.DataFrame({\n",
    "    'labels': class_labels,\n",
    "    'names': class_names\n",
    "})"
   ]
  },
  {
   "cell_type": "code",
   "execution_count": 4,
   "id": "b49810a9",
   "metadata": {},
   "outputs": [],
   "source": [
    "train_labels = pd.read_csv('./Data/train_labels_1.csv')\n",
    "test_labels = pd.read_csv('./Data/test_labels_1.csv')"
   ]
  },
  {
   "cell_type": "code",
   "execution_count": 5,
   "id": "ca081f2e",
   "metadata": {},
   "outputs": [],
   "source": [
    "roi_info = np.load('./Data/ROI-Extractions/train/train_roi_viz.npy')"
   ]
  },
  {
   "cell_type": "code",
   "execution_count": 6,
   "id": "a77be477",
   "metadata": {},
   "outputs": [
    {
     "data": {
      "text/plain": [
       "(16000, 100, 6)"
      ]
     },
     "execution_count": 6,
     "metadata": {},
     "output_type": "execute_result"
    }
   ],
   "source": [
    "roi_info.shape"
   ]
  },
  {
   "cell_type": "markdown",
   "id": "c2e251c1",
   "metadata": {},
   "source": [
    "## Data Preparation"
   ]
  },
  {
   "cell_type": "code",
   "execution_count": 7,
   "id": "bb31ae4b",
   "metadata": {},
   "outputs": [],
   "source": [
    "BATCH_SIZE = 50\n",
    "checkpnt_each = 100\n",
    "assert checkpnt_each % BATCH_SIZE == 0\n",
    "checkpnt_i = checkpnt_each // BATCH_SIZE\n",
    "FEATURE_DIM = 1536\n",
    "NUM_ROIS = 100\n",
    "POS_ENC_ANGLE_DENO = 10000"
   ]
  },
  {
   "cell_type": "code",
   "execution_count": 8,
   "id": "9fb8348d",
   "metadata": {},
   "outputs": [],
   "source": [
    "roi_count = [np.sum([roi[-1]==1 for roi in doc]) for doc in roi_info] # RoIs per document Image"
   ]
  },
  {
   "cell_type": "code",
   "execution_count": 9,
   "id": "fbc5e332",
   "metadata": {},
   "outputs": [],
   "source": [
    "fine_tune_data = list()\n",
    "for i in range(16000 // (BATCH_SIZE*checkpnt_i)):\n",
    "    k = 0\n",
    "    batch_data = np.load(f'./Data/Inception-ResNet-kP-train-precompute/train_data_precomp-{i+1}.npy')\n",
    "    batch_roi = roi_count[(i*(BATCH_SIZE*checkpnt_i)):((i+1)*(BATCH_SIZE*checkpnt_i))]\n",
    "    for j in range(BATCH_SIZE*checkpnt_i):\n",
    "        fine_tune_data.append(np.concatenate([batch_data[k:(k+batch_roi[j])], np.zeros((100-batch_roi[j], FEATURE_DIM))])[np.newaxis,:])\n",
    "        k += batch_roi[j]\n",
    "fine_tune_data = np.concatenate(fine_tune_data)\n",
    "fine_tune_data.shape"
   ]
  },
  {
   "cell_type": "code",
   "execution_count": 10,
   "id": "9589ddb3",
   "metadata": {},
   "outputs": [],
   "source": [
    "np.save(f'./Data/Inception-ResNet-kP-train-precompute/whole_train_data_precomp.npy', fine_tune_data)"
   ]
  },
  {
   "cell_type": "code",
   "execution_count": 17,
   "id": "2f0d6808",
   "metadata": {},
   "outputs": [
    {
     "data": {
      "text/plain": [
       "(16000, 100, 1536)"
      ]
     },
     "execution_count": 17,
     "metadata": {},
     "output_type": "execute_result"
    }
   ],
   "source": [
    "fine_tune_data = np.load(f'./Data/Inception-ResNet-kP-train-precompute/whole_train_data_precomp.npy')\n",
    "fine_tune_data.shape"
   ]
  },
  {
   "cell_type": "code",
   "execution_count": 18,
   "id": "c0cd1c88",
   "metadata": {},
   "outputs": [],
   "source": [
    "mask = np.zeros((*fine_tune_data.shape[:2], fine_tune_data.shape[1]))\n",
    "k = 0\n",
    "for num_roi in roi_count:\n",
    "    mask[k,:num_roi,:num_roi] = 1\n",
    "    k += 1"
   ]
  },
  {
   "cell_type": "code",
   "execution_count": 18,
   "id": "63c7ecb1",
   "metadata": {},
   "outputs": [
    {
     "data": {
      "text/plain": [
       "(16000, 512)"
      ]
     },
     "execution_count": 18,
     "metadata": {},
     "output_type": "execute_result"
    }
   ],
   "source": [
    "# fine_tune_data = np.squeeze(np.mean(fine_tune_data, axis=1, keepdims=True))\n",
    "# fine_tune_data.shape"
   ]
  },
  {
   "cell_type": "code",
   "execution_count": 19,
   "id": "12bdde76",
   "metadata": {},
   "outputs": [
    {
     "data": {
      "text/plain": [
       "(16000, 7680)"
      ]
     },
     "execution_count": 19,
     "metadata": {},
     "output_type": "execute_result"
    }
   ],
   "source": [
    "fine_tune_data_4P = np.load('./Data/Inception-ResNet-4P-train-precompute/whole_train_data_precomp.npy')\n",
    "fine_tune_data_4P = np.reshape(fine_tune_data_4P, (16000, -1))\n",
    "fine_tune_data_4P.shape"
   ]
  },
  {
   "cell_type": "code",
   "execution_count": 15,
   "id": "6f8bfc7f",
   "metadata": {},
   "outputs": [],
   "source": [
    "# fine_tune_data = np.concatenate([fine_tune_data, fine_tune_data_4P], axis=-1)\n",
    "# fine_tune_data.shape"
   ]
  },
  {
   "cell_type": "code",
   "execution_count": 16,
   "id": "58c0f4b2",
   "metadata": {},
   "outputs": [],
   "source": [
    "# np.save(f'./Data/ResNet-kP-train-precompute/whole_train_data_precomp_roi_n_4p.npy', fine_tune_data)"
   ]
  },
  {
   "cell_type": "code",
   "execution_count": 17,
   "id": "e1b35850",
   "metadata": {},
   "outputs": [],
   "source": [
    "# fine_tune_data = np.load(f'./Data/ResNet-kP-train-precompute/whole_train_data_precomp_roi_n_4p.npy')"
   ]
  },
  {
   "cell_type": "code",
   "execution_count": 18,
   "id": "945aad41",
   "metadata": {},
   "outputs": [],
   "source": [
    "# fine_tune_data.shape"
   ]
  },
  {
   "cell_type": "code",
   "execution_count": 48,
   "id": "568ffcb1",
   "metadata": {},
   "outputs": [
    {
     "data": {
      "text/plain": [
       "(16000,)"
      ]
     },
     "execution_count": 48,
     "metadata": {},
     "output_type": "execute_result"
    }
   ],
   "source": [
    "fine_tune_labels = labels['label'].to_numpy()\n",
    "fine_tune_labels.shape"
   ]
  },
  {
   "cell_type": "code",
   "execution_count": 49,
   "id": "6e228ab3",
   "metadata": {},
   "outputs": [
    {
     "data": {
      "text/plain": [
       "(15200, 100, 1536)"
      ]
     },
     "execution_count": 49,
     "metadata": {},
     "output_type": "execute_result"
    }
   ],
   "source": [
    "fine_tune_data_train = fine_tune_data[list(train_labels['id'])]\n",
    "fine_tune_data_train.shape"
   ]
  },
  {
   "cell_type": "code",
   "execution_count": 50,
   "id": "25175484",
   "metadata": {},
   "outputs": [
    {
     "data": {
      "text/plain": [
       "(15200, 7680)"
      ]
     },
     "execution_count": 50,
     "metadata": {},
     "output_type": "execute_result"
    }
   ],
   "source": [
    "fine_tune_data_4P_train = fine_tune_data_4P[list(train_labels['id'])]\n",
    "fine_tune_data_4P_train.shape"
   ]
  },
  {
   "cell_type": "code",
   "execution_count": 51,
   "id": "d42f751e",
   "metadata": {},
   "outputs": [
    {
     "data": {
      "text/plain": [
       "(15200, 100, 100)"
      ]
     },
     "execution_count": 51,
     "metadata": {},
     "output_type": "execute_result"
    }
   ],
   "source": [
    "fine_tune_mask_train = mask[list(train_labels['id'])]\n",
    "fine_tune_mask_train.shape"
   ]
  },
  {
   "cell_type": "code",
   "execution_count": 52,
   "id": "bcfdf149",
   "metadata": {},
   "outputs": [
    {
     "data": {
      "text/plain": [
       "(15200,)"
      ]
     },
     "execution_count": 52,
     "metadata": {},
     "output_type": "execute_result"
    }
   ],
   "source": [
    "fine_tune_labels_train = train_labels['label'].to_numpy()\n",
    "fine_tune_labels_train.shape"
   ]
  },
  {
   "cell_type": "code",
   "execution_count": 53,
   "id": "ccfac9c8",
   "metadata": {},
   "outputs": [
    {
     "data": {
      "text/plain": [
       "(800, 100, 1536)"
      ]
     },
     "execution_count": 53,
     "metadata": {},
     "output_type": "execute_result"
    }
   ],
   "source": [
    "fine_tune_data_test = fine_tune_data[list(test_labels['id'])]\n",
    "fine_tune_data_test.shape"
   ]
  },
  {
   "cell_type": "code",
   "execution_count": 54,
   "id": "1db3dc1d",
   "metadata": {},
   "outputs": [
    {
     "data": {
      "text/plain": [
       "(800, 7680)"
      ]
     },
     "execution_count": 54,
     "metadata": {},
     "output_type": "execute_result"
    }
   ],
   "source": [
    "fine_tune_data_4P_test = fine_tune_data_4P[list(test_labels['id'])]\n",
    "fine_tune_data_4P_test.shape"
   ]
  },
  {
   "cell_type": "code",
   "execution_count": 55,
   "id": "7815962e",
   "metadata": {},
   "outputs": [
    {
     "data": {
      "text/plain": [
       "(800, 100, 100)"
      ]
     },
     "execution_count": 55,
     "metadata": {},
     "output_type": "execute_result"
    }
   ],
   "source": [
    "fine_tune_mask_test = mask[list(test_labels['id'])]\n",
    "fine_tune_mask_test.shape"
   ]
  },
  {
   "cell_type": "code",
   "execution_count": 56,
   "id": "132bb5a2",
   "metadata": {},
   "outputs": [
    {
     "data": {
      "text/plain": [
       "(800,)"
      ]
     },
     "execution_count": 56,
     "metadata": {},
     "output_type": "execute_result"
    }
   ],
   "source": [
    "fine_tune_labels_test = test_labels['label'].to_numpy()\n",
    "fine_tune_labels_test.shape"
   ]
  },
  {
   "cell_type": "markdown",
   "id": "48661622",
   "metadata": {},
   "source": [
    "### Validation Data"
   ]
  },
  {
   "cell_type": "code",
   "execution_count": 28,
   "id": "bc88528c",
   "metadata": {},
   "outputs": [
    {
     "data": {
      "text/html": [
       "<div>\n",
       "<style scoped>\n",
       "    .dataframe tbody tr th:only-of-type {\n",
       "        vertical-align: middle;\n",
       "    }\n",
       "\n",
       "    .dataframe tbody tr th {\n",
       "        vertical-align: top;\n",
       "    }\n",
       "\n",
       "    .dataframe thead th {\n",
       "        text-align: right;\n",
       "    }\n",
       "</style>\n",
       "<table border=\"1\" class=\"dataframe\">\n",
       "  <thead>\n",
       "    <tr style=\"text-align: right;\">\n",
       "      <th></th>\n",
       "      <th>images</th>\n",
       "      <th>id</th>\n",
       "      <th>label</th>\n",
       "    </tr>\n",
       "  </thead>\n",
       "  <tbody>\n",
       "    <tr>\n",
       "      <th>850</th>\n",
       "      <td>./Data/validation/validation/17801.tif</td>\n",
       "      <td>17801</td>\n",
       "      <td>-1</td>\n",
       "    </tr>\n",
       "    <tr>\n",
       "      <th>898</th>\n",
       "      <td>./Data/validation/validation/17802.tif</td>\n",
       "      <td>17802</td>\n",
       "      <td>-1</td>\n",
       "    </tr>\n",
       "    <tr>\n",
       "      <th>852</th>\n",
       "      <td>./Data/validation/validation/17803.tif</td>\n",
       "      <td>17803</td>\n",
       "      <td>-1</td>\n",
       "    </tr>\n",
       "    <tr>\n",
       "      <th>798</th>\n",
       "      <td>./Data/validation/validation/17804.tif</td>\n",
       "      <td>17804</td>\n",
       "      <td>-1</td>\n",
       "    </tr>\n",
       "    <tr>\n",
       "      <th>750</th>\n",
       "      <td>./Data/validation/validation/17805.tif</td>\n",
       "      <td>17805</td>\n",
       "      <td>-1</td>\n",
       "    </tr>\n",
       "    <tr>\n",
       "      <th>...</th>\n",
       "      <td>...</td>\n",
       "      <td>...</td>\n",
       "      <td>...</td>\n",
       "    </tr>\n",
       "    <tr>\n",
       "      <th>246</th>\n",
       "      <td>./Data/validation/validation/18696.tif</td>\n",
       "      <td>18696</td>\n",
       "      <td>-1</td>\n",
       "    </tr>\n",
       "    <tr>\n",
       "      <th>211</th>\n",
       "      <td>./Data/validation/validation/18697.tif</td>\n",
       "      <td>18697</td>\n",
       "      <td>-1</td>\n",
       "    </tr>\n",
       "    <tr>\n",
       "      <th>760</th>\n",
       "      <td>./Data/validation/validation/18698.tif</td>\n",
       "      <td>18698</td>\n",
       "      <td>-1</td>\n",
       "    </tr>\n",
       "    <tr>\n",
       "      <th>787</th>\n",
       "      <td>./Data/validation/validation/18699.tif</td>\n",
       "      <td>18699</td>\n",
       "      <td>-1</td>\n",
       "    </tr>\n",
       "    <tr>\n",
       "      <th>891</th>\n",
       "      <td>./Data/validation/validation/18700.tif</td>\n",
       "      <td>18700</td>\n",
       "      <td>-1</td>\n",
       "    </tr>\n",
       "  </tbody>\n",
       "</table>\n",
       "<p>900 rows × 3 columns</p>\n",
       "</div>"
      ],
      "text/plain": [
       "                                     images     id  label\n",
       "850  ./Data/validation/validation/17801.tif  17801     -1\n",
       "898  ./Data/validation/validation/17802.tif  17802     -1\n",
       "852  ./Data/validation/validation/17803.tif  17803     -1\n",
       "798  ./Data/validation/validation/17804.tif  17804     -1\n",
       "750  ./Data/validation/validation/17805.tif  17805     -1\n",
       "..                                      ...    ...    ...\n",
       "246  ./Data/validation/validation/18696.tif  18696     -1\n",
       "211  ./Data/validation/validation/18697.tif  18697     -1\n",
       "760  ./Data/validation/validation/18698.tif  18698     -1\n",
       "787  ./Data/validation/validation/18699.tif  18699     -1\n",
       "891  ./Data/validation/validation/18700.tif  18700     -1\n",
       "\n",
       "[900 rows x 3 columns]"
      ]
     },
     "execution_count": 28,
     "metadata": {},
     "output_type": "execute_result"
    }
   ],
   "source": [
    "validation_data = pd.DataFrame({'images':['./Data/validation/validation/'+name for name in os.listdir('./Data/validation/validation/')]})\n",
    "validation_data['id'] = [name.split('.')[0] for name in os.listdir('./Data/validation/validation/')]\n",
    "validation_data['label'] = -1 # Simply added to prevent re-writing code\n",
    "validation_data.sort_values(by=['id'], inplace=True)\n",
    "validation_data"
   ]
  },
  {
   "cell_type": "code",
   "execution_count": 29,
   "id": "bf4cf1be",
   "metadata": {},
   "outputs": [
    {
     "data": {
      "text/plain": [
       "(900, 100, 6)"
      ]
     },
     "execution_count": 29,
     "metadata": {},
     "output_type": "execute_result"
    }
   ],
   "source": [
    "roi_info_validation = np.load('./Data/ROI-Extractions/validation/validation_roi_viz.npy')\n",
    "roi_info_validation.shape"
   ]
  },
  {
   "cell_type": "code",
   "execution_count": 30,
   "id": "91896253",
   "metadata": {},
   "outputs": [],
   "source": [
    "roi_count_validation = [np.sum([roi[-1]==1 for roi in doc]) for doc in roi_info_validation] # RoIs per document Image"
   ]
  },
  {
   "cell_type": "code",
   "execution_count": 33,
   "id": "cf514e19",
   "metadata": {},
   "outputs": [
    {
     "data": {
      "text/plain": [
       "(900, 100, 1536)"
      ]
     },
     "execution_count": 33,
     "metadata": {},
     "output_type": "execute_result"
    }
   ],
   "source": [
    "fine_tune_data_validation = list()\n",
    "for i in range(900 // (BATCH_SIZE*checkpnt_i)):\n",
    "    k = 0\n",
    "    batch_data = np.load(f'./Data/Inception-ResNet-kP-validation-precompute/validation_data_precomp-{i+1}.npy')\n",
    "    batch_roi = roi_count_validation[(i*(BATCH_SIZE*checkpnt_i)):((i+1)*(BATCH_SIZE*checkpnt_i))]\n",
    "    for j in range(BATCH_SIZE*checkpnt_i):\n",
    "        fine_tune_data_validation.append(np.concatenate([batch_data[k:(k+batch_roi[j])], np.zeros((100-batch_roi[j], FEATURE_DIM))])[np.newaxis,:])\n",
    "        k += batch_roi[j]\n",
    "fine_tune_data_validation = np.concatenate(fine_tune_data_validation)\n",
    "fine_tune_data_validation.shape"
   ]
  },
  {
   "cell_type": "code",
   "execution_count": 34,
   "id": "f5be8342",
   "metadata": {},
   "outputs": [],
   "source": [
    "np.save(f'./Data/Inception-ResNet-kP-validation-precompute/whole_validation_data_precomp.npy', fine_tune_data_validation)"
   ]
  },
  {
   "cell_type": "code",
   "execution_count": 35,
   "id": "38cb6238",
   "metadata": {},
   "outputs": [
    {
     "data": {
      "text/plain": [
       "(900, 100, 1536)"
      ]
     },
     "execution_count": 35,
     "metadata": {},
     "output_type": "execute_result"
    }
   ],
   "source": [
    "fine_tune_data_validation = np.load(f'./Data/Inception-ResNet-kP-validation-precompute/whole_validation_data_precomp.npy')\n",
    "fine_tune_data_validation.shape"
   ]
  },
  {
   "cell_type": "code",
   "execution_count": 36,
   "id": "4f36a021",
   "metadata": {},
   "outputs": [],
   "source": [
    "mask_validation = np.zeros((*fine_tune_data_validation.shape[:2], fine_tune_data_validation.shape[1]))\n",
    "k = 0\n",
    "for num_roi in roi_count_validation:\n",
    "    mask_validation[k,:num_roi,:num_roi] = 1\n",
    "    k += 1"
   ]
  },
  {
   "cell_type": "code",
   "execution_count": 37,
   "id": "ec86395a",
   "metadata": {},
   "outputs": [
    {
     "data": {
      "text/plain": [
       "(900, 100, 100)"
      ]
     },
     "execution_count": 37,
     "metadata": {},
     "output_type": "execute_result"
    }
   ],
   "source": [
    "mask_validation.shape"
   ]
  },
  {
   "cell_type": "code",
   "execution_count": 38,
   "id": "5ef3e336",
   "metadata": {},
   "outputs": [],
   "source": [
    "# fine_tune_data_validation = np.squeeze(np.mean(fine_tune_data_validation, axis=1, keepdims=True))\n",
    "# fine_tune_data_validation.shape"
   ]
  },
  {
   "cell_type": "code",
   "execution_count": 39,
   "id": "e6d23ba7",
   "metadata": {},
   "outputs": [
    {
     "data": {
      "text/plain": [
       "(900, 7680)"
      ]
     },
     "execution_count": 39,
     "metadata": {},
     "output_type": "execute_result"
    }
   ],
   "source": [
    "fine_tune_data_4P_validation = np.load('./Data/Inception-ResNet-4P-validation-precompute/whole_validation_data_precomp.npy')\n",
    "fine_tune_data_4P_validation = np.reshape(fine_tune_data_4P_validation, (900, -1))\n",
    "fine_tune_data_4P_validation.shape"
   ]
  },
  {
   "cell_type": "code",
   "execution_count": 38,
   "id": "d4b9fc5a",
   "metadata": {},
   "outputs": [],
   "source": [
    "# fine_tune_data_validation = np.concatenate([fine_tune_data_validation, fine_tune_data_4P_validation], axis=-1)\n",
    "# fine_tune_data_validation.shape"
   ]
  },
  {
   "cell_type": "code",
   "execution_count": 39,
   "id": "0fd55b80",
   "metadata": {},
   "outputs": [],
   "source": [
    "# np.save(f'./Data/ResNet-kP-validation-precompute/whole_validation_data_precomp_roi_n_4p.npy', fine_tune_data_validation)"
   ]
  },
  {
   "cell_type": "code",
   "execution_count": 40,
   "id": "23851219",
   "metadata": {},
   "outputs": [],
   "source": [
    "# fine_tune_data_validation = np.load(f'./Data/ResNet-kP-validation-precompute/whole_validation_data_precomp_roi_n_4p.npy')"
   ]
  },
  {
   "cell_type": "code",
   "execution_count": 41,
   "id": "53ed0146",
   "metadata": {},
   "outputs": [],
   "source": [
    "# fine_tune_data_validation.shape"
   ]
  },
  {
   "cell_type": "markdown",
   "id": "dff1f776",
   "metadata": {},
   "source": [
    "## Fine-Tuning Models"
   ]
  },
  {
   "cell_type": "markdown",
   "id": "7380947f",
   "metadata": {},
   "source": [
    "The fine-tuning part of our model."
   ]
  },
  {
   "cell_type": "code",
   "execution_count": 4,
   "id": "da5b9fd3",
   "metadata": {},
   "outputs": [],
   "source": [
    "def pos_enc(max_len=NUM_ROIS, d_model=FEATURE_DIM):\n",
    "    # returns the positional encoding matrix which needs to be added to the embedding matrix\n",
    "    angles = np.arange(max_len)[:, np.newaxis] / np.power(POS_ENC_ANGLE_DENO, 2*(np.arange(d_model)[np.newaxis, :]//2/np.float32(d_model)))\n",
    "    pos_encode = np.zeros((max_len, d_model))\n",
    "    pos_encode[:, 0::2] = np.sin(angles[:, 0::2])\n",
    "    pos_encode[:, 1::2] = np.cos(angles[:, 1::2])\n",
    "    return tf.cast(pos_encode[np.newaxis, :], dtype=tf.float32)"
   ]
  },
  {
   "cell_type": "code",
   "execution_count": 5,
   "id": "e6e60894",
   "metadata": {},
   "outputs": [
    {
     "name": "stdout",
     "output_type": "stream",
     "text": [
      "Metal device set to: Apple M1 Max\n"
     ]
    },
    {
     "name": "stderr",
     "output_type": "stream",
     "text": [
      "2022-10-09 15:30:52.113387: I tensorflow/core/common_runtime/pluggable_device/pluggable_device_factory.cc:305] Could not identify NUMA node of platform GPU ID 0, defaulting to 0. Your kernel may not have been built with NUMA support.\n",
      "2022-10-09 15:30:52.113628: I tensorflow/core/common_runtime/pluggable_device/pluggable_device_factory.cc:271] Created TensorFlow device (/job:localhost/replica:0/task:0/device:GPU:0 with 0 MB memory) -> physical PluggableDevice (device: 0, name: METAL, pci bus id: <undefined>)\n"
     ]
    },
    {
     "data": {
      "text/plain": [
       "TensorShape([1, 100, 1536])"
      ]
     },
     "execution_count": 5,
     "metadata": {},
     "output_type": "execute_result"
    }
   ],
   "source": [
    "pos_enc().shape"
   ]
  },
  {
   "cell_type": "code",
   "execution_count": 6,
   "id": "d7eb5baf",
   "metadata": {},
   "outputs": [],
   "source": [
    "class TransformerBlock(Layer):\n",
    "    # Embed Dimension is FEATURE_DIM\n",
    "    def __init__(self, embed_dim, num_heads, ff_dim, rate=0.1):\n",
    "        super().__init__()\n",
    "        self.att = MultiHeadAttention(num_heads=num_heads, key_dim=embed_dim, kernel_regularizer=l2(5e-5))\n",
    "        self.ffn = keras.Sequential(\n",
    "            [Dense(ff_dim, activation=\"relu\"), Dense(embed_dim)]\n",
    "        )\n",
    "        self.layernorm1 = LayerNormalization(epsilon=1e-6)\n",
    "        self.layernorm2 = LayerNormalization(epsilon=1e-6)\n",
    "        self.dropout1 = Dropout(rate)\n",
    "        self.dropout2 = Dropout(rate)\n",
    "\n",
    "    def call(self, inputs, mask, training):\n",
    "        attn_output = self.att(inputs, inputs, inputs, mask)\n",
    "        attn_output = self.dropout1(attn_output, training=training)\n",
    "        out1 = self.layernorm1(inputs + attn_output)\n",
    "        ffn_output = self.ffn(out1)\n",
    "        ffn_output = self.dropout2(ffn_output, training=training)\n",
    "        return self.layernorm2(out1 + ffn_output)"
   ]
  },
  {
   "cell_type": "code",
   "execution_count": 7,
   "id": "96a2bdfe",
   "metadata": {},
   "outputs": [],
   "source": [
    "NUM_HEADS = 4\n",
    "FF_DIM = FEATURE_DIM // 4\n",
    "def ftmodel():\n",
    "    inputs = Input(shape=(5*FEATURE_DIM))\n",
    "    x = Flatten()(inputs)\n",
    "    x = BatchNormalization()(x)\n",
    "    \n",
    "    inputs_roi = Input(shape=(100, FEATURE_DIM))\n",
    "    inputs_roi_mask = Input(shape=(100, 100))\n",
    "    y = inputs_roi + pos_enc()\n",
    "    y = MaxPool1D(strides=4, data_format='channels_first')(inputs_roi)\n",
    "    y = TransformerBlock(y.shape[-1], NUM_HEADS, FF_DIM)(y, inputs_roi_mask)\n",
    "    y = GlobalAvgPool1D()(y)\n",
    "    \n",
    "    x = Concatenate()([x, y])\n",
    "    \n",
    "    top_dropout_rate = 0.3\n",
    "    # x = Dropout(top_dropout_rate, name='top_dropout_1')(x)\n",
    "    # x = Dense(1024, name='top_dense_1', kernel_initializer=\"he_normal\", kernel_regularizer=l2(5e-5), activation='relu')(x)\n",
    "    # x = BatchNormalization()(x)\n",
    "    x = Dropout(top_dropout_rate, name='top_dropout_2')(x)\n",
    "    x = Dense(512, name='top_dense_2', kernel_initializer=\"he_normal\", kernel_regularizer=l2(5e-5), activation='relu')(x)\n",
    "    x = BatchNormalization()(x)\n",
    "    outputs = Dense(16, activation='softmax', name='pred', kernel_regularizer=l2(5e-5))(x)\n",
    "\n",
    "    model1 = tf.keras.Model([inputs, inputs_roi, inputs_roi_mask], outputs, name='Inception-ResNet-FineTune')\n",
    "    return model1"
   ]
  },
  {
   "cell_type": "code",
   "execution_count": 8,
   "id": "c6574006",
   "metadata": {},
   "outputs": [
    {
     "name": "stdout",
     "output_type": "stream",
     "text": [
      "Model: \"Inception-ResNet-FineTune\"\n",
      "__________________________________________________________________________________________________\n",
      " Layer (type)                   Output Shape         Param #     Connected to                     \n",
      "==================================================================================================\n",
      " input_2 (InputLayer)           [(None, 100, 1536)]  0           []                               \n",
      "                                                                                                  \n",
      " input_1 (InputLayer)           [(None, 7680)]       0           []                               \n",
      "                                                                                                  \n",
      " max_pooling1d (MaxPooling1D)   (None, 100, 384)     0           ['input_2[0][0]']                \n",
      "                                                                                                  \n",
      " input_3 (InputLayer)           [(None, 100, 100)]   0           []                               \n",
      "                                                                                                  \n",
      " flatten (Flatten)              (None, 7680)         0           ['input_1[0][0]']                \n",
      "                                                                                                  \n",
      " transformer_block (Transformer  (None, 100, 384)    2661504     ['max_pooling1d[0][0]',          \n",
      " Block)                                                           'input_3[0][0]']                \n",
      "                                                                                                  \n",
      " batch_normalization (BatchNorm  (None, 7680)        30720       ['flatten[0][0]']                \n",
      " alization)                                                                                       \n",
      "                                                                                                  \n",
      " global_average_pooling1d (Glob  (None, 384)         0           ['transformer_block[0][0]']      \n",
      " alAveragePooling1D)                                                                              \n",
      "                                                                                                  \n",
      " concatenate (Concatenate)      (None, 8064)         0           ['batch_normalization[0][0]',    \n",
      "                                                                  'global_average_pooling1d[0][0]'\n",
      "                                                                 ]                                \n",
      "                                                                                                  \n",
      " top_dropout_2 (Dropout)        (None, 8064)         0           ['concatenate[0][0]']            \n",
      "                                                                                                  \n",
      " top_dense_2 (Dense)            (None, 512)          4129280     ['top_dropout_2[0][0]']          \n",
      "                                                                                                  \n",
      " batch_normalization_1 (BatchNo  (None, 512)         2048        ['top_dense_2[0][0]']            \n",
      " rmalization)                                                                                     \n",
      "                                                                                                  \n",
      " pred (Dense)                   (None, 16)           8208        ['batch_normalization_1[0][0]']  \n",
      "                                                                                                  \n",
      "==================================================================================================\n",
      "Total params: 6,831,760\n",
      "Trainable params: 6,815,376\n",
      "Non-trainable params: 16,384\n",
      "__________________________________________________________________________________________________\n"
     ]
    }
   ],
   "source": [
    "model1 = ftmodel()\n",
    "model1.summary()"
   ]
  },
  {
   "cell_type": "code",
   "execution_count": 10,
   "id": "2209d28d",
   "metadata": {},
   "outputs": [
    {
     "data": {
      "image/png": "[encoded data removed]",
      "text/plain": [
       "<IPython.core.display.Image object>"
      ]
     },
     "execution_count": 10,
     "metadata": {},
     "output_type": "execute_result"
    }
   ],
   "source": [
    "tf.keras.utils.plot_model(model1, show_shapes=True, expand_nested=True, to_file='./Images/Inception-kPiece-ViT-Model.png')"
   ]
  },
  {
   "cell_type": "markdown",
   "id": "e56505e2",
   "metadata": {},
   "source": [
    "### Model Training"
   ]
  },
  {
   "cell_type": "markdown",
   "id": "70b7e206",
   "metadata": {},
   "source": [
    "The fine-tuning will be done on the ResNet's $2048D$ representation vectors for $5$ pieces of the image and the averaged ROI representation vectors."
   ]
  },
  {
   "cell_type": "code",
   "execution_count": 45,
   "id": "96524578",
   "metadata": {},
   "outputs": [],
   "source": [
    "model1.compile(loss = 'sparse_categorical_crossentropy', metrics = ['accuracy'], optimizer = Adam(learning_rate = 0.0003))"
   ]
  },
  {
   "cell_type": "code",
   "execution_count": 57,
   "id": "20df8897",
   "metadata": {},
   "outputs": [],
   "source": [
    "EPOCHS = 100\n",
    "checkpoint_filepaths = ['./Models/Inception-ResNet-kP-ViT/auto-Inception-ResNet-FT-model-weight']\n",
    "model_checkpoint_callback = [tf.keras.callbacks.ModelCheckpoint(\n",
    "    filepath=checkpoint_filepath,\n",
    "    save_weights_only=True,\n",
    "    monitor = \"loss\",\n",
    "    mode='min',\n",
    "    save_best_only=True) for checkpoint_filepath in checkpoint_filepaths]"
   ]
  },
  {
   "cell_type": "code",
   "execution_count": 58,
   "id": "03354278",
   "metadata": {},
   "outputs": [
    {
     "name": "stdout",
     "output_type": "stream",
     "text": [
      "Epoch 1/100\n"
     ]
    },
    {
     "name": "stderr",
     "output_type": "stream",
     "text": [
      "2022-10-09 11:52:08.773555: W tensorflow/core/platform/profile_utils/cpu_utils.cc:128] Failed to get CPU frequency: 0 Hz\n",
      "2022-10-09 11:52:09.512866: I tensorflow/core/grappler/optimizers/custom_graph_optimizer_registry.cc:113] Plugin optimizer for device_type GPU is enabled.\n"
     ]
    },
    {
     "name": "stdout",
     "output_type": "stream",
     "text": [
      "19/19 [==============================] - ETA: 0s - loss: 1.8606 - accuracy: 0.5109"
     ]
    },
    {
     "name": "stderr",
     "output_type": "stream",
     "text": [
      "2022-10-09 11:53:32.052487: I tensorflow/core/grappler/optimizers/custom_graph_optimizer_registry.cc:113] Plugin optimizer for device_type GPU is enabled.\n"
     ]
    },
    {
     "name": "stdout",
     "output_type": "stream",
     "text": [
      "19/19 [==============================] - 86s 4s/step - loss: 1.8606 - accuracy: 0.5109 - val_loss: 2.2738 - val_accuracy: 0.2488\n",
      "Epoch 2/100\n",
      "19/19 [==============================] - 85s 4s/step - loss: 1.2070 - accuracy: 0.6649 - val_loss: 2.1622 - val_accuracy: 0.3312\n",
      "Epoch 3/100\n",
      "19/19 [==============================] - 85s 4s/step - loss: 1.0232 - accuracy: 0.7148 - val_loss: 2.0381 - val_accuracy: 0.4487\n",
      "Epoch 4/100\n",
      "19/19 [==============================] - 85s 4s/step - loss: 0.8968 - accuracy: 0.7521 - val_loss: 1.9821 - val_accuracy: 0.5163\n",
      "Epoch 5/100\n",
      "19/19 [==============================] - 85s 4s/step - loss: 0.7926 - accuracy: 0.7841 - val_loss: 1.9463 - val_accuracy: 0.5962\n",
      "Epoch 6/100\n",
      "19/19 [==============================] - 86s 5s/step - loss: 0.7108 - accuracy: 0.8084 - val_loss: 1.9439 - val_accuracy: 0.5712\n",
      "Epoch 7/100\n",
      "19/19 [==============================] - 85s 5s/step - loss: 0.6418 - accuracy: 0.8268 - val_loss: 1.9621 - val_accuracy: 0.5125\n",
      "Epoch 8/100\n",
      "19/19 [==============================] - 85s 4s/step - loss: 0.5764 - accuracy: 0.8526 - val_loss: 1.9871 - val_accuracy: 0.4575\n",
      "Epoch 9/100\n",
      "19/19 [==============================] - 85s 4s/step - loss: 0.5213 - accuracy: 0.8710 - val_loss: 1.9970 - val_accuracy: 0.4363\n",
      "Epoch 10/100\n",
      "19/19 [==============================] - 85s 4s/step - loss: 0.4694 - accuracy: 0.8867 - val_loss: 1.9569 - val_accuracy: 0.4637\n",
      "Epoch 11/100\n",
      "19/19 [==============================] - 85s 4s/step - loss: 0.4351 - accuracy: 0.8980 - val_loss: 1.9244 - val_accuracy: 0.4825\n",
      "Epoch 12/100\n",
      "19/19 [==============================] - 86s 5s/step - loss: 0.3921 - accuracy: 0.9122 - val_loss: 1.8465 - val_accuracy: 0.5263\n",
      "Epoch 13/100\n",
      "19/19 [==============================] - 86s 5s/step - loss: 0.3626 - accuracy: 0.9221 - val_loss: 1.7546 - val_accuracy: 0.5550\n",
      "Epoch 14/100\n",
      "19/19 [==============================] - 86s 5s/step - loss: 0.3349 - accuracy: 0.9321 - val_loss: 1.7194 - val_accuracy: 0.5437\n",
      "Epoch 15/100\n",
      "19/19 [==============================] - 92s 5s/step - loss: 0.3099 - accuracy: 0.9384 - val_loss: 1.6495 - val_accuracy: 0.5537\n",
      "Epoch 16/100\n",
      "19/19 [==============================] - 99s 5s/step - loss: 0.2819 - accuracy: 0.9495 - val_loss: 1.5615 - val_accuracy: 0.5850\n",
      "Epoch 17/100\n",
      "19/19 [==============================] - 105s 6s/step - loss: 0.2667 - accuracy: 0.9522 - val_loss: 1.4198 - val_accuracy: 0.6413\n",
      "Epoch 18/100\n",
      "19/19 [==============================] - 104s 5s/step - loss: 0.2498 - accuracy: 0.9582 - val_loss: 1.3594 - val_accuracy: 0.6662\n",
      "Epoch 19/100\n",
      "19/19 [==============================] - 100s 5s/step - loss: 0.2315 - accuracy: 0.9634 - val_loss: 1.2819 - val_accuracy: 0.6513\n",
      "Epoch 20/100\n",
      "19/19 [==============================] - 98s 5s/step - loss: 0.2132 - accuracy: 0.9684 - val_loss: 1.2251 - val_accuracy: 0.6750\n",
      "Epoch 21/100\n",
      "19/19 [==============================] - 93s 5s/step - loss: 0.2005 - accuracy: 0.9730 - val_loss: 1.1696 - val_accuracy: 0.6962\n",
      "Epoch 22/100\n",
      "19/19 [==============================] - 86s 5s/step - loss: 0.1939 - accuracy: 0.9752 - val_loss: 1.1347 - val_accuracy: 0.6975\n",
      "Epoch 23/100\n",
      "19/19 [==============================] - 86s 5s/step - loss: 0.1823 - accuracy: 0.9773 - val_loss: 1.0513 - val_accuracy: 0.7200\n",
      "Epoch 24/100\n",
      "19/19 [==============================] - 87s 5s/step - loss: 0.1711 - accuracy: 0.9804 - val_loss: 1.0323 - val_accuracy: 0.7088\n",
      "Epoch 25/100\n",
      "19/19 [==============================] - 95s 5s/step - loss: 0.1690 - accuracy: 0.9814 - val_loss: 0.9917 - val_accuracy: 0.7287\n",
      "Epoch 26/100\n",
      "19/19 [==============================] - 99s 5s/step - loss: 0.1569 - accuracy: 0.9824 - val_loss: 0.9867 - val_accuracy: 0.7350\n",
      "Epoch 27/100\n",
      "19/19 [==============================] - 99s 5s/step - loss: 0.1494 - accuracy: 0.9859 - val_loss: 0.9655 - val_accuracy: 0.7300\n",
      "Epoch 28/100\n",
      "19/19 [==============================] - 99s 5s/step - loss: 0.1414 - accuracy: 0.9891 - val_loss: 0.9456 - val_accuracy: 0.7375\n",
      "Epoch 29/100\n",
      "19/19 [==============================] - 99s 5s/step - loss: 0.1344 - accuracy: 0.9891 - val_loss: 0.9486 - val_accuracy: 0.7375\n",
      "Epoch 30/100\n",
      "19/19 [==============================] - 98s 5s/step - loss: 0.1318 - accuracy: 0.9895 - val_loss: 0.9477 - val_accuracy: 0.7262\n",
      "Epoch 31/100\n",
      "19/19 [==============================] - 88s 5s/step - loss: 0.1273 - accuracy: 0.9903 - val_loss: 0.9643 - val_accuracy: 0.7412\n",
      "Epoch 32/100\n",
      "19/19 [==============================] - 88s 5s/step - loss: 0.1218 - accuracy: 0.9914 - val_loss: 0.9358 - val_accuracy: 0.7487\n",
      "Epoch 33/100\n",
      "19/19 [==============================] - 87s 5s/step - loss: 0.1177 - accuracy: 0.9927 - val_loss: 0.9386 - val_accuracy: 0.7450\n",
      "Epoch 34/100\n",
      "19/19 [==============================] - 87s 5s/step - loss: 0.1132 - accuracy: 0.9929 - val_loss: 0.9517 - val_accuracy: 0.7437\n",
      "Epoch 35/100\n",
      "19/19 [==============================] - 87s 5s/step - loss: 0.1097 - accuracy: 0.9938 - val_loss: 0.9815 - val_accuracy: 0.7500\n",
      "Epoch 36/100\n",
      "19/19 [==============================] - 87s 5s/step - loss: 0.1050 - accuracy: 0.9950 - val_loss: 0.9926 - val_accuracy: 0.7375\n",
      "Epoch 37/100\n",
      "19/19 [==============================] - 87s 5s/step - loss: 0.1041 - accuracy: 0.9950 - val_loss: 0.9991 - val_accuracy: 0.7487\n",
      "Epoch 38/100\n",
      "19/19 [==============================] - 88s 5s/step - loss: 0.0993 - accuracy: 0.9954 - val_loss: 1.0058 - val_accuracy: 0.7450\n",
      "Epoch 39/100\n",
      "19/19 [==============================] - 87s 5s/step - loss: 0.0975 - accuracy: 0.9960 - val_loss: 0.9725 - val_accuracy: 0.7612\n",
      "Epoch 40/100\n",
      "19/19 [==============================] - 87s 5s/step - loss: 0.0959 - accuracy: 0.9963 - val_loss: 1.0003 - val_accuracy: 0.7550\n",
      "Epoch 41/100\n",
      "19/19 [==============================] - 86s 5s/step - loss: 0.0938 - accuracy: 0.9963 - val_loss: 0.9692 - val_accuracy: 0.7512\n",
      "Epoch 42/100\n",
      "19/19 [==============================] - 86s 5s/step - loss: 0.0919 - accuracy: 0.9970 - val_loss: 1.0109 - val_accuracy: 0.7400\n",
      "Epoch 43/100\n",
      "19/19 [==============================] - 87s 5s/step - loss: 0.0896 - accuracy: 0.9970 - val_loss: 1.0148 - val_accuracy: 0.7437\n",
      "Epoch 44/100\n",
      "19/19 [==============================] - 88s 5s/step - loss: 0.0892 - accuracy: 0.9967 - val_loss: 0.9868 - val_accuracy: 0.7537\n",
      "Epoch 45/100\n",
      "19/19 [==============================] - 87s 5s/step - loss: 0.0885 - accuracy: 0.9973 - val_loss: 0.9838 - val_accuracy: 0.7437\n",
      "Epoch 46/100\n",
      "19/19 [==============================] - 88s 5s/step - loss: 0.0863 - accuracy: 0.9966 - val_loss: 0.9961 - val_accuracy: 0.7462\n",
      "Epoch 47/100\n",
      "19/19 [==============================] - 87s 5s/step - loss: 0.0852 - accuracy: 0.9977 - val_loss: 1.0177 - val_accuracy: 0.7550\n",
      "Epoch 48/100\n",
      "19/19 [==============================] - 87s 5s/step - loss: 0.0832 - accuracy: 0.9974 - val_loss: 1.0049 - val_accuracy: 0.7562\n",
      "Epoch 49/100\n",
      "19/19 [==============================] - 87s 5s/step - loss: 0.0822 - accuracy: 0.9978 - val_loss: 1.0210 - val_accuracy: 0.7512\n",
      "Epoch 50/100\n",
      "19/19 [==============================] - 87s 5s/step - loss: 0.0807 - accuracy: 0.9978 - val_loss: 1.0243 - val_accuracy: 0.7500\n",
      "Epoch 51/100\n",
      "19/19 [==============================] - 86s 5s/step - loss: 0.0796 - accuracy: 0.9979 - val_loss: 1.0333 - val_accuracy: 0.7462\n",
      "Epoch 52/100\n",
      "19/19 [==============================] - 86s 5s/step - loss: 0.0802 - accuracy: 0.9974 - val_loss: 1.0026 - val_accuracy: 0.7612\n",
      "Epoch 53/100\n",
      "19/19 [==============================] - 87s 5s/step - loss: 0.0779 - accuracy: 0.9976 - val_loss: 0.9881 - val_accuracy: 0.7550\n",
      "Epoch 54/100\n",
      "19/19 [==============================] - 87s 5s/step - loss: 0.0763 - accuracy: 0.9986 - val_loss: 1.0124 - val_accuracy: 0.7575\n",
      "Epoch 55/100\n",
      "19/19 [==============================] - 86s 5s/step - loss: 0.0748 - accuracy: 0.9983 - val_loss: 1.0157 - val_accuracy: 0.7612\n",
      "Epoch 56/100\n",
      "19/19 [==============================] - 87s 5s/step - loss: 0.0741 - accuracy: 0.9989 - val_loss: 1.0348 - val_accuracy: 0.7550\n",
      "Epoch 57/100\n",
      "19/19 [==============================] - 87s 5s/step - loss: 0.0741 - accuracy: 0.9983 - val_loss: 1.0272 - val_accuracy: 0.7587\n",
      "Epoch 58/100\n",
      "19/19 [==============================] - 87s 5s/step - loss: 0.0730 - accuracy: 0.9988 - val_loss: 1.0430 - val_accuracy: 0.7425\n"
     ]
    },
    {
     "name": "stdout",
     "output_type": "stream",
     "text": [
      "Epoch 59/100\n",
      "19/19 [==============================] - 87s 5s/step - loss: 0.0721 - accuracy: 0.9989 - val_loss: 1.0563 - val_accuracy: 0.7512\n",
      "Epoch 60/100\n",
      "19/19 [==============================] - 88s 5s/step - loss: 0.0715 - accuracy: 0.9990 - val_loss: 1.0076 - val_accuracy: 0.7612\n",
      "Epoch 61/100\n",
      "19/19 [==============================] - 88s 5s/step - loss: 0.0710 - accuracy: 0.9982 - val_loss: 1.0108 - val_accuracy: 0.7650\n",
      "Epoch 62/100\n",
      "19/19 [==============================] - 88s 5s/step - loss: 0.0705 - accuracy: 0.9985 - val_loss: 1.0007 - val_accuracy: 0.7587\n",
      "Epoch 63/100\n",
      "19/19 [==============================] - 88s 5s/step - loss: 0.0710 - accuracy: 0.9979 - val_loss: 1.0384 - val_accuracy: 0.7550\n",
      "Epoch 64/100\n",
      "19/19 [==============================] - 90s 5s/step - loss: 0.0701 - accuracy: 0.9989 - val_loss: 0.9823 - val_accuracy: 0.7625\n",
      "Epoch 65/100\n",
      "19/19 [==============================] - 89s 5s/step - loss: 0.0685 - accuracy: 0.9984 - val_loss: 1.0195 - val_accuracy: 0.7537\n",
      "Epoch 66/100\n",
      "19/19 [==============================] - 91s 5s/step - loss: 0.0674 - accuracy: 0.9985 - val_loss: 1.0250 - val_accuracy: 0.7537\n",
      "Epoch 67/100\n",
      "19/19 [==============================] - 101s 5s/step - loss: 0.0665 - accuracy: 0.9989 - val_loss: 1.0186 - val_accuracy: 0.7625\n",
      "Epoch 68/100\n",
      "19/19 [==============================] - 90s 5s/step - loss: 0.0657 - accuracy: 0.9990 - val_loss: 1.0105 - val_accuracy: 0.7537\n",
      "Epoch 69/100\n",
      "19/19 [==============================] - 90s 5s/step - loss: 0.0645 - accuracy: 0.9991 - val_loss: 1.0379 - val_accuracy: 0.7512\n",
      "Epoch 70/100\n",
      "19/19 [==============================] - 91s 5s/step - loss: 0.0650 - accuracy: 0.9989 - val_loss: 1.0630 - val_accuracy: 0.7437\n",
      "Epoch 71/100\n",
      "19/19 [==============================] - 88s 5s/step - loss: 0.0655 - accuracy: 0.9988 - val_loss: 1.0462 - val_accuracy: 0.7562\n",
      "Epoch 72/100\n",
      "19/19 [==============================] - 88s 5s/step - loss: 0.0644 - accuracy: 0.9993 - val_loss: 1.0304 - val_accuracy: 0.7575\n",
      "Epoch 73/100\n",
      "19/19 [==============================] - 88s 5s/step - loss: 0.0650 - accuracy: 0.9988 - val_loss: 1.0705 - val_accuracy: 0.7475\n",
      "Epoch 74/100\n",
      "19/19 [==============================] - 99s 5s/step - loss: 0.0642 - accuracy: 0.9990 - val_loss: 1.0450 - val_accuracy: 0.7575\n",
      "Epoch 75/100\n",
      "19/19 [==============================] - 90s 5s/step - loss: 0.0640 - accuracy: 0.9989 - val_loss: 1.0307 - val_accuracy: 0.7587\n",
      "Epoch 76/100\n",
      "19/19 [==============================] - 94s 5s/step - loss: 0.0630 - accuracy: 0.9991 - val_loss: 1.0832 - val_accuracy: 0.7500\n",
      "Epoch 77/100\n",
      "19/19 [==============================] - 104s 6s/step - loss: 0.0643 - accuracy: 0.9986 - val_loss: 1.0637 - val_accuracy: 0.7450\n",
      "Epoch 78/100\n",
      "19/19 [==============================] - 105s 6s/step - loss: 0.0635 - accuracy: 0.9993 - val_loss: 1.0380 - val_accuracy: 0.7537\n",
      "Epoch 79/100\n",
      "19/19 [==============================] - 107s 6s/step - loss: 0.0628 - accuracy: 0.9988 - val_loss: 1.0976 - val_accuracy: 0.7462\n",
      "Epoch 80/100\n",
      "19/19 [==============================] - 106s 6s/step - loss: 0.0619 - accuracy: 0.9991 - val_loss: 1.1125 - val_accuracy: 0.7487\n",
      "Epoch 81/100\n",
      "19/19 [==============================] - 93s 5s/step - loss: 0.0619 - accuracy: 0.9990 - val_loss: 1.0940 - val_accuracy: 0.7525\n",
      "Epoch 82/100\n",
      "19/19 [==============================] - 88s 5s/step - loss: 0.0634 - accuracy: 0.9986 - val_loss: 1.0990 - val_accuracy: 0.7375\n",
      "Epoch 83/100\n",
      "19/19 [==============================] - 88s 5s/step - loss: 0.0643 - accuracy: 0.9984 - val_loss: 1.0887 - val_accuracy: 0.7462\n",
      "Epoch 84/100\n",
      "19/19 [==============================] - 88s 5s/step - loss: 0.0637 - accuracy: 0.9986 - val_loss: 1.0873 - val_accuracy: 0.7462\n",
      "Epoch 85/100\n",
      "19/19 [==============================] - 90s 5s/step - loss: 0.0636 - accuracy: 0.9985 - val_loss: 1.0595 - val_accuracy: 0.7462\n",
      "Epoch 86/100\n",
      "19/19 [==============================] - 90s 5s/step - loss: 0.0638 - accuracy: 0.9984 - val_loss: 1.0679 - val_accuracy: 0.7450\n",
      "Epoch 87/100\n",
      "19/19 [==============================] - 90s 5s/step - loss: 0.0610 - accuracy: 0.9988 - val_loss: 1.0472 - val_accuracy: 0.7462\n",
      "Epoch 88/100\n",
      "19/19 [==============================] - 90s 5s/step - loss: 0.0608 - accuracy: 0.9987 - val_loss: 1.0472 - val_accuracy: 0.7625\n",
      "Epoch 89/100\n",
      "19/19 [==============================] - 89s 5s/step - loss: 0.0606 - accuracy: 0.9988 - val_loss: 1.1315 - val_accuracy: 0.7587\n",
      "Epoch 90/100\n",
      "19/19 [==============================] - 91s 5s/step - loss: 0.0624 - accuracy: 0.9982 - val_loss: 1.0853 - val_accuracy: 0.7600\n",
      "Epoch 91/100\n",
      "19/19 [==============================] - 91s 5s/step - loss: 0.0609 - accuracy: 0.9988 - val_loss: 1.0988 - val_accuracy: 0.7500\n",
      "Epoch 92/100\n",
      "19/19 [==============================] - 99s 5s/step - loss: 0.0629 - accuracy: 0.9980 - val_loss: 1.0956 - val_accuracy: 0.7487\n",
      "Epoch 93/100\n",
      "19/19 [==============================] - 103s 5s/step - loss: 0.0628 - accuracy: 0.9979 - val_loss: 1.1307 - val_accuracy: 0.7437\n",
      "Epoch 94/100\n",
      "19/19 [==============================] - 102s 5s/step - loss: 0.0618 - accuracy: 0.9986 - val_loss: 1.1016 - val_accuracy: 0.7462\n",
      "Epoch 95/100\n",
      "19/19 [==============================] - 101s 5s/step - loss: 0.0614 - accuracy: 0.9980 - val_loss: 1.0941 - val_accuracy: 0.7500\n",
      "Epoch 96/100\n",
      "19/19 [==============================] - 103s 5s/step - loss: 0.0602 - accuracy: 0.9986 - val_loss: 1.1185 - val_accuracy: 0.7537\n",
      "Epoch 97/100\n",
      "19/19 [==============================] - 105s 6s/step - loss: 0.0595 - accuracy: 0.9991 - val_loss: 1.0701 - val_accuracy: 0.7537\n",
      "Epoch 98/100\n",
      "19/19 [==============================] - 107s 6s/step - loss: 0.0579 - accuracy: 0.9991 - val_loss: 1.0821 - val_accuracy: 0.7562\n",
      "Epoch 99/100\n",
      "19/19 [==============================] - 95s 5s/step - loss: 0.0583 - accuracy: 0.9988 - val_loss: 1.1283 - val_accuracy: 0.7575\n",
      "Epoch 100/100\n",
      "19/19 [==============================] - 92s 5s/step - loss: 0.0598 - accuracy: 0.9985 - val_loss: 1.1190 - val_accuracy: 0.7625\n"
     ]
    },
    {
     "data": {
      "text/plain": [
       "<tensorflow.python.training.tracking.util.CheckpointLoadStatus at 0x10f8a1490>"
      ]
     },
     "execution_count": 58,
     "metadata": {},
     "output_type": "execute_result"
    }
   ],
   "source": [
    "history = model1.fit([fine_tune_data_4P_train, fine_tune_data_train, fine_tune_mask_train], fine_tune_labels_train, epochs=EPOCHS, batch_size=800, validation_data=([fine_tune_data_4P_test, fine_tune_data_test, fine_tune_mask_test], fine_tune_labels_test), validation_batch_size=800, callbacks=[model_checkpoint_callback])\n",
    "# history = model1.fit(fine_tune_data, fine_tune_labels, epochs=EPOCHS, batch_size=160z0, callbacks=[model_checkpoint_callback])\n",
    "model1.save_weights(\"./Models/Inception-ResNet-kP-ViT/inception-resnet-kp-model-weights\")\n",
    "model1.load_weights('./Models/Inception-ResNet-kP-ViT/inception-resnet-kp-model-weights')"
   ]
  },
  {
   "cell_type": "code",
   "execution_count": 59,
   "id": "8e04992f",
   "metadata": {},
   "outputs": [
    {
     "data": {
      "text/plain": [
       "<tensorflow.python.training.tracking.util.CheckpointLoadStatus at 0x1082bfbb0>"
      ]
     },
     "execution_count": 59,
     "metadata": {},
     "output_type": "execute_result"
    }
   ],
   "source": [
    "model1.load_weights('./Models/Inception-ResNet-kP-ViT/auto-Inception-ResNet-FT-model-weight')"
   ]
  },
  {
   "cell_type": "code",
   "execution_count": 60,
   "id": "9116a6a6",
   "metadata": {},
   "outputs": [],
   "source": [
    "def plot_train_loss(history, model_name):  \n",
    "    plt.figure(figsize=(8,6))\n",
    "    plt.plot(history.history['loss'])\n",
    "    plt.plot(history.history['accuracy'])\n",
    "    plt.plot(history.history['val_loss'])\n",
    "    plt.plot(history.history['val_accuracy'])\n",
    "    plt.title(model_name+' loss')\n",
    "    plt.ylabel('loss')\n",
    "    plt.xlabel('epochs')\n",
    "    plt.legend(['train loss', 'train accuracy', 'val loss', 'val accuracy'], loc='upper left')"
   ]
  },
  {
   "cell_type": "code",
   "execution_count": 61,
   "id": "c55b5870",
   "metadata": {},
   "outputs": [
    {
     "data": {
      "image/png": "[encoded data removed]",
      "text/plain": [
       "<Figure size 800x600 with 1 Axes>"
      ]
     },
     "metadata": {},
     "output_type": "display_data"
    }
   ],
   "source": [
    "plot_train_loss(history, 'Fine-Tuned Inception-ResNet-kPiece-ViT Model')"
   ]
  },
  {
   "cell_type": "markdown",
   "id": "03390fa6",
   "metadata": {},
   "source": [
    "### Model Evaluation"
   ]
  },
  {
   "cell_type": "markdown",
   "id": "48701107",
   "metadata": {},
   "source": [
    "#### On Train Data"
   ]
  },
  {
   "cell_type": "markdown",
   "id": "b0594069",
   "metadata": {},
   "source": [
    "Now, after the model is being trained, we will look at the performance of the model on the training set."
   ]
  },
  {
   "cell_type": "code",
   "execution_count": 62,
   "id": "cf7ded38",
   "metadata": {},
   "outputs": [
    {
     "name": "stderr",
     "output_type": "stream",
     "text": [
      "2022-10-09 14:26:31.344697: I tensorflow/core/grappler/optimizers/custom_graph_optimizer_registry.cc:113] Plugin optimizer for device_type GPU is enabled.\n"
     ]
    },
    {
     "name": "stdout",
     "output_type": "stream",
     "text": [
      "475/475 [==============================] - 49s 101ms/step\n"
     ]
    }
   ],
   "source": [
    "train_preds = model1.predict([fine_tune_data_4P_train, fine_tune_data_train, fine_tune_mask_train])"
   ]
  },
  {
   "cell_type": "code",
   "execution_count": 63,
   "id": "f2a28269",
   "metadata": {},
   "outputs": [],
   "source": [
    "train_pred_labels = np.argmax(train_preds, axis=-1)"
   ]
  },
  {
   "cell_type": "code",
   "execution_count": 64,
   "id": "768775b2",
   "metadata": {},
   "outputs": [
    {
     "data": {
      "text/plain": [
       "array([ 1, 13, 13, ...,  3,  9,  9])"
      ]
     },
     "execution_count": 64,
     "metadata": {},
     "output_type": "execute_result"
    }
   ],
   "source": [
    "train_pred_labels"
   ]
  },
  {
   "cell_type": "code",
   "execution_count": 65,
   "id": "eff52a3d",
   "metadata": {},
   "outputs": [
    {
     "data": {
      "text/plain": [
       "15197"
      ]
     },
     "execution_count": 65,
     "metadata": {},
     "output_type": "execute_result"
    }
   ],
   "source": [
    "np.sum(train_pred_labels == train_labels['label'])"
   ]
  },
  {
   "cell_type": "markdown",
   "id": "3fd403fa",
   "metadata": {},
   "source": [
    "Looking at the misclassified images to get a better idea about what features the model is unable to capture."
   ]
  },
  {
   "cell_type": "code",
   "execution_count": 66,
   "id": "8f594a33",
   "metadata": {},
   "outputs": [
    {
     "data": {
      "text/html": [
       "<div>\n",
       "<style scoped>\n",
       "    .dataframe tbody tr th:only-of-type {\n",
       "        vertical-align: middle;\n",
       "    }\n",
       "\n",
       "    .dataframe tbody tr th {\n",
       "        vertical-align: top;\n",
       "    }\n",
       "\n",
       "    .dataframe thead th {\n",
       "        text-align: right;\n",
       "    }\n",
       "</style>\n",
       "<table border=\"1\" class=\"dataframe\">\n",
       "  <thead>\n",
       "    <tr style=\"text-align: right;\">\n",
       "      <th></th>\n",
       "      <th>id</th>\n",
       "      <th>images</th>\n",
       "      <th>label</th>\n",
       "    </tr>\n",
       "  </thead>\n",
       "  <tbody>\n",
       "    <tr>\n",
       "      <th>9198</th>\n",
       "      <td>9682</td>\n",
       "      <td>./Data/train/train/9682.tif</td>\n",
       "      <td>12</td>\n",
       "    </tr>\n",
       "    <tr>\n",
       "      <th>12255</th>\n",
       "      <td>12896</td>\n",
       "      <td>./Data/train/train/12896.tif</td>\n",
       "      <td>9</td>\n",
       "    </tr>\n",
       "    <tr>\n",
       "      <th>14569</th>\n",
       "      <td>15333</td>\n",
       "      <td>./Data/train/train/15333.tif</td>\n",
       "      <td>7</td>\n",
       "    </tr>\n",
       "  </tbody>\n",
       "</table>\n",
       "</div>"
      ],
      "text/plain": [
       "          id                        images  label\n",
       "9198    9682   ./Data/train/train/9682.tif     12\n",
       "12255  12896  ./Data/train/train/12896.tif      9\n",
       "14569  15333  ./Data/train/train/15333.tif      7"
      ]
     },
     "execution_count": 66,
     "metadata": {},
     "output_type": "execute_result"
    }
   ],
   "source": [
    "mis_train_data = train_labels[train_pred_labels != train_labels['label']]\n",
    "mis_train_data"
   ]
  },
  {
   "cell_type": "code",
   "execution_count": 67,
   "id": "2ea8f949",
   "metadata": {},
   "outputs": [
    {
     "data": {
      "text/html": [
       "<div>\n",
       "<style scoped>\n",
       "    .dataframe tbody tr th:only-of-type {\n",
       "        vertical-align: middle;\n",
       "    }\n",
       "\n",
       "    .dataframe tbody tr th {\n",
       "        vertical-align: top;\n",
       "    }\n",
       "\n",
       "    .dataframe thead th {\n",
       "        text-align: right;\n",
       "    }\n",
       "</style>\n",
       "<table border=\"1\" class=\"dataframe\">\n",
       "  <thead>\n",
       "    <tr style=\"text-align: right;\">\n",
       "      <th></th>\n",
       "      <th>precision</th>\n",
       "      <th>recall</th>\n",
       "      <th>fscore</th>\n",
       "      <th>support</th>\n",
       "    </tr>\n",
       "  </thead>\n",
       "  <tbody>\n",
       "    <tr>\n",
       "      <th>0</th>\n",
       "      <td>0.997959</td>\n",
       "      <td>1.000000</td>\n",
       "      <td>0.998979</td>\n",
       "      <td>978</td>\n",
       "    </tr>\n",
       "    <tr>\n",
       "      <th>1</th>\n",
       "      <td>1.000000</td>\n",
       "      <td>1.000000</td>\n",
       "      <td>1.000000</td>\n",
       "      <td>925</td>\n",
       "    </tr>\n",
       "    <tr>\n",
       "      <th>2</th>\n",
       "      <td>1.000000</td>\n",
       "      <td>1.000000</td>\n",
       "      <td>1.000000</td>\n",
       "      <td>925</td>\n",
       "    </tr>\n",
       "    <tr>\n",
       "      <th>3</th>\n",
       "      <td>1.000000</td>\n",
       "      <td>1.000000</td>\n",
       "      <td>1.000000</td>\n",
       "      <td>947</td>\n",
       "    </tr>\n",
       "    <tr>\n",
       "      <th>4</th>\n",
       "      <td>0.998926</td>\n",
       "      <td>1.000000</td>\n",
       "      <td>0.999463</td>\n",
       "      <td>930</td>\n",
       "    </tr>\n",
       "    <tr>\n",
       "      <th>5</th>\n",
       "      <td>1.000000</td>\n",
       "      <td>1.000000</td>\n",
       "      <td>1.000000</td>\n",
       "      <td>962</td>\n",
       "    </tr>\n",
       "    <tr>\n",
       "      <th>6</th>\n",
       "      <td>1.000000</td>\n",
       "      <td>1.000000</td>\n",
       "      <td>1.000000</td>\n",
       "      <td>998</td>\n",
       "    </tr>\n",
       "    <tr>\n",
       "      <th>7</th>\n",
       "      <td>1.000000</td>\n",
       "      <td>0.998905</td>\n",
       "      <td>0.999452</td>\n",
       "      <td>913</td>\n",
       "    </tr>\n",
       "    <tr>\n",
       "      <th>8</th>\n",
       "      <td>1.000000</td>\n",
       "      <td>1.000000</td>\n",
       "      <td>1.000000</td>\n",
       "      <td>1005</td>\n",
       "    </tr>\n",
       "    <tr>\n",
       "      <th>9</th>\n",
       "      <td>1.000000</td>\n",
       "      <td>0.998951</td>\n",
       "      <td>0.999475</td>\n",
       "      <td>953</td>\n",
       "    </tr>\n",
       "    <tr>\n",
       "      <th>10</th>\n",
       "      <td>1.000000</td>\n",
       "      <td>1.000000</td>\n",
       "      <td>1.000000</td>\n",
       "      <td>916</td>\n",
       "    </tr>\n",
       "    <tr>\n",
       "      <th>11</th>\n",
       "      <td>1.000000</td>\n",
       "      <td>1.000000</td>\n",
       "      <td>1.000000</td>\n",
       "      <td>955</td>\n",
       "    </tr>\n",
       "    <tr>\n",
       "      <th>12</th>\n",
       "      <td>1.000000</td>\n",
       "      <td>0.998976</td>\n",
       "      <td>0.999488</td>\n",
       "      <td>977</td>\n",
       "    </tr>\n",
       "    <tr>\n",
       "      <th>13</th>\n",
       "      <td>1.000000</td>\n",
       "      <td>1.000000</td>\n",
       "      <td>1.000000</td>\n",
       "      <td>943</td>\n",
       "    </tr>\n",
       "    <tr>\n",
       "      <th>14</th>\n",
       "      <td>1.000000</td>\n",
       "      <td>1.000000</td>\n",
       "      <td>1.000000</td>\n",
       "      <td>928</td>\n",
       "    </tr>\n",
       "    <tr>\n",
       "      <th>15</th>\n",
       "      <td>1.000000</td>\n",
       "      <td>1.000000</td>\n",
       "      <td>1.000000</td>\n",
       "      <td>945</td>\n",
       "    </tr>\n",
       "  </tbody>\n",
       "</table>\n",
       "</div>"
      ],
      "text/plain": [
       "    precision    recall    fscore  support\n",
       "0    0.997959  1.000000  0.998979      978\n",
       "1    1.000000  1.000000  1.000000      925\n",
       "2    1.000000  1.000000  1.000000      925\n",
       "3    1.000000  1.000000  1.000000      947\n",
       "4    0.998926  1.000000  0.999463      930\n",
       "5    1.000000  1.000000  1.000000      962\n",
       "6    1.000000  1.000000  1.000000      998\n",
       "7    1.000000  0.998905  0.999452      913\n",
       "8    1.000000  1.000000  1.000000     1005\n",
       "9    1.000000  0.998951  0.999475      953\n",
       "10   1.000000  1.000000  1.000000      916\n",
       "11   1.000000  1.000000  1.000000      955\n",
       "12   1.000000  0.998976  0.999488      977\n",
       "13   1.000000  1.000000  1.000000      943\n",
       "14   1.000000  1.000000  1.000000      928\n",
       "15   1.000000  1.000000  1.000000      945"
      ]
     },
     "execution_count": 67,
     "metadata": {},
     "output_type": "execute_result"
    }
   ],
   "source": [
    "precision, recall, fscore, support = score(train_labels['label'], train_pred_labels)\n",
    "pd.DataFrame({\n",
    "    'precision': precision,\n",
    "    'recall': recall,\n",
    "    'fscore': fscore,\n",
    "    'support': support\n",
    "})"
   ]
  },
  {
   "cell_type": "markdown",
   "id": "b6e51475",
   "metadata": {},
   "source": [
    "#### On Train-Test Data"
   ]
  },
  {
   "cell_type": "code",
   "execution_count": 68,
   "id": "14a7854d",
   "metadata": {},
   "outputs": [
    {
     "name": "stdout",
     "output_type": "stream",
     "text": [
      "25/25 [==============================] - 3s 104ms/step\n"
     ]
    }
   ],
   "source": [
    "test_preds = model1.predict([fine_tune_data_4P_test, fine_tune_data_test, fine_tune_mask_test])"
   ]
  },
  {
   "cell_type": "code",
   "execution_count": 69,
   "id": "d585fa70",
   "metadata": {},
   "outputs": [],
   "source": [
    "test_pred_labels = np.argmax(test_preds, axis=-1)"
   ]
  },
  {
   "cell_type": "code",
   "execution_count": 70,
   "id": "9a77dc3c",
   "metadata": {},
   "outputs": [
    {
     "data": {
      "text/plain": [
       "array([11,  8,  5,  7,  7,  9, 13,  4, 14,  1,  6, 15,  0, 15, 13, 11,  0,\n",
       "        5,  9, 10,  8, 14,  3, 12,  6,  0,  3,  8,  3,  3, 11,  1,  9,  2,\n",
       "       13,  8,  4,  7, 11,  9,  6, 12, 14,  2,  5, 14,  7, 15, 13,  4, 15,\n",
       "       10,  5, 15, 11, 14, 15,  9,  9,  2, 15,  6, 11, 11,  6,  8,  8,  0,\n",
       "        6,  3,  4,  4, 12, 12,  8,  6,  7,  0,  0,  2, 11, 15, 12, 12,  9,\n",
       "        8, 13, 13, 13, 13, 10, 11,  4, 10,  1,  7, 11,  8, 13, 10,  3, 10,\n",
       "        2,  9, 10, 14,  8,  2,  5, 12,  7,  5,  9,  4, 12,  9, 12, 13, 11,\n",
       "        6,  7,  1,  0, 12,  1,  5, 10,  8, 15, 14,  3, 11,  6,  1,  6,  9,\n",
       "       14, 10,  7, 14, 10,  8, 11, 12,  8, 10,  8,  9,  2, 13,  0,  5,  4,\n",
       "       14,  4,  9,  4, 14,  7, 11,  8,  4,  4, 10,  5,  8, 15,  8,  8,  8,\n",
       "       13,  6,  3, 11,  7, 12, 10, 14, 14,  8,  6, 11,  1, 11,  6, 13,  4,\n",
       "       14, 11,  7, 15,  0,  3,  0, 10, 13, 12, 10, 11, 11, 11,  1,  9, 13,\n",
       "        9,  1, 13, 14, 12,  1,  4,  8,  7,  6, 13,  5,  4,  5,  8,  0,  9,\n",
       "       13, 15,  0,  7,  5,  2,  2,  6,  0,  7,  0,  3, 12,  3,  1,  2, 12,\n",
       "        4,  7, 12, 13, 12,  8, 13, 10,  0,  0, 11,  0, 10, 13, 15, 12,  8,\n",
       "        1, 10, 13,  5,  1,  9, 14,  6, 13, 12, 15, 11,  0, 11, 11, 14,  3,\n",
       "        0, 11,  4,  3,  1,  4,  6,  2,  7,  8, 10, 10,  8, 15,  7,  8, 13,\n",
       "        6,  8, 15,  0,  2,  3,  4, 10,  0,  8,  3,  0,  7, 15, 10,  7,  5,\n",
       "        3, 13, 11, 10,  9,  2, 13,  3, 15,  6,  0,  4, 14, 11, 13,  2, 15,\n",
       "        9, 15, 15, 10,  0, 15,  3, 11, 13, 15, 15,  7, 10,  4, 13, 15,  4,\n",
       "       13,  0,  3,  3,  2,  8,  2,  1, 11,  3,  3,  2, 12, 14,  4,  0,  3,\n",
       "        8,  5,  1,  3,  0,  5,  1, 12,  7, 15, 15,  3,  2, 12, 15,  3,  6,\n",
       "        0, 14, 14,  0,  5,  8,  2,  6, 12, 13,  6,  9,  8,  7, 10,  1,  2,\n",
       "       15, 14,  2, 14, 15,  1,  0,  1,  2, 10,  1,  0, 14,  6,  9,  0,  2,\n",
       "        5,  3, 14,  8, 13, 11,  9, 14, 13,  1,  4,  7, 13, 14,  5, 10,  8,\n",
       "        0,  5, 11,  0,  1,  3,  7,  2,  5,  6, 15,  9, 11, 13,  3, 10,  8,\n",
       "       12,  0,  3,  5,  5,  9,  6, 14,  7,  8,  3,  2, 13, 12,  0, 13, 11,\n",
       "        9,  8, 10, 14, 12, 13, 15, 10,  9,  9, 15, 12,  7, 14,  9, 15,  7,\n",
       "        5, 10,  4,  8,  9,  3,  7,  8,  6, 10,  1, 10,  7, 10, 13, 13, 10,\n",
       "        2,  3,  1, 10,  0,  7,  8, 12,  9,  1,  6,  5, 15, 15,  8,  7, 10,\n",
       "       12,  1,  0, 12, 11,  1,  1,  7,  9, 10, 14,  3,  1, 14,  6, 14,  7,\n",
       "        1, 14,  6, 14,  9,  5, 13, 14,  1,  1,  2,  3,  7,  2,  0,  8,  8,\n",
       "        0,  8,  6, 15, 14,  3,  6, 11,  8, 14,  6,  9,  5,  9, 11, 15,  0,\n",
       "        3, 10,  5, 10, 15,  2, 13,  0, 14,  9,  8,  0,  6, 13,  7, 10, 12,\n",
       "        9, 11,  6, 10,  9,  8, 10, 14, 14,  9,  0, 15,  8,  5,  8,  6,  5,\n",
       "       12,  5,  0, 15, 14,  5,  3,  2, 12,  1, 15, 11, 10,  3, 13,  1,  3,\n",
       "       12, 13,  0,  4,  4,  9,  5,  5, 14, 13,  5,  8,  5,  9, 13,  4, 15,\n",
       "       15,  0,  1, 14, 13,  7,  6, 12,  8,  7,  5, 15,  5,  9,  4,  1, 14,\n",
       "        1, 10,  6,  6,  3,  7,  7,  5,  5, 12,  6,  8,  0,  4,  7,  7,  0,\n",
       "       12,  6, 12,  0,  3, 11,  2,  3,  5,  4, 13,  1, 12,  5, 14, 15,  4,\n",
       "       12,  5, 10,  7,  2,  2, 12,  8, 11,  6,  9,  2, 10, 13,  7,  6,  3,\n",
       "       13,  3,  2, 14,  0,  8, 12, 12,  8, 13, 13, 14,  4, 10,  2,  5, 14,\n",
       "       12, 13, 13,  4, 12,  0, 11,  0,  8, 10, 13,  8,  4,  9,  2,  8,  0,\n",
       "        1,  2, 14, 15,  0,  8,  9, 11,  0,  8,  9,  7,  4, 11, 13, 13,  3,\n",
       "        7,  7,  3,  8, 12,  2, 12, 15,  7, 10, 13, 14, 12,  6, 14,  0, 10,\n",
       "       11,  3, 12, 13,  5,  7,  2,  8,  5, 13,  2,  9,  8, 14, 12, 14, 12,\n",
       "        0,  5,  8, 15,  4, 11,  0,  0,  9, 12,  5,  1, 10,  2,  2, 11, 10,\n",
       "        6])"
      ]
     },
     "execution_count": 70,
     "metadata": {},
     "output_type": "execute_result"
    }
   ],
   "source": [
    "test_pred_labels"
   ]
  },
  {
   "cell_type": "code",
   "execution_count": 71,
   "id": "8bce361f",
   "metadata": {},
   "outputs": [
    {
     "data": {
      "text/plain": [
       "605"
      ]
     },
     "execution_count": 71,
     "metadata": {},
     "output_type": "execute_result"
    }
   ],
   "source": [
    "np.sum(test_pred_labels == test_labels['label'])"
   ]
  },
  {
   "cell_type": "code",
   "execution_count": 72,
   "id": "e07d40ba",
   "metadata": {},
   "outputs": [
    {
     "data": {
      "text/html": [
       "<div>\n",
       "<style scoped>\n",
       "    .dataframe tbody tr th:only-of-type {\n",
       "        vertical-align: middle;\n",
       "    }\n",
       "\n",
       "    .dataframe tbody tr th {\n",
       "        vertical-align: top;\n",
       "    }\n",
       "\n",
       "    .dataframe thead th {\n",
       "        text-align: right;\n",
       "    }\n",
       "</style>\n",
       "<table border=\"1\" class=\"dataframe\">\n",
       "  <thead>\n",
       "    <tr style=\"text-align: right;\">\n",
       "      <th></th>\n",
       "      <th>id</th>\n",
       "      <th>images</th>\n",
       "      <th>label</th>\n",
       "    </tr>\n",
       "  </thead>\n",
       "  <tbody>\n",
       "    <tr>\n",
       "      <th>2</th>\n",
       "      <td>33</td>\n",
       "      <td>./Data/train/train/33.tif</td>\n",
       "      <td>6</td>\n",
       "    </tr>\n",
       "    <tr>\n",
       "      <th>3</th>\n",
       "      <td>41</td>\n",
       "      <td>./Data/train/train/41.tif</td>\n",
       "      <td>1</td>\n",
       "    </tr>\n",
       "    <tr>\n",
       "      <th>4</th>\n",
       "      <td>65</td>\n",
       "      <td>./Data/train/train/65.tif</td>\n",
       "      <td>14</td>\n",
       "    </tr>\n",
       "    <tr>\n",
       "      <th>7</th>\n",
       "      <td>100</td>\n",
       "      <td>./Data/train/train/100.tif</td>\n",
       "      <td>10</td>\n",
       "    </tr>\n",
       "    <tr>\n",
       "      <th>12</th>\n",
       "      <td>179</td>\n",
       "      <td>./Data/train/train/179.tif</td>\n",
       "      <td>7</td>\n",
       "    </tr>\n",
       "    <tr>\n",
       "      <th>...</th>\n",
       "      <td>...</td>\n",
       "      <td>...</td>\n",
       "      <td>...</td>\n",
       "    </tr>\n",
       "    <tr>\n",
       "      <th>782</th>\n",
       "      <td>15582</td>\n",
       "      <td>./Data/train/train/15582.tif</td>\n",
       "      <td>3</td>\n",
       "    </tr>\n",
       "    <tr>\n",
       "      <th>788</th>\n",
       "      <td>15687</td>\n",
       "      <td>./Data/train/train/15687.tif</td>\n",
       "      <td>12</td>\n",
       "    </tr>\n",
       "    <tr>\n",
       "      <th>791</th>\n",
       "      <td>15719</td>\n",
       "      <td>./Data/train/train/15719.tif</td>\n",
       "      <td>9</td>\n",
       "    </tr>\n",
       "    <tr>\n",
       "      <th>793</th>\n",
       "      <td>15762</td>\n",
       "      <td>./Data/train/train/15762.tif</td>\n",
       "      <td>13</td>\n",
       "    </tr>\n",
       "    <tr>\n",
       "      <th>798</th>\n",
       "      <td>15863</td>\n",
       "      <td>./Data/train/train/15863.tif</td>\n",
       "      <td>15</td>\n",
       "    </tr>\n",
       "  </tbody>\n",
       "</table>\n",
       "<p>195 rows × 3 columns</p>\n",
       "</div>"
      ],
      "text/plain": [
       "        id                        images  label\n",
       "2       33     ./Data/train/train/33.tif      6\n",
       "3       41     ./Data/train/train/41.tif      1\n",
       "4       65     ./Data/train/train/65.tif     14\n",
       "7      100    ./Data/train/train/100.tif     10\n",
       "12     179    ./Data/train/train/179.tif      7\n",
       "..     ...                           ...    ...\n",
       "782  15582  ./Data/train/train/15582.tif      3\n",
       "788  15687  ./Data/train/train/15687.tif     12\n",
       "791  15719  ./Data/train/train/15719.tif      9\n",
       "793  15762  ./Data/train/train/15762.tif     13\n",
       "798  15863  ./Data/train/train/15863.tif     15\n",
       "\n",
       "[195 rows x 3 columns]"
      ]
     },
     "execution_count": 72,
     "metadata": {},
     "output_type": "execute_result"
    }
   ],
   "source": [
    "mis_train_data = test_labels[test_pred_labels != test_labels['label']]\n",
    "mis_train_data"
   ]
  },
  {
   "cell_type": "code",
   "execution_count": 73,
   "id": "0f0b85fa",
   "metadata": {},
   "outputs": [
    {
     "data": {
      "text/html": [
       "<div>\n",
       "<style scoped>\n",
       "    .dataframe tbody tr th:only-of-type {\n",
       "        vertical-align: middle;\n",
       "    }\n",
       "\n",
       "    .dataframe tbody tr th {\n",
       "        vertical-align: top;\n",
       "    }\n",
       "\n",
       "    .dataframe thead th {\n",
       "        text-align: right;\n",
       "    }\n",
       "</style>\n",
       "<table border=\"1\" class=\"dataframe\">\n",
       "  <thead>\n",
       "    <tr style=\"text-align: right;\">\n",
       "      <th></th>\n",
       "      <th>precision</th>\n",
       "      <th>recall</th>\n",
       "      <th>fscore</th>\n",
       "      <th>support</th>\n",
       "    </tr>\n",
       "  </thead>\n",
       "  <tbody>\n",
       "    <tr>\n",
       "      <th>0</th>\n",
       "      <td>0.666667</td>\n",
       "      <td>0.740741</td>\n",
       "      <td>0.701754</td>\n",
       "      <td>54</td>\n",
       "    </tr>\n",
       "    <tr>\n",
       "      <th>1</th>\n",
       "      <td>0.585366</td>\n",
       "      <td>0.545455</td>\n",
       "      <td>0.564706</td>\n",
       "      <td>44</td>\n",
       "    </tr>\n",
       "    <tr>\n",
       "      <th>2</th>\n",
       "      <td>0.883721</td>\n",
       "      <td>0.883721</td>\n",
       "      <td>0.883721</td>\n",
       "      <td>43</td>\n",
       "    </tr>\n",
       "    <tr>\n",
       "      <th>3</th>\n",
       "      <td>0.895833</td>\n",
       "      <td>0.934783</td>\n",
       "      <td>0.914894</td>\n",
       "      <td>46</td>\n",
       "    </tr>\n",
       "    <tr>\n",
       "      <th>4</th>\n",
       "      <td>0.891892</td>\n",
       "      <td>0.916667</td>\n",
       "      <td>0.904110</td>\n",
       "      <td>36</td>\n",
       "    </tr>\n",
       "    <tr>\n",
       "      <th>5</th>\n",
       "      <td>0.583333</td>\n",
       "      <td>0.560000</td>\n",
       "      <td>0.571429</td>\n",
       "      <td>50</td>\n",
       "    </tr>\n",
       "    <tr>\n",
       "      <th>6</th>\n",
       "      <td>0.886364</td>\n",
       "      <td>0.847826</td>\n",
       "      <td>0.866667</td>\n",
       "      <td>46</td>\n",
       "    </tr>\n",
       "    <tr>\n",
       "      <th>7</th>\n",
       "      <td>0.795918</td>\n",
       "      <td>0.750000</td>\n",
       "      <td>0.772277</td>\n",
       "      <td>52</td>\n",
       "    </tr>\n",
       "    <tr>\n",
       "      <th>8</th>\n",
       "      <td>0.815385</td>\n",
       "      <td>0.981481</td>\n",
       "      <td>0.890756</td>\n",
       "      <td>54</td>\n",
       "    </tr>\n",
       "    <tr>\n",
       "      <th>9</th>\n",
       "      <td>0.787234</td>\n",
       "      <td>0.787234</td>\n",
       "      <td>0.787234</td>\n",
       "      <td>47</td>\n",
       "    </tr>\n",
       "    <tr>\n",
       "      <th>10</th>\n",
       "      <td>0.666667</td>\n",
       "      <td>0.620690</td>\n",
       "      <td>0.642857</td>\n",
       "      <td>58</td>\n",
       "    </tr>\n",
       "    <tr>\n",
       "      <th>11</th>\n",
       "      <td>0.787234</td>\n",
       "      <td>0.660714</td>\n",
       "      <td>0.718447</td>\n",
       "      <td>56</td>\n",
       "    </tr>\n",
       "    <tr>\n",
       "      <th>12</th>\n",
       "      <td>0.622642</td>\n",
       "      <td>0.767442</td>\n",
       "      <td>0.687500</td>\n",
       "      <td>43</td>\n",
       "    </tr>\n",
       "    <tr>\n",
       "      <th>13</th>\n",
       "      <td>0.754098</td>\n",
       "      <td>0.718750</td>\n",
       "      <td>0.736000</td>\n",
       "      <td>64</td>\n",
       "    </tr>\n",
       "    <tr>\n",
       "      <th>14</th>\n",
       "      <td>0.907407</td>\n",
       "      <td>0.765625</td>\n",
       "      <td>0.830508</td>\n",
       "      <td>64</td>\n",
       "    </tr>\n",
       "    <tr>\n",
       "      <th>15</th>\n",
       "      <td>0.612245</td>\n",
       "      <td>0.697674</td>\n",
       "      <td>0.652174</td>\n",
       "      <td>43</td>\n",
       "    </tr>\n",
       "  </tbody>\n",
       "</table>\n",
       "</div>"
      ],
      "text/plain": [
       "    precision    recall    fscore  support\n",
       "0    0.666667  0.740741  0.701754       54\n",
       "1    0.585366  0.545455  0.564706       44\n",
       "2    0.883721  0.883721  0.883721       43\n",
       "3    0.895833  0.934783  0.914894       46\n",
       "4    0.891892  0.916667  0.904110       36\n",
       "5    0.583333  0.560000  0.571429       50\n",
       "6    0.886364  0.847826  0.866667       46\n",
       "7    0.795918  0.750000  0.772277       52\n",
       "8    0.815385  0.981481  0.890756       54\n",
       "9    0.787234  0.787234  0.787234       47\n",
       "10   0.666667  0.620690  0.642857       58\n",
       "11   0.787234  0.660714  0.718447       56\n",
       "12   0.622642  0.767442  0.687500       43\n",
       "13   0.754098  0.718750  0.736000       64\n",
       "14   0.907407  0.765625  0.830508       64\n",
       "15   0.612245  0.697674  0.652174       43"
      ]
     },
     "execution_count": 73,
     "metadata": {},
     "output_type": "execute_result"
    }
   ],
   "source": [
    "precision, recall, fscore, support = score(test_labels['label'], test_pred_labels)\n",
    "pd.DataFrame({\n",
    "    'precision': precision,\n",
    "    'recall': recall,\n",
    "    'fscore': fscore,\n",
    "    'support': support\n",
    "})"
   ]
  },
  {
   "cell_type": "code",
   "execution_count": 74,
   "id": "ffd70520",
   "metadata": {},
   "outputs": [
    {
     "data": {
      "text/plain": [
       "0.7578145842452271"
      ]
     },
     "execution_count": 74,
     "metadata": {},
     "output_type": "execute_result"
    }
   ],
   "source": [
    "np.mean(fscore)"
   ]
  },
  {
   "cell_type": "markdown",
   "id": "067c5096",
   "metadata": {},
   "source": [
    "#### On Validation Data"
   ]
  },
  {
   "cell_type": "markdown",
   "id": "3e665591",
   "metadata": {},
   "source": [
    "Generating Predictions for the Validation Set"
   ]
  },
  {
   "cell_type": "code",
   "execution_count": 75,
   "id": "20d57a31",
   "metadata": {},
   "outputs": [
    {
     "name": "stderr",
     "output_type": "stream",
     "text": [
      "2022-10-09 14:27:46.704591: I tensorflow/core/grappler/optimizers/custom_graph_optimizer_registry.cc:113] Plugin optimizer for device_type GPU is enabled.\n"
     ]
    },
    {
     "name": "stdout",
     "output_type": "stream",
     "text": [
      "29/29 [==============================] - 4s 117ms/step\n"
     ]
    }
   ],
   "source": [
    "valid_preds = model1.predict([fine_tune_data_4P_validation, fine_tune_data_validation, mask_validation])"
   ]
  },
  {
   "cell_type": "code",
   "execution_count": 76,
   "id": "db7d1256",
   "metadata": {},
   "outputs": [],
   "source": [
    "valid_pred_labels = np.argmax(valid_preds, axis=-1)"
   ]
  },
  {
   "cell_type": "code",
   "execution_count": 77,
   "id": "315c93f9",
   "metadata": {},
   "outputs": [
    {
     "data": {
      "text/plain": [
       "array([ 4,  6,  4,  8,  3,  8, 10, 11,  2,  4,  0, 15,  5, 12, 13,  4,  1,\n",
       "        1,  0, 12, 14,  9, 13,  6,  1,  2,  7,  3,  8,  1,  0, 14,  8, 10,\n",
       "       14,  6, 11,  8,  6, 10, 12,  7, 12,  3,  2, 10,  3,  2,  6,  2,  3,\n",
       "        0, 10,  0, 10,  9,  2,  8,  1, 11,  2,  7,  9,  5, 12,  8, 11,  7,\n",
       "        8,  4,  5, 12,  4,  8,  4,  6,  4,  7,  5,  0,  9,  0, 13,  8,  7,\n",
       "       12, 11, 10, 15, 10, 12, 12,  1, 12, 11,  4, 10, 10,  0,  6,  6, 11,\n",
       "        1, 12,  7,  1, 10,  6, 10,  1,  7,  0, 11, 14,  2,  4,  1, 14,  7,\n",
       "       11, 12, 12,  3,  9, 12, 10,  0,  6,  4,  6,  8,  1,  0,  9, 10,  3,\n",
       "        8, 11,  5,  5,  6,  7,  2,  3, 13,  9,  9, 12,  0, 14, 10, 13, 13,\n",
       "        3, 12, 10,  0,  7,  5, 14,  3, 11,  2, 13,  7, 14,  4,  4,  7,  9,\n",
       "        6, 11,  4,  7,  4,  0,  1,  0,  0,  8,  9, 11,  3,  2,  3,  3, 13,\n",
       "        8, 11,  2,  9,  0,  9,  2,  4, 14,  2,  9,  8,  7, 11, 15,  1,  0,\n",
       "       15, 13,  4,  1,  4,  4, 10,  6,  9, 10,  4,  4, 13,  3, 10, 13, 13,\n",
       "        6,  0,  8, 12,  0,  5,  4,  3, 13,  5, 13,  8, 11,  2,  6,  7,  5,\n",
       "       13, 12,  9,  3, 14, 13,  7, 10,  8,  0,  4,  4,  9,  8,  9, 11,  7,\n",
       "        8,  9, 15,  6,  0, 14,  5,  0,  6,  9,  7, 12,  5, 15,  4,  3,  2,\n",
       "        1,  5,  8,  5,  9,  2, 10, 15,  8, 10,  3,  3, 13, 10,  2, 11, 10,\n",
       "        9, 11,  1,  6,  2, 14, 11, 15, 11,  4, 12,  3,  2, 15, 10, 14,  8,\n",
       "       12,  2, 10,  6, 15,  0, 10,  0, 10,  7,  6,  8, 13,  4, 13,  6,  6,\n",
       "        4, 13,  5,  5,  0, 13, 12,  5, 10, 11, 13,  7,  2, 14, 12, 10,  4,\n",
       "       15, 13,  4,  9, 10,  4, 11,  5, 13,  6,  3, 12,  5, 14,  4, 12, 13,\n",
       "       15, 10,  8,  5, 15,  3,  0,  3, 10,  7, 10,  3,  7, 12,  9, 10,  2,\n",
       "        1, 11,  9, 10,  7,  7,  8, 13,  6,  3,  4, 10,  2, 11,  0, 11,  0,\n",
       "       10, 14,  4, 14, 15, 10,  1,  7,  1, 10,  2, 12,  5, 12, 10,  0,  1,\n",
       "        3, 14, 10,  6, 13,  1,  2,  1, 14,  4,  3,  3,  2,  0, 15, 12,  4,\n",
       "       11, 13,  9,  2,  6,  3,  2, 15,  9,  0,  2,  8,  6, 10, 12,  6,  1,\n",
       "       14, 12,  0,  7,  3,  7, 14,  5, 10, 11,  6,  7, 11, 15,  4, 11,  2,\n",
       "        5,  4,  3, 10,  0,  8, 10,  4,  4,  1,  4,  9,  7, 12,  6,  4,  4,\n",
       "        9,  1, 15, 11,  2, 13,  8,  4,  2, 12, 12, 14,  6, 15, 12,  9,  9,\n",
       "        5,  0, 13,  2,  3, 11, 10,  7,  4, 13,  8,  2, 12,  8, 10, 15,  7,\n",
       "       14, 12,  8, 11,  8,  0,  2, 13, 12,  3,  8,  4,  5,  4,  6,  0, 10,\n",
       "        5, 15,  3, 12, 10,  9, 13,  3,  5, 14, 12, 13, 10,  9,  8,  5, 11,\n",
       "        4,  8,  8,  7,  5,  9, 13,  8,  8,  3,  4,  4,  1,  2,  3,  0, 13,\n",
       "        7,  0, 11, 15, 11,  1, 15,  6, 15,  4,  4,  7,  1,  3,  5, 15,  4,\n",
       "        5, 12,  8, 13, 11,  4,  8,  2, 10,  9,  7,  2,  0,  2, 13,  9,  4,\n",
       "        6,  6, 12,  0,  6,  8,  1,  5, 13,  2,  2,  4, 12,  8, 10,  3, 14,\n",
       "        4, 13, 11, 14,  6,  3, 13,  7,  8, 12,  4, 14, 15, 14, 15, 12,  3,\n",
       "       14,  6,  1,  7, 14,  7, 11, 12, 10,  5,  2, 12,  3,  4,  5, 14,  9,\n",
       "        9,  4, 12,  2, 10,  2, 15,  0, 11,  6,  3,  8,  9,  5,  3,  7,  3,\n",
       "        2, 13, 13, 12,  5, 11,  2, 10,  4,  0, 12, 11, 11,  2, 13,  6, 14,\n",
       "       13,  9,  3,  2, 10,  0,  8,  8,  4, 15,  6, 13, 10,  3, 13, 13, 10,\n",
       "       12,  1,  4, 10,  8,  0, 15,  4,  5, 11,  3, 12,  6,  7,  9,  9,  8,\n",
       "        3,  3, 11, 10,  1,  0,  6, 13, 14,  9, 14,  6, 11, 11,  0, 10, 11,\n",
       "        5,  7,  4,  9,  4,  3, 12, 14,  5,  8, 10, 15, 13, 15, 15,  2,  0,\n",
       "        0,  6,  0,  9,  1,  7,  6,  1,  6,  8,  5,  2,  5,  4,  0,  0,  5,\n",
       "        6,  0, 14,  8,  4, 13,  1, 10, 11,  0, 11,  2,  7, 12,  0,  1,  7,\n",
       "        2,  3,  4,  8, 14, 10, 14,  2, 12,  2,  1,  0, 14, 11,  2, 11,  2,\n",
       "       10,  6,  4, 15, 10,  7,  2,  2,  8,  9,  4, 10,  7, 12,  5,  3,  2,\n",
       "       13,  4,  9,  5,  9, 12,  5, 14,  5,  9,  2,  4, 15,  0,  5, 11, 10,\n",
       "        6,  3,  8,  0,  0, 15,  4,  8,  9,  3,  4,  8, 14, 13, 12, 13, 11,\n",
       "        2, 12,  5, 12,  4,  5,  6,  0, 10,  5, 10,  0,  5,  6, 14,  5,  0,\n",
       "        8, 11,  8,  8, 15,  9,  0, 11,  3,  3,  3,  0,  2, 10, 11,  6, 15,\n",
       "       12, 12, 10,  2, 11,  4,  0,  7,  6, 14,  8,  7, 12,  8,  3,  4])"
      ]
     },
     "execution_count": 77,
     "metadata": {},
     "output_type": "execute_result"
    }
   ],
   "source": [
    "valid_pred_labels"
   ]
  },
  {
   "cell_type": "markdown",
   "id": "2bece594",
   "metadata": {},
   "source": [
    "### Submission"
   ]
  },
  {
   "cell_type": "markdown",
   "id": "304c47de",
   "metadata": {},
   "source": [
    "For Kaggle Submission"
   ]
  },
  {
   "cell_type": "code",
   "execution_count": 78,
   "id": "e7ca9d19",
   "metadata": {},
   "outputs": [
    {
     "data": {
      "text/html": [
       "<div>\n",
       "<style scoped>\n",
       "    .dataframe tbody tr th:only-of-type {\n",
       "        vertical-align: middle;\n",
       "    }\n",
       "\n",
       "    .dataframe tbody tr th {\n",
       "        vertical-align: top;\n",
       "    }\n",
       "\n",
       "    .dataframe thead th {\n",
       "        text-align: right;\n",
       "    }\n",
       "</style>\n",
       "<table border=\"1\" class=\"dataframe\">\n",
       "  <thead>\n",
       "    <tr style=\"text-align: right;\">\n",
       "      <th></th>\n",
       "      <th>id</th>\n",
       "      <th>label</th>\n",
       "    </tr>\n",
       "  </thead>\n",
       "  <tbody>\n",
       "    <tr>\n",
       "      <th>0</th>\n",
       "      <td>17801</td>\n",
       "      <td>4</td>\n",
       "    </tr>\n",
       "    <tr>\n",
       "      <th>1</th>\n",
       "      <td>17802</td>\n",
       "      <td>6</td>\n",
       "    </tr>\n",
       "    <tr>\n",
       "      <th>2</th>\n",
       "      <td>17803</td>\n",
       "      <td>4</td>\n",
       "    </tr>\n",
       "    <tr>\n",
       "      <th>3</th>\n",
       "      <td>17804</td>\n",
       "      <td>8</td>\n",
       "    </tr>\n",
       "    <tr>\n",
       "      <th>4</th>\n",
       "      <td>17805</td>\n",
       "      <td>3</td>\n",
       "    </tr>\n",
       "    <tr>\n",
       "      <th>...</th>\n",
       "      <td>...</td>\n",
       "      <td>...</td>\n",
       "    </tr>\n",
       "    <tr>\n",
       "      <th>895</th>\n",
       "      <td>18696</td>\n",
       "      <td>7</td>\n",
       "    </tr>\n",
       "    <tr>\n",
       "      <th>896</th>\n",
       "      <td>18697</td>\n",
       "      <td>12</td>\n",
       "    </tr>\n",
       "    <tr>\n",
       "      <th>897</th>\n",
       "      <td>18698</td>\n",
       "      <td>8</td>\n",
       "    </tr>\n",
       "    <tr>\n",
       "      <th>898</th>\n",
       "      <td>18699</td>\n",
       "      <td>3</td>\n",
       "    </tr>\n",
       "    <tr>\n",
       "      <th>899</th>\n",
       "      <td>18700</td>\n",
       "      <td>4</td>\n",
       "    </tr>\n",
       "  </tbody>\n",
       "</table>\n",
       "<p>900 rows × 2 columns</p>\n",
       "</div>"
      ],
      "text/plain": [
       "        id  label\n",
       "0    17801      4\n",
       "1    17802      6\n",
       "2    17803      4\n",
       "3    17804      8\n",
       "4    17805      3\n",
       "..     ...    ...\n",
       "895  18696      7\n",
       "896  18697     12\n",
       "897  18698      8\n",
       "898  18699      3\n",
       "899  18700      4\n",
       "\n",
       "[900 rows x 2 columns]"
      ]
     },
     "execution_count": 78,
     "metadata": {},
     "output_type": "execute_result"
    }
   ],
   "source": [
    "submission_data = pd.DataFrame({'id':list(range(17801, 18701))})\n",
    "submission_data['label'] = valid_pred_labels\n",
    "submission_data"
   ]
  },
  {
   "cell_type": "code",
   "execution_count": 79,
   "id": "6eea7d9c",
   "metadata": {},
   "outputs": [],
   "source": [
    "submission_data.to_csv('./Submissions/submission-inception-resnet-kPiece-ViT.csv', index=False)"
   ]
  }
 ],
 "metadata": {
  "kernelspec": {
   "display_name": "Python 3 (ipykernel)",
   "language": "python",
   "name": "python3"
  },
  "language_info": {
   "codemirror_mode": {
    "name": "ipython",
    "version": 3
   },
   "file_extension": ".py",
   "mimetype": "text/x-python",
   "name": "python",
   "nbconvert_exporter": "python",
   "pygments_lexer": "ipython3",
   "version": "3.8.13"
  }
 },
 "nbformat": 4,
 "nbformat_minor": 5
}
