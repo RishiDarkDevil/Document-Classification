{
 "cells": [
  {
   "cell_type": "markdown",
   "id": "24f4758a",
   "metadata": {
    "papermill": {
     "duration": 0.011241,
     "end_time": "2022-10-08T05:20:42.844991",
     "exception": false,
     "start_time": "2022-10-08T05:20:42.833750",
     "status": "completed"
    },
    "tags": []
   },
   "source": [
    "### Importing Necessary Libraries"
   ]
  },
  {
   "cell_type": "code",
   "execution_count": 1,
   "id": "36e217ec",
   "metadata": {
    "execution": {
     "iopub.execute_input": "2022-10-08T05:20:42.866879Z",
     "iopub.status.busy": "2022-10-08T05:20:42.865821Z",
     "iopub.status.idle": "2022-10-08T05:20:42.871558Z",
     "shell.execute_reply": "2022-10-08T05:20:42.870653Z"
    },
    "papermill": {
     "duration": 0.018886,
     "end_time": "2022-10-08T05:20:42.873657",
     "exception": false,
     "start_time": "2022-10-08T05:20:42.854771",
     "status": "completed"
    },
    "tags": []
   },
   "outputs": [],
   "source": [
    "# !pip uninstall tensorflow -y\n",
    "# !pip uninstall tensorflow-gpu -y"
   ]
  },
  {
   "cell_type": "code",
   "execution_count": 2,
   "id": "2caac306",
   "metadata": {
    "execution": {
     "iopub.execute_input": "2022-10-08T05:20:42.896028Z",
     "iopub.status.busy": "2022-10-08T05:20:42.895199Z",
     "iopub.status.idle": "2022-10-08T05:20:42.899454Z",
     "shell.execute_reply": "2022-10-08T05:20:42.898500Z"
    },
    "papermill": {
     "duration": 0.016624,
     "end_time": "2022-10-08T05:20:42.901377",
     "exception": false,
     "start_time": "2022-10-08T05:20:42.884753",
     "status": "completed"
    },
    "tags": []
   },
   "outputs": [],
   "source": [
    "# !pip install -U tensorflow-gpu==2.10\n",
    "# !pip install -U tensorflow==2.10"
   ]
  },
  {
   "cell_type": "code",
   "execution_count": 3,
   "id": "3f87fd22",
   "metadata": {
    "execution": {
     "iopub.execute_input": "2022-10-08T05:20:42.923108Z",
     "iopub.status.busy": "2022-10-08T05:20:42.921725Z",
     "iopub.status.idle": "2022-10-08T05:20:48.254406Z",
     "shell.execute_reply": "2022-10-08T05:20:48.253496Z"
    },
    "papermill": {
     "duration": 5.345673,
     "end_time": "2022-10-08T05:20:48.256757",
     "exception": false,
     "start_time": "2022-10-08T05:20:42.911084",
     "status": "completed"
    },
    "tags": []
   },
   "outputs": [],
   "source": [
    "import os\n",
    "import pickle\n",
    "from tqdm import tqdm\n",
    "import gc\n",
    "from zipfile import ZipFile\n",
    "\n",
    "import matplotlib.pyplot as plt\n",
    "import numpy as np\n",
    "import pandas as pd\n",
    "\n",
    "import tensorflow as tf\n",
    "from tensorflow.keras.preprocessing.image import load_img, img_to_array\n",
    "\n",
    "from tensorflow.keras.layers import Input, Flatten, Dense, Dropout, GlobalAvgPool2D, BatchNormalization\n",
    "from tensorflow.keras.applications import ResNet50V2\n",
    "# from efficientnet_v2 import EfficientNetV2S \n",
    "from tensorflow.keras.regularizers import l2\n",
    "\n",
    "from tensorflow.keras.optimizers import Adam\n",
    "\n",
    "from sklearn.metrics import precision_recall_fscore_support as score"
   ]
  },
  {
   "cell_type": "markdown",
   "id": "40f4c84b",
   "metadata": {
    "papermill": {
     "duration": 0.010203,
     "end_time": "2022-10-08T05:20:48.277655",
     "exception": false,
     "start_time": "2022-10-08T05:20:48.267452",
     "status": "completed"
    },
    "tags": []
   },
   "source": [
    "## Data"
   ]
  },
  {
   "cell_type": "markdown",
   "id": "c2498a8c",
   "metadata": {
    "papermill": {
     "duration": 0.009411,
     "end_time": "2022-10-08T05:20:48.297053",
     "exception": false,
     "start_time": "2022-10-08T05:20:48.287642",
     "status": "completed"
    },
    "tags": []
   },
   "source": [
    "A detailed discussion and visualization of the data can be seen in [here](Data-Overview.ipynb)."
   ]
  },
  {
   "cell_type": "code",
   "execution_count": 4,
   "id": "9a4f994d",
   "metadata": {
    "execution": {
     "iopub.execute_input": "2022-10-08T05:20:48.317846Z",
     "iopub.status.busy": "2022-10-08T05:20:48.317334Z",
     "iopub.status.idle": "2022-10-08T05:20:48.327897Z",
     "shell.execute_reply": "2022-10-08T05:20:48.327101Z"
    },
    "papermill": {
     "duration": 0.023038,
     "end_time": "2022-10-08T05:20:48.329887",
     "exception": false,
     "start_time": "2022-10-08T05:20:48.306849",
     "status": "completed"
    },
    "tags": []
   },
   "outputs": [
    {
     "data": {
      "text/plain": [
       "['sample_submission.csv', 'validation', 'train_labels.csv', 'train']"
      ]
     },
     "execution_count": 4,
     "metadata": {},
     "output_type": "execute_result"
    }
   ],
   "source": [
    "os.listdir('../input/datathonindoml-2022')"
   ]
  },
  {
   "cell_type": "code",
   "execution_count": 5,
   "id": "4244d6cc",
   "metadata": {
    "execution": {
     "iopub.execute_input": "2022-10-08T05:20:48.352000Z",
     "iopub.status.busy": "2022-10-08T05:20:48.350649Z",
     "iopub.status.idle": "2022-10-08T05:20:48.396051Z",
     "shell.execute_reply": "2022-10-08T05:20:48.395228Z"
    },
    "papermill": {
     "duration": 0.057971,
     "end_time": "2022-10-08T05:20:48.397982",
     "exception": false,
     "start_time": "2022-10-08T05:20:48.340011",
     "status": "completed"
    },
    "tags": []
   },
   "outputs": [
    {
     "data": {
      "text/html": [
       "<div>\n",
       "<style scoped>\n",
       "    .dataframe tbody tr th:only-of-type {\n",
       "        vertical-align: middle;\n",
       "    }\n",
       "\n",
       "    .dataframe tbody tr th {\n",
       "        vertical-align: top;\n",
       "    }\n",
       "\n",
       "    .dataframe thead th {\n",
       "        text-align: right;\n",
       "    }\n",
       "</style>\n",
       "<table border=\"1\" class=\"dataframe\">\n",
       "  <thead>\n",
       "    <tr style=\"text-align: right;\">\n",
       "      <th></th>\n",
       "      <th>id</th>\n",
       "      <th>images</th>\n",
       "      <th>label</th>\n",
       "    </tr>\n",
       "  </thead>\n",
       "  <tbody>\n",
       "    <tr>\n",
       "      <th>0</th>\n",
       "      <td>0</td>\n",
       "      <td>../input/datathonindoml-2022/train/train/0.tif</td>\n",
       "      <td>1</td>\n",
       "    </tr>\n",
       "    <tr>\n",
       "      <th>1</th>\n",
       "      <td>1</td>\n",
       "      <td>../input/datathonindoml-2022/train/train/1.tif</td>\n",
       "      <td>13</td>\n",
       "    </tr>\n",
       "    <tr>\n",
       "      <th>2</th>\n",
       "      <td>2</td>\n",
       "      <td>../input/datathonindoml-2022/train/train/2.tif</td>\n",
       "      <td>13</td>\n",
       "    </tr>\n",
       "    <tr>\n",
       "      <th>3</th>\n",
       "      <td>3</td>\n",
       "      <td>../input/datathonindoml-2022/train/train/3.tif</td>\n",
       "      <td>14</td>\n",
       "    </tr>\n",
       "    <tr>\n",
       "      <th>4</th>\n",
       "      <td>4</td>\n",
       "      <td>../input/datathonindoml-2022/train/train/4.tif</td>\n",
       "      <td>6</td>\n",
       "    </tr>\n",
       "    <tr>\n",
       "      <th>...</th>\n",
       "      <td>...</td>\n",
       "      <td>...</td>\n",
       "      <td>...</td>\n",
       "    </tr>\n",
       "    <tr>\n",
       "      <th>15995</th>\n",
       "      <td>15995</td>\n",
       "      <td>../input/datathonindoml-2022/train/train/15995...</td>\n",
       "      <td>2</td>\n",
       "    </tr>\n",
       "    <tr>\n",
       "      <th>15996</th>\n",
       "      <td>15996</td>\n",
       "      <td>../input/datathonindoml-2022/train/train/15996...</td>\n",
       "      <td>15</td>\n",
       "    </tr>\n",
       "    <tr>\n",
       "      <th>15997</th>\n",
       "      <td>15997</td>\n",
       "      <td>../input/datathonindoml-2022/train/train/15997...</td>\n",
       "      <td>3</td>\n",
       "    </tr>\n",
       "    <tr>\n",
       "      <th>15998</th>\n",
       "      <td>15998</td>\n",
       "      <td>../input/datathonindoml-2022/train/train/15998...</td>\n",
       "      <td>9</td>\n",
       "    </tr>\n",
       "    <tr>\n",
       "      <th>15999</th>\n",
       "      <td>15999</td>\n",
       "      <td>../input/datathonindoml-2022/train/train/15999...</td>\n",
       "      <td>9</td>\n",
       "    </tr>\n",
       "  </tbody>\n",
       "</table>\n",
       "<p>16000 rows × 3 columns</p>\n",
       "</div>"
      ],
      "text/plain": [
       "          id                                             images  label\n",
       "0          0     ../input/datathonindoml-2022/train/train/0.tif      1\n",
       "1          1     ../input/datathonindoml-2022/train/train/1.tif     13\n",
       "2          2     ../input/datathonindoml-2022/train/train/2.tif     13\n",
       "3          3     ../input/datathonindoml-2022/train/train/3.tif     14\n",
       "4          4     ../input/datathonindoml-2022/train/train/4.tif      6\n",
       "...      ...                                                ...    ...\n",
       "15995  15995  ../input/datathonindoml-2022/train/train/15995...      2\n",
       "15996  15996  ../input/datathonindoml-2022/train/train/15996...     15\n",
       "15997  15997  ../input/datathonindoml-2022/train/train/15997...      3\n",
       "15998  15998  ../input/datathonindoml-2022/train/train/15998...      9\n",
       "15999  15999  ../input/datathonindoml-2022/train/train/15999...      9\n",
       "\n",
       "[16000 rows x 3 columns]"
      ]
     },
     "execution_count": 5,
     "metadata": {},
     "output_type": "execute_result"
    }
   ],
   "source": [
    "labels = pd.read_csv(\"../input/datathonindoml-2022/train_labels.csv\")\n",
    "images = ['../input/datathonindoml-2022/train/train/'+str(name)+'.tif' for name in labels['id']]\n",
    "labels['images'] = images\n",
    "labels = labels[['id', 'images', 'label']]\n",
    "labels"
   ]
  },
  {
   "cell_type": "code",
   "execution_count": 6,
   "id": "34299a97",
   "metadata": {
    "execution": {
     "iopub.execute_input": "2022-10-08T05:20:48.419556Z",
     "iopub.status.busy": "2022-10-08T05:20:48.419194Z",
     "iopub.status.idle": "2022-10-08T05:20:48.426133Z",
     "shell.execute_reply": "2022-10-08T05:20:48.425167Z"
    },
    "papermill": {
     "duration": 0.019691,
     "end_time": "2022-10-08T05:20:48.428178",
     "exception": false,
     "start_time": "2022-10-08T05:20:48.408487",
     "status": "completed"
    },
    "tags": []
   },
   "outputs": [],
   "source": [
    "class_labels = list(set(labels['label']))\n",
    "class_names = [\n",
    "    'letter', 'form', 'email', 'handwritten', 'advertisement', 'scientific report', 'scientific publication',\n",
    "    'specification', 'file folder', 'news article', 'budget', 'invoice', 'presentation', 'questionnaire', 'resume',\n",
    "    'memo'\n",
    "]\n",
    "label_names = pd.DataFrame({\n",
    "    'labels': class_labels,\n",
    "    'names': class_names\n",
    "})"
   ]
  },
  {
   "cell_type": "code",
   "execution_count": 7,
   "id": "c1c7149a",
   "metadata": {
    "execution": {
     "iopub.execute_input": "2022-10-08T05:20:48.449797Z",
     "iopub.status.busy": "2022-10-08T05:20:48.449279Z",
     "iopub.status.idle": "2022-10-08T05:20:48.500268Z",
     "shell.execute_reply": "2022-10-08T05:20:48.499349Z"
    },
    "papermill": {
     "duration": 0.06428,
     "end_time": "2022-10-08T05:20:48.502325",
     "exception": false,
     "start_time": "2022-10-08T05:20:48.438045",
     "status": "completed"
    },
    "tags": []
   },
   "outputs": [
    {
     "data": {
      "text/html": [
       "<div>\n",
       "<style scoped>\n",
       "    .dataframe tbody tr th:only-of-type {\n",
       "        vertical-align: middle;\n",
       "    }\n",
       "\n",
       "    .dataframe tbody tr th {\n",
       "        vertical-align: top;\n",
       "    }\n",
       "\n",
       "    .dataframe thead th {\n",
       "        text-align: right;\n",
       "    }\n",
       "</style>\n",
       "<table border=\"1\" class=\"dataframe\">\n",
       "  <thead>\n",
       "    <tr style=\"text-align: right;\">\n",
       "      <th></th>\n",
       "      <th>id</th>\n",
       "      <th>images</th>\n",
       "      <th>label</th>\n",
       "    </tr>\n",
       "  </thead>\n",
       "  <tbody>\n",
       "    <tr>\n",
       "      <th>0</th>\n",
       "      <td>0</td>\n",
       "      <td>../input/datathonindoml-2022/train/train/0.tif</td>\n",
       "      <td>1</td>\n",
       "    </tr>\n",
       "    <tr>\n",
       "      <th>1</th>\n",
       "      <td>1</td>\n",
       "      <td>../input/datathonindoml-2022/train/train/1.tif</td>\n",
       "      <td>13</td>\n",
       "    </tr>\n",
       "    <tr>\n",
       "      <th>2</th>\n",
       "      <td>2</td>\n",
       "      <td>../input/datathonindoml-2022/train/train/2.tif</td>\n",
       "      <td>13</td>\n",
       "    </tr>\n",
       "    <tr>\n",
       "      <th>3</th>\n",
       "      <td>3</td>\n",
       "      <td>../input/datathonindoml-2022/train/train/3.tif</td>\n",
       "      <td>14</td>\n",
       "    </tr>\n",
       "    <tr>\n",
       "      <th>4</th>\n",
       "      <td>4</td>\n",
       "      <td>../input/datathonindoml-2022/train/train/4.tif</td>\n",
       "      <td>6</td>\n",
       "    </tr>\n",
       "    <tr>\n",
       "      <th>...</th>\n",
       "      <td>...</td>\n",
       "      <td>...</td>\n",
       "      <td>...</td>\n",
       "    </tr>\n",
       "    <tr>\n",
       "      <th>15195</th>\n",
       "      <td>15995</td>\n",
       "      <td>../input/datathonindoml-2022/train/train/15995...</td>\n",
       "      <td>2</td>\n",
       "    </tr>\n",
       "    <tr>\n",
       "      <th>15196</th>\n",
       "      <td>15996</td>\n",
       "      <td>../input/datathonindoml-2022/train/train/15996...</td>\n",
       "      <td>15</td>\n",
       "    </tr>\n",
       "    <tr>\n",
       "      <th>15197</th>\n",
       "      <td>15997</td>\n",
       "      <td>../input/datathonindoml-2022/train/train/15997...</td>\n",
       "      <td>3</td>\n",
       "    </tr>\n",
       "    <tr>\n",
       "      <th>15198</th>\n",
       "      <td>15998</td>\n",
       "      <td>../input/datathonindoml-2022/train/train/15998...</td>\n",
       "      <td>9</td>\n",
       "    </tr>\n",
       "    <tr>\n",
       "      <th>15199</th>\n",
       "      <td>15999</td>\n",
       "      <td>../input/datathonindoml-2022/train/train/15999...</td>\n",
       "      <td>9</td>\n",
       "    </tr>\n",
       "  </tbody>\n",
       "</table>\n",
       "<p>15200 rows × 3 columns</p>\n",
       "</div>"
      ],
      "text/plain": [
       "          id                                             images  label\n",
       "0          0     ../input/datathonindoml-2022/train/train/0.tif      1\n",
       "1          1     ../input/datathonindoml-2022/train/train/1.tif     13\n",
       "2          2     ../input/datathonindoml-2022/train/train/2.tif     13\n",
       "3          3     ../input/datathonindoml-2022/train/train/3.tif     14\n",
       "4          4     ../input/datathonindoml-2022/train/train/4.tif      6\n",
       "...      ...                                                ...    ...\n",
       "15195  15995  ../input/datathonindoml-2022/train/train/15995...      2\n",
       "15196  15996  ../input/datathonindoml-2022/train/train/15996...     15\n",
       "15197  15997  ../input/datathonindoml-2022/train/train/15997...      3\n",
       "15198  15998  ../input/datathonindoml-2022/train/train/15998...      9\n",
       "15199  15999  ../input/datathonindoml-2022/train/train/15999...      9\n",
       "\n",
       "[15200 rows x 3 columns]"
      ]
     },
     "execution_count": 7,
     "metadata": {},
     "output_type": "execute_result"
    }
   ],
   "source": [
    "train_labels = pd.read_csv('../input/dataroi/train_labels_1.csv')\n",
    "test_labels = pd.read_csv('../input/dataroi/test_labels_1.csv')\n",
    "train_labels['images'] = ['../input/datathonindoml-2022/train/train/'+path.split('/')[-1] for path in list(train_labels['images'])]\n",
    "test_labels['images'] = ['../input/datathonindoml-2022/validation/validation/'+path.split('/')[-1] for path in list(test_labels['images'])]\n",
    "train_labels"
   ]
  },
  {
   "cell_type": "code",
   "execution_count": 8,
   "id": "9845405b",
   "metadata": {
    "execution": {
     "iopub.execute_input": "2022-10-08T05:20:48.523735Z",
     "iopub.status.busy": "2022-10-08T05:20:48.523470Z",
     "iopub.status.idle": "2022-10-08T05:20:48.536170Z",
     "shell.execute_reply": "2022-10-08T05:20:48.535330Z"
    },
    "papermill": {
     "duration": 0.025733,
     "end_time": "2022-10-08T05:20:48.538171",
     "exception": false,
     "start_time": "2022-10-08T05:20:48.512438",
     "status": "completed"
    },
    "tags": []
   },
   "outputs": [
    {
     "data": {
      "text/html": [
       "<div>\n",
       "<style scoped>\n",
       "    .dataframe tbody tr th:only-of-type {\n",
       "        vertical-align: middle;\n",
       "    }\n",
       "\n",
       "    .dataframe tbody tr th {\n",
       "        vertical-align: top;\n",
       "    }\n",
       "\n",
       "    .dataframe thead th {\n",
       "        text-align: right;\n",
       "    }\n",
       "</style>\n",
       "<table border=\"1\" class=\"dataframe\">\n",
       "  <thead>\n",
       "    <tr style=\"text-align: right;\">\n",
       "      <th></th>\n",
       "      <th>id</th>\n",
       "      <th>images</th>\n",
       "      <th>label</th>\n",
       "    </tr>\n",
       "  </thead>\n",
       "  <tbody>\n",
       "    <tr>\n",
       "      <th>0</th>\n",
       "      <td>18</td>\n",
       "      <td>../input/datathonindoml-2022/validation/valida...</td>\n",
       "      <td>11</td>\n",
       "    </tr>\n",
       "    <tr>\n",
       "      <th>1</th>\n",
       "      <td>25</td>\n",
       "      <td>../input/datathonindoml-2022/validation/valida...</td>\n",
       "      <td>8</td>\n",
       "    </tr>\n",
       "    <tr>\n",
       "      <th>2</th>\n",
       "      <td>33</td>\n",
       "      <td>../input/datathonindoml-2022/validation/valida...</td>\n",
       "      <td>6</td>\n",
       "    </tr>\n",
       "    <tr>\n",
       "      <th>3</th>\n",
       "      <td>41</td>\n",
       "      <td>../input/datathonindoml-2022/validation/valida...</td>\n",
       "      <td>1</td>\n",
       "    </tr>\n",
       "    <tr>\n",
       "      <th>4</th>\n",
       "      <td>65</td>\n",
       "      <td>../input/datathonindoml-2022/validation/valida...</td>\n",
       "      <td>14</td>\n",
       "    </tr>\n",
       "    <tr>\n",
       "      <th>...</th>\n",
       "      <td>...</td>\n",
       "      <td>...</td>\n",
       "      <td>...</td>\n",
       "    </tr>\n",
       "    <tr>\n",
       "      <th>795</th>\n",
       "      <td>15816</td>\n",
       "      <td>../input/datathonindoml-2022/validation/valida...</td>\n",
       "      <td>2</td>\n",
       "    </tr>\n",
       "    <tr>\n",
       "      <th>796</th>\n",
       "      <td>15824</td>\n",
       "      <td>../input/datathonindoml-2022/validation/valida...</td>\n",
       "      <td>2</td>\n",
       "    </tr>\n",
       "    <tr>\n",
       "      <th>797</th>\n",
       "      <td>15832</td>\n",
       "      <td>../input/datathonindoml-2022/validation/valida...</td>\n",
       "      <td>11</td>\n",
       "    </tr>\n",
       "    <tr>\n",
       "      <th>798</th>\n",
       "      <td>15863</td>\n",
       "      <td>../input/datathonindoml-2022/validation/valida...</td>\n",
       "      <td>15</td>\n",
       "    </tr>\n",
       "    <tr>\n",
       "      <th>799</th>\n",
       "      <td>15994</td>\n",
       "      <td>../input/datathonindoml-2022/validation/valida...</td>\n",
       "      <td>6</td>\n",
       "    </tr>\n",
       "  </tbody>\n",
       "</table>\n",
       "<p>800 rows × 3 columns</p>\n",
       "</div>"
      ],
      "text/plain": [
       "        id                                             images  label\n",
       "0       18  ../input/datathonindoml-2022/validation/valida...     11\n",
       "1       25  ../input/datathonindoml-2022/validation/valida...      8\n",
       "2       33  ../input/datathonindoml-2022/validation/valida...      6\n",
       "3       41  ../input/datathonindoml-2022/validation/valida...      1\n",
       "4       65  ../input/datathonindoml-2022/validation/valida...     14\n",
       "..     ...                                                ...    ...\n",
       "795  15816  ../input/datathonindoml-2022/validation/valida...      2\n",
       "796  15824  ../input/datathonindoml-2022/validation/valida...      2\n",
       "797  15832  ../input/datathonindoml-2022/validation/valida...     11\n",
       "798  15863  ../input/datathonindoml-2022/validation/valida...     15\n",
       "799  15994  ../input/datathonindoml-2022/validation/valida...      6\n",
       "\n",
       "[800 rows x 3 columns]"
      ]
     },
     "execution_count": 8,
     "metadata": {},
     "output_type": "execute_result"
    }
   ],
   "source": [
    "test_labels"
   ]
  },
  {
   "cell_type": "code",
   "execution_count": 9,
   "id": "54b9c7bb",
   "metadata": {
    "execution": {
     "iopub.execute_input": "2022-10-08T05:20:48.560260Z",
     "iopub.status.busy": "2022-10-08T05:20:48.559996Z",
     "iopub.status.idle": "2022-10-08T05:20:48.947512Z",
     "shell.execute_reply": "2022-10-08T05:20:48.946539Z"
    },
    "papermill": {
     "duration": 0.401553,
     "end_time": "2022-10-08T05:20:48.950153",
     "exception": false,
     "start_time": "2022-10-08T05:20:48.548600",
     "status": "completed"
    },
    "tags": []
   },
   "outputs": [],
   "source": [
    "roi_info = np.load('../input/roi-info/train_roi_viz.npy')"
   ]
  },
  {
   "cell_type": "code",
   "execution_count": 10,
   "id": "acfc0416",
   "metadata": {
    "execution": {
     "iopub.execute_input": "2022-10-08T05:20:48.972489Z",
     "iopub.status.busy": "2022-10-08T05:20:48.972169Z",
     "iopub.status.idle": "2022-10-08T05:20:48.979103Z",
     "shell.execute_reply": "2022-10-08T05:20:48.978200Z"
    },
    "papermill": {
     "duration": 0.020121,
     "end_time": "2022-10-08T05:20:48.981092",
     "exception": false,
     "start_time": "2022-10-08T05:20:48.960971",
     "status": "completed"
    },
    "tags": []
   },
   "outputs": [
    {
     "data": {
      "text/plain": [
       "(16000, 100, 6)"
      ]
     },
     "execution_count": 10,
     "metadata": {},
     "output_type": "execute_result"
    }
   ],
   "source": [
    "roi_info.shape"
   ]
  },
  {
   "cell_type": "markdown",
   "id": "df66d0d5",
   "metadata": {
    "papermill": {
     "duration": 0.010421,
     "end_time": "2022-10-08T05:20:49.001754",
     "exception": false,
     "start_time": "2022-10-08T05:20:48.991333",
     "status": "completed"
    },
    "tags": []
   },
   "source": [
    "## Data Preparation"
   ]
  },
  {
   "cell_type": "markdown",
   "id": "dd735714",
   "metadata": {
    "papermill": {
     "duration": 0.010083,
     "end_time": "2022-10-08T05:20:49.022373",
     "exception": false,
     "start_time": "2022-10-08T05:20:49.012290",
     "status": "completed"
    },
    "tags": []
   },
   "source": [
    "We will be using the image data above and the ROI extraction data as explained [here](RoI-Extraction.ipynb)."
   ]
  },
  {
   "cell_type": "code",
   "execution_count": 11,
   "id": "ef187fc8",
   "metadata": {
    "execution": {
     "iopub.execute_input": "2022-10-08T05:20:49.044851Z",
     "iopub.status.busy": "2022-10-08T05:20:49.044540Z",
     "iopub.status.idle": "2022-10-08T05:20:49.049982Z",
     "shell.execute_reply": "2022-10-08T05:20:49.049144Z"
    },
    "papermill": {
     "duration": 0.019305,
     "end_time": "2022-10-08T05:20:49.052078",
     "exception": false,
     "start_time": "2022-10-08T05:20:49.032773",
     "status": "completed"
    },
    "tags": []
   },
   "outputs": [],
   "source": [
    "BATCH_SIZE = 50\n",
    "# INPUT_SHAPE = (800, 600) # --> Takes too much time on Kaggle\n",
    "INPUT_SHAPE = (400, 300)"
   ]
  },
  {
   "cell_type": "markdown",
   "id": "ab0c2e8a",
   "metadata": {
    "papermill": {
     "duration": 0.01014,
     "end_time": "2022-10-08T05:20:49.072540",
     "exception": false,
     "start_time": "2022-10-08T05:20:49.062400",
     "status": "completed"
    },
    "tags": []
   },
   "source": [
    "Now due to the quite varying nature of the ROI shapes, the following pre-processing steps on each ROI converts them to same shape as that of the original document images by resizing and padding with the maximum color in the ROI which is mostly white and sometimes greyish, etc."
   ]
  },
  {
   "cell_type": "code",
   "execution_count": 12,
   "id": "7e880f0b",
   "metadata": {
    "execution": {
     "iopub.execute_input": "2022-10-08T05:20:49.094503Z",
     "iopub.status.busy": "2022-10-08T05:20:49.094224Z",
     "iopub.status.idle": "2022-10-08T05:20:49.103069Z",
     "shell.execute_reply": "2022-10-08T05:20:49.102205Z"
    },
    "papermill": {
     "duration": 0.022136,
     "end_time": "2022-10-08T05:20:49.105131",
     "exception": false,
     "start_time": "2022-10-08T05:20:49.082995",
     "status": "completed"
    },
    "tags": []
   },
   "outputs": [],
   "source": [
    "def resize_and_pad_with_doc_max_col(img, f_target_height=INPUT_SHAPE[0], f_target_width=INPUT_SHAPE[1]):\n",
    "    f_width = img.shape[1]\n",
    "    f_height = img.shape[0]\n",
    "    ratio = np.max([f_width / f_target_width, f_height / f_target_height])\n",
    "    resized_height_float = f_height / ratio\n",
    "    resized_width_float = f_width / ratio\n",
    "    resized_height = tf.cast(\n",
    "        np.floor(resized_height_float), dtype=tf.int32)\n",
    "    resized_width = tf.cast(\n",
    "        np.floor(resized_width_float), dtype=tf.int32)\n",
    "\n",
    "    padding_height = (f_target_height - resized_height_float) / 2\n",
    "    padding_width = (f_target_width - resized_width_float) / 2\n",
    "    f_padding_height = np.floor(padding_height)\n",
    "    f_padding_width = np.floor(padding_width)\n",
    "    p_height = np.max([0, tf.cast(f_padding_height, dtype=tf.int32)])\n",
    "    p_width = np.max([0, tf.cast(f_padding_width, dtype=tf.int32)])\n",
    "\n",
    "    resized_padded_image = tf.image.resize_with_pad(img, f_target_height, f_target_width).numpy()\n",
    "    white_color = np.max(resized_padded_image)\n",
    "    resized_padded_image[:p_height, :] = white_color\n",
    "    resized_padded_image[(f_target_height-p_height-1):, :] = white_color\n",
    "    resized_padded_image[:, :p_width] = white_color\n",
    "    resized_padded_image[:, (f_target_width-p_width-1):] = white_color\n",
    "    return resized_padded_image"
   ]
  },
  {
   "cell_type": "markdown",
   "id": "a48f9945",
   "metadata": {
    "papermill": {
     "duration": 0.010144,
     "end_time": "2022-10-08T05:20:49.125907",
     "exception": false,
     "start_time": "2022-10-08T05:20:49.115763",
     "status": "completed"
    },
    "tags": []
   },
   "source": [
    "The data generator as created below does the following things:\n",
    "- It uses the RoI extraction information and the image to extract the portions of the document image and returns a list of these snippet regions."
   ]
  },
  {
   "cell_type": "code",
   "execution_count": 13,
   "id": "513620fc",
   "metadata": {
    "execution": {
     "iopub.execute_input": "2022-10-08T05:20:49.147773Z",
     "iopub.status.busy": "2022-10-08T05:20:49.147517Z",
     "iopub.status.idle": "2022-10-08T05:20:49.155576Z",
     "shell.execute_reply": "2022-10-08T05:20:49.154748Z"
    },
    "papermill": {
     "duration": 0.02122,
     "end_time": "2022-10-08T05:20:49.157484",
     "exception": false,
     "start_time": "2022-10-08T05:20:49.136264",
     "status": "completed"
    },
    "tags": []
   },
   "outputs": [],
   "source": [
    "class ROIGenerator:\n",
    "    def __init__(self, df, df_roi, X_col, roi_pad=5):\n",
    "        self.paths = list(df[X_col])\n",
    "        self.roi_info = df_roi\n",
    "        self.num_images = df_roi.shape[0]\n",
    "        self.roi_pad = roi_pad\n",
    "        self.idx = 0\n",
    "        \n",
    "    def generate(self):\n",
    "        while True:\n",
    "            if self.idx >= self.num_images:\n",
    "                self.idx = 0\n",
    "            image_data = img_to_array(load_img(self.paths[self.idx]))\n",
    "            roi_data = self.roi_info[self.idx]\n",
    "            self.idx += 1\n",
    "            yield [resize_and_pad_with_doc_max_col(image_data[max(0, int(y_top)-self.roi_pad):min(image_data.shape[0], int(y_bottom)+self.roi_pad), max(0, int(x_top)-self.roi_pad):min(image_data.shape[1], int(x_bottom)+self.roi_pad)]) if pad_mask == 1 else [[]] for x_top, y_top, x_bottom, y_bottom, roi_type, pad_mask in roi_data]"
   ]
  },
  {
   "cell_type": "code",
   "execution_count": 14,
   "id": "883fcc5b",
   "metadata": {
    "execution": {
     "iopub.execute_input": "2022-10-08T05:20:49.179205Z",
     "iopub.status.busy": "2022-10-08T05:20:49.178956Z",
     "iopub.status.idle": "2022-10-08T05:20:49.185415Z",
     "shell.execute_reply": "2022-10-08T05:20:49.184635Z"
    },
    "papermill": {
     "duration": 0.019607,
     "end_time": "2022-10-08T05:20:49.187312",
     "exception": false,
     "start_time": "2022-10-08T05:20:49.167705",
     "status": "completed"
    },
    "tags": []
   },
   "outputs": [],
   "source": [
    "test_gen = ROIGenerator(\n",
    "    df=train_labels,\n",
    "    df_roi=roi_info,\n",
    "    X_col='images'\n",
    ")"
   ]
  },
  {
   "cell_type": "markdown",
   "id": "8ff63dd1",
   "metadata": {
    "papermill": {
     "duration": 0.010005,
     "end_time": "2022-10-08T05:20:49.207497",
     "exception": false,
     "start_time": "2022-10-08T05:20:49.197492",
     "status": "completed"
    },
    "tags": []
   },
   "source": [
    "Below is the generated ROI extractions per image depicted."
   ]
  },
  {
   "cell_type": "code",
   "execution_count": 15,
   "id": "808e5b60",
   "metadata": {
    "execution": {
     "iopub.execute_input": "2022-10-08T05:20:49.229471Z",
     "iopub.status.busy": "2022-10-08T05:20:49.228732Z",
     "iopub.status.idle": "2022-10-08T05:20:52.970091Z",
     "shell.execute_reply": "2022-10-08T05:20:52.969278Z"
    },
    "papermill": {
     "duration": 3.754473,
     "end_time": "2022-10-08T05:20:52.972217",
     "exception": false,
     "start_time": "2022-10-08T05:20:49.217744",
     "status": "completed"
    },
    "tags": []
   },
   "outputs": [
    {
     "name": "stderr",
     "output_type": "stream",
     "text": [
      "2022-10-08 05:20:49.310461: I tensorflow/stream_executor/cuda/cuda_gpu_executor.cc:937] successful NUMA node read from SysFS had negative value (-1), but there must be at least one NUMA node, so returning NUMA node zero\n",
      "2022-10-08 05:20:49.380163: I tensorflow/stream_executor/cuda/cuda_gpu_executor.cc:937] successful NUMA node read from SysFS had negative value (-1), but there must be at least one NUMA node, so returning NUMA node zero\n",
      "2022-10-08 05:20:49.380985: I tensorflow/stream_executor/cuda/cuda_gpu_executor.cc:937] successful NUMA node read from SysFS had negative value (-1), but there must be at least one NUMA node, so returning NUMA node zero\n",
      "2022-10-08 05:20:49.388289: I tensorflow/core/platform/cpu_feature_guard.cc:142] This TensorFlow binary is optimized with oneAPI Deep Neural Network Library (oneDNN) to use the following CPU instructions in performance-critical operations:  AVX2 AVX512F FMA\n",
      "To enable them in other operations, rebuild TensorFlow with the appropriate compiler flags.\n",
      "2022-10-08 05:20:49.388608: I tensorflow/stream_executor/cuda/cuda_gpu_executor.cc:937] successful NUMA node read from SysFS had negative value (-1), but there must be at least one NUMA node, so returning NUMA node zero\n",
      "2022-10-08 05:20:49.389302: I tensorflow/stream_executor/cuda/cuda_gpu_executor.cc:937] successful NUMA node read from SysFS had negative value (-1), but there must be at least one NUMA node, so returning NUMA node zero\n",
      "2022-10-08 05:20:49.389997: I tensorflow/stream_executor/cuda/cuda_gpu_executor.cc:937] successful NUMA node read from SysFS had negative value (-1), but there must be at least one NUMA node, so returning NUMA node zero\n",
      "2022-10-08 05:20:51.249379: I tensorflow/stream_executor/cuda/cuda_gpu_executor.cc:937] successful NUMA node read from SysFS had negative value (-1), but there must be at least one NUMA node, so returning NUMA node zero\n",
      "2022-10-08 05:20:51.250263: I tensorflow/stream_executor/cuda/cuda_gpu_executor.cc:937] successful NUMA node read from SysFS had negative value (-1), but there must be at least one NUMA node, so returning NUMA node zero\n",
      "2022-10-08 05:20:51.251001: I tensorflow/stream_executor/cuda/cuda_gpu_executor.cc:937] successful NUMA node read from SysFS had negative value (-1), but there must be at least one NUMA node, so returning NUMA node zero\n",
      "2022-10-08 05:20:51.251631: I tensorflow/core/common_runtime/gpu/gpu_device.cc:1510] Created device /job:localhost/replica:0/task:0/device:GPU:0 with 15401 MB memory:  -> device: 0, name: Tesla P100-PCIE-16GB, pci bus id: 0000:00:04.0, compute capability: 6.0\n"
     ]
    },
    {
     "data": {
      "image/png": "[encoded data removed]",
      "text/plain": [
       "<Figure size 720x1440 with 1 Axes>"
      ]
     },
     "metadata": {
      "needs_background": "light"
     },
     "output_type": "display_data"
    },
    {
     "data": {
      "image/png": "[encoded data removed]",
      "text/plain": [
       "<Figure size 1080x720 with 15 Axes>"
      ]
     },
     "metadata": {
      "needs_background": "light"
     },
     "output_type": "display_data"
    }
   ],
   "source": [
    "plt.figure(figsize=(10,20))\n",
    "plt.imshow(tf.cast(img_to_array(load_img('../input/datathonindoml-2022/train/train/0.tif')), dtype=tf.uint8))\n",
    "plt.axis('off')\n",
    "plt.title(\"Document Image\")\n",
    "\n",
    "imgs = next(test_gen.generate())\n",
    "fig, ax = plt.subplots(3, 5, figsize=(15,10))\n",
    "k = 0\n",
    "for i in range(3):\n",
    "    for j in range(5):\n",
    "        if len(imgs[k]) != 0:\n",
    "            ax[i,j].imshow(tf.cast(imgs[k], dtype=tf.uint8))\n",
    "            ax[i,j].axis('off')\n",
    "            ax[i,j].set_title(f'RoI {k+1}')\n",
    "        k += 1"
   ]
  },
  {
   "cell_type": "markdown",
   "id": "cee01771",
   "metadata": {
    "papermill": {
     "duration": 0.013634,
     "end_time": "2022-10-08T05:20:53.000194",
     "exception": false,
     "start_time": "2022-10-08T05:20:52.986560",
     "status": "completed"
    },
    "tags": []
   },
   "source": [
    "Now, after we have seen how each document image is processed which is an extension to the [4 Piece Add On Model's](EfficientNet-4Piece-Model.ipynb) pre-processing which worked with only 4 pieces."
   ]
  },
  {
   "cell_type": "code",
   "execution_count": 16,
   "id": "704ea4d5",
   "metadata": {
    "execution": {
     "iopub.execute_input": "2022-10-08T05:20:53.029010Z",
     "iopub.status.busy": "2022-10-08T05:20:53.028702Z",
     "iopub.status.idle": "2022-10-08T05:20:53.041058Z",
     "shell.execute_reply": "2022-10-08T05:20:53.040159Z"
    },
    "papermill": {
     "duration": 0.029629,
     "end_time": "2022-10-08T05:20:53.043398",
     "exception": false,
     "start_time": "2022-10-08T05:20:53.013769",
     "status": "completed"
    },
    "tags": []
   },
   "outputs": [],
   "source": [
    "# class ImageDataGenerator:\n",
    "#     def __init__(self, df, X_col, roi_info, y_col, batch_size, roi_pad=5, input_size=(800, 600), shuffle=True, base=0):\n",
    "#         self.df = df.copy() # DataFrame consisting image paths of inputs and the labels for the outputs\n",
    "#         self.X_col = X_col # Input column, specifying image path, in the DataFrame\n",
    "#         self.roi_info = roi_info # Contains valid information for the pre-processing of each image\n",
    "#         self.y_col = y_col # Output column, specifying corresponding label, in the DataFrame\n",
    "#         self.batch_size = batch_size # Batch Size\n",
    "#         self.roi_pad = roi_pad # Padding on 4 sides for each ROI\n",
    "#         self.input_size = input_size # Input Image size\n",
    "#         self.shuffle = shuffle # Shuffle Data after each epoch\n",
    "#         self.n = len(self.df) # length of the entire data\n",
    "#         self.base=base # base value\n",
    "        \n",
    "#     def __get_input(self, path):\n",
    "#         image_data = img_to_array(load_img(path))\n",
    "#         idx = int(path.split('/')[-1].split('.')[0]) - self.base\n",
    "#         # some other pre-processing / data-augmentation goes here\n",
    "#         roi_data = self.roi_info[idx]\n",
    "#         return [resize_and_pad_with_doc_max_col(image_data[max(0, int(y_top)-self.roi_pad):min(image_data.shape[0], int(y_bottom)+self.roi_pad), max(0, int(x_top)-self.roi_pad):min(image_data.shape[1], int(x_bottom)+self.roi_pad)])/255.0 for x_top, y_top, x_bottom, y_bottom, roi_type, pad_mask in roi_data if pad_mask == 1]\n",
    "\n",
    "#     def __get_data(self, batches):\n",
    "#         batch_paths = batches[self.X_col]\n",
    "#         batch_labels = batches[self.y_col]\n",
    "#         X_batch = [np.array(self.__get_input(path)) for path in batch_paths]\n",
    "#         y_batch = tf.cast(batch_labels, dtype=tf.float32)\n",
    "#         return X_batch, y_batch\n",
    "    \n",
    "#     def __getitem__(self, index):\n",
    "#         batches = self.df[index * self.batch_size:(index + 1) * self.batch_size]\n",
    "#         X, y = self.__get_data(batches)\n",
    "#         return X, y\n",
    "    \n",
    "#     def __len__(self):\n",
    "#         return self.n // self.batch_size\n",
    "\n",
    "class ImageDataGenerator:\n",
    "    def __init__(self, df, X_col, roi_info, y_col, batch_size, roi_pad=5, input_size=(800, 600), shuffle=True, base=0):\n",
    "        self.df = df.copy() # DataFrame consisting image paths of inputs and the labels for the outputs\n",
    "        self.X_col = X_col # Input column, specifying image path, in the DataFrame\n",
    "        self.roi_info = roi_info # Contains valid information for the pre-processing of each image\n",
    "        self.y_col = y_col # Output column, specifying corresponding label, in the DataFrame\n",
    "        self.batch_size = batch_size # Batch Size\n",
    "        self.roi_pad = roi_pad # Padding on 4 sides for each ROI\n",
    "        self.input_size = input_size # Input Image size\n",
    "        self.shuffle = shuffle # Shuffle Data after each epoch\n",
    "        self.n = len(self.df) # length of the entire data\n",
    "        self.base=base # base value\n",
    "    \n",
    "    # def preprocess(self, image):  \n",
    "    #     return (tf.cast(image, dtype=tf.float32) - 128.00) / 128.00\n",
    "        \n",
    "    def __get_input(self, path):\n",
    "        image_data = img_to_array(load_img(path))\n",
    "        idx = int(path.split('/')[-1].split('.')[0]) - self.base\n",
    "        # some other pre-processing / data-augmentation goes here\n",
    "        roi_data = self.roi_info[idx]\n",
    "        return [tf.keras.applications.resnet_v2.preprocess_input (resize_and_pad_with_doc_max_col(image_data[max(0, int(y_top)-self.roi_pad):min(image_data.shape[0], int(y_bottom)+self.roi_pad), max(0, int(x_top)-self.roi_pad):min(image_data.shape[1], int(x_bottom)+self.roi_pad)])) for x_top, y_top, x_bottom, y_bottom, roi_type, pad_mask in roi_data if pad_mask == 1]\n",
    "\n",
    "    def __get_data(self, batches):\n",
    "        batch_paths = batches[self.X_col]\n",
    "        batch_labels = batches[self.y_col]\n",
    "        X_batch = [np.array(self.__get_input(path)) for path in batch_paths]\n",
    "        y_batch = tf.cast(batch_labels, dtype=tf.float32)\n",
    "        return X_batch, y_batch\n",
    "    \n",
    "    def __getitem__(self, index):\n",
    "        batches = self.df[index * self.batch_size:(index + 1) * self.batch_size]\n",
    "        X, y = self.__get_data(batches)\n",
    "        return X, y\n",
    "    \n",
    "    def __len__(self):\n",
    "        return self.n // self.batch_size"
   ]
  },
  {
   "cell_type": "code",
   "execution_count": 17,
   "id": "978074cd",
   "metadata": {
    "execution": {
     "iopub.execute_input": "2022-10-08T05:20:53.071702Z",
     "iopub.status.busy": "2022-10-08T05:20:53.071438Z",
     "iopub.status.idle": "2022-10-08T05:20:53.077195Z",
     "shell.execute_reply": "2022-10-08T05:20:53.076361Z"
    },
    "papermill": {
     "duration": 0.022398,
     "end_time": "2022-10-08T05:20:53.079199",
     "exception": false,
     "start_time": "2022-10-08T05:20:53.056801",
     "status": "completed"
    },
    "tags": []
   },
   "outputs": [],
   "source": [
    "train_generator = ImageDataGenerator(\n",
    "    df=labels,\n",
    "    X_col='images',\n",
    "    roi_info=roi_info,\n",
    "    y_col='label',\n",
    "    batch_size=BATCH_SIZE,\n",
    "    input_size=INPUT_SHAPE,\n",
    "    shuffle=False\n",
    ")"
   ]
  },
  {
   "cell_type": "code",
   "execution_count": 18,
   "id": "7db0a4b8",
   "metadata": {
    "execution": {
     "iopub.execute_input": "2022-10-08T05:20:53.107532Z",
     "iopub.status.busy": "2022-10-08T05:20:53.107256Z",
     "iopub.status.idle": "2022-10-08T05:20:53.111007Z",
     "shell.execute_reply": "2022-10-08T05:20:53.110140Z"
    },
    "papermill": {
     "duration": 0.020526,
     "end_time": "2022-10-08T05:20:53.113180",
     "exception": false,
     "start_time": "2022-10-08T05:20:53.092654",
     "status": "completed"
    },
    "tags": []
   },
   "outputs": [],
   "source": [
    "# batch = train_generator[0]\n",
    "# print('*** Batch Overview ***')\n",
    "# print('Batch Size:', len(batch[0]))\n",
    "# for i in range(BATCH_SIZE):\n",
    "#     print(f'Number of ROIs for the {i+1}th input image:', batch[0][i].shape[0])\n",
    "# print('ROI Dimensions:', batch[0][0].shape[1:])\n",
    "# print('Output Label Tensor Shape:', batch[1].shape)\n",
    "# del batch"
   ]
  },
  {
   "cell_type": "markdown",
   "id": "f07c234e",
   "metadata": {
    "papermill": {
     "duration": 0.013399,
     "end_time": "2022-10-08T05:20:53.139973",
     "exception": false,
     "start_time": "2022-10-08T05:20:53.126574",
     "status": "completed"
    },
    "tags": []
   },
   "source": [
    "Because of too many images, the batch visualization is not provided but it is similar to that of above shown for one document which is equivalent to batch size of 1."
   ]
  },
  {
   "cell_type": "markdown",
   "id": "1299c350",
   "metadata": {
    "papermill": {
     "duration": 0.013369,
     "end_time": "2022-10-08T05:20:53.167001",
     "exception": false,
     "start_time": "2022-10-08T05:20:53.153632",
     "status": "completed"
    },
    "tags": []
   },
   "source": [
    "## Model Building"
   ]
  },
  {
   "cell_type": "markdown",
   "id": "8f3156a2",
   "metadata": {
    "papermill": {
     "duration": 0.013368,
     "end_time": "2022-10-08T05:20:53.193808",
     "exception": false,
     "start_time": "2022-10-08T05:20:53.180440",
     "status": "completed"
    },
    "tags": []
   },
   "source": [
    "After building a couple of CNN models consdering only the entire document image [EfficientNet Only Model](EfficientNet-Only-Model.ipynb) and [4 Piece Add On Model](EfficientNet-4Piece-Model.ipynb). It is now time to build much more better models considering other structures we will start by incorporating the ROI visual features and then later much more.\n",
    "\n",
    "We will use the following pre-trained model to learn features for these ROIs."
   ]
  },
  {
   "cell_type": "markdown",
   "id": "69f62a92",
   "metadata": {
    "papermill": {
     "duration": 0.013355,
     "end_time": "2022-10-08T05:20:53.220808",
     "exception": false,
     "start_time": "2022-10-08T05:20:53.207453",
     "status": "completed"
    },
    "tags": []
   },
   "source": [
    "- EfficientNetV2S"
   ]
  },
  {
   "cell_type": "markdown",
   "id": "702f674f",
   "metadata": {
    "papermill": {
     "duration": 0.013361,
     "end_time": "2022-10-08T05:20:53.247682",
     "exception": false,
     "start_time": "2022-10-08T05:20:53.234321",
     "status": "completed"
    },
    "tags": []
   },
   "source": [
    "The EfficientNetV2S is a large model and since, we are not pre-training the entire model, we will just fine-tune it with few extra layers. So, to fasten training we precompute the output of the EfficientNetV2S model and use this for training the added Dense Layers for Fine-Tuning."
   ]
  },
  {
   "cell_type": "code",
   "execution_count": 19,
   "id": "33ce0c10",
   "metadata": {
    "execution": {
     "iopub.execute_input": "2022-10-08T05:20:53.277815Z",
     "iopub.status.busy": "2022-10-08T05:20:53.277522Z",
     "iopub.status.idle": "2022-10-08T05:20:55.836730Z",
     "shell.execute_reply": "2022-10-08T05:20:55.835725Z"
    },
    "papermill": {
     "duration": 2.577694,
     "end_time": "2022-10-08T05:20:55.839096",
     "exception": false,
     "start_time": "2022-10-08T05:20:53.261402",
     "status": "completed"
    },
    "tags": []
   },
   "outputs": [
    {
     "name": "stdout",
     "output_type": "stream",
     "text": [
      "Downloading data from https://storage.googleapis.com/tensorflow/keras-applications/resnet/resnet50v2_weights_tf_dim_ordering_tf_kernels_notop.h5\n",
      "94674944/94668760 [==============================] - 1s 0us/step\n",
      "94683136/94668760 [==============================] - 1s 0us/step\n"
     ]
    }
   ],
   "source": [
    "# model_xception = Xception(weights=\"imagenet\", input_shape=(*INPUT_SHAPE, 3), include_top=False)\n",
    "# model_effnet = EfficientNetV2S(include_top=False, weights='imagenet', input_shape=(*INPUT_SHAPE, 3))\n",
    "model_resnet = ResNet50V2(include_top=False, weights='imagenet', input_shape=(*INPUT_SHAPE, 3))\n",
    "model_resnet.trainable = False\n",
    "# model_xception.trainable = False"
   ]
  },
  {
   "cell_type": "code",
   "execution_count": 20,
   "id": "65772e16",
   "metadata": {
    "execution": {
     "iopub.execute_input": "2022-10-08T05:20:55.871469Z",
     "iopub.status.busy": "2022-10-08T05:20:55.869747Z",
     "iopub.status.idle": "2022-10-08T05:20:56.210042Z",
     "shell.execute_reply": "2022-10-08T05:20:56.209092Z"
    },
    "papermill": {
     "duration": 0.358342,
     "end_time": "2022-10-08T05:20:56.212502",
     "exception": false,
     "start_time": "2022-10-08T05:20:55.854160",
     "status": "completed"
    },
    "tags": []
   },
   "outputs": [],
   "source": [
    "inp = Input(shape=(*INPUT_SHAPE, 3))\n",
    "out = model_resnet(inp, training=False)\n",
    "# out = model_xception(inp, training=False)\n",
    "output = GlobalAvgPool2D()(out)\n",
    "model = tf.keras.Model(inp, output, name='ResNet-kPiece')\n",
    "# model = tf.keras.Model(inp, output, name='Xception-kPiece')"
   ]
  },
  {
   "cell_type": "code",
   "execution_count": 21,
   "id": "bd1a838b",
   "metadata": {
    "execution": {
     "iopub.execute_input": "2022-10-08T05:20:56.243008Z",
     "iopub.status.busy": "2022-10-08T05:20:56.242711Z",
     "iopub.status.idle": "2022-10-08T05:20:56.256223Z",
     "shell.execute_reply": "2022-10-08T05:20:56.255425Z"
    },
    "papermill": {
     "duration": 0.031016,
     "end_time": "2022-10-08T05:20:56.258364",
     "exception": false,
     "start_time": "2022-10-08T05:20:56.227348",
     "status": "completed"
    },
    "tags": []
   },
   "outputs": [],
   "source": [
    "model.compile(loss = 'sparse_categorical_crossentropy', metrics = ['accuracy'], optimizer = Adam(learning_rate = 0.0003))"
   ]
  },
  {
   "cell_type": "code",
   "execution_count": 22,
   "id": "e3110f90",
   "metadata": {
    "execution": {
     "iopub.execute_input": "2022-10-08T05:20:56.288328Z",
     "iopub.status.busy": "2022-10-08T05:20:56.288072Z",
     "iopub.status.idle": "2022-10-08T05:20:56.300686Z",
     "shell.execute_reply": "2022-10-08T05:20:56.299218Z"
    },
    "papermill": {
     "duration": 0.030061,
     "end_time": "2022-10-08T05:20:56.302712",
     "exception": false,
     "start_time": "2022-10-08T05:20:56.272651",
     "status": "completed"
    },
    "tags": []
   },
   "outputs": [
    {
     "name": "stdout",
     "output_type": "stream",
     "text": [
      "Model: \"ResNet-kPiece\"\n",
      "_________________________________________________________________\n",
      "Layer (type)                 Output Shape              Param #   \n",
      "=================================================================\n",
      "input_2 (InputLayer)         [(None, 400, 300, 3)]     0         \n",
      "_________________________________________________________________\n",
      "resnet50v2 (Functional)      (None, 13, 10, 2048)      23564800  \n",
      "_________________________________________________________________\n",
      "global_average_pooling2d (Gl (None, 2048)              0         \n",
      "=================================================================\n",
      "Total params: 23,564,800\n",
      "Trainable params: 0\n",
      "Non-trainable params: 23,564,800\n",
      "_________________________________________________________________\n"
     ]
    }
   ],
   "source": [
    "model.summary()"
   ]
  },
  {
   "cell_type": "markdown",
   "id": "4599850c",
   "metadata": {
    "papermill": {
     "duration": 0.014133,
     "end_time": "2022-10-08T05:20:56.331339",
     "exception": false,
     "start_time": "2022-10-08T05:20:56.317206",
     "status": "completed"
    },
    "tags": []
   },
   "source": [
    "### Training Data"
   ]
  },
  {
   "cell_type": "code",
   "execution_count": 23,
   "id": "989bc4cf",
   "metadata": {
    "execution": {
     "iopub.execute_input": "2022-10-08T05:20:56.361644Z",
     "iopub.status.busy": "2022-10-08T05:20:56.360873Z",
     "iopub.status.idle": "2022-10-08T05:20:56.367527Z",
     "shell.execute_reply": "2022-10-08T05:20:56.366701Z"
    },
    "papermill": {
     "duration": 0.02407,
     "end_time": "2022-10-08T05:20:56.369703",
     "exception": false,
     "start_time": "2022-10-08T05:20:56.345633",
     "status": "completed"
    },
    "tags": []
   },
   "outputs": [],
   "source": [
    "train_generator_precompute = ImageDataGenerator(\n",
    "    df=labels,\n",
    "    X_col='images',\n",
    "    roi_info=roi_info,\n",
    "    y_col='label',\n",
    "    batch_size=BATCH_SIZE,\n",
    "    input_size=INPUT_SHAPE,\n",
    "    shuffle=False\n",
    ")\n",
    "\n",
    "checkpnt_each = 100\n",
    "assert checkpnt_each % BATCH_SIZE == 0\n",
    "checkpnt_i = checkpnt_each // BATCH_SIZE\n",
    "precompute_output = list()"
   ]
  },
  {
   "cell_type": "markdown",
   "id": "1b718be1",
   "metadata": {
    "papermill": {
     "duration": 0.014094,
     "end_time": "2022-10-08T05:20:56.398137",
     "exception": false,
     "start_time": "2022-10-08T05:20:56.384043",
     "status": "completed"
    },
    "tags": []
   },
   "source": [
    "To avoid memory issues the vector representation of the ROIs of one document is followed immediately by the vectors for the ROIs of the next document. So, when using we will have to keep that in mind. Also, if no ROI is found in a document image then that is simply skipped, and must be handled later."
   ]
  },
  {
   "cell_type": "code",
   "execution_count": 24,
   "id": "1ed22745",
   "metadata": {
    "_kg_hide-output": true,
    "execution": {
     "iopub.execute_input": "2022-10-08T05:20:56.428370Z",
     "iopub.status.busy": "2022-10-08T05:20:56.427543Z",
     "iopub.status.idle": "2022-10-08T06:17:03.932980Z",
     "shell.execute_reply": "2022-10-08T06:17:03.931972Z"
    },
    "papermill": {
     "duration": 3367.522943,
     "end_time": "2022-10-08T06:17:03.935443",
     "exception": false,
     "start_time": "2022-10-08T05:20:56.412500",
     "status": "completed"
    },
    "tags": []
   },
   "outputs": [
    {
     "name": "stdout",
     "output_type": "stream",
     "text": [
      "1th Batch\n"
     ]
    },
    {
     "name": "stderr",
     "output_type": "stream",
     "text": [
      "2022-10-08 05:21:02.688760: W tensorflow/core/framework/cpu_allocator_impl.cc:80] Allocation of 1236960000 exceeds 10% of free system memory.\n",
      "2022-10-08 05:21:03.715178: I tensorflow/compiler/mlir/mlir_graph_optimization_pass.cc:185] None of the MLIR Optimization Passes are enabled (registered 2)\n",
      "2022-10-08 05:21:05.332941: I tensorflow/stream_executor/cuda/cuda_dnn.cc:369] Loaded cuDNN version 8005\n"
     ]
    },
    {
     "name": "stdout",
     "output_type": "stream",
     "text": [
      "2th Batch\n"
     ]
    },
    {
     "name": "stderr",
     "output_type": "stream",
     "text": [
      "2022-10-08 05:21:20.435378: W tensorflow/core/framework/cpu_allocator_impl.cc:80] Allocation of 1169280000 exceeds 10% of free system memory.\n"
     ]
    },
    {
     "name": "stdout",
     "output_type": "stream",
     "text": [
      "3th Batch\n"
     ]
    },
    {
     "name": "stderr",
     "output_type": "stream",
     "text": [
      "2022-10-08 05:21:29.928039: W tensorflow/core/framework/cpu_allocator_impl.cc:80] Allocation of 1019520000 exceeds 10% of free system memory.\n"
     ]
    },
    {
     "name": "stdout",
     "output_type": "stream",
     "text": [
      "4th Batch\n"
     ]
    },
    {
     "name": "stderr",
     "output_type": "stream",
     "text": [
      "2022-10-08 05:21:41.677860: W tensorflow/core/framework/cpu_allocator_impl.cc:80] Allocation of 1186560000 exceeds 10% of free system memory.\n"
     ]
    },
    {
     "name": "stdout",
     "output_type": "stream",
     "text": [
      "5th Batch\n"
     ]
    },
    {
     "name": "stderr",
     "output_type": "stream",
     "text": [
      "2022-10-08 05:21:53.152464: W tensorflow/core/framework/cpu_allocator_impl.cc:80] Allocation of 1049760000 exceeds 10% of free system memory.\n"
     ]
    },
    {
     "name": "stdout",
     "output_type": "stream",
     "text": [
      "6th Batch\n",
      "7th Batch\n",
      "8th Batch\n",
      "9th Batch\n",
      "10th Batch\n",
      "11th Batch\n",
      "12th Batch\n",
      "13th Batch\n",
      "14th Batch\n",
      "15th Batch\n",
      "16th Batch\n",
      "17th Batch\n",
      "18th Batch\n",
      "19th Batch\n",
      "20th Batch\n",
      "21th Batch\n",
      "22th Batch\n",
      "23th Batch\n",
      "24th Batch\n",
      "25th Batch\n",
      "26th Batch\n",
      "27th Batch\n",
      "28th Batch\n",
      "29th Batch\n",
      "30th Batch\n",
      "31th Batch\n",
      "32th Batch\n",
      "33th Batch\n",
      "34th Batch\n",
      "35th Batch\n",
      "36th Batch\n",
      "37th Batch\n",
      "38th Batch\n",
      "39th Batch\n",
      "40th Batch\n",
      "41th Batch\n",
      "42th Batch\n",
      "43th Batch\n",
      "44th Batch\n",
      "45th Batch\n",
      "46th Batch\n",
      "47th Batch\n",
      "48th Batch\n",
      "49th Batch\n",
      "50th Batch\n",
      "51th Batch\n",
      "52th Batch\n",
      "53th Batch\n",
      "54th Batch\n",
      "55th Batch\n",
      "56th Batch\n",
      "57th Batch\n",
      "58th Batch\n",
      "59th Batch\n",
      "60th Batch\n",
      "61th Batch\n",
      "62th Batch\n",
      "63th Batch\n",
      "64th Batch\n",
      "65th Batch\n",
      "66th Batch\n",
      "67th Batch\n",
      "68th Batch\n",
      "69th Batch\n",
      "70th Batch\n",
      "71th Batch\n",
      "72th Batch\n",
      "73th Batch\n",
      "74th Batch\n",
      "75th Batch\n",
      "76th Batch\n",
      "77th Batch\n",
      "78th Batch\n",
      "79th Batch\n",
      "80th Batch\n",
      "81th Batch\n",
      "82th Batch\n",
      "83th Batch\n",
      "84th Batch\n",
      "85th Batch\n",
      "86th Batch\n",
      "87th Batch\n",
      "88th Batch\n",
      "89th Batch\n",
      "90th Batch\n",
      "91th Batch\n",
      "92th Batch\n",
      "93th Batch\n",
      "94th Batch\n",
      "95th Batch\n",
      "96th Batch\n",
      "97th Batch\n",
      "98th Batch\n",
      "99th Batch\n",
      "100th Batch\n",
      "101th Batch\n",
      "102th Batch\n",
      "103th Batch\n",
      "104th Batch\n",
      "105th Batch\n",
      "106th Batch\n",
      "107th Batch\n",
      "108th Batch\n",
      "109th Batch\n",
      "110th Batch\n",
      "111th Batch\n",
      "112th Batch\n",
      "113th Batch\n",
      "114th Batch\n",
      "115th Batch\n",
      "116th Batch\n",
      "117th Batch\n",
      "118th Batch\n",
      "119th Batch\n",
      "120th Batch\n",
      "121th Batch\n",
      "122th Batch\n",
      "123th Batch\n",
      "124th Batch\n",
      "125th Batch\n",
      "126th Batch\n",
      "127th Batch\n",
      "128th Batch\n",
      "129th Batch\n",
      "130th Batch\n",
      "131th Batch\n",
      "132th Batch\n",
      "133th Batch\n",
      "134th Batch\n",
      "135th Batch\n",
      "136th Batch\n",
      "137th Batch\n",
      "138th Batch\n",
      "139th Batch\n",
      "140th Batch\n",
      "141th Batch\n",
      "142th Batch\n",
      "143th Batch\n",
      "144th Batch\n",
      "145th Batch\n",
      "146th Batch\n",
      "147th Batch\n",
      "148th Batch\n",
      "149th Batch\n",
      "150th Batch\n",
      "151th Batch\n",
      "152th Batch\n",
      "153th Batch\n",
      "154th Batch\n",
      "155th Batch\n",
      "156th Batch\n",
      "157th Batch\n",
      "158th Batch\n",
      "159th Batch\n",
      "160th Batch\n",
      "161th Batch\n",
      "162th Batch\n",
      "163th Batch\n",
      "164th Batch\n",
      "165th Batch\n",
      "166th Batch\n",
      "167th Batch\n",
      "168th Batch\n",
      "169th Batch\n",
      "170th Batch\n",
      "171th Batch\n",
      "172th Batch\n",
      "173th Batch\n",
      "174th Batch\n",
      "175th Batch\n",
      "176th Batch\n",
      "177th Batch\n",
      "178th Batch\n",
      "179th Batch\n",
      "180th Batch\n",
      "181th Batch\n",
      "182th Batch\n",
      "183th Batch\n",
      "184th Batch\n",
      "185th Batch\n",
      "186th Batch\n",
      "187th Batch\n",
      "188th Batch\n",
      "189th Batch\n",
      "190th Batch\n",
      "191th Batch\n",
      "192th Batch\n",
      "193th Batch\n",
      "194th Batch\n",
      "195th Batch\n",
      "196th Batch\n",
      "197th Batch\n",
      "198th Batch\n",
      "199th Batch\n",
      "200th Batch\n",
      "201th Batch\n",
      "202th Batch\n",
      "203th Batch\n",
      "204th Batch\n",
      "205th Batch\n",
      "206th Batch\n",
      "207th Batch\n",
      "208th Batch\n",
      "209th Batch\n",
      "210th Batch\n",
      "211th Batch\n",
      "212th Batch\n",
      "213th Batch\n",
      "214th Batch\n",
      "215th Batch\n",
      "216th Batch\n",
      "217th Batch\n",
      "218th Batch\n",
      "219th Batch\n",
      "220th Batch\n",
      "221th Batch\n",
      "222th Batch\n",
      "223th Batch\n",
      "224th Batch\n",
      "225th Batch\n",
      "226th Batch\n",
      "227th Batch\n",
      "228th Batch\n",
      "229th Batch\n",
      "230th Batch\n",
      "231th Batch\n",
      "232th Batch\n",
      "233th Batch\n",
      "234th Batch\n",
      "235th Batch\n",
      "236th Batch\n",
      "237th Batch\n",
      "238th Batch\n",
      "239th Batch\n",
      "240th Batch\n",
      "241th Batch\n",
      "242th Batch\n",
      "243th Batch\n",
      "244th Batch\n",
      "245th Batch\n",
      "246th Batch\n",
      "247th Batch\n",
      "248th Batch\n",
      "249th Batch\n",
      "250th Batch\n",
      "251th Batch\n",
      "252th Batch\n",
      "253th Batch\n",
      "254th Batch\n",
      "255th Batch\n",
      "256th Batch\n",
      "257th Batch\n",
      "258th Batch\n",
      "259th Batch\n",
      "260th Batch\n",
      "261th Batch\n",
      "262th Batch\n",
      "263th Batch\n",
      "264th Batch\n",
      "265th Batch\n",
      "266th Batch\n",
      "267th Batch\n",
      "268th Batch\n",
      "269th Batch\n",
      "270th Batch\n",
      "271th Batch\n",
      "272th Batch\n",
      "273th Batch\n",
      "274th Batch\n",
      "275th Batch\n",
      "276th Batch\n",
      "277th Batch\n",
      "278th Batch\n",
      "279th Batch\n",
      "280th Batch\n",
      "281th Batch\n",
      "282th Batch\n",
      "283th Batch\n",
      "284th Batch\n",
      "285th Batch\n",
      "286th Batch\n",
      "287th Batch\n",
      "288th Batch\n",
      "289th Batch\n",
      "290th Batch\n",
      "291th Batch\n",
      "292th Batch\n",
      "293th Batch\n",
      "294th Batch\n",
      "295th Batch\n",
      "296th Batch\n",
      "297th Batch\n",
      "298th Batch\n",
      "299th Batch\n",
      "300th Batch\n",
      "301th Batch\n",
      "302th Batch\n",
      "303th Batch\n",
      "304th Batch\n",
      "305th Batch\n",
      "306th Batch\n",
      "307th Batch\n",
      "308th Batch\n",
      "309th Batch\n",
      "310th Batch\n",
      "311th Batch\n",
      "312th Batch\n",
      "313th Batch\n",
      "314th Batch\n",
      "315th Batch\n",
      "316th Batch\n",
      "317th Batch\n",
      "318th Batch\n",
      "319th Batch\n",
      "320th Batch\n"
     ]
    }
   ],
   "source": [
    "prev_crash_i = 0 # Set it to the value of i where the previous running of this cell crashed, if running for first time set it to 0\n",
    "for i in range(prev_crash_i, 16000//BATCH_SIZE):\n",
    "    print(f'{i+1}th Batch')\n",
    "    batch = train_generator_precompute[i]\n",
    "    batch = [x for x in batch[0] if len(x.shape) == 4] # Sometimes a document image has no ROI handles that\n",
    "    batch = tf.concat(batch, axis=0) # Concatenating the ROIs of each document image togetheraq\n",
    "    precompute_output.append(model.predict(batch))\n",
    "    tf.keras.backend.clear_session()\n",
    "    _ = gc.collect()\n",
    "    if (i+1) % checkpnt_i == 0:\n",
    "        precompute_output = tf.concat(precompute_output, axis=0).numpy()\n",
    "        # np.save(f'./Data/EffNet-kP-train-precompute/train_data_precomp-{(i+1)//checkpnt_i}.npy', precompute_output)\n",
    "        np.save(f'train_data_precomp-{(i+1)//checkpnt_i}.npy', precompute_output)\n",
    "        precompute_output = list()\n",
    "        del batch"
   ]
  },
  {
   "cell_type": "code",
   "execution_count": 25,
   "id": "21b9072c",
   "metadata": {
    "execution": {
     "iopub.execute_input": "2022-10-08T06:17:03.999697Z",
     "iopub.status.busy": "2022-10-08T06:17:03.999294Z",
     "iopub.status.idle": "2022-10-08T06:17:04.004843Z",
     "shell.execute_reply": "2022-10-08T06:17:04.004001Z"
    },
    "papermill": {
     "duration": 0.038849,
     "end_time": "2022-10-08T06:17:04.006771",
     "exception": false,
     "start_time": "2022-10-08T06:17:03.967922",
     "status": "completed"
    },
    "tags": []
   },
   "outputs": [],
   "source": [
    "# for i in tqdm(range(1, 17)):\n",
    "#     with ZipFile(f'result-{i}.zip', 'w') as zipObj:\n",
    "#         for j in range(1, 11):\n",
    "#             zipObj.write(f'./train_data_precomp-{(i*10+j)-10}.npy')"
   ]
  },
  {
   "cell_type": "markdown",
   "id": "f54f5502",
   "metadata": {
    "papermill": {
     "duration": 0.029867,
     "end_time": "2022-10-08T06:17:04.066604",
     "exception": false,
     "start_time": "2022-10-08T06:17:04.036737",
     "status": "completed"
    },
    "tags": []
   },
   "source": [
    "After the feature vectors being generated for each ROI. We will now try different methods to combine the RoIs for each document to come up with a better representation vector for the overall document image which will then go into the fine-tuning extra layers."
   ]
  },
  {
   "cell_type": "code",
   "execution_count": 26,
   "id": "b005dfc2",
   "metadata": {
    "execution": {
     "iopub.execute_input": "2022-10-08T06:17:04.128843Z",
     "iopub.status.busy": "2022-10-08T06:17:04.128499Z",
     "iopub.status.idle": "2022-10-08T06:17:04.132822Z",
     "shell.execute_reply": "2022-10-08T06:17:04.131807Z"
    },
    "papermill": {
     "duration": 0.03822,
     "end_time": "2022-10-08T06:17:04.135147",
     "exception": false,
     "start_time": "2022-10-08T06:17:04.096927",
     "status": "completed"
    },
    "tags": []
   },
   "outputs": [],
   "source": [
    "# roi_count = [np.sum([roi[-1]==1 for roi in doc]) for doc in roi_info] # RoIs per document Image"
   ]
  },
  {
   "cell_type": "code",
   "execution_count": 27,
   "id": "1d2a03d6",
   "metadata": {
    "execution": {
     "iopub.execute_input": "2022-10-08T06:17:04.196361Z",
     "iopub.status.busy": "2022-10-08T06:17:04.196075Z",
     "iopub.status.idle": "2022-10-08T06:17:04.200126Z",
     "shell.execute_reply": "2022-10-08T06:17:04.199163Z"
    },
    "papermill": {
     "duration": 0.036993,
     "end_time": "2022-10-08T06:17:04.202182",
     "exception": false,
     "start_time": "2022-10-08T06:17:04.165189",
     "status": "completed"
    },
    "tags": []
   },
   "outputs": [],
   "source": [
    "# max(roi_count)"
   ]
  },
  {
   "cell_type": "code",
   "execution_count": 28,
   "id": "43e61b19",
   "metadata": {
    "execution": {
     "iopub.execute_input": "2022-10-08T06:17:04.263662Z",
     "iopub.status.busy": "2022-10-08T06:17:04.263338Z",
     "iopub.status.idle": "2022-10-08T06:17:04.268672Z",
     "shell.execute_reply": "2022-10-08T06:17:04.267828Z"
    },
    "papermill": {
     "duration": 0.038343,
     "end_time": "2022-10-08T06:17:04.270655",
     "exception": false,
     "start_time": "2022-10-08T06:17:04.232312",
     "status": "completed"
    },
    "tags": []
   },
   "outputs": [],
   "source": [
    "# fine_tune_data = list()\n",
    "# for i in range(16000 // (BATCH_SIZE*checkpnt_i)):\n",
    "#     k = 0\n",
    "#     batch_data = np.load(f'./train_data_precomp-{i+1}.npy')\n",
    "#     batch_roi = roi_count[(i*(BATCH_SIZE*checkpnt_i)):((i+1)*(BATCH_SIZE*checkpnt_i))]\n",
    "#     for j in range(BATCH_SIZE*checkpnt_i):\n",
    "#         fine_tune_data.append(np.concatenate([batch_data[k:(k+batch_roi[j])], np.zeros((100-batch_roi[j], 1280))])[np.newaxis,:])\n",
    "#         k += batch_roi[j]\n",
    "# fine_tune_data = np.concatenate(fine_tune_data)"
   ]
  },
  {
   "cell_type": "code",
   "execution_count": 29,
   "id": "28969189",
   "metadata": {
    "execution": {
     "iopub.execute_input": "2022-10-08T06:17:04.331494Z",
     "iopub.status.busy": "2022-10-08T06:17:04.331195Z",
     "iopub.status.idle": "2022-10-08T06:17:04.335202Z",
     "shell.execute_reply": "2022-10-08T06:17:04.334102Z"
    },
    "papermill": {
     "duration": 0.037005,
     "end_time": "2022-10-08T06:17:04.337490",
     "exception": false,
     "start_time": "2022-10-08T06:17:04.300485",
     "status": "completed"
    },
    "tags": []
   },
   "outputs": [],
   "source": [
    "# fine_tune_data.shape"
   ]
  },
  {
   "cell_type": "code",
   "execution_count": 30,
   "id": "eae7bb38",
   "metadata": {
    "execution": {
     "iopub.execute_input": "2022-10-08T06:17:04.398975Z",
     "iopub.status.busy": "2022-10-08T06:17:04.398693Z",
     "iopub.status.idle": "2022-10-08T06:17:04.402733Z",
     "shell.execute_reply": "2022-10-08T06:17:04.401747Z"
    },
    "papermill": {
     "duration": 0.037508,
     "end_time": "2022-10-08T06:17:04.404935",
     "exception": false,
     "start_time": "2022-10-08T06:17:04.367427",
     "status": "completed"
    },
    "tags": []
   },
   "outputs": [],
   "source": [
    "# np.save(f'./Data/EffNet-kP-train-precompute/whole_train_data_precomp.npy', fine_tune_data)"
   ]
  },
  {
   "cell_type": "markdown",
   "id": "de0c5a3f",
   "metadata": {
    "papermill": {
     "duration": 0.030059,
     "end_time": "2022-10-08T06:17:04.464892",
     "exception": false,
     "start_time": "2022-10-08T06:17:04.434833",
     "status": "completed"
    },
    "tags": []
   },
   "source": [
    "The EfficientNetV2L gives a 3D output per image with $1280$ channels which are collapsed using GlobalAveragePooling2D and we get a 1280 representation vector per ROI. Now, since there are multiple ROIs per image we need to come up with a single vector containing all these information, later we will see a method to not throw this information away. But as of now this single vector summarizing the ROI feature vectors is calculated using average. We will combine this information with the $4$ Piece fine-tune data i.e. we will stack this ROI feature vector with the those 4 image piece feature vectors and a final feature vector for the entire image."
   ]
  },
  {
   "cell_type": "code",
   "execution_count": 31,
   "id": "0ebdaf6f",
   "metadata": {
    "execution": {
     "iopub.execute_input": "2022-10-08T06:17:04.526995Z",
     "iopub.status.busy": "2022-10-08T06:17:04.526316Z",
     "iopub.status.idle": "2022-10-08T06:17:04.531104Z",
     "shell.execute_reply": "2022-10-08T06:17:04.529579Z"
    },
    "papermill": {
     "duration": 0.03832,
     "end_time": "2022-10-08T06:17:04.533192",
     "exception": false,
     "start_time": "2022-10-08T06:17:04.494872",
     "status": "completed"
    },
    "tags": []
   },
   "outputs": [],
   "source": [
    "# fine_tune_data = np.load(f'./Data/EffNet-kP-train-precompute/whole_train_data_precomp.npy')\n",
    "# fine_tune_data.shape"
   ]
  },
  {
   "cell_type": "code",
   "execution_count": 32,
   "id": "db2967ca",
   "metadata": {
    "execution": {
     "iopub.execute_input": "2022-10-08T06:17:04.630505Z",
     "iopub.status.busy": "2022-10-08T06:17:04.629989Z",
     "iopub.status.idle": "2022-10-08T06:17:04.639127Z",
     "shell.execute_reply": "2022-10-08T06:17:04.638057Z"
    },
    "papermill": {
     "duration": 0.077391,
     "end_time": "2022-10-08T06:17:04.641555",
     "exception": false,
     "start_time": "2022-10-08T06:17:04.564164",
     "status": "completed"
    },
    "tags": []
   },
   "outputs": [],
   "source": [
    "# fine_tune_data = np.squeeze(np.mean(fine_tune_data, axis=1, keepdims=True))\n",
    "# fine_tune_data.shape"
   ]
  },
  {
   "cell_type": "code",
   "execution_count": 33,
   "id": "d3d24541",
   "metadata": {
    "execution": {
     "iopub.execute_input": "2022-10-08T06:17:04.755500Z",
     "iopub.status.busy": "2022-10-08T06:17:04.755063Z",
     "iopub.status.idle": "2022-10-08T06:17:04.759353Z",
     "shell.execute_reply": "2022-10-08T06:17:04.758517Z"
    },
    "papermill": {
     "duration": 0.056757,
     "end_time": "2022-10-08T06:17:04.763601",
     "exception": false,
     "start_time": "2022-10-08T06:17:04.706844",
     "status": "completed"
    },
    "tags": []
   },
   "outputs": [],
   "source": [
    "# fine_tune_data_4P = np.load('./Data/EffNet-4P-train-precompute/whole_train_data_precomp.npy')\n",
    "# fine_tune_data_4P = np.reshape(fine_tune_data_4P, (16000, -1))\n",
    "# fine_tune_data_4P.shape"
   ]
  },
  {
   "cell_type": "code",
   "execution_count": 34,
   "id": "a9b02387",
   "metadata": {
    "execution": {
     "iopub.execute_input": "2022-10-08T06:17:04.856224Z",
     "iopub.status.busy": "2022-10-08T06:17:04.855832Z",
     "iopub.status.idle": "2022-10-08T06:17:04.860215Z",
     "shell.execute_reply": "2022-10-08T06:17:04.859288Z"
    },
    "papermill": {
     "duration": 0.053146,
     "end_time": "2022-10-08T06:17:04.862667",
     "exception": false,
     "start_time": "2022-10-08T06:17:04.809521",
     "status": "completed"
    },
    "tags": []
   },
   "outputs": [],
   "source": [
    "# fine_tune_data = np.concatenate([fine_tune_data, fine_tune_data_4P], axis=-1)\n",
    "# fine_tune_data.shape"
   ]
  },
  {
   "cell_type": "code",
   "execution_count": 35,
   "id": "c037c3e4",
   "metadata": {
    "execution": {
     "iopub.execute_input": "2022-10-08T06:17:04.955901Z",
     "iopub.status.busy": "2022-10-08T06:17:04.955401Z",
     "iopub.status.idle": "2022-10-08T06:17:04.960077Z",
     "shell.execute_reply": "2022-10-08T06:17:04.959183Z"
    },
    "papermill": {
     "duration": 0.053753,
     "end_time": "2022-10-08T06:17:04.962656",
     "exception": false,
     "start_time": "2022-10-08T06:17:04.908903",
     "status": "completed"
    },
    "tags": []
   },
   "outputs": [],
   "source": [
    "# np.save(f'./Data/EffNet-kP-train-precompute/whole_train_data_precomp_roi_n_4p.npy', fine_tune_data)"
   ]
  },
  {
   "cell_type": "code",
   "execution_count": 36,
   "id": "6ab2fc28",
   "metadata": {
    "execution": {
     "iopub.execute_input": "2022-10-08T06:17:05.055523Z",
     "iopub.status.busy": "2022-10-08T06:17:05.055099Z",
     "iopub.status.idle": "2022-10-08T06:17:05.059345Z",
     "shell.execute_reply": "2022-10-08T06:17:05.058441Z"
    },
    "papermill": {
     "duration": 0.05384,
     "end_time": "2022-10-08T06:17:05.061982",
     "exception": false,
     "start_time": "2022-10-08T06:17:05.008142",
     "status": "completed"
    },
    "tags": []
   },
   "outputs": [],
   "source": [
    "# fine_tune_labels = labels['label'].to_numpy()\n",
    "# fine_tune_labels.shape"
   ]
  },
  {
   "cell_type": "markdown",
   "id": "9f7d8092",
   "metadata": {
    "papermill": {
     "duration": 0.050599,
     "end_time": "2022-10-08T06:17:05.158139",
     "exception": false,
     "start_time": "2022-10-08T06:17:05.107540",
     "status": "completed"
    },
    "tags": []
   },
   "source": [
    "### Validation Data"
   ]
  },
  {
   "cell_type": "code",
   "execution_count": 37,
   "id": "849feae9",
   "metadata": {
    "execution": {
     "iopub.execute_input": "2022-10-08T06:17:05.220154Z",
     "iopub.status.busy": "2022-10-08T06:17:05.219820Z",
     "iopub.status.idle": "2022-10-08T06:17:05.329137Z",
     "shell.execute_reply": "2022-10-08T06:17:05.328268Z"
    },
    "papermill": {
     "duration": 0.142677,
     "end_time": "2022-10-08T06:17:05.331167",
     "exception": false,
     "start_time": "2022-10-08T06:17:05.188490",
     "status": "completed"
    },
    "tags": []
   },
   "outputs": [
    {
     "data": {
      "text/html": [
       "<div>\n",
       "<style scoped>\n",
       "    .dataframe tbody tr th:only-of-type {\n",
       "        vertical-align: middle;\n",
       "    }\n",
       "\n",
       "    .dataframe tbody tr th {\n",
       "        vertical-align: top;\n",
       "    }\n",
       "\n",
       "    .dataframe thead th {\n",
       "        text-align: right;\n",
       "    }\n",
       "</style>\n",
       "<table border=\"1\" class=\"dataframe\">\n",
       "  <thead>\n",
       "    <tr style=\"text-align: right;\">\n",
       "      <th></th>\n",
       "      <th>images</th>\n",
       "      <th>id</th>\n",
       "      <th>label</th>\n",
       "    </tr>\n",
       "  </thead>\n",
       "  <tbody>\n",
       "    <tr>\n",
       "      <th>57</th>\n",
       "      <td>../input/datathonindoml-2022/validation/valida...</td>\n",
       "      <td>17801</td>\n",
       "      <td>-1</td>\n",
       "    </tr>\n",
       "    <tr>\n",
       "      <th>141</th>\n",
       "      <td>../input/datathonindoml-2022/validation/valida...</td>\n",
       "      <td>17802</td>\n",
       "      <td>-1</td>\n",
       "    </tr>\n",
       "    <tr>\n",
       "      <th>777</th>\n",
       "      <td>../input/datathonindoml-2022/validation/valida...</td>\n",
       "      <td>17803</td>\n",
       "      <td>-1</td>\n",
       "    </tr>\n",
       "    <tr>\n",
       "      <th>273</th>\n",
       "      <td>../input/datathonindoml-2022/validation/valida...</td>\n",
       "      <td>17804</td>\n",
       "      <td>-1</td>\n",
       "    </tr>\n",
       "    <tr>\n",
       "      <th>30</th>\n",
       "      <td>../input/datathonindoml-2022/validation/valida...</td>\n",
       "      <td>17805</td>\n",
       "      <td>-1</td>\n",
       "    </tr>\n",
       "    <tr>\n",
       "      <th>...</th>\n",
       "      <td>...</td>\n",
       "      <td>...</td>\n",
       "      <td>...</td>\n",
       "    </tr>\n",
       "    <tr>\n",
       "      <th>396</th>\n",
       "      <td>../input/datathonindoml-2022/validation/valida...</td>\n",
       "      <td>18696</td>\n",
       "      <td>-1</td>\n",
       "    </tr>\n",
       "    <tr>\n",
       "      <th>111</th>\n",
       "      <td>../input/datathonindoml-2022/validation/valida...</td>\n",
       "      <td>18697</td>\n",
       "      <td>-1</td>\n",
       "    </tr>\n",
       "    <tr>\n",
       "      <th>817</th>\n",
       "      <td>../input/datathonindoml-2022/validation/valida...</td>\n",
       "      <td>18698</td>\n",
       "      <td>-1</td>\n",
       "    </tr>\n",
       "    <tr>\n",
       "      <th>710</th>\n",
       "      <td>../input/datathonindoml-2022/validation/valida...</td>\n",
       "      <td>18699</td>\n",
       "      <td>-1</td>\n",
       "    </tr>\n",
       "    <tr>\n",
       "      <th>293</th>\n",
       "      <td>../input/datathonindoml-2022/validation/valida...</td>\n",
       "      <td>18700</td>\n",
       "      <td>-1</td>\n",
       "    </tr>\n",
       "  </tbody>\n",
       "</table>\n",
       "<p>900 rows × 3 columns</p>\n",
       "</div>"
      ],
      "text/plain": [
       "                                                images     id  label\n",
       "57   ../input/datathonindoml-2022/validation/valida...  17801     -1\n",
       "141  ../input/datathonindoml-2022/validation/valida...  17802     -1\n",
       "777  ../input/datathonindoml-2022/validation/valida...  17803     -1\n",
       "273  ../input/datathonindoml-2022/validation/valida...  17804     -1\n",
       "30   ../input/datathonindoml-2022/validation/valida...  17805     -1\n",
       "..                                                 ...    ...    ...\n",
       "396  ../input/datathonindoml-2022/validation/valida...  18696     -1\n",
       "111  ../input/datathonindoml-2022/validation/valida...  18697     -1\n",
       "817  ../input/datathonindoml-2022/validation/valida...  18698     -1\n",
       "710  ../input/datathonindoml-2022/validation/valida...  18699     -1\n",
       "293  ../input/datathonindoml-2022/validation/valida...  18700     -1\n",
       "\n",
       "[900 rows x 3 columns]"
      ]
     },
     "execution_count": 37,
     "metadata": {},
     "output_type": "execute_result"
    }
   ],
   "source": [
    "validation_data = pd.DataFrame({'images':['../input/datathonindoml-2022/validation/validation/'+name for name in os.listdir('../input/datathonindoml-2022/validation/validation/')]})\n",
    "validation_data['id'] = [name.split('.')[0] for name in os.listdir('../input/datathonindoml-2022/validation/validation/')]\n",
    "validation_data['label'] = -1 # Simply added to prevent re-writing code\n",
    "validation_data.sort_values(by=['id'], inplace=True)\n",
    "validation_data"
   ]
  },
  {
   "cell_type": "code",
   "execution_count": 38,
   "id": "42f05987",
   "metadata": {
    "execution": {
     "iopub.execute_input": "2022-10-08T06:17:05.395099Z",
     "iopub.status.busy": "2022-10-08T06:17:05.394508Z",
     "iopub.status.idle": "2022-10-08T06:17:05.426927Z",
     "shell.execute_reply": "2022-10-08T06:17:05.425611Z"
    },
    "papermill": {
     "duration": 0.0665,
     "end_time": "2022-10-08T06:17:05.429067",
     "exception": false,
     "start_time": "2022-10-08T06:17:05.362567",
     "status": "completed"
    },
    "tags": []
   },
   "outputs": [
    {
     "data": {
      "text/plain": [
       "(900, 100, 6)"
      ]
     },
     "execution_count": 38,
     "metadata": {},
     "output_type": "execute_result"
    }
   ],
   "source": [
    "roi_info_validation = np.load('../input/roiinfo/validation_roi_viz.npy')\n",
    "roi_info_validation.shape"
   ]
  },
  {
   "cell_type": "code",
   "execution_count": 39,
   "id": "05c9f5a9",
   "metadata": {
    "execution": {
     "iopub.execute_input": "2022-10-08T06:17:05.497952Z",
     "iopub.status.busy": "2022-10-08T06:17:05.497553Z",
     "iopub.status.idle": "2022-10-08T06:17:05.507921Z",
     "shell.execute_reply": "2022-10-08T06:17:05.506825Z"
    },
    "papermill": {
     "duration": 0.049768,
     "end_time": "2022-10-08T06:17:05.510724",
     "exception": false,
     "start_time": "2022-10-08T06:17:05.460956",
     "status": "completed"
    },
    "tags": []
   },
   "outputs": [],
   "source": [
    "validation_generator_precompute = ImageDataGenerator(\n",
    "    df=validation_data,\n",
    "    X_col='images',\n",
    "    roi_info=roi_info_validation,\n",
    "    y_col='label',\n",
    "    batch_size=BATCH_SIZE,\n",
    "    input_size=INPUT_SHAPE,\n",
    "    shuffle=False,\n",
    "    base=17801\n",
    ")\n",
    "\n",
    "checkpnt_each = 100\n",
    "assert checkpnt_each % BATCH_SIZE == 0\n",
    "checkpnt_i = checkpnt_each // BATCH_SIZE\n",
    "precompute_output = list()"
   ]
  },
  {
   "cell_type": "code",
   "execution_count": 40,
   "id": "f6cffcb2",
   "metadata": {
    "execution": {
     "iopub.execute_input": "2022-10-08T06:17:05.586076Z",
     "iopub.status.busy": "2022-10-08T06:17:05.585758Z",
     "iopub.status.idle": "2022-10-08T06:21:24.346648Z",
     "shell.execute_reply": "2022-10-08T06:21:24.345638Z"
    },
    "papermill": {
     "duration": 258.805459,
     "end_time": "2022-10-08T06:21:24.349165",
     "exception": false,
     "start_time": "2022-10-08T06:17:05.543706",
     "status": "completed"
    },
    "tags": []
   },
   "outputs": [
    {
     "name": "stdout",
     "output_type": "stream",
     "text": [
      "1th Batch\n",
      "2th Batch\n",
      "3th Batch\n",
      "4th Batch\n",
      "5th Batch\n",
      "6th Batch\n",
      "7th Batch\n",
      "8th Batch\n",
      "9th Batch\n",
      "10th Batch\n",
      "11th Batch\n",
      "12th Batch\n",
      "13th Batch\n",
      "14th Batch\n",
      "15th Batch\n",
      "16th Batch\n",
      "17th Batch\n",
      "18th Batch\n"
     ]
    }
   ],
   "source": [
    "prev_crash_i = 0 # Set it to the value of i where the previous running of this cell crashed, if running for first time set it to 0\n",
    "for i in range(prev_crash_i, 900//BATCH_SIZE):\n",
    "    print(f'{i+1}th Batch')\n",
    "    batch = validation_generator_precompute[i]\n",
    "    batch = [x for x in batch[0] if len(x.shape) == 4] # Sometimes a document image has no ROI handles that\n",
    "    batch = tf.concat(batch, axis=0) # Concatenating the ROIs of each document image together\n",
    "    precompute_output.append(model.predict(batch))\n",
    "    precompute_output.append(model.predict(batch))\n",
    "    tf.keras.backend.clear_session()\n",
    "    _ = gc.collect()\n",
    "    if (i+1) % checkpnt_i == 0:\n",
    "        precompute_output = tf.concat(precompute_output, axis=0).numpy()\n",
    "        np.save(f'validation_data_precomp-{(i+1)//checkpnt_i}.npy', precompute_output)\n",
    "        precompute_output = list()\n",
    "        del batch"
   ]
  },
  {
   "cell_type": "code",
   "execution_count": 41,
   "id": "ffb43001",
   "metadata": {
    "execution": {
     "iopub.execute_input": "2022-10-08T06:21:24.416163Z",
     "iopub.status.busy": "2022-10-08T06:21:24.415287Z",
     "iopub.status.idle": "2022-10-08T06:21:24.420065Z",
     "shell.execute_reply": "2022-10-08T06:21:24.419038Z"
    },
    "papermill": {
     "duration": 0.040137,
     "end_time": "2022-10-08T06:21:24.422163",
     "exception": false,
     "start_time": "2022-10-08T06:21:24.382026",
     "status": "completed"
    },
    "tags": []
   },
   "outputs": [],
   "source": [
    "# with ZipFile(f'result.zip', 'w') as zipObj:\n",
    "#     for j in range(1, 10):\n",
    "#         zipObj.write(f'./validation_data_precomp-{j}.npy')"
   ]
  }
 ],
 "metadata": {
  "kernelspec": {
   "display_name": "Python 3 (ipykernel)",
   "language": "python",
   "name": "python3"
  },
  "language_info": {
   "codemirror_mode": {
    "name": "ipython",
    "version": 3
   },
   "file_extension": ".py",
   "mimetype": "text/x-python",
   "name": "python",
   "nbconvert_exporter": "python",
   "pygments_lexer": "ipython3",
   "version": "3.8.13"
  },
  "papermill": {
   "default_parameters": {},
   "duration": 3652.88704,
   "end_time": "2022-10-08T06:21:28.007970",
   "environment_variables": {},
   "exception": null,
   "input_path": "__notebook__.ipynb",
   "output_path": "__notebook__.ipynb",
   "parameters": {},
   "start_time": "2022-10-08T05:20:35.120930",
   "version": "2.3.4"
  }
 },
 "nbformat": 4,
 "nbformat_minor": 5
}
