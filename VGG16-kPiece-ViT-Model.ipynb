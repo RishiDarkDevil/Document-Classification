{
 "cells": [
  {
   "cell_type": "markdown",
   "id": "fd1efdf1",
   "metadata": {},
   "source": [
    "### Importing Necessary Libraries"
   ]
  },
  {
   "cell_type": "code",
   "execution_count": 1,
   "id": "0938de48",
   "metadata": {},
   "outputs": [],
   "source": [
    "import os\n",
    "import pickle\n",
    "from tqdm import tqdm\n",
    "\n",
    "import matplotlib.pyplot as plt\n",
    "import numpy as np\n",
    "import pandas as pd\n",
    "\n",
    "import tensorflow as tf\n",
    "from tensorflow.keras.preprocessing.image import load_img, img_to_array\n",
    "\n",
    "from tensorflow import keras\n",
    "from tensorflow.keras.layers import Input, Flatten, Dense, Dropout, GlobalAvgPool2D, GlobalAvgPool1D, BatchNormalization, MultiHeadAttention, Layer, LayerNormalization, Concatenate, MaxPool1D\n",
    "from tensorflow.keras.regularizers import l2\n",
    "\n",
    "from tensorflow.keras.optimizers import Adam\n",
    "\n",
    "from sklearn.metrics import precision_recall_fscore_support as score"
   ]
  },
  {
   "cell_type": "markdown",
   "id": "c954b162",
   "metadata": {},
   "source": [
    "## Data"
   ]
  },
  {
   "cell_type": "markdown",
   "id": "68302673",
   "metadata": {},
   "source": [
    "A detailed discussion and visualization of the data can be seen in [here](Data-Overview.ipynb)."
   ]
  },
  {
   "cell_type": "code",
   "execution_count": 2,
   "id": "75b06a70",
   "metadata": {},
   "outputs": [],
   "source": [
    "labels = pd.read_csv(\"./Data/train_labels.csv\")\n",
    "images = ['./Data/train/train/'+str(name)+'.tif' for name in labels['id']]\n",
    "labels['images'] = images\n",
    "labels = labels[['id', 'images', 'label']]"
   ]
  },
  {
   "cell_type": "code",
   "execution_count": 3,
   "id": "29190fd4",
   "metadata": {},
   "outputs": [],
   "source": [
    "class_labels = list(set(labels['label']))\n",
    "class_names = [\n",
    "    'letter', 'form', 'email', 'handwritten', 'advertisement', 'scientific report', 'scientific publication',\n",
    "    'specification', 'file folder', 'news article', 'budget', 'invoice', 'presentation', 'questionnaire', 'resume',\n",
    "    'memo'\n",
    "]\n",
    "label_names = pd.DataFrame({\n",
    "    'labels': class_labels,\n",
    "    'names': class_names\n",
    "})"
   ]
  },
  {
   "cell_type": "code",
   "execution_count": 4,
   "id": "b49810a9",
   "metadata": {},
   "outputs": [],
   "source": [
    "train_labels = pd.read_csv('./Data/train_labels_1.csv')\n",
    "test_labels = pd.read_csv('./Data/test_labels_1.csv')"
   ]
  },
  {
   "cell_type": "code",
   "execution_count": 5,
   "id": "ca081f2e",
   "metadata": {},
   "outputs": [],
   "source": [
    "roi_info = np.load('./Data/ROI-Extractions/train/train_roi_viz.npy')"
   ]
  },
  {
   "cell_type": "code",
   "execution_count": 6,
   "id": "a77be477",
   "metadata": {},
   "outputs": [
    {
     "data": {
      "text/plain": [
       "(16000, 100, 6)"
      ]
     },
     "execution_count": 6,
     "metadata": {},
     "output_type": "execute_result"
    }
   ],
   "source": [
    "roi_info.shape"
   ]
  },
  {
   "cell_type": "markdown",
   "id": "c2e251c1",
   "metadata": {},
   "source": [
    "## Data Preparation"
   ]
  },
  {
   "cell_type": "code",
   "execution_count": 7,
   "id": "bb31ae4b",
   "metadata": {},
   "outputs": [],
   "source": [
    "BATCH_SIZE = 50\n",
    "checkpnt_each = 100\n",
    "assert checkpnt_each % BATCH_SIZE == 0\n",
    "checkpnt_i = checkpnt_each // BATCH_SIZE\n",
    "FEATURE_DIM = 512\n",
    "NUM_ROIS = 100\n",
    "POS_ENC_ANGLE_DENO = 10000"
   ]
  },
  {
   "cell_type": "code",
   "execution_count": 13,
   "id": "9fb8348d",
   "metadata": {},
   "outputs": [],
   "source": [
    "roi_count = [np.sum([roi[-1]==1 for roi in doc]) for doc in roi_info] # RoIs per document Image"
   ]
  },
  {
   "cell_type": "code",
   "execution_count": 14,
   "id": "fbc5e332",
   "metadata": {},
   "outputs": [
    {
     "data": {
      "text/plain": [
       "(16000, 100, 512)"
      ]
     },
     "execution_count": 14,
     "metadata": {},
     "output_type": "execute_result"
    }
   ],
   "source": [
    "# fine_tune_data = list()\n",
    "# for i in range(16000 // (BATCH_SIZE*checkpnt_i)):\n",
    "#     k = 0\n",
    "#     batch_data = np.load(f'./Data/VGG16-kP-train-precompute/train_data_precomp-{i+1}.npy')\n",
    "#     batch_roi = roi_count[(i*(BATCH_SIZE*checkpnt_i)):((i+1)*(BATCH_SIZE*checkpnt_i))]\n",
    "#     for j in range(BATCH_SIZE*checkpnt_i):\n",
    "#         fine_tune_data.append(np.concatenate([batch_data[k:(k+batch_roi[j])], np.zeros((100-batch_roi[j], FEATURE_DIM))])[np.newaxis,:])\n",
    "#         k += batch_roi[j]\n",
    "# fine_tune_data = np.concatenate(fine_tune_data)\n",
    "# fine_tune_data.shape"
   ]
  },
  {
   "cell_type": "code",
   "execution_count": 15,
   "id": "9589ddb3",
   "metadata": {},
   "outputs": [],
   "source": [
    "# np.save(f'./Data/VGG16-kP-train-precompute/whole_train_data_precomp.npy', fine_tune_data)"
   ]
  },
  {
   "cell_type": "code",
   "execution_count": 19,
   "id": "2f0d6808",
   "metadata": {},
   "outputs": [
    {
     "data": {
      "text/plain": [
       "(16000, 100, 512)"
      ]
     },
     "execution_count": 19,
     "metadata": {},
     "output_type": "execute_result"
    }
   ],
   "source": [
    "fine_tune_data = np.load(f'./Data/VGG16-kP-train-precompute/whole_train_data_precomp.npy')\n",
    "fine_tune_data.shape"
   ]
  },
  {
   "cell_type": "code",
   "execution_count": 20,
   "id": "c0cd1c88",
   "metadata": {},
   "outputs": [],
   "source": [
    "mask = np.zeros((*fine_tune_data.shape[:2], fine_tune_data.shape[1]))\n",
    "k = 0\n",
    "for num_roi in roi_count:\n",
    "    mask[k,:num_roi,:num_roi] = 1\n",
    "    k += 1"
   ]
  },
  {
   "cell_type": "code",
   "execution_count": 18,
   "id": "63c7ecb1",
   "metadata": {},
   "outputs": [
    {
     "data": {
      "text/plain": [
       "(16000, 512)"
      ]
     },
     "execution_count": 18,
     "metadata": {},
     "output_type": "execute_result"
    }
   ],
   "source": [
    "# fine_tune_data = np.squeeze(np.mean(fine_tune_data, axis=1, keepdims=True))\n",
    "# fine_tune_data.shape"
   ]
  },
  {
   "cell_type": "code",
   "execution_count": 21,
   "id": "12bdde76",
   "metadata": {},
   "outputs": [
    {
     "data": {
      "text/plain": [
       "(16000, 2560)"
      ]
     },
     "execution_count": 21,
     "metadata": {},
     "output_type": "execute_result"
    }
   ],
   "source": [
    "fine_tune_data_4P = np.load('./Data/VGG16-4P-train-precompute/whole_train_data_precomp.npy')\n",
    "fine_tune_data_4P = np.reshape(fine_tune_data_4P, (16000, -1))\n",
    "fine_tune_data_4P.shape"
   ]
  },
  {
   "cell_type": "code",
   "execution_count": 15,
   "id": "6f8bfc7f",
   "metadata": {},
   "outputs": [],
   "source": [
    "# fine_tune_data = np.concatenate([fine_tune_data, fine_tune_data_4P], axis=-1)\n",
    "# fine_tune_data.shape"
   ]
  },
  {
   "cell_type": "code",
   "execution_count": 16,
   "id": "58c0f4b2",
   "metadata": {},
   "outputs": [],
   "source": [
    "# np.save(f'./Data/ResNet-kP-train-precompute/whole_train_data_precomp_roi_n_4p.npy', fine_tune_data)"
   ]
  },
  {
   "cell_type": "code",
   "execution_count": 17,
   "id": "e1b35850",
   "metadata": {},
   "outputs": [],
   "source": [
    "# fine_tune_data = np.load(f'./Data/ResNet-kP-train-precompute/whole_train_data_precomp_roi_n_4p.npy')"
   ]
  },
  {
   "cell_type": "code",
   "execution_count": 18,
   "id": "945aad41",
   "metadata": {},
   "outputs": [],
   "source": [
    "# fine_tune_data.shape"
   ]
  },
  {
   "cell_type": "code",
   "execution_count": 22,
   "id": "568ffcb1",
   "metadata": {},
   "outputs": [
    {
     "data": {
      "text/plain": [
       "(16000,)"
      ]
     },
     "execution_count": 22,
     "metadata": {},
     "output_type": "execute_result"
    }
   ],
   "source": [
    "fine_tune_labels = labels['label'].to_numpy()\n",
    "fine_tune_labels.shape"
   ]
  },
  {
   "cell_type": "code",
   "execution_count": 23,
   "id": "6e228ab3",
   "metadata": {},
   "outputs": [
    {
     "data": {
      "text/plain": [
       "(15200, 100, 512)"
      ]
     },
     "execution_count": 23,
     "metadata": {},
     "output_type": "execute_result"
    }
   ],
   "source": [
    "fine_tune_data_train = fine_tune_data[list(train_labels['id'])]\n",
    "fine_tune_data_train.shape"
   ]
  },
  {
   "cell_type": "code",
   "execution_count": 24,
   "id": "25175484",
   "metadata": {},
   "outputs": [
    {
     "data": {
      "text/plain": [
       "(15200, 2560)"
      ]
     },
     "execution_count": 24,
     "metadata": {},
     "output_type": "execute_result"
    }
   ],
   "source": [
    "fine_tune_data_4P_train = fine_tune_data_4P[list(train_labels['id'])]\n",
    "fine_tune_data_4P_train.shape"
   ]
  },
  {
   "cell_type": "code",
   "execution_count": 25,
   "id": "d42f751e",
   "metadata": {},
   "outputs": [
    {
     "data": {
      "text/plain": [
       "(15200, 100, 100)"
      ]
     },
     "execution_count": 25,
     "metadata": {},
     "output_type": "execute_result"
    }
   ],
   "source": [
    "fine_tune_mask_train = mask[list(train_labels['id'])]\n",
    "fine_tune_mask_train.shape"
   ]
  },
  {
   "cell_type": "code",
   "execution_count": 26,
   "id": "bcfdf149",
   "metadata": {},
   "outputs": [
    {
     "data": {
      "text/plain": [
       "(15200,)"
      ]
     },
     "execution_count": 26,
     "metadata": {},
     "output_type": "execute_result"
    }
   ],
   "source": [
    "fine_tune_labels_train = train_labels['label'].to_numpy()\n",
    "fine_tune_labels_train.shape"
   ]
  },
  {
   "cell_type": "code",
   "execution_count": 27,
   "id": "ccfac9c8",
   "metadata": {},
   "outputs": [
    {
     "data": {
      "text/plain": [
       "(800, 100, 512)"
      ]
     },
     "execution_count": 27,
     "metadata": {},
     "output_type": "execute_result"
    }
   ],
   "source": [
    "fine_tune_data_test = fine_tune_data[list(test_labels['id'])]\n",
    "fine_tune_data_test.shape"
   ]
  },
  {
   "cell_type": "code",
   "execution_count": 28,
   "id": "1db3dc1d",
   "metadata": {},
   "outputs": [
    {
     "data": {
      "text/plain": [
       "(800, 2560)"
      ]
     },
     "execution_count": 28,
     "metadata": {},
     "output_type": "execute_result"
    }
   ],
   "source": [
    "fine_tune_data_4P_test = fine_tune_data_4P[list(test_labels['id'])]\n",
    "fine_tune_data_4P_test.shape"
   ]
  },
  {
   "cell_type": "code",
   "execution_count": 29,
   "id": "7815962e",
   "metadata": {},
   "outputs": [
    {
     "data": {
      "text/plain": [
       "(800, 100, 100)"
      ]
     },
     "execution_count": 29,
     "metadata": {},
     "output_type": "execute_result"
    }
   ],
   "source": [
    "fine_tune_mask_test = mask[list(test_labels['id'])]\n",
    "fine_tune_mask_test.shape"
   ]
  },
  {
   "cell_type": "code",
   "execution_count": 30,
   "id": "132bb5a2",
   "metadata": {},
   "outputs": [
    {
     "data": {
      "text/plain": [
       "(800,)"
      ]
     },
     "execution_count": 30,
     "metadata": {},
     "output_type": "execute_result"
    }
   ],
   "source": [
    "fine_tune_labels_test = test_labels['label'].to_numpy()\n",
    "fine_tune_labels_test.shape"
   ]
  },
  {
   "cell_type": "markdown",
   "id": "48661622",
   "metadata": {},
   "source": [
    "### Validation Data"
   ]
  },
  {
   "cell_type": "code",
   "execution_count": 8,
   "id": "bc88528c",
   "metadata": {},
   "outputs": [
    {
     "data": {
      "text/html": [
       "<div>\n",
       "<style scoped>\n",
       "    .dataframe tbody tr th:only-of-type {\n",
       "        vertical-align: middle;\n",
       "    }\n",
       "\n",
       "    .dataframe tbody tr th {\n",
       "        vertical-align: top;\n",
       "    }\n",
       "\n",
       "    .dataframe thead th {\n",
       "        text-align: right;\n",
       "    }\n",
       "</style>\n",
       "<table border=\"1\" class=\"dataframe\">\n",
       "  <thead>\n",
       "    <tr style=\"text-align: right;\">\n",
       "      <th></th>\n",
       "      <th>images</th>\n",
       "      <th>id</th>\n",
       "      <th>label</th>\n",
       "    </tr>\n",
       "  </thead>\n",
       "  <tbody>\n",
       "    <tr>\n",
       "      <th>850</th>\n",
       "      <td>./Data/validation/validation/17801.tif</td>\n",
       "      <td>17801</td>\n",
       "      <td>-1</td>\n",
       "    </tr>\n",
       "    <tr>\n",
       "      <th>898</th>\n",
       "      <td>./Data/validation/validation/17802.tif</td>\n",
       "      <td>17802</td>\n",
       "      <td>-1</td>\n",
       "    </tr>\n",
       "    <tr>\n",
       "      <th>852</th>\n",
       "      <td>./Data/validation/validation/17803.tif</td>\n",
       "      <td>17803</td>\n",
       "      <td>-1</td>\n",
       "    </tr>\n",
       "    <tr>\n",
       "      <th>798</th>\n",
       "      <td>./Data/validation/validation/17804.tif</td>\n",
       "      <td>17804</td>\n",
       "      <td>-1</td>\n",
       "    </tr>\n",
       "    <tr>\n",
       "      <th>750</th>\n",
       "      <td>./Data/validation/validation/17805.tif</td>\n",
       "      <td>17805</td>\n",
       "      <td>-1</td>\n",
       "    </tr>\n",
       "    <tr>\n",
       "      <th>...</th>\n",
       "      <td>...</td>\n",
       "      <td>...</td>\n",
       "      <td>...</td>\n",
       "    </tr>\n",
       "    <tr>\n",
       "      <th>246</th>\n",
       "      <td>./Data/validation/validation/18696.tif</td>\n",
       "      <td>18696</td>\n",
       "      <td>-1</td>\n",
       "    </tr>\n",
       "    <tr>\n",
       "      <th>211</th>\n",
       "      <td>./Data/validation/validation/18697.tif</td>\n",
       "      <td>18697</td>\n",
       "      <td>-1</td>\n",
       "    </tr>\n",
       "    <tr>\n",
       "      <th>760</th>\n",
       "      <td>./Data/validation/validation/18698.tif</td>\n",
       "      <td>18698</td>\n",
       "      <td>-1</td>\n",
       "    </tr>\n",
       "    <tr>\n",
       "      <th>787</th>\n",
       "      <td>./Data/validation/validation/18699.tif</td>\n",
       "      <td>18699</td>\n",
       "      <td>-1</td>\n",
       "    </tr>\n",
       "    <tr>\n",
       "      <th>891</th>\n",
       "      <td>./Data/validation/validation/18700.tif</td>\n",
       "      <td>18700</td>\n",
       "      <td>-1</td>\n",
       "    </tr>\n",
       "  </tbody>\n",
       "</table>\n",
       "<p>900 rows × 3 columns</p>\n",
       "</div>"
      ],
      "text/plain": [
       "                                     images     id  label\n",
       "850  ./Data/validation/validation/17801.tif  17801     -1\n",
       "898  ./Data/validation/validation/17802.tif  17802     -1\n",
       "852  ./Data/validation/validation/17803.tif  17803     -1\n",
       "798  ./Data/validation/validation/17804.tif  17804     -1\n",
       "750  ./Data/validation/validation/17805.tif  17805     -1\n",
       "..                                      ...    ...    ...\n",
       "246  ./Data/validation/validation/18696.tif  18696     -1\n",
       "211  ./Data/validation/validation/18697.tif  18697     -1\n",
       "760  ./Data/validation/validation/18698.tif  18698     -1\n",
       "787  ./Data/validation/validation/18699.tif  18699     -1\n",
       "891  ./Data/validation/validation/18700.tif  18700     -1\n",
       "\n",
       "[900 rows x 3 columns]"
      ]
     },
     "execution_count": 8,
     "metadata": {},
     "output_type": "execute_result"
    }
   ],
   "source": [
    "validation_data = pd.DataFrame({'images':['./Data/validation/validation/'+name for name in os.listdir('./Data/validation/validation/')]})\n",
    "validation_data['id'] = [name.split('.')[0] for name in os.listdir('./Data/validation/validation/')]\n",
    "validation_data['label'] = -1 # Simply added to prevent re-writing code\n",
    "validation_data.sort_values(by=['id'], inplace=True)\n",
    "validation_data"
   ]
  },
  {
   "cell_type": "code",
   "execution_count": 9,
   "id": "bf4cf1be",
   "metadata": {},
   "outputs": [
    {
     "data": {
      "text/plain": [
       "(900, 100, 6)"
      ]
     },
     "execution_count": 9,
     "metadata": {},
     "output_type": "execute_result"
    }
   ],
   "source": [
    "roi_info_validation = np.load('./Data/ROI-Extractions/validation/validation_roi_viz.npy')\n",
    "roi_info_validation.shape"
   ]
  },
  {
   "cell_type": "code",
   "execution_count": 10,
   "id": "91896253",
   "metadata": {},
   "outputs": [],
   "source": [
    "roi_count_validation = [np.sum([roi[-1]==1 for roi in doc]) for doc in roi_info_validation] # RoIs per document Image"
   ]
  },
  {
   "cell_type": "code",
   "execution_count": 11,
   "id": "cf514e19",
   "metadata": {},
   "outputs": [
    {
     "data": {
      "text/plain": [
       "(900, 100, 512)"
      ]
     },
     "execution_count": 11,
     "metadata": {},
     "output_type": "execute_result"
    }
   ],
   "source": [
    "# fine_tune_data_validation = list()\n",
    "# for i in range(900 // (BATCH_SIZE*checkpnt_i)):\n",
    "#     k = 0\n",
    "#     batch_data = np.load(f'./Data/VGG16-kP-validation-precompute/validation_data_precomp-{i+1}.npy')\n",
    "#     batch_roi = roi_count_validation[(i*(BATCH_SIZE*checkpnt_i)):((i+1)*(BATCH_SIZE*checkpnt_i))]\n",
    "#     for j in range(BATCH_SIZE*checkpnt_i):\n",
    "#         fine_tune_data_validation.append(np.concatenate([batch_data[k:(k+batch_roi[j])], np.zeros((100-batch_roi[j], FEATURE_DIM))])[np.newaxis,:])\n",
    "#         k += batch_roi[j]\n",
    "# fine_tune_data_validation = np.concatenate(fine_tune_data_validation)\n",
    "# fine_tune_data_validation.shape"
   ]
  },
  {
   "cell_type": "code",
   "execution_count": 12,
   "id": "f5be8342",
   "metadata": {},
   "outputs": [],
   "source": [
    "# np.save(f'./Data/VGG16-kP-validation-precompute/whole_validation_data_precomp.npy', fine_tune_data_validation)"
   ]
  },
  {
   "cell_type": "code",
   "execution_count": 39,
   "id": "38cb6238",
   "metadata": {},
   "outputs": [
    {
     "data": {
      "text/plain": [
       "(900, 100, 512)"
      ]
     },
     "execution_count": 39,
     "metadata": {},
     "output_type": "execute_result"
    }
   ],
   "source": [
    "fine_tune_data_validation = np.load(f'./Data/VGG16-kP-validation-precompute/whole_validation_data_precomp.npy')\n",
    "fine_tune_data_validation.shape"
   ]
  },
  {
   "cell_type": "code",
   "execution_count": 40,
   "id": "4f36a021",
   "metadata": {},
   "outputs": [],
   "source": [
    "mask_validation = np.zeros((*fine_tune_data_validation.shape[:2], fine_tune_data_validation.shape[1]))\n",
    "k = 0\n",
    "for num_roi in roi_count_validation:\n",
    "    mask_validation[k,:num_roi,:num_roi] = 1\n",
    "    k += 1"
   ]
  },
  {
   "cell_type": "code",
   "execution_count": 41,
   "id": "ec86395a",
   "metadata": {},
   "outputs": [
    {
     "data": {
      "text/plain": [
       "(900, 100, 100)"
      ]
     },
     "execution_count": 41,
     "metadata": {},
     "output_type": "execute_result"
    }
   ],
   "source": [
    "mask_validation.shape"
   ]
  },
  {
   "cell_type": "code",
   "execution_count": 42,
   "id": "5ef3e336",
   "metadata": {},
   "outputs": [],
   "source": [
    "# fine_tune_data_validation = np.squeeze(np.mean(fine_tune_data_validation, axis=1, keepdims=True))\n",
    "# fine_tune_data_validation.shape"
   ]
  },
  {
   "cell_type": "code",
   "execution_count": 43,
   "id": "e6d23ba7",
   "metadata": {},
   "outputs": [
    {
     "data": {
      "text/plain": [
       "(900, 2560)"
      ]
     },
     "execution_count": 43,
     "metadata": {},
     "output_type": "execute_result"
    }
   ],
   "source": [
    "fine_tune_data_4P_validation = np.load('./Data/VGG16-4P-validation-precompute/whole_validation_data_precomp.npy')\n",
    "fine_tune_data_4P_validation = np.reshape(fine_tune_data_4P_validation, (900, -1))\n",
    "fine_tune_data_4P_validation.shape"
   ]
  },
  {
   "cell_type": "code",
   "execution_count": 38,
   "id": "d4b9fc5a",
   "metadata": {},
   "outputs": [],
   "source": [
    "# fine_tune_data_validation = np.concatenate([fine_tune_data_validation, fine_tune_data_4P_validation], axis=-1)\n",
    "# fine_tune_data_validation.shape"
   ]
  },
  {
   "cell_type": "code",
   "execution_count": 39,
   "id": "0fd55b80",
   "metadata": {},
   "outputs": [],
   "source": [
    "# np.save(f'./Data/ResNet-kP-validation-precompute/whole_validation_data_precomp_roi_n_4p.npy', fine_tune_data_validation)"
   ]
  },
  {
   "cell_type": "code",
   "execution_count": 40,
   "id": "23851219",
   "metadata": {},
   "outputs": [],
   "source": [
    "# fine_tune_data_validation = np.load(f'./Data/ResNet-kP-validation-precompute/whole_validation_data_precomp_roi_n_4p.npy')"
   ]
  },
  {
   "cell_type": "code",
   "execution_count": 41,
   "id": "53ed0146",
   "metadata": {},
   "outputs": [],
   "source": [
    "# fine_tune_data_validation.shape"
   ]
  },
  {
   "cell_type": "markdown",
   "id": "dff1f776",
   "metadata": {},
   "source": [
    "## Fine-Tuning Models"
   ]
  },
  {
   "cell_type": "markdown",
   "id": "7380947f",
   "metadata": {},
   "source": [
    "The fine-tuning part of our model."
   ]
  },
  {
   "cell_type": "code",
   "execution_count": 44,
   "id": "da5b9fd3",
   "metadata": {},
   "outputs": [],
   "source": [
    "def pos_enc(max_len=NUM_ROIS, d_model=FEATURE_DIM):\n",
    "    # returns the positional encoding matrix which needs to be added to the embedding matrix\n",
    "    angles = np.arange(max_len)[:, np.newaxis] / np.power(POS_ENC_ANGLE_DENO, 2*(np.arange(d_model)[np.newaxis, :]//2/np.float32(d_model)))\n",
    "    pos_encode = np.zeros((max_len, d_model))\n",
    "    pos_encode[:, 0::2] = np.sin(angles[:, 0::2])\n",
    "    pos_encode[:, 1::2] = np.cos(angles[:, 1::2])\n",
    "    return tf.cast(pos_encode[np.newaxis, :], dtype=tf.float32)"
   ]
  },
  {
   "cell_type": "code",
   "execution_count": 46,
   "id": "e6e60894",
   "metadata": {},
   "outputs": [
    {
     "data": {
      "text/plain": [
       "TensorShape([1, 100, 512])"
      ]
     },
     "execution_count": 46,
     "metadata": {},
     "output_type": "execute_result"
    }
   ],
   "source": [
    "pos_enc().shape"
   ]
  },
  {
   "cell_type": "code",
   "execution_count": 47,
   "id": "d7eb5baf",
   "metadata": {},
   "outputs": [],
   "source": [
    "class TransformerBlock(Layer):\n",
    "    # Embed Dimension is FEATURE_DIM\n",
    "    def __init__(self, embed_dim, num_heads, ff_dim, rate=0.1):\n",
    "        super().__init__()\n",
    "        self.att = MultiHeadAttention(num_heads=num_heads, key_dim=embed_dim, kernel_regularizer=l2(5e-5))\n",
    "        self.ffn = keras.Sequential(\n",
    "            [Dense(ff_dim, activation=\"relu\"), Dense(embed_dim)]\n",
    "        )\n",
    "        self.layernorm1 = LayerNormalization(epsilon=1e-6)\n",
    "        self.layernorm2 = LayerNormalization(epsilon=1e-6)\n",
    "        self.dropout1 = Dropout(rate)\n",
    "        self.dropout2 = Dropout(rate)\n",
    "\n",
    "    def call(self, inputs, mask, training):\n",
    "        attn_output = self.att(inputs, inputs, inputs, mask)\n",
    "        attn_output = self.dropout1(attn_output, training=training)\n",
    "        out1 = self.layernorm1(inputs + attn_output)\n",
    "        ffn_output = self.ffn(out1)\n",
    "        ffn_output = self.dropout2(ffn_output, training=training)\n",
    "        return self.layernorm2(out1 + ffn_output)"
   ]
  },
  {
   "cell_type": "code",
   "execution_count": 48,
   "id": "96a2bdfe",
   "metadata": {},
   "outputs": [],
   "source": [
    "NUM_HEADS = 8\n",
    "FF_DIM = FEATURE_DIM // 4\n",
    "def ftmodel():\n",
    "    inputs = Input(shape=(5*FEATURE_DIM))\n",
    "    x = Flatten()(inputs)\n",
    "    x = BatchNormalization()(x)\n",
    "    \n",
    "    inputs_roi = Input(shape=(100, FEATURE_DIM))\n",
    "    inputs_roi_mask = Input(shape=(100, 100))\n",
    "    y = inputs_roi + pos_enc()\n",
    "    y = MaxPool1D(strides=4, data_format='channels_first')(inputs_roi)\n",
    "    y = TransformerBlock(y.shape[-1], NUM_HEADS, FF_DIM)(y, inputs_roi_mask)\n",
    "    y = GlobalAvgPool1D()(y)\n",
    "    \n",
    "    x = Concatenate()([x, y])\n",
    "    \n",
    "    top_dropout_rate = 0.3\n",
    "    # x = Dropout(top_dropout_rate, name='top_dropout_1')(x)\n",
    "    # x = Dense(1024, name='top_dense_1', kernel_initializer=\"he_normal\", kernel_regularizer=l2(5e-5), activation='relu')(x)\n",
    "    # x = BatchNormalization()(x)\n",
    "    x = Dropout(top_dropout_rate, name='top_dropout_2')(x)\n",
    "    x = Dense(512, name='top_dense_2', kernel_initializer=\"he_normal\", kernel_regularizer=l2(5e-5), activation='relu')(x)\n",
    "    x = BatchNormalization()(x)\n",
    "    outputs = Dense(16, activation='softmax', name='pred', kernel_regularizer=l2(5e-5))(x)\n",
    "\n",
    "    model1 = tf.keras.Model([inputs, inputs_roi, inputs_roi_mask], outputs, name='ResNet-FineTune')\n",
    "    return model1"
   ]
  },
  {
   "cell_type": "code",
   "execution_count": 49,
   "id": "c6574006",
   "metadata": {},
   "outputs": [
    {
     "name": "stdout",
     "output_type": "stream",
     "text": [
      "Model: \"ResNet-FineTune\"\n",
      "__________________________________________________________________________________________________\n",
      " Layer (type)                   Output Shape         Param #     Connected to                     \n",
      "==================================================================================================\n",
      " input_2 (InputLayer)           [(None, 100, 512)]   0           []                               \n",
      "                                                                                                  \n",
      " input_1 (InputLayer)           [(None, 2560)]       0           []                               \n",
      "                                                                                                  \n",
      " max_pooling1d (MaxPooling1D)   (None, 100, 128)     0           ['input_2[0][0]']                \n",
      "                                                                                                  \n",
      " input_3 (InputLayer)           [(None, 100, 100)]   0           []                               \n",
      "                                                                                                  \n",
      " flatten (Flatten)              (None, 2560)         0           ['input_1[0][0]']                \n",
      "                                                                                                  \n",
      " transformer_block (Transformer  (None, 100, 128)    561024      ['max_pooling1d[0][0]',          \n",
      " Block)                                                           'input_3[0][0]']                \n",
      "                                                                                                  \n",
      " batch_normalization (BatchNorm  (None, 2560)        10240       ['flatten[0][0]']                \n",
      " alization)                                                                                       \n",
      "                                                                                                  \n",
      " global_average_pooling1d (Glob  (None, 128)         0           ['transformer_block[0][0]']      \n",
      " alAveragePooling1D)                                                                              \n",
      "                                                                                                  \n",
      " concatenate (Concatenate)      (None, 2688)         0           ['batch_normalization[0][0]',    \n",
      "                                                                  'global_average_pooling1d[0][0]'\n",
      "                                                                 ]                                \n",
      "                                                                                                  \n",
      " top_dropout_2 (Dropout)        (None, 2688)         0           ['concatenate[0][0]']            \n",
      "                                                                                                  \n",
      " top_dense_2 (Dense)            (None, 512)          1376768     ['top_dropout_2[0][0]']          \n",
      "                                                                                                  \n",
      " batch_normalization_1 (BatchNo  (None, 512)         2048        ['top_dense_2[0][0]']            \n",
      " rmalization)                                                                                     \n",
      "                                                                                                  \n",
      " pred (Dense)                   (None, 16)           8208        ['batch_normalization_1[0][0]']  \n",
      "                                                                                                  \n",
      "==================================================================================================\n",
      "Total params: 1,958,288\n",
      "Trainable params: 1,952,144\n",
      "Non-trainable params: 6,144\n",
      "__________________________________________________________________________________________________\n"
     ]
    }
   ],
   "source": [
    "model1 = ftmodel()\n",
    "model1.summary()"
   ]
  },
  {
   "cell_type": "markdown",
   "id": "e56505e2",
   "metadata": {},
   "source": [
    "### Model Training"
   ]
  },
  {
   "cell_type": "markdown",
   "id": "70b7e206",
   "metadata": {},
   "source": [
    "The fine-tuning will be done on the ResNet's $2048D$ representation vectors for $5$ pieces of the image and the averaged ROI representation vectors."
   ]
  },
  {
   "cell_type": "code",
   "execution_count": 50,
   "id": "96524578",
   "metadata": {},
   "outputs": [],
   "source": [
    "model1.compile(loss = 'sparse_categorical_crossentropy', metrics = ['accuracy'], optimizer = Adam(learning_rate = 0.0003))"
   ]
  },
  {
   "cell_type": "code",
   "execution_count": 51,
   "id": "20df8897",
   "metadata": {},
   "outputs": [],
   "source": [
    "EPOCHS = 1000\n",
    "checkpoint_filepaths = ['./Models/VGG16-kP-ViT/auto-VGG16-FT-model-weight']\n",
    "model_checkpoint_callback = [tf.keras.callbacks.ModelCheckpoint(\n",
    "    filepath=checkpoint_filepath,\n",
    "    save_weights_only=True,\n",
    "    monitor = \"loss\",\n",
    "    mode='min',\n",
    "    save_best_only=True) for checkpoint_filepath in checkpoint_filepaths]"
   ]
  },
  {
   "cell_type": "code",
   "execution_count": 52,
   "id": "03354278",
   "metadata": {},
   "outputs": [
    {
     "name": "stdout",
     "output_type": "stream",
     "text": [
      "Epoch 1/1000\n"
     ]
    },
    {
     "name": "stderr",
     "output_type": "stream",
     "text": [
      "2022-10-09 10:38:05.923928: W tensorflow/core/platform/profile_utils/cpu_utils.cc:128] Failed to get CPU frequency: 0 Hz\n",
      "2022-10-09 10:38:06.635171: I tensorflow/core/grappler/optimizers/custom_graph_optimizer_registry.cc:113] Plugin optimizer for device_type GPU is enabled.\n"
     ]
    },
    {
     "name": "stdout",
     "output_type": "stream",
     "text": [
      "19/19 [==============================] - ETA: 0s - loss: 2.2387 - accuracy: 0.3759"
     ]
    },
    {
     "name": "stderr",
     "output_type": "stream",
     "text": [
      "2022-10-09 10:39:02.129339: I tensorflow/core/grappler/optimizers/custom_graph_optimizer_registry.cc:113] Plugin optimizer for device_type GPU is enabled.\n"
     ]
    },
    {
     "name": "stdout",
     "output_type": "stream",
     "text": [
      "19/19 [==============================] - 58s 3s/step - loss: 2.2387 - accuracy: 0.3759 - val_loss: 2.2149 - val_accuracy: 0.3825\n",
      "Epoch 2/1000\n",
      "19/19 [==============================] - 55s 3s/step - loss: 1.4833 - accuracy: 0.5858 - val_loss: 1.7340 - val_accuracy: 0.4887\n",
      "Epoch 3/1000\n",
      "19/19 [==============================] - 55s 3s/step - loss: 1.2312 - accuracy: 0.6541 - val_loss: 1.4802 - val_accuracy: 0.5750\n",
      "Epoch 4/1000\n",
      "19/19 [==============================] - 56s 3s/step - loss: 1.0858 - accuracy: 0.6942 - val_loss: 1.3354 - val_accuracy: 0.6538\n",
      "Epoch 5/1000\n",
      "19/19 [==============================] - 56s 3s/step - loss: 0.9947 - accuracy: 0.7251 - val_loss: 1.2423 - val_accuracy: 0.6700\n",
      "Epoch 6/1000\n",
      "19/19 [==============================] - 55s 3s/step - loss: 0.9024 - accuracy: 0.7487 - val_loss: 1.1761 - val_accuracy: 0.6850\n",
      "Epoch 7/1000\n",
      "19/19 [==============================] - 55s 3s/step - loss: 0.8344 - accuracy: 0.7666 - val_loss: 1.1086 - val_accuracy: 0.6975\n",
      "Epoch 8/1000\n",
      "19/19 [==============================] - 54s 3s/step - loss: 0.7841 - accuracy: 0.7845 - val_loss: 1.0667 - val_accuracy: 0.7075\n",
      "Epoch 9/1000\n",
      "19/19 [==============================] - 55s 3s/step - loss: 0.7332 - accuracy: 0.8012 - val_loss: 1.0428 - val_accuracy: 0.7163\n",
      "Epoch 10/1000\n",
      "19/19 [==============================] - 55s 3s/step - loss: 0.6983 - accuracy: 0.8102 - val_loss: 1.0076 - val_accuracy: 0.7125\n",
      "Epoch 11/1000\n",
      "19/19 [==============================] - 55s 3s/step - loss: 0.6488 - accuracy: 0.8266 - val_loss: 0.9839 - val_accuracy: 0.7250\n",
      "Epoch 12/1000\n",
      "19/19 [==============================] - 56s 3s/step - loss: 0.6193 - accuracy: 0.8330 - val_loss: 0.9760 - val_accuracy: 0.7337\n",
      "Epoch 13/1000\n",
      "19/19 [==============================] - 55s 3s/step - loss: 0.5859 - accuracy: 0.8477 - val_loss: 0.9815 - val_accuracy: 0.7262\n",
      "Epoch 14/1000\n",
      "19/19 [==============================] - 56s 3s/step - loss: 0.5570 - accuracy: 0.8557 - val_loss: 0.9630 - val_accuracy: 0.7462\n",
      "Epoch 15/1000\n",
      "19/19 [==============================] - 55s 3s/step - loss: 0.5303 - accuracy: 0.8645 - val_loss: 0.9677 - val_accuracy: 0.7387\n",
      "Epoch 16/1000\n",
      "19/19 [==============================] - 55s 3s/step - loss: 0.5084 - accuracy: 0.8705 - val_loss: 0.9347 - val_accuracy: 0.7537\n",
      "Epoch 17/1000\n",
      "19/19 [==============================] - 55s 3s/step - loss: 0.4879 - accuracy: 0.8776 - val_loss: 0.9447 - val_accuracy: 0.7475\n",
      "Epoch 18/1000\n",
      "19/19 [==============================] - 55s 3s/step - loss: 0.4663 - accuracy: 0.8839 - val_loss: 0.9755 - val_accuracy: 0.7375\n",
      "Epoch 19/1000\n",
      "19/19 [==============================] - 54s 3s/step - loss: 0.4478 - accuracy: 0.8913 - val_loss: 0.9534 - val_accuracy: 0.7462\n",
      "Epoch 20/1000\n",
      "19/19 [==============================] - 55s 3s/step - loss: 0.4292 - accuracy: 0.8974 - val_loss: 0.9648 - val_accuracy: 0.7375\n",
      "Epoch 21/1000\n",
      "19/19 [==============================] - 56s 3s/step - loss: 0.4077 - accuracy: 0.9009 - val_loss: 0.9614 - val_accuracy: 0.7400\n",
      "Epoch 22/1000\n",
      "19/19 [==============================] - 55s 3s/step - loss: 0.3933 - accuracy: 0.9062 - val_loss: 0.9532 - val_accuracy: 0.7450\n",
      "Epoch 23/1000\n",
      "19/19 [==============================] - 55s 3s/step - loss: 0.3771 - accuracy: 0.9151 - val_loss: 0.9558 - val_accuracy: 0.7487\n",
      "Epoch 24/1000\n",
      "19/19 [==============================] - 55s 3s/step - loss: 0.3646 - accuracy: 0.9159 - val_loss: 0.9747 - val_accuracy: 0.7600\n",
      "Epoch 25/1000\n",
      "19/19 [==============================] - 55s 3s/step - loss: 0.3443 - accuracy: 0.9245 - val_loss: 0.9585 - val_accuracy: 0.7525\n",
      "Epoch 26/1000\n",
      "19/19 [==============================] - 55s 3s/step - loss: 0.3406 - accuracy: 0.9254 - val_loss: 1.0161 - val_accuracy: 0.7400\n",
      "Epoch 27/1000\n",
      "19/19 [==============================] - 55s 3s/step - loss: 0.3324 - accuracy: 0.9270 - val_loss: 0.9814 - val_accuracy: 0.7375\n",
      "Epoch 28/1000\n",
      "19/19 [==============================] - 56s 3s/step - loss: 0.3184 - accuracy: 0.9316 - val_loss: 0.9584 - val_accuracy: 0.7537\n",
      "Epoch 29/1000\n",
      "19/19 [==============================] - 55s 3s/step - loss: 0.3035 - accuracy: 0.9351 - val_loss: 0.9921 - val_accuracy: 0.7487\n",
      "Epoch 30/1000\n",
      "19/19 [==============================] - 55s 3s/step - loss: 0.2989 - accuracy: 0.9363 - val_loss: 0.9733 - val_accuracy: 0.7500\n",
      "Epoch 31/1000\n",
      "19/19 [==============================] - 55s 3s/step - loss: 0.2883 - accuracy: 0.9414 - val_loss: 1.0165 - val_accuracy: 0.7487\n",
      "Epoch 32/1000\n",
      "19/19 [==============================] - 54s 3s/step - loss: 0.2821 - accuracy: 0.9420 - val_loss: 1.0153 - val_accuracy: 0.7437\n",
      "Epoch 33/1000\n",
      "19/19 [==============================] - 55s 3s/step - loss: 0.2714 - accuracy: 0.9476 - val_loss: 0.9857 - val_accuracy: 0.7487\n",
      "Epoch 34/1000\n",
      "19/19 [==============================] - 55s 3s/step - loss: 0.2614 - accuracy: 0.9484 - val_loss: 0.9701 - val_accuracy: 0.7525\n",
      "Epoch 35/1000\n",
      "19/19 [==============================] - 55s 3s/step - loss: 0.2505 - accuracy: 0.9532 - val_loss: 0.9971 - val_accuracy: 0.7487\n",
      "Epoch 36/1000\n",
      "19/19 [==============================] - 54s 3s/step - loss: 0.2405 - accuracy: 0.9568 - val_loss: 1.0111 - val_accuracy: 0.7475\n",
      "Epoch 37/1000\n",
      "19/19 [==============================] - 54s 3s/step - loss: 0.2392 - accuracy: 0.9555 - val_loss: 1.0198 - val_accuracy: 0.7425\n",
      "Epoch 38/1000\n",
      "19/19 [==============================] - 54s 3s/step - loss: 0.2315 - accuracy: 0.9574 - val_loss: 0.9900 - val_accuracy: 0.7512\n",
      "Epoch 39/1000\n",
      "19/19 [==============================] - 54s 3s/step - loss: 0.2245 - accuracy: 0.9597 - val_loss: 1.0299 - val_accuracy: 0.7475\n",
      "Epoch 40/1000\n",
      "19/19 [==============================] - 54s 3s/step - loss: 0.2223 - accuracy: 0.9591 - val_loss: 1.0122 - val_accuracy: 0.7512\n",
      "Epoch 41/1000\n",
      "19/19 [==============================] - 55s 3s/step - loss: 0.2158 - accuracy: 0.9639 - val_loss: 1.0246 - val_accuracy: 0.7462\n",
      "Epoch 42/1000\n",
      "19/19 [==============================] - 54s 3s/step - loss: 0.2045 - accuracy: 0.9670 - val_loss: 1.0443 - val_accuracy: 0.7387\n",
      "Epoch 43/1000\n",
      "19/19 [==============================] - 55s 3s/step - loss: 0.2025 - accuracy: 0.9668 - val_loss: 1.0272 - val_accuracy: 0.7450\n",
      "Epoch 44/1000\n",
      "19/19 [==============================] - 55s 3s/step - loss: 0.1979 - accuracy: 0.9670 - val_loss: 1.0455 - val_accuracy: 0.7350\n",
      "Epoch 45/1000\n",
      "19/19 [==============================] - 54s 3s/step - loss: 0.1945 - accuracy: 0.9695 - val_loss: 1.0537 - val_accuracy: 0.7500\n",
      "Epoch 46/1000\n",
      "19/19 [==============================] - 55s 3s/step - loss: 0.1853 - accuracy: 0.9725 - val_loss: 1.0346 - val_accuracy: 0.7562\n",
      "Epoch 47/1000\n",
      "19/19 [==============================] - 54s 3s/step - loss: 0.1837 - accuracy: 0.9724 - val_loss: 1.0352 - val_accuracy: 0.7487\n",
      "Epoch 48/1000\n",
      "19/19 [==============================] - 55s 3s/step - loss: 0.1777 - accuracy: 0.9748 - val_loss: 1.0671 - val_accuracy: 0.7400\n",
      "Epoch 49/1000\n",
      "19/19 [==============================] - 54s 3s/step - loss: 0.1749 - accuracy: 0.9758 - val_loss: 1.1027 - val_accuracy: 0.7400\n",
      "Epoch 50/1000\n",
      "19/19 [==============================] - 54s 3s/step - loss: 0.1731 - accuracy: 0.9761 - val_loss: 1.0677 - val_accuracy: 0.7387\n",
      "Epoch 51/1000\n",
      "19/19 [==============================] - 55s 3s/step - loss: 0.1665 - accuracy: 0.9792 - val_loss: 1.0777 - val_accuracy: 0.7375\n",
      "Epoch 52/1000\n",
      "19/19 [==============================] - 55s 3s/step - loss: 0.1640 - accuracy: 0.9791 - val_loss: 1.0707 - val_accuracy: 0.7400\n",
      "Epoch 53/1000\n",
      "19/19 [==============================] - 55s 3s/step - loss: 0.1622 - accuracy: 0.9776 - val_loss: 1.0916 - val_accuracy: 0.7425\n",
      "Epoch 54/1000\n",
      "19/19 [==============================] - 54s 3s/step - loss: 0.1547 - accuracy: 0.9810 - val_loss: 1.0912 - val_accuracy: 0.7412\n",
      "Epoch 55/1000\n",
      "19/19 [==============================] - 55s 3s/step - loss: 0.1530 - accuracy: 0.9816 - val_loss: 1.0566 - val_accuracy: 0.7437\n",
      "Epoch 56/1000\n",
      "19/19 [==============================] - 58s 3s/step - loss: 0.1519 - accuracy: 0.9809 - val_loss: 1.0677 - val_accuracy: 0.7487\n",
      "Epoch 57/1000\n",
      "19/19 [==============================] - 54s 3s/step - loss: 0.1481 - accuracy: 0.9832 - val_loss: 1.1086 - val_accuracy: 0.7337\n",
      "Epoch 58/1000\n",
      "19/19 [==============================] - 54s 3s/step - loss: 0.1487 - accuracy: 0.9823 - val_loss: 1.1301 - val_accuracy: 0.7375\n",
      "Epoch 59/1000\n",
      "19/19 [==============================] - 54s 3s/step - loss: 0.1448 - accuracy: 0.9839 - val_loss: 1.0817 - val_accuracy: 0.7437\n",
      "Epoch 60/1000\n",
      "19/19 [==============================] - 54s 3s/step - loss: 0.1382 - accuracy: 0.9859 - val_loss: 1.1009 - val_accuracy: 0.7350\n",
      "Epoch 61/1000\n",
      " 5/19 [======>.......................] - ETA: 38s - loss: 0.1440 - accuracy: 0.9833"
     ]
    },
    {
     "ename": "KeyboardInterrupt",
     "evalue": "",
     "output_type": "error",
     "traceback": [
      "\u001b[0;31m---------------------------------------------------------------------------\u001b[0m",
      "\u001b[0;31mKeyboardInterrupt\u001b[0m                         Traceback (most recent call last)",
      "Cell \u001b[0;32mIn [52], line 1\u001b[0m\n\u001b[0;32m----> 1\u001b[0m history \u001b[38;5;241m=\u001b[39m \u001b[43mmodel1\u001b[49m\u001b[38;5;241;43m.\u001b[39;49m\u001b[43mfit\u001b[49m\u001b[43m(\u001b[49m\u001b[43m[\u001b[49m\u001b[43mfine_tune_data_4P_train\u001b[49m\u001b[43m,\u001b[49m\u001b[43m \u001b[49m\u001b[43mfine_tune_data_train\u001b[49m\u001b[43m,\u001b[49m\u001b[43m \u001b[49m\u001b[43mfine_tune_mask_train\u001b[49m\u001b[43m]\u001b[49m\u001b[43m,\u001b[49m\u001b[43m \u001b[49m\u001b[43mfine_tune_labels_train\u001b[49m\u001b[43m,\u001b[49m\u001b[43m \u001b[49m\u001b[43mepochs\u001b[49m\u001b[38;5;241;43m=\u001b[39;49m\u001b[43mEPOCHS\u001b[49m\u001b[43m,\u001b[49m\u001b[43m \u001b[49m\u001b[43mbatch_size\u001b[49m\u001b[38;5;241;43m=\u001b[39;49m\u001b[38;5;241;43m800\u001b[39;49m\u001b[43m,\u001b[49m\u001b[43m \u001b[49m\u001b[43mvalidation_data\u001b[49m\u001b[38;5;241;43m=\u001b[39;49m\u001b[43m(\u001b[49m\u001b[43m[\u001b[49m\u001b[43mfine_tune_data_4P_test\u001b[49m\u001b[43m,\u001b[49m\u001b[43m \u001b[49m\u001b[43mfine_tune_data_test\u001b[49m\u001b[43m,\u001b[49m\u001b[43m \u001b[49m\u001b[43mfine_tune_mask_test\u001b[49m\u001b[43m]\u001b[49m\u001b[43m,\u001b[49m\u001b[43m \u001b[49m\u001b[43mfine_tune_labels_test\u001b[49m\u001b[43m)\u001b[49m\u001b[43m,\u001b[49m\u001b[43m \u001b[49m\u001b[43mvalidation_batch_size\u001b[49m\u001b[38;5;241;43m=\u001b[39;49m\u001b[38;5;241;43m800\u001b[39;49m\u001b[43m,\u001b[49m\u001b[43m \u001b[49m\u001b[43mcallbacks\u001b[49m\u001b[38;5;241;43m=\u001b[39;49m\u001b[43m[\u001b[49m\u001b[43mmodel_checkpoint_callback\u001b[49m\u001b[43m]\u001b[49m\u001b[43m)\u001b[49m\n\u001b[1;32m      2\u001b[0m \u001b[38;5;66;03m# history = model1.fit(fine_tune_data, fine_tune_labels, epochs=EPOCHS, batch_size=1600, callbacks=[model_checkpoint_callback])\u001b[39;00m\n\u001b[1;32m      3\u001b[0m model1\u001b[38;5;241m.\u001b[39msave_weights(\u001b[38;5;124m\"\u001b[39m\u001b[38;5;124m./Models/VGG16-kP-ViT/vgg-kp-model-weights\u001b[39m\u001b[38;5;124m\"\u001b[39m)\n",
      "File \u001b[0;32m~/Desktop/Document-Classification/env/lib/python3.8/site-packages/keras/utils/traceback_utils.py:64\u001b[0m, in \u001b[0;36mfilter_traceback.<locals>.error_handler\u001b[0;34m(*args, **kwargs)\u001b[0m\n\u001b[1;32m     62\u001b[0m filtered_tb \u001b[38;5;241m=\u001b[39m \u001b[38;5;28;01mNone\u001b[39;00m\n\u001b[1;32m     63\u001b[0m \u001b[38;5;28;01mtry\u001b[39;00m:\n\u001b[0;32m---> 64\u001b[0m   \u001b[38;5;28;01mreturn\u001b[39;00m \u001b[43mfn\u001b[49m\u001b[43m(\u001b[49m\u001b[38;5;241;43m*\u001b[39;49m\u001b[43margs\u001b[49m\u001b[43m,\u001b[49m\u001b[43m \u001b[49m\u001b[38;5;241;43m*\u001b[39;49m\u001b[38;5;241;43m*\u001b[39;49m\u001b[43mkwargs\u001b[49m\u001b[43m)\u001b[49m\n\u001b[1;32m     65\u001b[0m \u001b[38;5;28;01mexcept\u001b[39;00m \u001b[38;5;167;01mException\u001b[39;00m \u001b[38;5;28;01mas\u001b[39;00m e:  \u001b[38;5;66;03m# pylint: disable=broad-except\u001b[39;00m\n\u001b[1;32m     66\u001b[0m   filtered_tb \u001b[38;5;241m=\u001b[39m _process_traceback_frames(e\u001b[38;5;241m.\u001b[39m__traceback__)\n",
      "File \u001b[0;32m~/Desktop/Document-Classification/env/lib/python3.8/site-packages/keras/engine/training.py:1409\u001b[0m, in \u001b[0;36mModel.fit\u001b[0;34m(self, x, y, batch_size, epochs, verbose, callbacks, validation_split, validation_data, shuffle, class_weight, sample_weight, initial_epoch, steps_per_epoch, validation_steps, validation_batch_size, validation_freq, max_queue_size, workers, use_multiprocessing)\u001b[0m\n\u001b[1;32m   1402\u001b[0m \u001b[38;5;28;01mwith\u001b[39;00m tf\u001b[38;5;241m.\u001b[39mprofiler\u001b[38;5;241m.\u001b[39mexperimental\u001b[38;5;241m.\u001b[39mTrace(\n\u001b[1;32m   1403\u001b[0m     \u001b[38;5;124m'\u001b[39m\u001b[38;5;124mtrain\u001b[39m\u001b[38;5;124m'\u001b[39m,\n\u001b[1;32m   1404\u001b[0m     epoch_num\u001b[38;5;241m=\u001b[39mepoch,\n\u001b[1;32m   1405\u001b[0m     step_num\u001b[38;5;241m=\u001b[39mstep,\n\u001b[1;32m   1406\u001b[0m     batch_size\u001b[38;5;241m=\u001b[39mbatch_size,\n\u001b[1;32m   1407\u001b[0m     _r\u001b[38;5;241m=\u001b[39m\u001b[38;5;241m1\u001b[39m):\n\u001b[1;32m   1408\u001b[0m   callbacks\u001b[38;5;241m.\u001b[39mon_train_batch_begin(step)\n\u001b[0;32m-> 1409\u001b[0m   tmp_logs \u001b[38;5;241m=\u001b[39m \u001b[38;5;28;43mself\u001b[39;49m\u001b[38;5;241;43m.\u001b[39;49m\u001b[43mtrain_function\u001b[49m\u001b[43m(\u001b[49m\u001b[43miterator\u001b[49m\u001b[43m)\u001b[49m\n\u001b[1;32m   1410\u001b[0m   \u001b[38;5;28;01mif\u001b[39;00m data_handler\u001b[38;5;241m.\u001b[39mshould_sync:\n\u001b[1;32m   1411\u001b[0m     context\u001b[38;5;241m.\u001b[39masync_wait()\n",
      "File \u001b[0;32m~/Desktop/Document-Classification/env/lib/python3.8/site-packages/tensorflow/python/util/traceback_utils.py:150\u001b[0m, in \u001b[0;36mfilter_traceback.<locals>.error_handler\u001b[0;34m(*args, **kwargs)\u001b[0m\n\u001b[1;32m    148\u001b[0m filtered_tb \u001b[38;5;241m=\u001b[39m \u001b[38;5;28;01mNone\u001b[39;00m\n\u001b[1;32m    149\u001b[0m \u001b[38;5;28;01mtry\u001b[39;00m:\n\u001b[0;32m--> 150\u001b[0m   \u001b[38;5;28;01mreturn\u001b[39;00m \u001b[43mfn\u001b[49m\u001b[43m(\u001b[49m\u001b[38;5;241;43m*\u001b[39;49m\u001b[43margs\u001b[49m\u001b[43m,\u001b[49m\u001b[43m \u001b[49m\u001b[38;5;241;43m*\u001b[39;49m\u001b[38;5;241;43m*\u001b[39;49m\u001b[43mkwargs\u001b[49m\u001b[43m)\u001b[49m\n\u001b[1;32m    151\u001b[0m \u001b[38;5;28;01mexcept\u001b[39;00m \u001b[38;5;167;01mException\u001b[39;00m \u001b[38;5;28;01mas\u001b[39;00m e:\n\u001b[1;32m    152\u001b[0m   filtered_tb \u001b[38;5;241m=\u001b[39m _process_traceback_frames(e\u001b[38;5;241m.\u001b[39m__traceback__)\n",
      "File \u001b[0;32m~/Desktop/Document-Classification/env/lib/python3.8/site-packages/tensorflow/python/eager/def_function.py:915\u001b[0m, in \u001b[0;36mFunction.__call__\u001b[0;34m(self, *args, **kwds)\u001b[0m\n\u001b[1;32m    912\u001b[0m compiler \u001b[38;5;241m=\u001b[39m \u001b[38;5;124m\"\u001b[39m\u001b[38;5;124mxla\u001b[39m\u001b[38;5;124m\"\u001b[39m \u001b[38;5;28;01mif\u001b[39;00m \u001b[38;5;28mself\u001b[39m\u001b[38;5;241m.\u001b[39m_jit_compile \u001b[38;5;28;01melse\u001b[39;00m \u001b[38;5;124m\"\u001b[39m\u001b[38;5;124mnonXla\u001b[39m\u001b[38;5;124m\"\u001b[39m\n\u001b[1;32m    914\u001b[0m \u001b[38;5;28;01mwith\u001b[39;00m OptionalXlaContext(\u001b[38;5;28mself\u001b[39m\u001b[38;5;241m.\u001b[39m_jit_compile):\n\u001b[0;32m--> 915\u001b[0m   result \u001b[38;5;241m=\u001b[39m \u001b[38;5;28;43mself\u001b[39;49m\u001b[38;5;241;43m.\u001b[39;49m\u001b[43m_call\u001b[49m\u001b[43m(\u001b[49m\u001b[38;5;241;43m*\u001b[39;49m\u001b[43margs\u001b[49m\u001b[43m,\u001b[49m\u001b[43m \u001b[49m\u001b[38;5;241;43m*\u001b[39;49m\u001b[38;5;241;43m*\u001b[39;49m\u001b[43mkwds\u001b[49m\u001b[43m)\u001b[49m\n\u001b[1;32m    917\u001b[0m new_tracing_count \u001b[38;5;241m=\u001b[39m \u001b[38;5;28mself\u001b[39m\u001b[38;5;241m.\u001b[39mexperimental_get_tracing_count()\n\u001b[1;32m    918\u001b[0m without_tracing \u001b[38;5;241m=\u001b[39m (tracing_count \u001b[38;5;241m==\u001b[39m new_tracing_count)\n",
      "File \u001b[0;32m~/Desktop/Document-Classification/env/lib/python3.8/site-packages/tensorflow/python/eager/def_function.py:947\u001b[0m, in \u001b[0;36mFunction._call\u001b[0;34m(self, *args, **kwds)\u001b[0m\n\u001b[1;32m    944\u001b[0m   \u001b[38;5;28mself\u001b[39m\u001b[38;5;241m.\u001b[39m_lock\u001b[38;5;241m.\u001b[39mrelease()\n\u001b[1;32m    945\u001b[0m   \u001b[38;5;66;03m# In this case we have created variables on the first call, so we run the\u001b[39;00m\n\u001b[1;32m    946\u001b[0m   \u001b[38;5;66;03m# defunned version which is guaranteed to never create variables.\u001b[39;00m\n\u001b[0;32m--> 947\u001b[0m   \u001b[38;5;28;01mreturn\u001b[39;00m \u001b[38;5;28;43mself\u001b[39;49m\u001b[38;5;241;43m.\u001b[39;49m\u001b[43m_stateless_fn\u001b[49m\u001b[43m(\u001b[49m\u001b[38;5;241;43m*\u001b[39;49m\u001b[43margs\u001b[49m\u001b[43m,\u001b[49m\u001b[43m \u001b[49m\u001b[38;5;241;43m*\u001b[39;49m\u001b[38;5;241;43m*\u001b[39;49m\u001b[43mkwds\u001b[49m\u001b[43m)\u001b[49m  \u001b[38;5;66;03m# pylint: disable=not-callable\u001b[39;00m\n\u001b[1;32m    948\u001b[0m \u001b[38;5;28;01melif\u001b[39;00m \u001b[38;5;28mself\u001b[39m\u001b[38;5;241m.\u001b[39m_stateful_fn \u001b[38;5;129;01mis\u001b[39;00m \u001b[38;5;129;01mnot\u001b[39;00m \u001b[38;5;28;01mNone\u001b[39;00m:\n\u001b[1;32m    949\u001b[0m   \u001b[38;5;66;03m# Release the lock early so that multiple threads can perform the call\u001b[39;00m\n\u001b[1;32m    950\u001b[0m   \u001b[38;5;66;03m# in parallel.\u001b[39;00m\n\u001b[1;32m    951\u001b[0m   \u001b[38;5;28mself\u001b[39m\u001b[38;5;241m.\u001b[39m_lock\u001b[38;5;241m.\u001b[39mrelease()\n",
      "File \u001b[0;32m~/Desktop/Document-Classification/env/lib/python3.8/site-packages/tensorflow/python/eager/function.py:2453\u001b[0m, in \u001b[0;36mFunction.__call__\u001b[0;34m(self, *args, **kwargs)\u001b[0m\n\u001b[1;32m   2450\u001b[0m \u001b[38;5;28;01mwith\u001b[39;00m \u001b[38;5;28mself\u001b[39m\u001b[38;5;241m.\u001b[39m_lock:\n\u001b[1;32m   2451\u001b[0m   (graph_function,\n\u001b[1;32m   2452\u001b[0m    filtered_flat_args) \u001b[38;5;241m=\u001b[39m \u001b[38;5;28mself\u001b[39m\u001b[38;5;241m.\u001b[39m_maybe_define_function(args, kwargs)\n\u001b[0;32m-> 2453\u001b[0m \u001b[38;5;28;01mreturn\u001b[39;00m \u001b[43mgraph_function\u001b[49m\u001b[38;5;241;43m.\u001b[39;49m\u001b[43m_call_flat\u001b[49m\u001b[43m(\u001b[49m\n\u001b[1;32m   2454\u001b[0m \u001b[43m    \u001b[49m\u001b[43mfiltered_flat_args\u001b[49m\u001b[43m,\u001b[49m\u001b[43m \u001b[49m\u001b[43mcaptured_inputs\u001b[49m\u001b[38;5;241;43m=\u001b[39;49m\u001b[43mgraph_function\u001b[49m\u001b[38;5;241;43m.\u001b[39;49m\u001b[43mcaptured_inputs\u001b[49m\u001b[43m)\u001b[49m\n",
      "File \u001b[0;32m~/Desktop/Document-Classification/env/lib/python3.8/site-packages/tensorflow/python/eager/function.py:1860\u001b[0m, in \u001b[0;36mConcreteFunction._call_flat\u001b[0;34m(self, args, captured_inputs, cancellation_manager)\u001b[0m\n\u001b[1;32m   1856\u001b[0m possible_gradient_type \u001b[38;5;241m=\u001b[39m gradients_util\u001b[38;5;241m.\u001b[39mPossibleTapeGradientTypes(args)\n\u001b[1;32m   1857\u001b[0m \u001b[38;5;28;01mif\u001b[39;00m (possible_gradient_type \u001b[38;5;241m==\u001b[39m gradients_util\u001b[38;5;241m.\u001b[39mPOSSIBLE_GRADIENT_TYPES_NONE\n\u001b[1;32m   1858\u001b[0m     \u001b[38;5;129;01mand\u001b[39;00m executing_eagerly):\n\u001b[1;32m   1859\u001b[0m   \u001b[38;5;66;03m# No tape is watching; skip to running the function.\u001b[39;00m\n\u001b[0;32m-> 1860\u001b[0m   \u001b[38;5;28;01mreturn\u001b[39;00m \u001b[38;5;28mself\u001b[39m\u001b[38;5;241m.\u001b[39m_build_call_outputs(\u001b[38;5;28;43mself\u001b[39;49m\u001b[38;5;241;43m.\u001b[39;49m\u001b[43m_inference_function\u001b[49m\u001b[38;5;241;43m.\u001b[39;49m\u001b[43mcall\u001b[49m\u001b[43m(\u001b[49m\n\u001b[1;32m   1861\u001b[0m \u001b[43m      \u001b[49m\u001b[43mctx\u001b[49m\u001b[43m,\u001b[49m\u001b[43m \u001b[49m\u001b[43margs\u001b[49m\u001b[43m,\u001b[49m\u001b[43m \u001b[49m\u001b[43mcancellation_manager\u001b[49m\u001b[38;5;241;43m=\u001b[39;49m\u001b[43mcancellation_manager\u001b[49m\u001b[43m)\u001b[49m)\n\u001b[1;32m   1862\u001b[0m forward_backward \u001b[38;5;241m=\u001b[39m \u001b[38;5;28mself\u001b[39m\u001b[38;5;241m.\u001b[39m_select_forward_and_backward_functions(\n\u001b[1;32m   1863\u001b[0m     args,\n\u001b[1;32m   1864\u001b[0m     possible_gradient_type,\n\u001b[1;32m   1865\u001b[0m     executing_eagerly)\n\u001b[1;32m   1866\u001b[0m forward_function, args_with_tangents \u001b[38;5;241m=\u001b[39m forward_backward\u001b[38;5;241m.\u001b[39mforward()\n",
      "File \u001b[0;32m~/Desktop/Document-Classification/env/lib/python3.8/site-packages/tensorflow/python/eager/function.py:497\u001b[0m, in \u001b[0;36m_EagerDefinedFunction.call\u001b[0;34m(self, ctx, args, cancellation_manager)\u001b[0m\n\u001b[1;32m    495\u001b[0m \u001b[38;5;28;01mwith\u001b[39;00m _InterpolateFunctionError(\u001b[38;5;28mself\u001b[39m):\n\u001b[1;32m    496\u001b[0m   \u001b[38;5;28;01mif\u001b[39;00m cancellation_manager \u001b[38;5;129;01mis\u001b[39;00m \u001b[38;5;28;01mNone\u001b[39;00m:\n\u001b[0;32m--> 497\u001b[0m     outputs \u001b[38;5;241m=\u001b[39m \u001b[43mexecute\u001b[49m\u001b[38;5;241;43m.\u001b[39;49m\u001b[43mexecute\u001b[49m\u001b[43m(\u001b[49m\n\u001b[1;32m    498\u001b[0m \u001b[43m        \u001b[49m\u001b[38;5;28;43mstr\u001b[39;49m\u001b[43m(\u001b[49m\u001b[38;5;28;43mself\u001b[39;49m\u001b[38;5;241;43m.\u001b[39;49m\u001b[43msignature\u001b[49m\u001b[38;5;241;43m.\u001b[39;49m\u001b[43mname\u001b[49m\u001b[43m)\u001b[49m\u001b[43m,\u001b[49m\n\u001b[1;32m    499\u001b[0m \u001b[43m        \u001b[49m\u001b[43mnum_outputs\u001b[49m\u001b[38;5;241;43m=\u001b[39;49m\u001b[38;5;28;43mself\u001b[39;49m\u001b[38;5;241;43m.\u001b[39;49m\u001b[43m_num_outputs\u001b[49m\u001b[43m,\u001b[49m\n\u001b[1;32m    500\u001b[0m \u001b[43m        \u001b[49m\u001b[43minputs\u001b[49m\u001b[38;5;241;43m=\u001b[39;49m\u001b[43margs\u001b[49m\u001b[43m,\u001b[49m\n\u001b[1;32m    501\u001b[0m \u001b[43m        \u001b[49m\u001b[43mattrs\u001b[49m\u001b[38;5;241;43m=\u001b[39;49m\u001b[43mattrs\u001b[49m\u001b[43m,\u001b[49m\n\u001b[1;32m    502\u001b[0m \u001b[43m        \u001b[49m\u001b[43mctx\u001b[49m\u001b[38;5;241;43m=\u001b[39;49m\u001b[43mctx\u001b[49m\u001b[43m)\u001b[49m\n\u001b[1;32m    503\u001b[0m   \u001b[38;5;28;01melse\u001b[39;00m:\n\u001b[1;32m    504\u001b[0m     outputs \u001b[38;5;241m=\u001b[39m execute\u001b[38;5;241m.\u001b[39mexecute_with_cancellation(\n\u001b[1;32m    505\u001b[0m         \u001b[38;5;28mstr\u001b[39m(\u001b[38;5;28mself\u001b[39m\u001b[38;5;241m.\u001b[39msignature\u001b[38;5;241m.\u001b[39mname),\n\u001b[1;32m    506\u001b[0m         num_outputs\u001b[38;5;241m=\u001b[39m\u001b[38;5;28mself\u001b[39m\u001b[38;5;241m.\u001b[39m_num_outputs,\n\u001b[0;32m   (...)\u001b[0m\n\u001b[1;32m    509\u001b[0m         ctx\u001b[38;5;241m=\u001b[39mctx,\n\u001b[1;32m    510\u001b[0m         cancellation_manager\u001b[38;5;241m=\u001b[39mcancellation_manager)\n",
      "File \u001b[0;32m~/Desktop/Document-Classification/env/lib/python3.8/site-packages/tensorflow/python/eager/execute.py:54\u001b[0m, in \u001b[0;36mquick_execute\u001b[0;34m(op_name, num_outputs, inputs, attrs, ctx, name)\u001b[0m\n\u001b[1;32m     52\u001b[0m \u001b[38;5;28;01mtry\u001b[39;00m:\n\u001b[1;32m     53\u001b[0m   ctx\u001b[38;5;241m.\u001b[39mensure_initialized()\n\u001b[0;32m---> 54\u001b[0m   tensors \u001b[38;5;241m=\u001b[39m \u001b[43mpywrap_tfe\u001b[49m\u001b[38;5;241;43m.\u001b[39;49m\u001b[43mTFE_Py_Execute\u001b[49m\u001b[43m(\u001b[49m\u001b[43mctx\u001b[49m\u001b[38;5;241;43m.\u001b[39;49m\u001b[43m_handle\u001b[49m\u001b[43m,\u001b[49m\u001b[43m \u001b[49m\u001b[43mdevice_name\u001b[49m\u001b[43m,\u001b[49m\u001b[43m \u001b[49m\u001b[43mop_name\u001b[49m\u001b[43m,\u001b[49m\n\u001b[1;32m     55\u001b[0m \u001b[43m                                      \u001b[49m\u001b[43minputs\u001b[49m\u001b[43m,\u001b[49m\u001b[43m \u001b[49m\u001b[43mattrs\u001b[49m\u001b[43m,\u001b[49m\u001b[43m \u001b[49m\u001b[43mnum_outputs\u001b[49m\u001b[43m)\u001b[49m\n\u001b[1;32m     56\u001b[0m \u001b[38;5;28;01mexcept\u001b[39;00m core\u001b[38;5;241m.\u001b[39m_NotOkStatusException \u001b[38;5;28;01mas\u001b[39;00m e:\n\u001b[1;32m     57\u001b[0m   \u001b[38;5;28;01mif\u001b[39;00m name \u001b[38;5;129;01mis\u001b[39;00m \u001b[38;5;129;01mnot\u001b[39;00m \u001b[38;5;28;01mNone\u001b[39;00m:\n",
      "\u001b[0;31mKeyboardInterrupt\u001b[0m: "
     ]
    }
   ],
   "source": [
    "history = model1.fit([fine_tune_data_4P_train, fine_tune_data_train, fine_tune_mask_train], fine_tune_labels_train, epochs=EPOCHS, batch_size=800, validation_data=([fine_tune_data_4P_test, fine_tune_data_test, fine_tune_mask_test], fine_tune_labels_test), validation_batch_size=800, callbacks=[model_checkpoint_callback])\n",
    "# history = model1.fit(fine_tune_data, fine_tune_labels, epochs=EPOCHS, batch_size=160z0, callbacks=[model_checkpoint_callback])\n",
    "model1.save_weights(\"./Models/VGG16-kP-ViT/vgg-kp-model-weights\")\n",
    "model1.load_weights('./Models/VGG16-kP-ViT/vgg-kp-model-weights')"
   ]
  },
  {
   "cell_type": "code",
   "execution_count": 53,
   "id": "7f5515d5",
   "metadata": {},
   "outputs": [
    {
     "data": {
      "text/plain": [
       "<tensorflow.python.training.tracking.util.CheckpointLoadStatus at 0x37bb4f3a0>"
      ]
     },
     "execution_count": 53,
     "metadata": {},
     "output_type": "execute_result"
    }
   ],
   "source": [
    "model1.load_weights('./Models/VGG16-kP-ViT/auto-VGG16-FT-model-weight')"
   ]
  },
  {
   "cell_type": "code",
   "execution_count": 54,
   "id": "9116a6a6",
   "metadata": {},
   "outputs": [],
   "source": [
    "def plot_train_loss(history, model_name):  \n",
    "    plt.figure(figsize=(8,6))\n",
    "    plt.plot(history.history['loss'])\n",
    "    plt.plot(history.history['accuracy'])\n",
    "    plt.plot(history.history['val_loss'])\n",
    "    plt.plot(history.history['val_accuracy'])\n",
    "    plt.title(model_name+' loss')\n",
    "    plt.ylabel('loss')\n",
    "    plt.xlabel('epochs')\n",
    "    plt.legend(['train loss', 'train accuracy', 'val loss', 'val accuracy'], loc='upper left')"
   ]
  },
  {
   "cell_type": "code",
   "execution_count": 55,
   "id": "c55b5870",
   "metadata": {},
   "outputs": [
    {
     "ename": "NameError",
     "evalue": "name 'history' is not defined",
     "output_type": "error",
     "traceback": [
      "\u001b[0;31m---------------------------------------------------------------------------\u001b[0m",
      "\u001b[0;31mNameError\u001b[0m                                 Traceback (most recent call last)",
      "Cell \u001b[0;32mIn [55], line 1\u001b[0m\n\u001b[0;32m----> 1\u001b[0m plot_train_loss(\u001b[43mhistory\u001b[49m, \u001b[38;5;124m'\u001b[39m\u001b[38;5;124mFine-Tuned VGG16-kPiece-ViT Model\u001b[39m\u001b[38;5;124m'\u001b[39m)\n",
      "\u001b[0;31mNameError\u001b[0m: name 'history' is not defined"
     ]
    }
   ],
   "source": [
    "plot_train_loss(history, 'Fine-Tuned VGG16-kPiece-ViT Model')"
   ]
  },
  {
   "cell_type": "markdown",
   "id": "03390fa6",
   "metadata": {},
   "source": [
    "### Model Evaluation"
   ]
  },
  {
   "cell_type": "markdown",
   "id": "48701107",
   "metadata": {},
   "source": [
    "#### On Train Data"
   ]
  },
  {
   "cell_type": "markdown",
   "id": "b0594069",
   "metadata": {},
   "source": [
    "Now, after the model is being trained, we will look at the performance of the model on the training set."
   ]
  },
  {
   "cell_type": "code",
   "execution_count": 56,
   "id": "cf7ded38",
   "metadata": {},
   "outputs": [
    {
     "name": "stdout",
     "output_type": "stream",
     "text": [
      "\r",
      "  1/475 [..............................] - ETA: 2:17"
     ]
    },
    {
     "name": "stderr",
     "output_type": "stream",
     "text": [
      "2022-10-09 11:33:33.751603: I tensorflow/core/grappler/optimizers/custom_graph_optimizer_registry.cc:113] Plugin optimizer for device_type GPU is enabled.\n"
     ]
    },
    {
     "name": "stdout",
     "output_type": "stream",
     "text": [
      "475/475 [==============================] - 29s 60ms/step\n"
     ]
    }
   ],
   "source": [
    "train_preds = model1.predict([fine_tune_data_4P_train, fine_tune_data_train, fine_tune_mask_train])"
   ]
  },
  {
   "cell_type": "code",
   "execution_count": 57,
   "id": "f2a28269",
   "metadata": {},
   "outputs": [],
   "source": [
    "train_pred_labels = np.argmax(train_preds, axis=-1)"
   ]
  },
  {
   "cell_type": "code",
   "execution_count": 58,
   "id": "768775b2",
   "metadata": {},
   "outputs": [
    {
     "data": {
      "text/plain": [
       "array([ 1, 13, 13, ...,  3,  9,  9])"
      ]
     },
     "execution_count": 58,
     "metadata": {},
     "output_type": "execute_result"
    }
   ],
   "source": [
    "train_pred_labels"
   ]
  },
  {
   "cell_type": "code",
   "execution_count": 59,
   "id": "eff52a3d",
   "metadata": {},
   "outputs": [
    {
     "data": {
      "text/plain": [
       "15177"
      ]
     },
     "execution_count": 59,
     "metadata": {},
     "output_type": "execute_result"
    }
   ],
   "source": [
    "np.sum(train_pred_labels == train_labels['label'])"
   ]
  },
  {
   "cell_type": "markdown",
   "id": "3fd403fa",
   "metadata": {},
   "source": [
    "Looking at the misclassified images to get a better idea about what features the model is unable to capture."
   ]
  },
  {
   "cell_type": "code",
   "execution_count": 60,
   "id": "8f594a33",
   "metadata": {},
   "outputs": [
    {
     "data": {
      "text/html": [
       "<div>\n",
       "<style scoped>\n",
       "    .dataframe tbody tr th:only-of-type {\n",
       "        vertical-align: middle;\n",
       "    }\n",
       "\n",
       "    .dataframe tbody tr th {\n",
       "        vertical-align: top;\n",
       "    }\n",
       "\n",
       "    .dataframe thead th {\n",
       "        text-align: right;\n",
       "    }\n",
       "</style>\n",
       "<table border=\"1\" class=\"dataframe\">\n",
       "  <thead>\n",
       "    <tr style=\"text-align: right;\">\n",
       "      <th></th>\n",
       "      <th>id</th>\n",
       "      <th>images</th>\n",
       "      <th>label</th>\n",
       "    </tr>\n",
       "  </thead>\n",
       "  <tbody>\n",
       "    <tr>\n",
       "      <th>315</th>\n",
       "      <td>332</td>\n",
       "      <td>./Data/train/train/332.tif</td>\n",
       "      <td>3</td>\n",
       "    </tr>\n",
       "    <tr>\n",
       "      <th>2128</th>\n",
       "      <td>2235</td>\n",
       "      <td>./Data/train/train/2235.tif</td>\n",
       "      <td>9</td>\n",
       "    </tr>\n",
       "    <tr>\n",
       "      <th>2165</th>\n",
       "      <td>2274</td>\n",
       "      <td>./Data/train/train/2274.tif</td>\n",
       "      <td>14</td>\n",
       "    </tr>\n",
       "    <tr>\n",
       "      <th>3006</th>\n",
       "      <td>3160</td>\n",
       "      <td>./Data/train/train/3160.tif</td>\n",
       "      <td>12</td>\n",
       "    </tr>\n",
       "    <tr>\n",
       "      <th>3375</th>\n",
       "      <td>3550</td>\n",
       "      <td>./Data/train/train/3550.tif</td>\n",
       "      <td>14</td>\n",
       "    </tr>\n",
       "    <tr>\n",
       "      <th>3597</th>\n",
       "      <td>3781</td>\n",
       "      <td>./Data/train/train/3781.tif</td>\n",
       "      <td>0</td>\n",
       "    </tr>\n",
       "    <tr>\n",
       "      <th>4129</th>\n",
       "      <td>4348</td>\n",
       "      <td>./Data/train/train/4348.tif</td>\n",
       "      <td>12</td>\n",
       "    </tr>\n",
       "    <tr>\n",
       "      <th>4710</th>\n",
       "      <td>4957</td>\n",
       "      <td>./Data/train/train/4957.tif</td>\n",
       "      <td>2</td>\n",
       "    </tr>\n",
       "    <tr>\n",
       "      <th>4985</th>\n",
       "      <td>5248</td>\n",
       "      <td>./Data/train/train/5248.tif</td>\n",
       "      <td>5</td>\n",
       "    </tr>\n",
       "    <tr>\n",
       "      <th>5249</th>\n",
       "      <td>5525</td>\n",
       "      <td>./Data/train/train/5525.tif</td>\n",
       "      <td>14</td>\n",
       "    </tr>\n",
       "    <tr>\n",
       "      <th>5618</th>\n",
       "      <td>5912</td>\n",
       "      <td>./Data/train/train/5912.tif</td>\n",
       "      <td>0</td>\n",
       "    </tr>\n",
       "    <tr>\n",
       "      <th>6220</th>\n",
       "      <td>6547</td>\n",
       "      <td>./Data/train/train/6547.tif</td>\n",
       "      <td>14</td>\n",
       "    </tr>\n",
       "    <tr>\n",
       "      <th>6863</th>\n",
       "      <td>7219</td>\n",
       "      <td>./Data/train/train/7219.tif</td>\n",
       "      <td>0</td>\n",
       "    </tr>\n",
       "    <tr>\n",
       "      <th>7989</th>\n",
       "      <td>8406</td>\n",
       "      <td>./Data/train/train/8406.tif</td>\n",
       "      <td>5</td>\n",
       "    </tr>\n",
       "    <tr>\n",
       "      <th>8568</th>\n",
       "      <td>9024</td>\n",
       "      <td>./Data/train/train/9024.tif</td>\n",
       "      <td>10</td>\n",
       "    </tr>\n",
       "    <tr>\n",
       "      <th>9198</th>\n",
       "      <td>9682</td>\n",
       "      <td>./Data/train/train/9682.tif</td>\n",
       "      <td>12</td>\n",
       "    </tr>\n",
       "    <tr>\n",
       "      <th>9448</th>\n",
       "      <td>9947</td>\n",
       "      <td>./Data/train/train/9947.tif</td>\n",
       "      <td>12</td>\n",
       "    </tr>\n",
       "    <tr>\n",
       "      <th>10481</th>\n",
       "      <td>11043</td>\n",
       "      <td>./Data/train/train/11043.tif</td>\n",
       "      <td>14</td>\n",
       "    </tr>\n",
       "    <tr>\n",
       "      <th>11836</th>\n",
       "      <td>12461</td>\n",
       "      <td>./Data/train/train/12461.tif</td>\n",
       "      <td>10</td>\n",
       "    </tr>\n",
       "    <tr>\n",
       "      <th>12092</th>\n",
       "      <td>12724</td>\n",
       "      <td>./Data/train/train/12724.tif</td>\n",
       "      <td>12</td>\n",
       "    </tr>\n",
       "    <tr>\n",
       "      <th>12255</th>\n",
       "      <td>12896</td>\n",
       "      <td>./Data/train/train/12896.tif</td>\n",
       "      <td>9</td>\n",
       "    </tr>\n",
       "    <tr>\n",
       "      <th>12435</th>\n",
       "      <td>13090</td>\n",
       "      <td>./Data/train/train/13090.tif</td>\n",
       "      <td>3</td>\n",
       "    </tr>\n",
       "    <tr>\n",
       "      <th>13243</th>\n",
       "      <td>13937</td>\n",
       "      <td>./Data/train/train/13937.tif</td>\n",
       "      <td>4</td>\n",
       "    </tr>\n",
       "  </tbody>\n",
       "</table>\n",
       "</div>"
      ],
      "text/plain": [
       "          id                        images  label\n",
       "315      332    ./Data/train/train/332.tif      3\n",
       "2128    2235   ./Data/train/train/2235.tif      9\n",
       "2165    2274   ./Data/train/train/2274.tif     14\n",
       "3006    3160   ./Data/train/train/3160.tif     12\n",
       "3375    3550   ./Data/train/train/3550.tif     14\n",
       "3597    3781   ./Data/train/train/3781.tif      0\n",
       "4129    4348   ./Data/train/train/4348.tif     12\n",
       "4710    4957   ./Data/train/train/4957.tif      2\n",
       "4985    5248   ./Data/train/train/5248.tif      5\n",
       "5249    5525   ./Data/train/train/5525.tif     14\n",
       "5618    5912   ./Data/train/train/5912.tif      0\n",
       "6220    6547   ./Data/train/train/6547.tif     14\n",
       "6863    7219   ./Data/train/train/7219.tif      0\n",
       "7989    8406   ./Data/train/train/8406.tif      5\n",
       "8568    9024   ./Data/train/train/9024.tif     10\n",
       "9198    9682   ./Data/train/train/9682.tif     12\n",
       "9448    9947   ./Data/train/train/9947.tif     12\n",
       "10481  11043  ./Data/train/train/11043.tif     14\n",
       "11836  12461  ./Data/train/train/12461.tif     10\n",
       "12092  12724  ./Data/train/train/12724.tif     12\n",
       "12255  12896  ./Data/train/train/12896.tif      9\n",
       "12435  13090  ./Data/train/train/13090.tif      3\n",
       "13243  13937  ./Data/train/train/13937.tif      4"
      ]
     },
     "execution_count": 60,
     "metadata": {},
     "output_type": "execute_result"
    }
   ],
   "source": [
    "mis_train_data = train_labels[train_pred_labels != train_labels['label']]\n",
    "mis_train_data"
   ]
  },
  {
   "cell_type": "code",
   "execution_count": 61,
   "id": "2ea8f949",
   "metadata": {},
   "outputs": [
    {
     "data": {
      "text/html": [
       "<div>\n",
       "<style scoped>\n",
       "    .dataframe tbody tr th:only-of-type {\n",
       "        vertical-align: middle;\n",
       "    }\n",
       "\n",
       "    .dataframe tbody tr th {\n",
       "        vertical-align: top;\n",
       "    }\n",
       "\n",
       "    .dataframe thead th {\n",
       "        text-align: right;\n",
       "    }\n",
       "</style>\n",
       "<table border=\"1\" class=\"dataframe\">\n",
       "  <thead>\n",
       "    <tr style=\"text-align: right;\">\n",
       "      <th></th>\n",
       "      <th>precision</th>\n",
       "      <th>recall</th>\n",
       "      <th>fscore</th>\n",
       "      <th>support</th>\n",
       "    </tr>\n",
       "  </thead>\n",
       "  <tbody>\n",
       "    <tr>\n",
       "      <th>0</th>\n",
       "      <td>1.000000</td>\n",
       "      <td>0.996933</td>\n",
       "      <td>0.998464</td>\n",
       "      <td>978</td>\n",
       "    </tr>\n",
       "    <tr>\n",
       "      <th>1</th>\n",
       "      <td>1.000000</td>\n",
       "      <td>1.000000</td>\n",
       "      <td>1.000000</td>\n",
       "      <td>925</td>\n",
       "    </tr>\n",
       "    <tr>\n",
       "      <th>2</th>\n",
       "      <td>0.997840</td>\n",
       "      <td>0.998919</td>\n",
       "      <td>0.998379</td>\n",
       "      <td>925</td>\n",
       "    </tr>\n",
       "    <tr>\n",
       "      <th>3</th>\n",
       "      <td>1.000000</td>\n",
       "      <td>0.997888</td>\n",
       "      <td>0.998943</td>\n",
       "      <td>947</td>\n",
       "    </tr>\n",
       "    <tr>\n",
       "      <th>4</th>\n",
       "      <td>0.998925</td>\n",
       "      <td>0.998925</td>\n",
       "      <td>0.998925</td>\n",
       "      <td>930</td>\n",
       "    </tr>\n",
       "    <tr>\n",
       "      <th>5</th>\n",
       "      <td>0.996885</td>\n",
       "      <td>0.997921</td>\n",
       "      <td>0.997403</td>\n",
       "      <td>962</td>\n",
       "    </tr>\n",
       "    <tr>\n",
       "      <th>6</th>\n",
       "      <td>0.998999</td>\n",
       "      <td>1.000000</td>\n",
       "      <td>0.999499</td>\n",
       "      <td>998</td>\n",
       "    </tr>\n",
       "    <tr>\n",
       "      <th>7</th>\n",
       "      <td>0.997814</td>\n",
       "      <td>1.000000</td>\n",
       "      <td>0.998906</td>\n",
       "      <td>913</td>\n",
       "    </tr>\n",
       "    <tr>\n",
       "      <th>8</th>\n",
       "      <td>0.997024</td>\n",
       "      <td>1.000000</td>\n",
       "      <td>0.998510</td>\n",
       "      <td>1005</td>\n",
       "    </tr>\n",
       "    <tr>\n",
       "      <th>9</th>\n",
       "      <td>0.995812</td>\n",
       "      <td>0.997901</td>\n",
       "      <td>0.996855</td>\n",
       "      <td>953</td>\n",
       "    </tr>\n",
       "    <tr>\n",
       "      <th>10</th>\n",
       "      <td>1.000000</td>\n",
       "      <td>0.997817</td>\n",
       "      <td>0.998907</td>\n",
       "      <td>916</td>\n",
       "    </tr>\n",
       "    <tr>\n",
       "      <th>11</th>\n",
       "      <td>1.000000</td>\n",
       "      <td>1.000000</td>\n",
       "      <td>1.000000</td>\n",
       "      <td>955</td>\n",
       "    </tr>\n",
       "    <tr>\n",
       "      <th>12</th>\n",
       "      <td>0.994882</td>\n",
       "      <td>0.994882</td>\n",
       "      <td>0.994882</td>\n",
       "      <td>977</td>\n",
       "    </tr>\n",
       "    <tr>\n",
       "      <th>13</th>\n",
       "      <td>0.997884</td>\n",
       "      <td>1.000000</td>\n",
       "      <td>0.998941</td>\n",
       "      <td>943</td>\n",
       "    </tr>\n",
       "    <tr>\n",
       "      <th>14</th>\n",
       "      <td>1.000000</td>\n",
       "      <td>0.994612</td>\n",
       "      <td>0.997299</td>\n",
       "      <td>928</td>\n",
       "    </tr>\n",
       "    <tr>\n",
       "      <th>15</th>\n",
       "      <td>1.000000</td>\n",
       "      <td>1.000000</td>\n",
       "      <td>1.000000</td>\n",
       "      <td>945</td>\n",
       "    </tr>\n",
       "  </tbody>\n",
       "</table>\n",
       "</div>"
      ],
      "text/plain": [
       "    precision    recall    fscore  support\n",
       "0    1.000000  0.996933  0.998464      978\n",
       "1    1.000000  1.000000  1.000000      925\n",
       "2    0.997840  0.998919  0.998379      925\n",
       "3    1.000000  0.997888  0.998943      947\n",
       "4    0.998925  0.998925  0.998925      930\n",
       "5    0.996885  0.997921  0.997403      962\n",
       "6    0.998999  1.000000  0.999499      998\n",
       "7    0.997814  1.000000  0.998906      913\n",
       "8    0.997024  1.000000  0.998510     1005\n",
       "9    0.995812  0.997901  0.996855      953\n",
       "10   1.000000  0.997817  0.998907      916\n",
       "11   1.000000  1.000000  1.000000      955\n",
       "12   0.994882  0.994882  0.994882      977\n",
       "13   0.997884  1.000000  0.998941      943\n",
       "14   1.000000  0.994612  0.997299      928\n",
       "15   1.000000  1.000000  1.000000      945"
      ]
     },
     "execution_count": 61,
     "metadata": {},
     "output_type": "execute_result"
    }
   ],
   "source": [
    "precision, recall, fscore, support = score(train_labels['label'], train_pred_labels)\n",
    "pd.DataFrame({\n",
    "    'precision': precision,\n",
    "    'recall': recall,\n",
    "    'fscore': fscore,\n",
    "    'support': support\n",
    "})"
   ]
  },
  {
   "cell_type": "markdown",
   "id": "b6e51475",
   "metadata": {},
   "source": [
    "#### On Train-Test Data"
   ]
  },
  {
   "cell_type": "code",
   "execution_count": 62,
   "id": "14a7854d",
   "metadata": {},
   "outputs": [
    {
     "name": "stdout",
     "output_type": "stream",
     "text": [
      "25/25 [==============================] - 2s 62ms/step\n"
     ]
    }
   ],
   "source": [
    "test_preds = model1.predict([fine_tune_data_4P_test, fine_tune_data_test, fine_tune_mask_test])"
   ]
  },
  {
   "cell_type": "code",
   "execution_count": 63,
   "id": "d585fa70",
   "metadata": {},
   "outputs": [],
   "source": [
    "test_pred_labels = np.argmax(test_preds, axis=-1)"
   ]
  },
  {
   "cell_type": "code",
   "execution_count": 64,
   "id": "9a77dc3c",
   "metadata": {},
   "outputs": [
    {
     "data": {
      "text/plain": [
       "array([10,  8,  0,  7,  1,  6, 13,  4, 14,  1,  6, 15,  0, 14,  1, 11,  0,\n",
       "        6,  6, 12, 12, 14,  3,  9,  6,  0,  3, 13,  3,  3,  5,  1,  9,  2,\n",
       "        1,  8,  4,  7, 11,  9,  6, 12, 14,  7,  5, 14,  3,  0, 13,  4,  0,\n",
       "       10, 13, 15, 11, 14, 15,  6,  9,  2, 15,  1,  5, 11,  6,  8,  8,  0,\n",
       "        6,  3,  4,  4, 12, 15,  8,  6,  7,  6, 12, 11, 11, 15, 12, 12,  9,\n",
       "        8, 13, 13,  0, 13, 10, 11,  4, 10,  1,  7, 11,  8, 13, 10,  3, 10,\n",
       "       12,  9,  1, 14,  8,  2,  5, 14,  7,  1,  9,  4, 12, 12,  1,  1, 11,\n",
       "        6, 13,  1, 15,  4, 13,  5, 10,  5, 13,  7,  3, 11,  9,  1,  6,  9,\n",
       "       14, 10,  7, 14, 10,  8,  4, 12,  8,  5,  8,  9, 13, 13,  0,  5,  4,\n",
       "       14,  4,  9,  4, 14,  7,  7,  8,  4,  4, 11, 13,  8,  5,  3,  8,  8,\n",
       "       13,  6,  3, 11,  7, 12, 10, 14, 14,  8,  6, 10, 13, 11,  6, 13,  4,\n",
       "       14, 11,  7, 15,  9,  3,  0, 10, 13, 13, 10, 11, 11,  5,  1,  9,  1,\n",
       "        9,  5, 13,  6, 12,  1,  4,  8,  7,  6, 13, 12,  4, 12,  8,  0,  6,\n",
       "       13, 15, 13,  7,  7,  2,  2, 10, 11,  7,  0,  3,  6,  3,  1,  2, 13,\n",
       "        4,  7, 12, 11, 12,  8, 13, 10,  0,  0, 11,  0, 11, 13, 15, 15,  8,\n",
       "        1, 14, 13,  5, 11,  9, 14,  6, 13, 12,  0,  1, 14, 11, 11, 14,  3,\n",
       "        0, 11,  4,  3,  1,  4,  6,  2, 13,  8, 10, 10,  8,  5,  7,  8, 13,\n",
       "       11,  8, 15,  0, 10,  3,  4, 10,  1,  8, 13,  0,  7, 15, 10, 10,  5,\n",
       "        3, 13, 11, 10,  9, 10, 11,  3,  0,  6,  9,  4, 14,  1, 13,  2, 15,\n",
       "        9, 14, 14,  7,  0, 15,  3, 11, 13, 15, 15,  1, 10,  3,  0, 15,  4,\n",
       "       13,  0,  3,  3,  2,  8,  2, 15, 11,  3,  3,  2,  5, 14,  4,  0,  3,\n",
       "        2,  5,  1,  3,  0,  5,  9, 15,  7, 10, 13,  3,  2, 12, 15, 11,  6,\n",
       "        0, 14, 14,  0,  5,  4, 14,  6, 12, 13,  6,  9,  8,  7, 10,  1,  2,\n",
       "       11, 14,  2, 14,  0,  4,  0,  1,  2, 10,  1,  0, 14,  6,  9,  0,  2,\n",
       "        7,  3, 14,  8, 13, 11,  4,  5, 13,  1,  1,  7, 13, 14,  5,  1,  8,\n",
       "        0,  1, 11,  0,  5,  3,  7,  2,  5, 13, 15, 13, 11, 15,  3, 10,  8,\n",
       "       12,  0,  3, 13,  5,  9,  6, 14,  7,  8,  4,  2, 13, 12, 11, 13, 11,\n",
       "        9,  8, 10, 14, 12,  0,  1,  1,  9,  9, 13,  0,  7, 14,  9, 12,  7,\n",
       "        5, 10,  4,  8,  6,  3,  7,  8,  6, 10,  1, 10,  7,  5,  1, 13, 10,\n",
       "        2,  3,  1, 10, 13,  7,  8, 13,  9,  1,  6,  7, 15,  0,  8,  7,  6,\n",
       "       12,  1,  0, 12,  7, 13, 10,  7,  9, 13, 14,  3, 13, 14,  6, 14,  7,\n",
       "        1, 14,  6, 14,  9,  5, 12, 14,  1, 11,  2,  3,  7,  2,  0,  8,  8,\n",
       "       12,  8,  6,  5, 14,  3,  6, 11,  8, 14,  6,  9,  1,  9, 11,  9,  0,\n",
       "        3, 10,  3, 10, 15,  2,  7, 13, 14,  9, 12,  1,  9, 13, 11,  5,  5,\n",
       "        9,  1,  6, 10, 12,  8, 10, 14, 14,  9,  0, 15,  8, 15,  8,  6, 13,\n",
       "        9,  5,  0,  0, 14,  5,  3,  2, 12,  1, 15, 11, 10, 14, 13,  1,  1,\n",
       "       12, 13, 14,  4,  4,  9, 11,  0, 14, 13,  4,  8,  5, 13, 11,  4,  4,\n",
       "       13, 13,  1, 13, 13,  7,  6, 12,  8,  7,  9, 15,  5,  0,  4,  7, 14,\n",
       "        1, 13,  6,  6,  3,  7,  7,  5,  5, 12,  6,  8,  0,  4,  7,  7,  0,\n",
       "       12,  6, 12,  0,  3, 11,  2,  3,  5,  4, 13,  1, 15, 10, 14, 15,  8,\n",
       "       11,  5,  1,  7,  2, 12,  8,  8, 11,  6, 13,  2, 10, 13,  7,  6,  3,\n",
       "       13,  3,  2, 14,  0,  8, 12, 12,  8, 13, 13, 14,  4, 10,  2,  5, 14,\n",
       "       12, 13, 13,  4, 12, 15, 13,  0,  8, 11, 15,  8,  4,  9,  2,  8,  0,\n",
       "        1,  2, 14, 15, 13,  8,  9, 11,  0,  8,  9,  7,  4, 11, 12, 11,  3,\n",
       "        7,  0,  3,  8, 12,  2, 12, 13,  7,  9, 10, 11,  4,  6, 14,  0,  7,\n",
       "       13,  3, 12, 13,  6,  7,  2,  8, 10, 13,  2,  5,  8, 14, 12,  5, 12,\n",
       "        3,  5,  8, 12,  4, 11,  0,  0,  9,  9,  5, 13, 10,  2,  2, 11, 10,\n",
       "        6])"
      ]
     },
     "execution_count": 64,
     "metadata": {},
     "output_type": "execute_result"
    }
   ],
   "source": [
    "test_pred_labels"
   ]
  },
  {
   "cell_type": "code",
   "execution_count": 65,
   "id": "8bce361f",
   "metadata": {},
   "outputs": [
    {
     "data": {
      "text/plain": [
       "588"
      ]
     },
     "execution_count": 65,
     "metadata": {},
     "output_type": "execute_result"
    }
   ],
   "source": [
    "np.sum(test_pred_labels == test_labels['label'])"
   ]
  },
  {
   "cell_type": "code",
   "execution_count": 66,
   "id": "e07d40ba",
   "metadata": {},
   "outputs": [
    {
     "data": {
      "text/html": [
       "<div>\n",
       "<style scoped>\n",
       "    .dataframe tbody tr th:only-of-type {\n",
       "        vertical-align: middle;\n",
       "    }\n",
       "\n",
       "    .dataframe tbody tr th {\n",
       "        vertical-align: top;\n",
       "    }\n",
       "\n",
       "    .dataframe thead th {\n",
       "        text-align: right;\n",
       "    }\n",
       "</style>\n",
       "<table border=\"1\" class=\"dataframe\">\n",
       "  <thead>\n",
       "    <tr style=\"text-align: right;\">\n",
       "      <th></th>\n",
       "      <th>id</th>\n",
       "      <th>images</th>\n",
       "      <th>label</th>\n",
       "    </tr>\n",
       "  </thead>\n",
       "  <tbody>\n",
       "    <tr>\n",
       "      <th>0</th>\n",
       "      <td>18</td>\n",
       "      <td>./Data/train/train/18.tif</td>\n",
       "      <td>11</td>\n",
       "    </tr>\n",
       "    <tr>\n",
       "      <th>2</th>\n",
       "      <td>33</td>\n",
       "      <td>./Data/train/train/33.tif</td>\n",
       "      <td>6</td>\n",
       "    </tr>\n",
       "    <tr>\n",
       "      <th>3</th>\n",
       "      <td>41</td>\n",
       "      <td>./Data/train/train/41.tif</td>\n",
       "      <td>1</td>\n",
       "    </tr>\n",
       "    <tr>\n",
       "      <th>4</th>\n",
       "      <td>65</td>\n",
       "      <td>./Data/train/train/65.tif</td>\n",
       "      <td>14</td>\n",
       "    </tr>\n",
       "    <tr>\n",
       "      <th>5</th>\n",
       "      <td>67</td>\n",
       "      <td>./Data/train/train/67.tif</td>\n",
       "      <td>9</td>\n",
       "    </tr>\n",
       "    <tr>\n",
       "      <th>...</th>\n",
       "      <td>...</td>\n",
       "      <td>...</td>\n",
       "      <td>...</td>\n",
       "    </tr>\n",
       "    <tr>\n",
       "      <th>779</th>\n",
       "      <td>15568</td>\n",
       "      <td>./Data/train/train/15568.tif</td>\n",
       "      <td>9</td>\n",
       "    </tr>\n",
       "    <tr>\n",
       "      <th>780</th>\n",
       "      <td>15571</td>\n",
       "      <td>./Data/train/train/15571.tif</td>\n",
       "      <td>14</td>\n",
       "    </tr>\n",
       "    <tr>\n",
       "      <th>785</th>\n",
       "      <td>15621</td>\n",
       "      <td>./Data/train/train/15621.tif</td>\n",
       "      <td>15</td>\n",
       "    </tr>\n",
       "    <tr>\n",
       "      <th>788</th>\n",
       "      <td>15687</td>\n",
       "      <td>./Data/train/train/15687.tif</td>\n",
       "      <td>12</td>\n",
       "    </tr>\n",
       "    <tr>\n",
       "      <th>798</th>\n",
       "      <td>15863</td>\n",
       "      <td>./Data/train/train/15863.tif</td>\n",
       "      <td>15</td>\n",
       "    </tr>\n",
       "  </tbody>\n",
       "</table>\n",
       "<p>212 rows × 3 columns</p>\n",
       "</div>"
      ],
      "text/plain": [
       "        id                        images  label\n",
       "0       18     ./Data/train/train/18.tif     11\n",
       "2       33     ./Data/train/train/33.tif      6\n",
       "3       41     ./Data/train/train/41.tif      1\n",
       "4       65     ./Data/train/train/65.tif     14\n",
       "5       67     ./Data/train/train/67.tif      9\n",
       "..     ...                           ...    ...\n",
       "779  15568  ./Data/train/train/15568.tif      9\n",
       "780  15571  ./Data/train/train/15571.tif     14\n",
       "785  15621  ./Data/train/train/15621.tif     15\n",
       "788  15687  ./Data/train/train/15687.tif     12\n",
       "798  15863  ./Data/train/train/15863.tif     15\n",
       "\n",
       "[212 rows x 3 columns]"
      ]
     },
     "execution_count": 66,
     "metadata": {},
     "output_type": "execute_result"
    }
   ],
   "source": [
    "mis_train_data = test_labels[test_pred_labels != test_labels['label']]\n",
    "mis_train_data"
   ]
  },
  {
   "cell_type": "code",
   "execution_count": 67,
   "id": "0f0b85fa",
   "metadata": {},
   "outputs": [
    {
     "data": {
      "text/html": [
       "<div>\n",
       "<style scoped>\n",
       "    .dataframe tbody tr th:only-of-type {\n",
       "        vertical-align: middle;\n",
       "    }\n",
       "\n",
       "    .dataframe tbody tr th {\n",
       "        vertical-align: top;\n",
       "    }\n",
       "\n",
       "    .dataframe thead th {\n",
       "        text-align: right;\n",
       "    }\n",
       "</style>\n",
       "<table border=\"1\" class=\"dataframe\">\n",
       "  <thead>\n",
       "    <tr style=\"text-align: right;\">\n",
       "      <th></th>\n",
       "      <th>precision</th>\n",
       "      <th>recall</th>\n",
       "      <th>fscore</th>\n",
       "      <th>support</th>\n",
       "    </tr>\n",
       "  </thead>\n",
       "  <tbody>\n",
       "    <tr>\n",
       "      <th>0</th>\n",
       "      <td>0.607143</td>\n",
       "      <td>0.629630</td>\n",
       "      <td>0.618182</td>\n",
       "      <td>54</td>\n",
       "    </tr>\n",
       "    <tr>\n",
       "      <th>1</th>\n",
       "      <td>0.529412</td>\n",
       "      <td>0.613636</td>\n",
       "      <td>0.568421</td>\n",
       "      <td>44</td>\n",
       "    </tr>\n",
       "    <tr>\n",
       "      <th>2</th>\n",
       "      <td>1.000000</td>\n",
       "      <td>0.837209</td>\n",
       "      <td>0.911392</td>\n",
       "      <td>43</td>\n",
       "    </tr>\n",
       "    <tr>\n",
       "      <th>3</th>\n",
       "      <td>0.875000</td>\n",
       "      <td>0.913043</td>\n",
       "      <td>0.893617</td>\n",
       "      <td>46</td>\n",
       "    </tr>\n",
       "    <tr>\n",
       "      <th>4</th>\n",
       "      <td>0.744186</td>\n",
       "      <td>0.888889</td>\n",
       "      <td>0.810127</td>\n",
       "      <td>36</td>\n",
       "    </tr>\n",
       "    <tr>\n",
       "      <th>5</th>\n",
       "      <td>0.666667</td>\n",
       "      <td>0.560000</td>\n",
       "      <td>0.608696</td>\n",
       "      <td>50</td>\n",
       "    </tr>\n",
       "    <tr>\n",
       "      <th>6</th>\n",
       "      <td>0.755102</td>\n",
       "      <td>0.804348</td>\n",
       "      <td>0.778947</td>\n",
       "      <td>46</td>\n",
       "    </tr>\n",
       "    <tr>\n",
       "      <th>7</th>\n",
       "      <td>0.807692</td>\n",
       "      <td>0.807692</td>\n",
       "      <td>0.807692</td>\n",
       "      <td>52</td>\n",
       "    </tr>\n",
       "    <tr>\n",
       "      <th>8</th>\n",
       "      <td>0.883333</td>\n",
       "      <td>0.981481</td>\n",
       "      <td>0.929825</td>\n",
       "      <td>54</td>\n",
       "    </tr>\n",
       "    <tr>\n",
       "      <th>9</th>\n",
       "      <td>0.777778</td>\n",
       "      <td>0.744681</td>\n",
       "      <td>0.760870</td>\n",
       "      <td>47</td>\n",
       "    </tr>\n",
       "    <tr>\n",
       "      <th>10</th>\n",
       "      <td>0.744681</td>\n",
       "      <td>0.603448</td>\n",
       "      <td>0.666667</td>\n",
       "      <td>58</td>\n",
       "    </tr>\n",
       "    <tr>\n",
       "      <th>11</th>\n",
       "      <td>0.716981</td>\n",
       "      <td>0.678571</td>\n",
       "      <td>0.697248</td>\n",
       "      <td>56</td>\n",
       "    </tr>\n",
       "    <tr>\n",
       "      <th>12</th>\n",
       "      <td>0.625000</td>\n",
       "      <td>0.697674</td>\n",
       "      <td>0.659341</td>\n",
       "      <td>43</td>\n",
       "    </tr>\n",
       "    <tr>\n",
       "      <th>13</th>\n",
       "      <td>0.569620</td>\n",
       "      <td>0.703125</td>\n",
       "      <td>0.629371</td>\n",
       "      <td>64</td>\n",
       "    </tr>\n",
       "    <tr>\n",
       "      <th>14</th>\n",
       "      <td>0.894737</td>\n",
       "      <td>0.796875</td>\n",
       "      <td>0.842975</td>\n",
       "      <td>64</td>\n",
       "    </tr>\n",
       "    <tr>\n",
       "      <th>15</th>\n",
       "      <td>0.676471</td>\n",
       "      <td>0.534884</td>\n",
       "      <td>0.597403</td>\n",
       "      <td>43</td>\n",
       "    </tr>\n",
       "  </tbody>\n",
       "</table>\n",
       "</div>"
      ],
      "text/plain": [
       "    precision    recall    fscore  support\n",
       "0    0.607143  0.629630  0.618182       54\n",
       "1    0.529412  0.613636  0.568421       44\n",
       "2    1.000000  0.837209  0.911392       43\n",
       "3    0.875000  0.913043  0.893617       46\n",
       "4    0.744186  0.888889  0.810127       36\n",
       "5    0.666667  0.560000  0.608696       50\n",
       "6    0.755102  0.804348  0.778947       46\n",
       "7    0.807692  0.807692  0.807692       52\n",
       "8    0.883333  0.981481  0.929825       54\n",
       "9    0.777778  0.744681  0.760870       47\n",
       "10   0.744681  0.603448  0.666667       58\n",
       "11   0.716981  0.678571  0.697248       56\n",
       "12   0.625000  0.697674  0.659341       43\n",
       "13   0.569620  0.703125  0.629371       64\n",
       "14   0.894737  0.796875  0.842975       64\n",
       "15   0.676471  0.534884  0.597403       43"
      ]
     },
     "execution_count": 67,
     "metadata": {},
     "output_type": "execute_result"
    }
   ],
   "source": [
    "precision, recall, fscore, support = score(test_labels['label'], test_pred_labels)\n",
    "pd.DataFrame({\n",
    "    'precision': precision,\n",
    "    'recall': recall,\n",
    "    'fscore': fscore,\n",
    "    'support': support\n",
    "})"
   ]
  },
  {
   "cell_type": "code",
   "execution_count": 68,
   "id": "ffd70520",
   "metadata": {},
   "outputs": [
    {
     "data": {
      "text/plain": [
       "0.73629823750963"
      ]
     },
     "execution_count": 68,
     "metadata": {},
     "output_type": "execute_result"
    }
   ],
   "source": [
    "np.mean(fscore)"
   ]
  },
  {
   "cell_type": "markdown",
   "id": "067c5096",
   "metadata": {},
   "source": [
    "#### On Validation Data"
   ]
  },
  {
   "cell_type": "markdown",
   "id": "3e665591",
   "metadata": {},
   "source": [
    "Generating Predictions for the Validation Set"
   ]
  },
  {
   "cell_type": "code",
   "execution_count": 76,
   "id": "20d57a31",
   "metadata": {},
   "outputs": [
    {
     "name": "stdout",
     "output_type": "stream",
     "text": [
      "29/29 [==============================] - 0s 4ms/step\n"
     ]
    },
    {
     "name": "stderr",
     "output_type": "stream",
     "text": [
      "2022-10-08 15:57:39.999356: I tensorflow/core/grappler/optimizers/custom_graph_optimizer_registry.cc:113] Plugin optimizer for device_type GPU is enabled.\n"
     ]
    }
   ],
   "source": [
    "valid_preds = model1.predict([fine_tune_data_4P_validation, fine_tune_data_validation, mask_validation])"
   ]
  },
  {
   "cell_type": "code",
   "execution_count": 77,
   "id": "db7d1256",
   "metadata": {},
   "outputs": [],
   "source": [
    "valid_pred_labels = np.argmax(valid_preds, axis=-1)"
   ]
  },
  {
   "cell_type": "code",
   "execution_count": 78,
   "id": "315c93f9",
   "metadata": {},
   "outputs": [
    {
     "data": {
      "text/plain": [
       "array([ 4,  6,  4,  8,  3,  8, 11, 11,  2,  4,  0, 15, 14, 12, 13,  4, 11,\n",
       "        1,  0,  5, 14,  9, 13,  6,  1,  2,  7,  3,  8,  1, 15, 14,  8, 10,\n",
       "       14,  6, 11,  8,  6, 10,  4,  7, 12,  3,  2, 10,  3,  2,  6,  2, 10,\n",
       "        0, 10,  7, 13,  9,  2,  3,  1, 10,  2, 13,  4,  5, 12,  8,  9,  7,\n",
       "        8,  4,  5,  5,  4,  8,  4,  6,  4, 15, 11,  0,  9, 15, 13,  8,  7,\n",
       "       12, 11, 10, 12, 10, 12,  0,  1, 12,  3,  4, 10, 10,  7,  4,  6, 11,\n",
       "        1, 12,  7, 13, 15,  9, 10,  1,  7,  7, 11, 14,  2,  4,  1, 14,  1,\n",
       "       11, 12,  5,  3,  6,  1,  1,  0,  9,  4, 12,  8,  1,  0,  9, 10,  3,\n",
       "        0, 11, 13,  5,  6,  7,  2,  3,  0,  9,  9, 15,  1, 14, 10,  1, 13,\n",
       "        8, 12, 10,  0,  7,  5, 14,  3,  1,  2, 10,  7,  5,  4,  4,  7,  9,\n",
       "       12, 11,  4,  7,  4,  0, 11, 12,  0,  8,  9, 11,  3,  2,  3,  3,  7,\n",
       "        8, 11,  2,  9, 12,  6,  2,  4,  9,  2,  9,  8,  7,  1,  3,  1,  0,\n",
       "       15,  1,  4,  3,  4,  4, 11,  6,  6,  7,  4,  4, 13,  3, 10, 14,  1,\n",
       "        6,  0,  8, 12,  2, 12,  4,  8, 13, 14, 13,  8, 11,  2,  6,  7,  5,\n",
       "       13, 12,  9,  3, 14, 13,  7, 10, 13,  0,  4,  4,  9,  8,  4, 11,  7,\n",
       "        8,  9, 15,  6,  0,  5,  5,  0,  6,  9,  7, 12,  5, 15,  4,  3,  2,\n",
       "        1,  5,  8, 11,  6,  2, 10, 14,  8, 13,  3,  3, 13, 10,  2, 11, 10,\n",
       "        9, 11,  3,  6, 11, 15,  8, 15, 11,  4,  5,  7,  2, 15, 12, 14,  8,\n",
       "       12,  2, 10,  6,  8, 14, 10,  1, 10,  7,  6,  8,  5,  4, 13,  6,  6,\n",
       "        4,  0,  5,  1, 11, 13,  5,  5, 10, 11, 13, 13,  2, 14, 12,  5,  4,\n",
       "       15, 10,  4,  9, 10,  4, 11, 10, 13,  0,  3, 12,  5, 14,  4,  5,  5,\n",
       "       15, 10,  8,  5,  0,  8,  0,  3, 10,  7, 10,  3, 10, 12,  6, 10,  2,\n",
       "        5, 11,  9, 10,  7,  7,  8, 10,  6,  3,  4, 11,  2,  8, 12,  1,  0,\n",
       "       10,  5,  4,  0,  8,  5,  1,  7,  4, 13,  2, 12,  5,  5, 10,  0,  1,\n",
       "        3, 14, 10,  6, 13,  1,  2,  1, 14,  4,  3,  3,  2,  0, 11, 14,  4,\n",
       "       11, 12,  9,  2,  6,  3,  2, 12,  9,  0,  2,  8,  6, 10, 12,  6,  7,\n",
       "       13, 12, 15,  7,  3,  7, 15, 15, 10, 11,  6,  7, 13, 15,  4, 11,  2,\n",
       "        5,  4,  3, 10,  0,  8, 10,  4,  4, 11,  4,  4,  7, 12,  6,  4,  4,\n",
       "        6,  1,  3, 11,  2, 13,  8,  4,  9, 12, 12, 14,  6, 15, 12,  9,  9,\n",
       "        5, 13, 13,  2,  3, 11, 10,  7,  9, 15,  8,  2, 12,  8, 10, 15, 13,\n",
       "       14, 12,  8,  5,  8,  0,  2, 10, 12,  3,  8,  4,  9,  4,  0, 13, 15,\n",
       "        5, 15,  3, 12, 10,  6, 13,  3,  5, 14, 12, 13, 10,  9,  8,  9, 11,\n",
       "        4,  6,  8,  7,  6,  9,  0,  8,  8,  3,  4,  8,  1,  2,  3,  7,  0,\n",
       "        7,  0, 11,  3, 11, 14, 15,  6,  5,  4,  4,  7,  0,  3,  5,  0,  4,\n",
       "        5, 14,  8, 13, 11,  4,  8,  2, 10,  9,  7,  7,  5,  2, 13,  9, 12,\n",
       "        6,  6,  1,  0,  4,  8, 11, 11, 13,  2,  2,  4, 14,  8, 10,  3, 14,\n",
       "        4, 13, 11, 14,  6,  3, 11, 10,  8, 12,  4, 14, 15, 14,  0, 12,  3,\n",
       "       14,  6,  1,  7, 14,  7,  1,  2, 10,  4,  2, 12,  3,  4,  5, 14,  9,\n",
       "        9,  4, 12,  2,  5,  2, 15,  0, 11,  6,  3,  8,  6,  5,  3,  7,  3,\n",
       "        2, 13, 13, 12,  0, 15,  2, 11,  4, 15, 12, 11, 11, 13, 13,  6, 14,\n",
       "        1,  9,  0,  1, 10, 15,  8, 11,  4, 15,  6, 11, 10,  3, 13, 13,  1,\n",
       "       12,  1,  4, 10,  8,  2, 14,  4,  5, 11,  3, 12,  6,  7,  9,  4,  8,\n",
       "        3,  3,  7, 10,  1,  7,  6, 13, 14,  9, 14,  3,  5, 11,  0, 13, 11,\n",
       "        5,  7,  4,  9,  4,  3, 12, 14,  5,  8, 10, 15, 13, 15,  5,  2,  0,\n",
       "        0,  6,  0,  9,  4,  7,  6,  1,  6,  8,  5,  2,  2,  4,  0,  0,  5,\n",
       "        6,  0,  7,  5,  4, 13,  1, 10, 11,  0, 11,  2,  7, 12,  0, 11,  1,\n",
       "        0,  3,  4, 12, 14,  9, 14,  2, 12,  2,  1,  0, 14, 11,  2, 11,  2,\n",
       "       10,  6,  4, 15, 10,  7,  2,  2,  8,  6,  9, 10,  7,  1, 15,  3,  2,\n",
       "       13,  9,  9,  6,  9, 12,  5, 14,  5,  9,  2,  4, 15, 14,  5, 13,  1,\n",
       "        6,  1,  8,  0,  0, 15,  4,  8,  9,  3,  4,  8, 14, 13,  5, 13, 11,\n",
       "        2,  5,  5, 12, 12,  1,  6,  0,  5,  9, 10,  0,  5,  6, 14,  1,  0,\n",
       "        8, 11,  8,  8,  5,  9,  0, 11,  3,  3,  3, 15,  2, 10, 11,  6, 15,\n",
       "       13, 12,  1,  2, 11,  4,  0,  7,  6, 15,  8, 13, 12,  8,  5,  4])"
      ]
     },
     "execution_count": 78,
     "metadata": {},
     "output_type": "execute_result"
    }
   ],
   "source": [
    "valid_pred_labels"
   ]
  },
  {
   "cell_type": "markdown",
   "id": "2bece594",
   "metadata": {},
   "source": [
    "### Submission"
   ]
  },
  {
   "cell_type": "markdown",
   "id": "304c47de",
   "metadata": {},
   "source": [
    "For Kaggle Submission"
   ]
  },
  {
   "cell_type": "code",
   "execution_count": 79,
   "id": "e7ca9d19",
   "metadata": {},
   "outputs": [
    {
     "data": {
      "text/html": [
       "<div>\n",
       "<style scoped>\n",
       "    .dataframe tbody tr th:only-of-type {\n",
       "        vertical-align: middle;\n",
       "    }\n",
       "\n",
       "    .dataframe tbody tr th {\n",
       "        vertical-align: top;\n",
       "    }\n",
       "\n",
       "    .dataframe thead th {\n",
       "        text-align: right;\n",
       "    }\n",
       "</style>\n",
       "<table border=\"1\" class=\"dataframe\">\n",
       "  <thead>\n",
       "    <tr style=\"text-align: right;\">\n",
       "      <th></th>\n",
       "      <th>id</th>\n",
       "      <th>label</th>\n",
       "    </tr>\n",
       "  </thead>\n",
       "  <tbody>\n",
       "    <tr>\n",
       "      <th>0</th>\n",
       "      <td>17801</td>\n",
       "      <td>4</td>\n",
       "    </tr>\n",
       "    <tr>\n",
       "      <th>1</th>\n",
       "      <td>17802</td>\n",
       "      <td>6</td>\n",
       "    </tr>\n",
       "    <tr>\n",
       "      <th>2</th>\n",
       "      <td>17803</td>\n",
       "      <td>4</td>\n",
       "    </tr>\n",
       "    <tr>\n",
       "      <th>3</th>\n",
       "      <td>17804</td>\n",
       "      <td>8</td>\n",
       "    </tr>\n",
       "    <tr>\n",
       "      <th>4</th>\n",
       "      <td>17805</td>\n",
       "      <td>3</td>\n",
       "    </tr>\n",
       "    <tr>\n",
       "      <th>...</th>\n",
       "      <td>...</td>\n",
       "      <td>...</td>\n",
       "    </tr>\n",
       "    <tr>\n",
       "      <th>895</th>\n",
       "      <td>18696</td>\n",
       "      <td>13</td>\n",
       "    </tr>\n",
       "    <tr>\n",
       "      <th>896</th>\n",
       "      <td>18697</td>\n",
       "      <td>12</td>\n",
       "    </tr>\n",
       "    <tr>\n",
       "      <th>897</th>\n",
       "      <td>18698</td>\n",
       "      <td>8</td>\n",
       "    </tr>\n",
       "    <tr>\n",
       "      <th>898</th>\n",
       "      <td>18699</td>\n",
       "      <td>5</td>\n",
       "    </tr>\n",
       "    <tr>\n",
       "      <th>899</th>\n",
       "      <td>18700</td>\n",
       "      <td>4</td>\n",
       "    </tr>\n",
       "  </tbody>\n",
       "</table>\n",
       "<p>900 rows × 2 columns</p>\n",
       "</div>"
      ],
      "text/plain": [
       "        id  label\n",
       "0    17801      4\n",
       "1    17802      6\n",
       "2    17803      4\n",
       "3    17804      8\n",
       "4    17805      3\n",
       "..     ...    ...\n",
       "895  18696     13\n",
       "896  18697     12\n",
       "897  18698      8\n",
       "898  18699      5\n",
       "899  18700      4\n",
       "\n",
       "[900 rows x 2 columns]"
      ]
     },
     "execution_count": 79,
     "metadata": {},
     "output_type": "execute_result"
    }
   ],
   "source": [
    "submission_data = pd.DataFrame({'id':list(range(17801, 18701))})\n",
    "submission_data['label'] = valid_pred_labels\n",
    "submission_data"
   ]
  },
  {
   "cell_type": "code",
   "execution_count": 80,
   "id": "6eea7d9c",
   "metadata": {},
   "outputs": [],
   "source": [
    "submission_data.to_csv('./Submissions/submission-resnet-kPiece.csv', index=False)"
   ]
  }
 ],
 "metadata": {
  "kernelspec": {
   "display_name": "Python 3 (ipykernel)",
   "language": "python",
   "name": "python3"
  },
  "language_info": {
   "codemirror_mode": {
    "name": "ipython",
    "version": 3
   },
   "file_extension": ".py",
   "mimetype": "text/x-python",
   "name": "python",
   "nbconvert_exporter": "python",
   "pygments_lexer": "ipython3",
   "version": "3.8.13"
  }
 },
 "nbformat": 4,
 "nbformat_minor": 5
}
